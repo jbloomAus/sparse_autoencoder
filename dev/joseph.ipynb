{
 "cells": [
  {
   "cell_type": "markdown",
   "metadata": {},
   "source": [
    "# SAE Quality of Life Improvements\n",
    "\n",
    "Add config to wandb run. \n",
    "Start saving the SAE weights mid-run. \n"
   ]
  },
  {
   "cell_type": "code",
   "execution_count": 189,
   "metadata": {},
   "outputs": [
    {
     "name": "stdout",
     "output_type": "stream",
     "text": [
      "The autoreload extension is already loaded. To reload it, use:\n",
      "  %reload_ext autoreload\n"
     ]
    }
   ],
   "source": [
    "# Autoreload\n",
    "%load_ext autoreload\n",
    "%autoreload 2\n",
    "\n",
    "import sys\n",
    "sys.path.append('../')"
   ]
  },
  {
   "cell_type": "code",
   "execution_count": 190,
   "metadata": {},
   "outputs": [],
   "source": [
    "from sparse_autoencoder import TensorActivationStore, SparseAutoencoder, pipeline\n",
    "from sparse_autoencoder.source_data.pile_uncopyrighted import PileUncopyrightedDataset\n",
    "from sparse_autoencoder.train.sweep_config import SweepParametersRuntime\n",
    "from transformer_lens import HookedTransformer\n",
    "from transformer_lens.utils import get_device, test_prompt\n",
    "from transformers import PreTrainedTokenizerBase\n",
    "import torch\n",
    "\n",
    "device = get_device()"
   ]
  },
  {
   "cell_type": "markdown",
   "metadata": {},
   "source": [
    "## Get Model"
   ]
  },
  {
   "cell_type": "code",
   "execution_count": 191,
   "metadata": {},
   "outputs": [
    {
     "name": "stderr",
     "output_type": "stream",
     "text": [
      "Using pad_token, but it is not set yet.\n"
     ]
    },
    {
     "name": "stdout",
     "output_type": "stream",
     "text": [
      "Loaded pretrained model tiny-stories-instruct-1M into HookedTransformer\n",
      "Tokenized prompt: ['<|endoftext|>', '\\n', 'Once', ' upon', ' a', ' time', ',', ' there', ' lived', ' a', ' black', ' cat', '.', ' The', ' cat', ' belonged', ' to', ' a', ' little', ' girl', ' called', ' Katie', '.', ' Every', ' day', ',', ' Katie', '\\n', 'would', ' take', ' her', ' cat', ' for', ' a', ' walk', ' in', ' the', ' park', '.', '\\n', 'One', ' day', ',', ' as', ' Katie', ' and', ' her', ' cat', ' were', ' walking', ' around', ',', ' they', ' saw', ' a', ' mean', ' looking', ' man', '.', ' He', ' said', ' he', ' wanted', ' to', '\\n', 'take', ' the', ' cat', ',', ' to', ' which', ' she', ' replied', ' �', '�', 'This', ' cat', ' belongs', ' to', '\\n']\n",
      "Tokenized answer: [' me']\n"
     ]
    },
    {
     "data": {
      "text/html": [
       "<pre style=\"white-space:pre;overflow-x:auto;line-height:normal;font-family:Menlo,'DejaVu Sans Mono',consolas,'Courier New',monospace\">Performance on answer token:\n",
       "<span style=\"font-weight: bold\">Rank: </span><span style=\"color: #008080; text-decoration-color: #008080; font-weight: bold\">3519</span><span style=\"font-weight: bold\">     Logit:  </span><span style=\"color: #008080; text-decoration-color: #008080; font-weight: bold\">4.03</span><span style=\"font-weight: bold\"> Prob:  </span><span style=\"color: #008080; text-decoration-color: #008080; font-weight: bold\">0.00</span><span style=\"font-weight: bold\">% Token: | me|</span>\n",
       "</pre>\n"
      ],
      "text/plain": [
       "Performance on answer token:\n",
       "\u001b[1mRank: \u001b[0m\u001b[1;36m3519\u001b[0m\u001b[1m     Logit:  \u001b[0m\u001b[1;36m4.03\u001b[0m\u001b[1m Prob:  \u001b[0m\u001b[1;36m0.00\u001b[0m\u001b[1m% Token: | me|\u001b[0m\n"
      ]
     },
     "metadata": {},
     "output_type": "display_data"
    },
    {
     "name": "stdout",
     "output_type": "stream",
     "text": [
      "Top 0th token. Logit: 20.20 Prob: 72.30% Token: |\n",
      "|\n",
      "Top 1th token. Logit: 18.09 Prob:  8.78% Token: |Kat|\n",
      "Top 2th token. Logit: 17.37 Prob:  4.28% Token: |Summary|\n",
      "Top 3th token. Logit: 17.29 Prob:  3.94% Token: |<|endoftext|>|\n",
      "Top 4th token. Logit: 16.76 Prob:  2.33% Token: |The|\n",
      "Top 5th token. Logit: 15.99 Prob:  1.08% Token: |John|\n",
      "Top 6th token. Logit: 15.49 Prob:  0.65% Token: |\"|\n",
      "Top 7th token. Logit: 15.31 Prob:  0.55% Token: |She|\n",
      "Top 8th token. Logit: 14.87 Prob:  0.35% Token: |Story|\n",
      "Top 9th token. Logit: 14.57 Prob:  0.26% Token: |G|\n"
     ]
    },
    {
     "data": {
      "text/html": [
       "<pre style=\"white-space:pre;overflow-x:auto;line-height:normal;font-family:Menlo,'DejaVu Sans Mono',consolas,'Courier New',monospace\"><span style=\"font-weight: bold\">Ranks of the answer tokens:</span> <span style=\"font-weight: bold\">[(</span><span style=\"color: #008000; text-decoration-color: #008000\">' me'</span>, <span style=\"color: #008080; text-decoration-color: #008080; font-weight: bold\">3519</span><span style=\"font-weight: bold\">)]</span>\n",
       "</pre>\n"
      ],
      "text/plain": [
       "\u001b[1mRanks of the answer tokens:\u001b[0m \u001b[1m[\u001b[0m\u001b[1m(\u001b[0m\u001b[32m' me'\u001b[0m, \u001b[1;36m3519\u001b[0m\u001b[1m)\u001b[0m\u001b[1m]\u001b[0m\n"
      ]
     },
     "metadata": {},
     "output_type": "display_data"
    }
   ],
   "source": [
    "src_model = HookedTransformer.from_pretrained(\n",
    "    \"tiny-stories-instruct-1M\", dtype=\"float32\"\n",
    ")\n",
    "\n",
    "# test the model\n",
    "example_prompt = \"\"\"\n",
    "Once upon a time, there lived a black cat. The cat belonged to a little girl called Katie. Every day, Katie\n",
    "would take her cat for a walk in the park.\n",
    "One day, as Katie and her cat were walking around, they saw a mean looking man. He said he wanted to\n",
    "take the cat, to which she replied ”This cat belongs to\n",
    "\"\"\"\n",
    "example_answer = \" me\"\n",
    "\n",
    "\n",
    "test_prompt(example_prompt, example_answer, src_model, prepend_bos=True)"
   ]
  },
  {
   "cell_type": "markdown",
   "metadata": {},
   "source": [
    "# To train on Tiny Stories, we're going to need the tiny stories dataset"
   ]
  },
  {
   "cell_type": "code",
   "execution_count": 192,
   "metadata": {},
   "outputs": [],
   "source": [
    "from typing import TypedDict, final\n",
    "from sparse_autoencoder.source_data.abstract_dataset import (\n",
    "    SourceDataset,\n",
    "    TokenizedPrompts,\n",
    ")\n",
    "\n",
    "\n",
    "class TinyStoriesSourceDataBatch(TypedDict):\n",
    "    \"\"\"Pile Uncopyrighted Source Data.\n",
    "\n",
    "    https://huggingface.co/datasets/roneneldan/TinyStories\n",
    "    \"\"\"\n",
    "\n",
    "    text: list[str]\n",
    "    meta: list[dict[str, dict[str, str]]]\n",
    "\n",
    "\n",
    "@final\n",
    "class TinyStoriesDataset(SourceDataset[TinyStoriesSourceDataBatch]):\n",
    "    \"\"\"Tiny Stories Dataset.\n",
    "\n",
    "    https://huggingface.co/datasets/roneneldan/TinyStories\n",
    "    \"\"\"\n",
    "\n",
    "    tokenizer: PreTrainedTokenizerBase\n",
    "\n",
    "    def preprocess(\n",
    "        self,\n",
    "        source_batch: TinyStoriesSourceDataBatch,\n",
    "        *,\n",
    "        context_size: int,\n",
    "    ) -> TokenizedPrompts:\n",
    "        \"\"\"Preprocess a batch of prompts.\n",
    "\n",
    "        For each prompt's `text`, tokenize it and chunk into a list of tokenized prompts of length\n",
    "        `context_size`. For the last item in the chunk, throw it away if the length is less than\n",
    "        `context_size` (i.e. if it would otherwise require padding). Then finally flatten all\n",
    "        batches to a single list of tokenized prompts.\n",
    "\n",
    "        Args:\n",
    "            source_batch: A batch of source data. For example, with The Pile dataset this would be a\n",
    "                dict including the key \"text\" with a value of a list of strings (not yet tokenized).\n",
    "            context_size: The context size to use when returning a list of tokenized prompts.\n",
    "        \"\"\"\n",
    "        prompts: list[str] = source_batch[\"text\"]\n",
    "\n",
    "        tokenized_prompts = self.tokenizer(prompts)\n",
    "\n",
    "        # Chunk each tokenized prompt into blocks of context_size, discarding the last block if too\n",
    "        # small.\n",
    "        context_size_prompts = []\n",
    "        for encoding in list(tokenized_prompts[\"input_ids\"]):  # type: ignore\n",
    "            chunks = [\n",
    "                encoding[i : i + context_size]\n",
    "                for i in range(0, len(encoding), context_size)\n",
    "                if len(encoding[i : i + context_size]) == context_size\n",
    "            ]\n",
    "            context_size_prompts.extend(chunks)\n",
    "\n",
    "        return {\"input_ids\": context_size_prompts}\n",
    "\n",
    "    def __init__(\n",
    "        self,\n",
    "        tokenizer: PreTrainedTokenizerBase,\n",
    "        context_size: int = 250,\n",
    "        buffer_size: int = 1000,\n",
    "        preprocess_batch_size: int = 1000,\n",
    "        dataset_path: str = \"roneneldan/TinyStories\",\n",
    "        dataset_split: str = \"train\",\n",
    "    ):\n",
    "        self.tokenizer = tokenizer\n",
    "\n",
    "        super().__init__(\n",
    "            dataset_path=dataset_path,\n",
    "            dataset_split=dataset_split,\n",
    "            context_size=context_size,\n",
    "            buffer_size=buffer_size,\n",
    "            preprocess_batch_size=preprocess_batch_size,\n",
    "        )"
   ]
  },
  {
   "cell_type": "markdown",
   "metadata": {},
   "source": [
    "# Training an AutoEncoder for Tiny Stories"
   ]
  },
  {
   "cell_type": "code",
   "execution_count": 193,
   "metadata": {},
   "outputs": [
    {
     "name": "stderr",
     "output_type": "stream",
     "text": [
      "Using pad_token, but it is not set yet.\n"
     ]
    },
    {
     "name": "stdout",
     "output_type": "stream",
     "text": [
      "Loaded pretrained model tiny-stories-instruct-1M into HookedTransformer\n"
     ]
    },
    {
     "name": "stderr",
     "output_type": "stream",
     "text": [
      "Repo card metadata block was not found. Setting CardData to empty.\n",
      "Failed to detect the name of this notebook, you can set it manually with the WANDB_NOTEBOOK_NAME environment variable to enable code saving.\n",
      "\u001b[34m\u001b[1mwandb\u001b[0m: Currently logged in as: \u001b[33mjbloom\u001b[0m. Use \u001b[1m`wandb login --relogin`\u001b[0m to force relogin\n",
      "\u001b[34m\u001b[1mwandb\u001b[0m: \u001b[33mWARNING\u001b[0m Path .cache/wandb/wandb/ wasn't writable, using system temp directory.\n",
      "wandb: WARNING Path .cache/wandb/wandb/ wasn't writable, using system temp directory\n"
     ]
    },
    {
     "data": {
      "text/html": [
       "Tracking run with wandb version 0.16.0"
      ],
      "text/plain": [
       "<IPython.core.display.HTML object>"
      ]
     },
     "metadata": {},
     "output_type": "display_data"
    },
    {
     "data": {
      "text/html": [
       "Run data is saved locally in <code>/tmp/wandb/run-20231113_205405-0crieqah</code>"
      ],
      "text/plain": [
       "<IPython.core.display.HTML object>"
      ]
     },
     "metadata": {},
     "output_type": "display_data"
    },
    {
     "data": {
      "text/html": [
       "Syncing run <strong><a href='https://wandb.ai/jbloom/sparse-autoencoder/runs/0crieqah' target=\"_blank\">whole-vortex-52</a></strong> to <a href='https://wandb.ai/jbloom/sparse-autoencoder' target=\"_blank\">Weights & Biases</a> (<a href='https://wandb.me/run' target=\"_blank\">docs</a>)<br/>"
      ],
      "text/plain": [
       "<IPython.core.display.HTML object>"
      ]
     },
     "metadata": {},
     "output_type": "display_data"
    },
    {
     "data": {
      "text/html": [
       " View project at <a href='https://wandb.ai/jbloom/sparse-autoencoder' target=\"_blank\">https://wandb.ai/jbloom/sparse-autoencoder</a>"
      ],
      "text/plain": [
       "<IPython.core.display.HTML object>"
      ]
     },
     "metadata": {},
     "output_type": "display_data"
    },
    {
     "data": {
      "text/html": [
       " View run at <a href='https://wandb.ai/jbloom/sparse-autoencoder/runs/0crieqah' target=\"_blank\">https://wandb.ai/jbloom/sparse-autoencoder/runs/0crieqah</a>"
      ],
      "text/plain": [
       "<IPython.core.display.HTML object>"
      ]
     },
     "metadata": {},
     "output_type": "display_data"
    },
    {
     "data": {
      "application/vnd.jupyter.widget-view+json": {
       "model_id": "a424383523c848a8a348e8a34f176fba",
       "version_major": 2,
       "version_minor": 0
      },
      "text/plain": [
       "Total activations trained on:   0%|          | 0/60000000 [00:00<?, ?it/s, Current mode=initializing]"
      ]
     },
     "metadata": {},
     "output_type": "display_data"
    },
    {
     "ename": "RuntimeError",
     "evalue": "zero-dimensional tensor (at position 0) cannot be concatenated",
     "output_type": "error",
     "traceback": [
      "\u001b[0;31m---------------------------------------------------------------------------\u001b[0m",
      "\u001b[0;31mRuntimeError\u001b[0m                              Traceback (most recent call last)",
      "\u001b[1;32m/root/github_repositories/sparse_autoencoder/dev/joseph.ipynb Cell 9\u001b[0m line \u001b[0;36m3\n\u001b[1;32m     <a href='vscode-notebook-cell://ssh-remote%2B7b22686f73744e616d65223a22566173744149227d/root/github_repositories/sparse_autoencoder/dev/joseph.ipynb#X11sdnNjb2RlLXJlbW90ZQ%3D%3D?line=25'>26</a>\u001b[0m sweep_config \u001b[39m=\u001b[39m SweepParametersRuntime(\n\u001b[1;32m     <a href='vscode-notebook-cell://ssh-remote%2B7b22686f73744e616d65223a22566173744149227d/root/github_repositories/sparse_autoencoder/dev/joseph.ipynb#X11sdnNjb2RlLXJlbW90ZQ%3D%3D?line=26'>27</a>\u001b[0m     lr\u001b[39m=\u001b[39m\u001b[39m1e-3\u001b[39m,\n\u001b[1;32m     <a href='vscode-notebook-cell://ssh-remote%2B7b22686f73744e616d65223a22566173744149227d/root/github_repositories/sparse_autoencoder/dev/joseph.ipynb#X11sdnNjb2RlLXJlbW90ZQ%3D%3D?line=27'>28</a>\u001b[0m     batch_size\u001b[39m=\u001b[39m\u001b[39m2048\u001b[39m,\n\u001b[1;32m     <a href='vscode-notebook-cell://ssh-remote%2B7b22686f73744e616d65223a22566173744149227d/root/github_repositories/sparse_autoencoder/dev/joseph.ipynb#X11sdnNjb2RlLXJlbW90ZQ%3D%3D?line=28'>29</a>\u001b[0m     l1_coefficient\u001b[39m=\u001b[39m\u001b[39m1e-3\u001b[39m,\n\u001b[1;32m     <a href='vscode-notebook-cell://ssh-remote%2B7b22686f73744e616d65223a22566173744149227d/root/github_repositories/sparse_autoencoder/dev/joseph.ipynb#X11sdnNjb2RlLXJlbW90ZQ%3D%3D?line=29'>30</a>\u001b[0m )\n\u001b[1;32m     <a href='vscode-notebook-cell://ssh-remote%2B7b22686f73744e616d65223a22566173744149227d/root/github_repositories/sparse_autoencoder/dev/joseph.ipynb#X11sdnNjb2RlLXJlbW90ZQ%3D%3D?line=31'>32</a>\u001b[0m wandb\u001b[39m.\u001b[39minit(\n\u001b[1;32m     <a href='vscode-notebook-cell://ssh-remote%2B7b22686f73744e616d65223a22566173744149227d/root/github_repositories/sparse_autoencoder/dev/joseph.ipynb#X11sdnNjb2RlLXJlbW90ZQ%3D%3D?line=32'>33</a>\u001b[0m     project\u001b[39m=\u001b[39m\u001b[39m\"\u001b[39m\u001b[39msparse-autoencoder\u001b[39m\u001b[39m\"\u001b[39m, \u001b[39mdir\u001b[39m\u001b[39m=\u001b[39m\u001b[39m\"\u001b[39m\u001b[39m.cache/wandb\u001b[39m\u001b[39m\"\u001b[39m, config\u001b[39m=\u001b[39msweep_config\u001b[39m.\u001b[39m\u001b[39m__dict__\u001b[39m\n\u001b[1;32m     <a href='vscode-notebook-cell://ssh-remote%2B7b22686f73744e616d65223a22566173744149227d/root/github_repositories/sparse_autoencoder/dev/joseph.ipynb#X11sdnNjb2RlLXJlbW90ZQ%3D%3D?line=33'>34</a>\u001b[0m )\n\u001b[0;32m---> <a href='vscode-notebook-cell://ssh-remote%2B7b22686f73744e616d65223a22566173744149227d/root/github_repositories/sparse_autoencoder/dev/joseph.ipynb#X11sdnNjb2RlLXJlbW90ZQ%3D%3D?line=35'>36</a>\u001b[0m pipeline(\n\u001b[1;32m     <a href='vscode-notebook-cell://ssh-remote%2B7b22686f73744e616d65223a22566173744149227d/root/github_repositories/sparse_autoencoder/dev/joseph.ipynb#X11sdnNjb2RlLXJlbW90ZQ%3D%3D?line=36'>37</a>\u001b[0m     src_model\u001b[39m=\u001b[39;49msrc_model,\n\u001b[1;32m     <a href='vscode-notebook-cell://ssh-remote%2B7b22686f73744e616d65223a22566173744149227d/root/github_repositories/sparse_autoencoder/dev/joseph.ipynb#X11sdnNjb2RlLXJlbW90ZQ%3D%3D?line=37'>38</a>\u001b[0m     src_model_activation_hook_point\u001b[39m=\u001b[39;49msrc_model_activation_hook_point,\n\u001b[1;32m     <a href='vscode-notebook-cell://ssh-remote%2B7b22686f73744e616d65223a22566173744149227d/root/github_repositories/sparse_autoencoder/dev/joseph.ipynb#X11sdnNjb2RlLXJlbW90ZQ%3D%3D?line=38'>39</a>\u001b[0m     src_model_activation_layer\u001b[39m=\u001b[39;49m\u001b[39m0\u001b[39;49m,  \u001b[39m# why do we need to specify this as well?\u001b[39;49;00m\n\u001b[1;32m     <a href='vscode-notebook-cell://ssh-remote%2B7b22686f73744e616d65223a22566173744149227d/root/github_repositories/sparse_autoencoder/dev/joseph.ipynb#X11sdnNjb2RlLXJlbW90ZQ%3D%3D?line=39'>40</a>\u001b[0m     source_dataset\u001b[39m=\u001b[39;49msource_data,\n\u001b[1;32m     <a href='vscode-notebook-cell://ssh-remote%2B7b22686f73744e616d65223a22566173744149227d/root/github_repositories/sparse_autoencoder/dev/joseph.ipynb#X11sdnNjb2RlLXJlbW90ZQ%3D%3D?line=40'>41</a>\u001b[0m     activation_store\u001b[39m=\u001b[39;49mstore,\n\u001b[1;32m     <a href='vscode-notebook-cell://ssh-remote%2B7b22686f73744e616d65223a22566173744149227d/root/github_repositories/sparse_autoencoder/dev/joseph.ipynb#X11sdnNjb2RlLXJlbW90ZQ%3D%3D?line=41'>42</a>\u001b[0m     num_activations_before_training\u001b[39m=\u001b[39;49mmax_items,\n\u001b[1;32m     <a href='vscode-notebook-cell://ssh-remote%2B7b22686f73744e616d65223a22566173744149227d/root/github_repositories/sparse_autoencoder/dev/joseph.ipynb#X11sdnNjb2RlLXJlbW90ZQ%3D%3D?line=42'>43</a>\u001b[0m     sweep_parameters\u001b[39m=\u001b[39;49msweep_config,\n\u001b[1;32m     <a href='vscode-notebook-cell://ssh-remote%2B7b22686f73744e616d65223a22566173744149227d/root/github_repositories/sparse_autoencoder/dev/joseph.ipynb#X11sdnNjb2RlLXJlbW90ZQ%3D%3D?line=43'>44</a>\u001b[0m     log_artifacts\u001b[39m=\u001b[39;49m\u001b[39mTrue\u001b[39;49;00m,\n\u001b[1;32m     <a href='vscode-notebook-cell://ssh-remote%2B7b22686f73744e616d65223a22566173744149227d/root/github_repositories/sparse_autoencoder/dev/joseph.ipynb#X11sdnNjb2RlLXJlbW90ZQ%3D%3D?line=44'>45</a>\u001b[0m     autoencoder\u001b[39m=\u001b[39;49mautoencoder,\n\u001b[1;32m     <a href='vscode-notebook-cell://ssh-remote%2B7b22686f73744e616d65223a22566173744149227d/root/github_repositories/sparse_autoencoder/dev/joseph.ipynb#X11sdnNjb2RlLXJlbW90ZQ%3D%3D?line=45'>46</a>\u001b[0m     device\u001b[39m=\u001b[39;49mdevice,\n\u001b[1;32m     <a href='vscode-notebook-cell://ssh-remote%2B7b22686f73744e616d65223a22566173744149227d/root/github_repositories/sparse_autoencoder/dev/joseph.ipynb#X11sdnNjb2RlLXJlbW90ZQ%3D%3D?line=46'>47</a>\u001b[0m     max_activations\u001b[39m=\u001b[39;49mmax_activations,\n\u001b[1;32m     <a href='vscode-notebook-cell://ssh-remote%2B7b22686f73744e616d65223a22566173744149227d/root/github_repositories/sparse_autoencoder/dev/joseph.ipynb#X11sdnNjb2RlLXJlbW90ZQ%3D%3D?line=47'>48</a>\u001b[0m )\n\u001b[1;32m     <a href='vscode-notebook-cell://ssh-remote%2B7b22686f73744e616d65223a22566173744149227d/root/github_repositories/sparse_autoencoder/dev/joseph.ipynb#X11sdnNjb2RlLXJlbW90ZQ%3D%3D?line=49'>50</a>\u001b[0m wandb\u001b[39m.\u001b[39mfinish()\n",
      "File \u001b[0;32m~/github_repositories/sparse_autoencoder/sparse_autoencoder/train/pipeline.py:188\u001b[0m, in \u001b[0;36mpipeline\u001b[0;34m(src_model, src_model_activation_hook_point, src_model_activation_layer, source_dataset, activation_store, num_activations_before_training, autoencoder, source_dataset_batch_size, resample_frequency, sweep_parameters, log_artifacts, device, max_activations)\u001b[0m\n\u001b[1;32m    186\u001b[0m progress_bar\u001b[39m.\u001b[39mset_postfix({\u001b[39m\"\u001b[39m\u001b[39mCurrent mode\u001b[39m\u001b[39m\"\u001b[39m: \u001b[39m\"\u001b[39m\u001b[39mresampling\u001b[39m\u001b[39m\"\u001b[39m})\n\u001b[1;32m    187\u001b[0m activations_since_resampling \u001b[39m=\u001b[39m \u001b[39m0\u001b[39m\n\u001b[0;32m--> 188\u001b[0m resample_dead_neurons(\n\u001b[1;32m    189\u001b[0m     neuron_activity\u001b[39m=\u001b[39;49mneuron_activity,\n\u001b[1;32m    190\u001b[0m     store\u001b[39m=\u001b[39;49mactivation_store,\n\u001b[1;32m    191\u001b[0m     autoencoder\u001b[39m=\u001b[39;49mautoencoder,\n\u001b[1;32m    192\u001b[0m     sweep_parameters\u001b[39m=\u001b[39;49msweep_parameters,\n\u001b[1;32m    193\u001b[0m )\n\u001b[1;32m    194\u001b[0m learned_activations_fired_count\u001b[39m.\u001b[39mzero_()\n\u001b[1;32m    195\u001b[0m optimizer\u001b[39m.\u001b[39mreset_state_all_parameters()\n",
      "File \u001b[0;32m~/github_repositories/sparse_autoencoder/sparse_autoencoder/train/resample_neurons.py:267\u001b[0m, in \u001b[0;36mresample_dead_neurons\u001b[0;34m(neuron_activity, store, autoencoder, sweep_parameters, num_inputs)\u001b[0m\n\u001b[1;32m    263\u001b[0m dead_neuron_indices \u001b[39m=\u001b[39m get_dead_neuron_indices(neuron_activity)\n\u001b[1;32m    265\u001b[0m \u001b[39m# Compute the loss for the current model on a random subset of inputs and get the\u001b[39;00m\n\u001b[1;32m    266\u001b[0m \u001b[39m# activations.\u001b[39;00m\n\u001b[0;32m--> 267\u001b[0m loss, input_activations \u001b[39m=\u001b[39m compute_loss_and_get_activations(\n\u001b[1;32m    268\u001b[0m     store, autoencoder, sweep_parameters, num_inputs\n\u001b[1;32m    269\u001b[0m )\n\u001b[1;32m    271\u001b[0m \u001b[39m# Assign each input vector a probability of being picked that is proportional to the square\u001b[39;00m\n\u001b[1;32m    272\u001b[0m \u001b[39m# of the autoencoder's loss on that input.\u001b[39;00m\n\u001b[1;32m    273\u001b[0m sample_probabilities: Float[Tensor, \u001b[39m\"\u001b[39m\u001b[39m item\u001b[39m\u001b[39m\"\u001b[39m] \u001b[39m=\u001b[39m assign_sampling_probabilities(loss)\n",
      "File \u001b[0;32m~/github_repositories/sparse_autoencoder/sparse_autoencoder/train/resample_neurons.py:83\u001b[0m, in \u001b[0;36mcompute_loss_and_get_activations\u001b[0;34m(store, autoencoder, sweep_parameters, num_inputs)\u001b[0m\n\u001b[1;32m     80\u001b[0m     \u001b[39mif\u001b[39;00m batch_idx \u001b[39m>\u001b[39m\u001b[39m=\u001b[39m batches:\n\u001b[1;32m     81\u001b[0m         \u001b[39mbreak\u001b[39;00m\n\u001b[0;32m---> 83\u001b[0m loss \u001b[39m=\u001b[39m torch\u001b[39m.\u001b[39;49mcat(loss_batches)\n\u001b[1;32m     84\u001b[0m input_activations \u001b[39m=\u001b[39m torch\u001b[39m.\u001b[39mcat(input_activations_batches)\n\u001b[1;32m     86\u001b[0m \u001b[39m# Check we generated enough data\u001b[39;00m\n",
      "\u001b[0;31mRuntimeError\u001b[0m: zero-dimensional tensor (at position 0) cannot be concatenated"
     ]
    }
   ],
   "source": [
    "import wandb\n",
    "\n",
    "\n",
    "src_model = HookedTransformer.from_pretrained(\n",
    "    \"tiny-stories-instruct-1M\", dtype=\"float32\"\n",
    ")\n",
    "src_d_model: int = src_model.cfg.d_model  # type: ignore\n",
    "\n",
    "tokenizer: PreTrainedTokenizerBase = src_model.tokenizer  # type: ignore\n",
    "max_items = 2_000_000\n",
    "store = TensorActivationStore(max_items, src_d_model, device)\n",
    "\n",
    "# Make Autoencoder\n",
    "src_model_activation_hook_point = \"blocks.0.hook_resid_pre\"\n",
    "autoencoder = SparseAutoencoder(src_d_model, src_d_model * 8, torch.zeros(src_d_model))\n",
    "autoencoder.to(device)\n",
    "\n",
    "# Make Source Data\n",
    "tokenizer: PreTrainedTokenizerBase = src_model.tokenizer  # type: ignore\n",
    "source_data = TinyStoriesDataset(tokenizer=tokenizer)\n",
    "\n",
    "# hyper parameter\n",
    "max_activations = 30 * max_items\n",
    "\n",
    "\n",
    "sweep_config = SweepParametersRuntime(\n",
    "    lr=1e-3,\n",
    "    batch_size=2048,\n",
    "    l1_coefficient=1e-3,\n",
    ")\n",
    "\n",
    "wandb.init(\n",
    "    project=\"sparse-autoencoder\", dir=\".cache/wandb\", config=sweep_config.__dict__\n",
    ")\n",
    "\n",
    "pipeline(\n",
    "    src_model=src_model,\n",
    "    src_model_activation_hook_point=src_model_activation_hook_point,\n",
    "    src_model_activation_layer=0,  # why do we need to specify this as well?\n",
    "    source_dataset=source_data,\n",
    "    activation_store=store,\n",
    "    num_activations_before_training=max_items,\n",
    "    sweep_parameters=sweep_config,\n",
    "    log_artifacts=True,\n",
    "    autoencoder=autoencoder,\n",
    "    device=device,\n",
    "    max_activations=max_activations,\n",
    ")\n",
    "\n",
    "wandb.finish()"
   ]
  },
  {
   "cell_type": "code",
   "execution_count": 195,
   "metadata": {},
   "outputs": [
    {
     "data": {
      "text/plain": [
       "<All keys matched successfully>"
      ]
     },
     "execution_count": 195,
     "metadata": {},
     "output_type": "execute_result"
    }
   ],
   "source": [
    "# write the autoencoder to a .pt file\n",
    "# torch.save(autoencoder.state_dict(), \"autoencoder.pt\")\n",
    "\n",
    "# Later, load this autoencoder\n",
    "autoencoder = SparseAutoencoder(src_d_model, src_d_model * 8, torch.zeros(src_d_model))\n",
    "autoencoder.load_state_dict(torch.load(\"autoencoder.pt\"))"
   ]
  },
  {
   "cell_type": "markdown",
   "metadata": {},
   "source": [
    "# Some analysis"
   ]
  },
  {
   "cell_type": "code",
   "execution_count": 196,
   "metadata": {},
   "outputs": [
    {
     "name": "stdout",
     "output_type": "stream",
     "text": [
      "torch.Size([64, 512])\n"
     ]
    },
    {
     "data": {
      "application/vnd.plotly.v1+json": {
       "config": {
        "plotlyServerURL": "https://plot.ly"
       },
       "data": [
        {
         "alignmentgroup": "True",
         "hovertemplate": "variable=0<br>index=%{x}<br>value=%{y}<extra></extra>",
         "legendgroup": "0",
         "marker": {
          "color": "#636efa",
          "pattern": {
           "shape": ""
          }
         },
         "name": "0",
         "offsetgroup": "0",
         "orientation": "v",
         "showlegend": true,
         "textposition": "auto",
         "type": "bar",
         "x": [
          0,
          1,
          2,
          3,
          4,
          5,
          6,
          7,
          8,
          9,
          10,
          11,
          12,
          13,
          14,
          15,
          16,
          17,
          18,
          19,
          20,
          21,
          22,
          23,
          24,
          25,
          26,
          27,
          28,
          29,
          30,
          31,
          32,
          33,
          34,
          35,
          36,
          37,
          38,
          39,
          40,
          41,
          42,
          43,
          44,
          45,
          46,
          47,
          48,
          49,
          50,
          51,
          52,
          53,
          54,
          55,
          56,
          57,
          58,
          59,
          60,
          61,
          62,
          63,
          64,
          65,
          66,
          67,
          68,
          69,
          70,
          71,
          72,
          73,
          74,
          75,
          76,
          77,
          78,
          79,
          80,
          81,
          82,
          83,
          84,
          85,
          86,
          87,
          88,
          89,
          90,
          91,
          92,
          93,
          94,
          95,
          96,
          97,
          98,
          99,
          100,
          101,
          102,
          103,
          104,
          105,
          106,
          107,
          108,
          109,
          110,
          111,
          112,
          113,
          114,
          115,
          116,
          117,
          118,
          119,
          120,
          121,
          122,
          123,
          124,
          125,
          126,
          127,
          128,
          129,
          130,
          131,
          132,
          133,
          134,
          135,
          136,
          137,
          138,
          139,
          140,
          141,
          142,
          143,
          144,
          145,
          146,
          147,
          148,
          149,
          150,
          151,
          152,
          153,
          154,
          155,
          156,
          157,
          158,
          159,
          160,
          161,
          162,
          163,
          164,
          165,
          166,
          167,
          168,
          169,
          170,
          171,
          172,
          173,
          174,
          175,
          176,
          177,
          178,
          179,
          180,
          181,
          182,
          183,
          184,
          185,
          186,
          187,
          188,
          189,
          190,
          191,
          192,
          193,
          194,
          195,
          196,
          197,
          198,
          199,
          200,
          201,
          202,
          203,
          204,
          205,
          206,
          207,
          208,
          209,
          210,
          211,
          212,
          213,
          214,
          215,
          216,
          217,
          218,
          219,
          220,
          221,
          222,
          223,
          224,
          225,
          226,
          227,
          228,
          229,
          230,
          231,
          232,
          233,
          234,
          235,
          236,
          237,
          238,
          239,
          240,
          241,
          242,
          243,
          244,
          245,
          246,
          247,
          248,
          249,
          250,
          251,
          252,
          253,
          254,
          255,
          256,
          257,
          258,
          259,
          260,
          261,
          262,
          263,
          264,
          265,
          266,
          267,
          268,
          269,
          270,
          271,
          272,
          273,
          274,
          275,
          276,
          277,
          278,
          279,
          280,
          281,
          282,
          283,
          284,
          285,
          286,
          287,
          288,
          289,
          290,
          291,
          292,
          293,
          294,
          295,
          296,
          297,
          298,
          299,
          300,
          301,
          302,
          303,
          304,
          305,
          306,
          307,
          308,
          309,
          310,
          311,
          312,
          313,
          314,
          315,
          316,
          317,
          318,
          319,
          320,
          321,
          322,
          323,
          324,
          325,
          326,
          327,
          328,
          329,
          330,
          331,
          332,
          333,
          334,
          335,
          336,
          337,
          338,
          339,
          340,
          341,
          342,
          343,
          344,
          345,
          346,
          347,
          348,
          349,
          350,
          351,
          352,
          353,
          354,
          355,
          356,
          357,
          358,
          359,
          360,
          361,
          362,
          363,
          364,
          365,
          366,
          367,
          368,
          369,
          370,
          371,
          372,
          373,
          374,
          375,
          376,
          377,
          378,
          379,
          380,
          381,
          382,
          383,
          384,
          385,
          386,
          387,
          388,
          389,
          390,
          391,
          392,
          393,
          394,
          395,
          396,
          397,
          398,
          399,
          400,
          401,
          402,
          403,
          404,
          405,
          406,
          407,
          408,
          409,
          410,
          411,
          412,
          413,
          414,
          415,
          416,
          417,
          418,
          419,
          420,
          421,
          422,
          423,
          424,
          425,
          426,
          427,
          428,
          429,
          430,
          431,
          432,
          433,
          434,
          435,
          436,
          437,
          438,
          439,
          440,
          441,
          442,
          443,
          444,
          445,
          446,
          447,
          448,
          449,
          450,
          451,
          452,
          453,
          454,
          455,
          456,
          457,
          458,
          459,
          460,
          461,
          462,
          463,
          464,
          465,
          466,
          467,
          468,
          469,
          470,
          471,
          472,
          473,
          474,
          475,
          476,
          477,
          478,
          479,
          480,
          481,
          482,
          483,
          484,
          485,
          486,
          487,
          488,
          489,
          490,
          491,
          492,
          493,
          494,
          495,
          496,
          497,
          498,
          499,
          500,
          501,
          502,
          503,
          504,
          505,
          506,
          507,
          508,
          509,
          510,
          511
         ],
         "xaxis": "x",
         "y": [
          0.5149187445640564,
          0.4756685197353363,
          0.48397350311279297,
          0.49640092253685,
          0.6577042937278748,
          1.09037184715271,
          0.8615448474884033,
          0.767864465713501,
          0.540471076965332,
          0.5486795902252197,
          0.5474894046783447,
          0.4200289845466614,
          0.47425737977027893,
          0.7540517449378967,
          0.4993663430213928,
          0.35693177580833435,
          0.7708346843719482,
          0.5461869835853577,
          0.6792988181114197,
          0.619009792804718,
          0.4815714359283447,
          1.8975868225097656,
          0.46052637696266174,
          0.6619675159454346,
          0.5192344784736633,
          0.6617085933685303,
          1.326930284500122,
          0.5130066871643066,
          0.48487353324890137,
          2.2749593257904053,
          1.2995901107788086,
          0.5400726795196533,
          0.6126335859298706,
          0.6153610348701477,
          0.4842413365840912,
          0.4704562723636627,
          1.4306635856628418,
          0.6308125853538513,
          0.6285699605941772,
          1.2311395406723022,
          0.5595797896385193,
          0.49887046217918396,
          0.4245893657207489,
          1.5614433288574219,
          0.6254204511642456,
          0.6464495658874512,
          0.40710732340812683,
          0.7555645704269409,
          0.45466089248657227,
          0.42244791984558105,
          0.8035300970077515,
          0.5263400673866272,
          2.4246206283569336,
          1.2403385639190674,
          0.5052223801612854,
          0.6477088332176208,
          0.8001826405525208,
          0.4592256247997284,
          1.1746991872787476,
          0.5226419568061829,
          0.7277857065200806,
          0.7180525064468384,
          0.4872101843357086,
          0.5181087851524353,
          0.4005911648273468,
          1.0589606761932373,
          0.4404136836528778,
          1.3950834274291992,
          0.40327534079551697,
          0.690820038318634,
          0.39595335721969604,
          0.4375239312648773,
          0.8377806544303894,
          0.509395956993103,
          0.4570947289466858,
          0.5490944981575012,
          0.7352747321128845,
          0.8665518164634705,
          0.4578596353530884,
          1.5960935354232788,
          1.4132765531539917,
          0.6704503297805786,
          1.287638545036316,
          0.4795215129852295,
          0.7392610311508179,
          0.6826305985450745,
          0.6456214189529419,
          0.7392190098762512,
          0.5665897130966187,
          0.7992891073226929,
          0.48760852217674255,
          0.5784634947776794,
          0.4217146635055542,
          0.4935376048088074,
          0.41061699390411377,
          0.4189930558204651,
          0.45537635684013367,
          0.4386623203754425,
          0.5019267797470093,
          0.4508294463157654,
          0.4618128538131714,
          0.7842962145805359,
          0.6211361885070801,
          0.5506049394607544,
          0.6346606016159058,
          1.3619861602783203,
          0.4765739142894745,
          0.591463565826416,
          0.595319926738739,
          0.43740925192832947,
          0.5472879409790039,
          0.6300374269485474,
          0.5357280373573303,
          0.4914073348045349,
          0.6147966980934143,
          0.5996391773223877,
          0.40773725509643555,
          0.4903979003429413,
          0.7413163781166077,
          0.8224660754203796,
          0.43542763590812683,
          0.4184994399547577,
          0.4501899480819702,
          0.4562503397464752,
          0.4455946385860443,
          0.5384456515312195,
          0.7106385231018066,
          0.3971582055091858,
          0.4844253659248352,
          0.5234625935554504,
          1.82662034034729,
          0.47134241461753845,
          0.4729037582874298,
          0.6060940623283386,
          1.1860837936401367,
          0.44966763257980347,
          0.4116244912147522,
          0.6140671968460083,
          0.5067515969276428,
          0.4635683298110962,
          0.651251494884491,
          0.46787381172180176,
          0.48579126596450806,
          0.5239107012748718,
          0.48557397723197937,
          2.274047374725342,
          0.4260593056678772,
          0.7921635508537292,
          1.4503051042556763,
          0.7299216985702515,
          0.435604065656662,
          0.9010974764823914,
          0.7801037430763245,
          1.4505802392959595,
          0.4255986511707306,
          0.790127694606781,
          0.4075210690498352,
          0.8112663626670837,
          0.49201667308807373,
          0.5104502439498901,
          0.5174480080604553,
          0.5097299814224243,
          1.1032501459121704,
          0.6795574426651001,
          0.4523053765296936,
          0.583989143371582,
          1.3063865900039673,
          0.5051169991493225,
          0.4798060655593872,
          0.4819989800453186,
          1.4548929929733276,
          1.1359308958053589,
          0.5041192770004272,
          0.5802228450775146,
          0.643574595451355,
          0.48031213879585266,
          0.660614013671875,
          0.5157146453857422,
          0.5681191682815552,
          0.5189536809921265,
          1.6386909484863281,
          0.47384893894195557,
          0.48015138506889343,
          0.4487912058830261,
          1.4189355373382568,
          1.2209844589233398,
          0.4318088889122009,
          0.7965737581253052,
          1.1087895631790161,
          1.1551481485366821,
          0.5709789991378784,
          0.6930805444717407,
          1.0222868919372559,
          0.5456229448318481,
          0.47054681181907654,
          0.4350946247577667,
          0.49391645193099976,
          0.504478394985199,
          0.4174198508262634,
          0.711070716381073,
          0.42631250619888306,
          0.5359266996383667,
          0.6812588572502136,
          0.5496670603752136,
          0.426749050617218,
          1.173214316368103,
          0.6890044212341309,
          0.7669246196746826,
          0.48697125911712646,
          0.5785074234008789,
          0.5097506642341614,
          0.3689456880092621,
          1.0520458221435547,
          0.5119418501853943,
          0.627010703086853,
          0.5721787214279175,
          0.4848899245262146,
          0.5040350556373596,
          0.579798698425293,
          0.41256704926490784,
          0.9962791800498962,
          0.5372405052185059,
          2.0856406688690186,
          1.1436326503753662,
          0.6538837552070618,
          0.5529263615608215,
          0.5020248889923096,
          1.8438273668289185,
          0.47143515944480896,
          0.4763091802597046,
          0.7279181480407715,
          0.5940580368041992,
          0.49554285407066345,
          0.472792387008667,
          0.466692715883255,
          0.48045480251312256,
          0.44246548414230347,
          0.830630898475647,
          0.4746474027633667,
          0.3854514956474304,
          0.5608188509941101,
          1.057873010635376,
          0.52866131067276,
          1.1680799722671509,
          0.5704582929611206,
          0.6809055805206299,
          0.4373437166213989,
          0.4676065146923065,
          0.44393190741539,
          1.541548490524292,
          0.47258079051971436,
          1.5395112037658691,
          0.8028103113174438,
          0.5459713339805603,
          0.5939761996269226,
          0.519335925579071,
          0.4230630099773407,
          0.4995451271533966,
          0.419166624546051,
          0.45431745052337646,
          0.38548871874809265,
          0.3762097656726837,
          0.44061440229415894,
          0.5563836097717285,
          0.5082585215568542,
          0.5225526094436646,
          0.6268355846405029,
          0.47898611426353455,
          1.0471168756484985,
          0.5145983099937439,
          0.5111443400382996,
          0.7095187306404114,
          0.6411354541778564,
          0.5446471571922302,
          0.4128637909889221,
          0.41290488839149475,
          0.8340059518814087,
          1.7302228212356567,
          0.46966752409935,
          0.45976322889328003,
          0.4097669720649719,
          0.5123698711395264,
          0.48920199275016785,
          0.4240526258945465,
          1.0199283361434937,
          0.6669822335243225,
          0.47472742199897766,
          0.6925176978111267,
          0.6023275256156921,
          1.8746616840362549,
          0.45710912346839905,
          1.1907334327697754,
          0.5060321688652039,
          0.46907925605773926,
          0.42479339241981506,
          1.5990891456604004,
          1.7305128574371338,
          0.3897946774959564,
          0.5283649563789368,
          0.8451052904129028,
          0.481266051530838,
          0.43423864245414734,
          0.6814948320388794,
          0.7537049055099487,
          0.4571588635444641,
          0.6858124136924744,
          1.1585266590118408,
          0.7907431125640869,
          0.918117344379425,
          0.4845024347305298,
          0.4380832612514496,
          0.7021863460540771,
          0.3617660403251648,
          0.4097767770290375,
          0.40392133593559265,
          0.6245239973068237,
          0.9269207119941711,
          1.4423171281814575,
          0.45058009028434753,
          0.4313674867153168,
          0.3540535867214203,
          0.4541624188423157,
          0.5193505883216858,
          0.5755518674850464,
          1.1467790603637695,
          0.4378131330013275,
          0.5697269439697266,
          1.2984821796417236,
          0.42445647716522217,
          0.7521975636482239,
          0.39757445454597473,
          1.4098427295684814,
          0.46401289105415344,
          0.5573696494102478,
          0.6436163187026978,
          1.265284538269043,
          0.8390824794769287,
          0.6390821933746338,
          0.4369395971298218,
          1.2176555395126343,
          0.6922767758369446,
          0.39648616313934326,
          1.9698156118392944,
          0.5126259326934814,
          0.46075382828712463,
          0.6457235813140869,
          0.5266962647438049,
          0.5321998596191406,
          0.49697980284690857,
          0.4240718483924866,
          0.4282563626766205,
          0.43061363697052,
          0.5714560747146606,
          0.47645536065101624,
          0.48615798354148865,
          0.5101646184921265,
          0.7791311740875244,
          0.7352327704429626,
          0.48985177278518677,
          0.9963104724884033,
          0.45497074723243713,
          0.5932046175003052,
          0.5395011305809021,
          0.46410247683525085,
          0.4552086591720581,
          0.4270646274089813,
          0.43437641859054565,
          0.48295658826828003,
          0.4007119834423065,
          0.7909472584724426,
          0.7951838374137878,
          0.47763603925704956,
          0.6391720175743103,
          1.624245285987854,
          0.42256951332092285,
          0.5573186874389648,
          0.5250608325004578,
          0.46282869577407837,
          0.47050854563713074,
          0.45199891924858093,
          0.4868158996105194,
          1.095902681350708,
          0.7967684268951416,
          1.2076725959777832,
          0.3836250305175781,
          0.7259645462036133,
          0.6816369891166687,
          0.6030797362327576,
          0.5582739114761353,
          0.4867703914642334,
          0.5381788611412048,
          0.49257534742355347,
          0.5058425068855286,
          0.4889524281024933,
          2.001955270767212,
          0.5715859532356262,
          0.6022433638572693,
          0.7032434344291687,
          0.5658127665519714,
          0.4080331325531006,
          0.6253540515899658,
          0.47132351994514465,
          1.4682226181030273,
          1.6495112180709839,
          0.46681639552116394,
          0.42237067222595215,
          0.6658987402915955,
          0.4372672140598297,
          0.672089695930481,
          0.5838490724563599,
          0.4994625449180603,
          0.728634774684906,
          1.7180715799331665,
          0.3654489815235138,
          0.7706389427185059,
          1.3823682069778442,
          0.5112876892089844,
          0.4856202304363251,
          0.38751333951950073,
          0.6221186518669128,
          0.45300421118736267,
          0.6305649876594543,
          0.47534534335136414,
          0.6928898096084595,
          0.5464843511581421,
          2.1867237091064453,
          0.44769445061683655,
          0.47989171743392944,
          0.510073184967041,
          0.7391756772994995,
          1.259303331375122,
          0.6428354978561401,
          0.39200538396835327,
          0.33049070835113525,
          0.45414918661117554,
          0.6259522438049316,
          1.5511211156845093,
          0.4246456027030945,
          0.6290686726570129,
          0.42072322964668274,
          0.6086301803588867,
          0.636113703250885,
          1.1790534257888794,
          0.5246080160140991,
          0.5641775131225586,
          0.4730447232723236,
          0.49205899238586426,
          1.46259343624115,
          0.5107353329658508,
          0.5913507342338562,
          0.5705618262290955,
          0.47832974791526794,
          0.5229190587997437,
          0.3681209087371826,
          0.424389123916626,
          0.44815319776535034,
          0.41343954205513,
          0.42814698815345764,
          0.6552229523658752,
          0.4448046088218689,
          0.4905938506126404,
          0.4589111804962158,
          0.4341205358505249,
          0.5941481590270996,
          0.6842567920684814,
          0.4913403391838074,
          0.4445500373840332,
          0.4897603690624237,
          0.4862184226512909,
          0.4439951479434967,
          0.5017064213752747,
          0.9305580258369446,
          1.0056531429290771,
          1.2839957475662231,
          0.7230729460716248,
          0.4626731872558594,
          1.2997678518295288,
          0.511104166507721,
          0.5219655632972717,
          0.4864555895328522,
          0.40721774101257324,
          0.45192256569862366,
          1.2175759077072144,
          0.5141292214393616,
          0.42397114634513855,
          0.6036514043807983,
          0.6847342848777771,
          0.4613370895385742,
          0.4951384961605072,
          0.4362134337425232,
          0.6734005808830261,
          0.5689697861671448,
          0.4972419738769531,
          0.41227757930755615,
          0.4548448622226715,
          0.4533618688583374,
          0.5107422471046448,
          0.4562384784221649,
          0.6491117477416992,
          1.1157841682434082,
          1.3118116855621338,
          0.45433032512664795,
          0.523049533367157,
          0.4436924159526825,
          0.4314406216144562,
          0.491413414478302,
          1.3030956983566284,
          1.2449308633804321,
          0.48662295937538147,
          0.39437738060951233,
          0.3938111364841461,
          0.5990161299705505
         ],
         "yaxis": "y"
        }
       ],
       "layout": {
        "barmode": "relative",
        "legend": {
         "title": {
          "text": "variable"
         },
         "tracegroupgap": 0
        },
        "margin": {
         "t": 60
        },
        "template": {
         "data": {
          "bar": [
           {
            "error_x": {
             "color": "#2a3f5f"
            },
            "error_y": {
             "color": "#2a3f5f"
            },
            "marker": {
             "line": {
              "color": "#E5ECF6",
              "width": 0.5
             },
             "pattern": {
              "fillmode": "overlay",
              "size": 10,
              "solidity": 0.2
             }
            },
            "type": "bar"
           }
          ],
          "barpolar": [
           {
            "marker": {
             "line": {
              "color": "#E5ECF6",
              "width": 0.5
             },
             "pattern": {
              "fillmode": "overlay",
              "size": 10,
              "solidity": 0.2
             }
            },
            "type": "barpolar"
           }
          ],
          "carpet": [
           {
            "aaxis": {
             "endlinecolor": "#2a3f5f",
             "gridcolor": "white",
             "linecolor": "white",
             "minorgridcolor": "white",
             "startlinecolor": "#2a3f5f"
            },
            "baxis": {
             "endlinecolor": "#2a3f5f",
             "gridcolor": "white",
             "linecolor": "white",
             "minorgridcolor": "white",
             "startlinecolor": "#2a3f5f"
            },
            "type": "carpet"
           }
          ],
          "choropleth": [
           {
            "colorbar": {
             "outlinewidth": 0,
             "ticks": ""
            },
            "type": "choropleth"
           }
          ],
          "contour": [
           {
            "colorbar": {
             "outlinewidth": 0,
             "ticks": ""
            },
            "colorscale": [
             [
              0,
              "#0d0887"
             ],
             [
              0.1111111111111111,
              "#46039f"
             ],
             [
              0.2222222222222222,
              "#7201a8"
             ],
             [
              0.3333333333333333,
              "#9c179e"
             ],
             [
              0.4444444444444444,
              "#bd3786"
             ],
             [
              0.5555555555555556,
              "#d8576b"
             ],
             [
              0.6666666666666666,
              "#ed7953"
             ],
             [
              0.7777777777777778,
              "#fb9f3a"
             ],
             [
              0.8888888888888888,
              "#fdca26"
             ],
             [
              1,
              "#f0f921"
             ]
            ],
            "type": "contour"
           }
          ],
          "contourcarpet": [
           {
            "colorbar": {
             "outlinewidth": 0,
             "ticks": ""
            },
            "type": "contourcarpet"
           }
          ],
          "heatmap": [
           {
            "colorbar": {
             "outlinewidth": 0,
             "ticks": ""
            },
            "colorscale": [
             [
              0,
              "#0d0887"
             ],
             [
              0.1111111111111111,
              "#46039f"
             ],
             [
              0.2222222222222222,
              "#7201a8"
             ],
             [
              0.3333333333333333,
              "#9c179e"
             ],
             [
              0.4444444444444444,
              "#bd3786"
             ],
             [
              0.5555555555555556,
              "#d8576b"
             ],
             [
              0.6666666666666666,
              "#ed7953"
             ],
             [
              0.7777777777777778,
              "#fb9f3a"
             ],
             [
              0.8888888888888888,
              "#fdca26"
             ],
             [
              1,
              "#f0f921"
             ]
            ],
            "type": "heatmap"
           }
          ],
          "heatmapgl": [
           {
            "colorbar": {
             "outlinewidth": 0,
             "ticks": ""
            },
            "colorscale": [
             [
              0,
              "#0d0887"
             ],
             [
              0.1111111111111111,
              "#46039f"
             ],
             [
              0.2222222222222222,
              "#7201a8"
             ],
             [
              0.3333333333333333,
              "#9c179e"
             ],
             [
              0.4444444444444444,
              "#bd3786"
             ],
             [
              0.5555555555555556,
              "#d8576b"
             ],
             [
              0.6666666666666666,
              "#ed7953"
             ],
             [
              0.7777777777777778,
              "#fb9f3a"
             ],
             [
              0.8888888888888888,
              "#fdca26"
             ],
             [
              1,
              "#f0f921"
             ]
            ],
            "type": "heatmapgl"
           }
          ],
          "histogram": [
           {
            "marker": {
             "pattern": {
              "fillmode": "overlay",
              "size": 10,
              "solidity": 0.2
             }
            },
            "type": "histogram"
           }
          ],
          "histogram2d": [
           {
            "colorbar": {
             "outlinewidth": 0,
             "ticks": ""
            },
            "colorscale": [
             [
              0,
              "#0d0887"
             ],
             [
              0.1111111111111111,
              "#46039f"
             ],
             [
              0.2222222222222222,
              "#7201a8"
             ],
             [
              0.3333333333333333,
              "#9c179e"
             ],
             [
              0.4444444444444444,
              "#bd3786"
             ],
             [
              0.5555555555555556,
              "#d8576b"
             ],
             [
              0.6666666666666666,
              "#ed7953"
             ],
             [
              0.7777777777777778,
              "#fb9f3a"
             ],
             [
              0.8888888888888888,
              "#fdca26"
             ],
             [
              1,
              "#f0f921"
             ]
            ],
            "type": "histogram2d"
           }
          ],
          "histogram2dcontour": [
           {
            "colorbar": {
             "outlinewidth": 0,
             "ticks": ""
            },
            "colorscale": [
             [
              0,
              "#0d0887"
             ],
             [
              0.1111111111111111,
              "#46039f"
             ],
             [
              0.2222222222222222,
              "#7201a8"
             ],
             [
              0.3333333333333333,
              "#9c179e"
             ],
             [
              0.4444444444444444,
              "#bd3786"
             ],
             [
              0.5555555555555556,
              "#d8576b"
             ],
             [
              0.6666666666666666,
              "#ed7953"
             ],
             [
              0.7777777777777778,
              "#fb9f3a"
             ],
             [
              0.8888888888888888,
              "#fdca26"
             ],
             [
              1,
              "#f0f921"
             ]
            ],
            "type": "histogram2dcontour"
           }
          ],
          "mesh3d": [
           {
            "colorbar": {
             "outlinewidth": 0,
             "ticks": ""
            },
            "type": "mesh3d"
           }
          ],
          "parcoords": [
           {
            "line": {
             "colorbar": {
              "outlinewidth": 0,
              "ticks": ""
             }
            },
            "type": "parcoords"
           }
          ],
          "pie": [
           {
            "automargin": true,
            "type": "pie"
           }
          ],
          "scatter": [
           {
            "fillpattern": {
             "fillmode": "overlay",
             "size": 10,
             "solidity": 0.2
            },
            "type": "scatter"
           }
          ],
          "scatter3d": [
           {
            "line": {
             "colorbar": {
              "outlinewidth": 0,
              "ticks": ""
             }
            },
            "marker": {
             "colorbar": {
              "outlinewidth": 0,
              "ticks": ""
             }
            },
            "type": "scatter3d"
           }
          ],
          "scattercarpet": [
           {
            "marker": {
             "colorbar": {
              "outlinewidth": 0,
              "ticks": ""
             }
            },
            "type": "scattercarpet"
           }
          ],
          "scattergeo": [
           {
            "marker": {
             "colorbar": {
              "outlinewidth": 0,
              "ticks": ""
             }
            },
            "type": "scattergeo"
           }
          ],
          "scattergl": [
           {
            "marker": {
             "colorbar": {
              "outlinewidth": 0,
              "ticks": ""
             }
            },
            "type": "scattergl"
           }
          ],
          "scattermapbox": [
           {
            "marker": {
             "colorbar": {
              "outlinewidth": 0,
              "ticks": ""
             }
            },
            "type": "scattermapbox"
           }
          ],
          "scatterpolar": [
           {
            "marker": {
             "colorbar": {
              "outlinewidth": 0,
              "ticks": ""
             }
            },
            "type": "scatterpolar"
           }
          ],
          "scatterpolargl": [
           {
            "marker": {
             "colorbar": {
              "outlinewidth": 0,
              "ticks": ""
             }
            },
            "type": "scatterpolargl"
           }
          ],
          "scatterternary": [
           {
            "marker": {
             "colorbar": {
              "outlinewidth": 0,
              "ticks": ""
             }
            },
            "type": "scatterternary"
           }
          ],
          "surface": [
           {
            "colorbar": {
             "outlinewidth": 0,
             "ticks": ""
            },
            "colorscale": [
             [
              0,
              "#0d0887"
             ],
             [
              0.1111111111111111,
              "#46039f"
             ],
             [
              0.2222222222222222,
              "#7201a8"
             ],
             [
              0.3333333333333333,
              "#9c179e"
             ],
             [
              0.4444444444444444,
              "#bd3786"
             ],
             [
              0.5555555555555556,
              "#d8576b"
             ],
             [
              0.6666666666666666,
              "#ed7953"
             ],
             [
              0.7777777777777778,
              "#fb9f3a"
             ],
             [
              0.8888888888888888,
              "#fdca26"
             ],
             [
              1,
              "#f0f921"
             ]
            ],
            "type": "surface"
           }
          ],
          "table": [
           {
            "cells": {
             "fill": {
              "color": "#EBF0F8"
             },
             "line": {
              "color": "white"
             }
            },
            "header": {
             "fill": {
              "color": "#C8D4E3"
             },
             "line": {
              "color": "white"
             }
            },
            "type": "table"
           }
          ]
         },
         "layout": {
          "annotationdefaults": {
           "arrowcolor": "#2a3f5f",
           "arrowhead": 0,
           "arrowwidth": 1
          },
          "autotypenumbers": "strict",
          "coloraxis": {
           "colorbar": {
            "outlinewidth": 0,
            "ticks": ""
           }
          },
          "colorscale": {
           "diverging": [
            [
             0,
             "#8e0152"
            ],
            [
             0.1,
             "#c51b7d"
            ],
            [
             0.2,
             "#de77ae"
            ],
            [
             0.3,
             "#f1b6da"
            ],
            [
             0.4,
             "#fde0ef"
            ],
            [
             0.5,
             "#f7f7f7"
            ],
            [
             0.6,
             "#e6f5d0"
            ],
            [
             0.7,
             "#b8e186"
            ],
            [
             0.8,
             "#7fbc41"
            ],
            [
             0.9,
             "#4d9221"
            ],
            [
             1,
             "#276419"
            ]
           ],
           "sequential": [
            [
             0,
             "#0d0887"
            ],
            [
             0.1111111111111111,
             "#46039f"
            ],
            [
             0.2222222222222222,
             "#7201a8"
            ],
            [
             0.3333333333333333,
             "#9c179e"
            ],
            [
             0.4444444444444444,
             "#bd3786"
            ],
            [
             0.5555555555555556,
             "#d8576b"
            ],
            [
             0.6666666666666666,
             "#ed7953"
            ],
            [
             0.7777777777777778,
             "#fb9f3a"
            ],
            [
             0.8888888888888888,
             "#fdca26"
            ],
            [
             1,
             "#f0f921"
            ]
           ],
           "sequentialminus": [
            [
             0,
             "#0d0887"
            ],
            [
             0.1111111111111111,
             "#46039f"
            ],
            [
             0.2222222222222222,
             "#7201a8"
            ],
            [
             0.3333333333333333,
             "#9c179e"
            ],
            [
             0.4444444444444444,
             "#bd3786"
            ],
            [
             0.5555555555555556,
             "#d8576b"
            ],
            [
             0.6666666666666666,
             "#ed7953"
            ],
            [
             0.7777777777777778,
             "#fb9f3a"
            ],
            [
             0.8888888888888888,
             "#fdca26"
            ],
            [
             1,
             "#f0f921"
            ]
           ]
          },
          "colorway": [
           "#636efa",
           "#EF553B",
           "#00cc96",
           "#ab63fa",
           "#FFA15A",
           "#19d3f3",
           "#FF6692",
           "#B6E880",
           "#FF97FF",
           "#FECB52"
          ],
          "font": {
           "color": "#2a3f5f"
          },
          "geo": {
           "bgcolor": "white",
           "lakecolor": "white",
           "landcolor": "#E5ECF6",
           "showlakes": true,
           "showland": true,
           "subunitcolor": "white"
          },
          "hoverlabel": {
           "align": "left"
          },
          "hovermode": "closest",
          "mapbox": {
           "style": "light"
          },
          "paper_bgcolor": "white",
          "plot_bgcolor": "#E5ECF6",
          "polar": {
           "angularaxis": {
            "gridcolor": "white",
            "linecolor": "white",
            "ticks": ""
           },
           "bgcolor": "#E5ECF6",
           "radialaxis": {
            "gridcolor": "white",
            "linecolor": "white",
            "ticks": ""
           }
          },
          "scene": {
           "xaxis": {
            "backgroundcolor": "#E5ECF6",
            "gridcolor": "white",
            "gridwidth": 2,
            "linecolor": "white",
            "showbackground": true,
            "ticks": "",
            "zerolinecolor": "white"
           },
           "yaxis": {
            "backgroundcolor": "#E5ECF6",
            "gridcolor": "white",
            "gridwidth": 2,
            "linecolor": "white",
            "showbackground": true,
            "ticks": "",
            "zerolinecolor": "white"
           },
           "zaxis": {
            "backgroundcolor": "#E5ECF6",
            "gridcolor": "white",
            "gridwidth": 2,
            "linecolor": "white",
            "showbackground": true,
            "ticks": "",
            "zerolinecolor": "white"
           }
          },
          "shapedefaults": {
           "line": {
            "color": "#2a3f5f"
           }
          },
          "ternary": {
           "aaxis": {
            "gridcolor": "white",
            "linecolor": "white",
            "ticks": ""
           },
           "baxis": {
            "gridcolor": "white",
            "linecolor": "white",
            "ticks": ""
           },
           "bgcolor": "#E5ECF6",
           "caxis": {
            "gridcolor": "white",
            "linecolor": "white",
            "ticks": ""
           }
          },
          "title": {
           "x": 0.05
          },
          "xaxis": {
           "automargin": true,
           "gridcolor": "white",
           "linecolor": "white",
           "ticks": "",
           "title": {
            "standoff": 15
           },
           "zerolinecolor": "white",
           "zerolinewidth": 2
          },
          "yaxis": {
           "automargin": true,
           "gridcolor": "white",
           "linecolor": "white",
           "ticks": "",
           "title": {
            "standoff": 15
           },
           "zerolinecolor": "white",
           "zerolinewidth": 2
          }
         }
        },
        "xaxis": {
         "anchor": "y",
         "domain": [
          0,
          1
         ],
         "title": {
          "text": "index"
         }
        },
        "yaxis": {
         "anchor": "x",
         "domain": [
          0,
          1
         ],
         "title": {
          "text": "value"
         }
        }
       }
      },
      "text/html": [
       "<div>                            <div id=\"f601d41e-52f5-4d63-b0e0-244ce5e03d49\" class=\"plotly-graph-div\" style=\"height:525px; width:100%;\"></div>            <script type=\"text/javascript\">                require([\"plotly\"], function(Plotly) {                    window.PLOTLYENV=window.PLOTLYENV || {};                                    if (document.getElementById(\"f601d41e-52f5-4d63-b0e0-244ce5e03d49\")) {                    Plotly.newPlot(                        \"f601d41e-52f5-4d63-b0e0-244ce5e03d49\",                        [{\"alignmentgroup\":\"True\",\"hovertemplate\":\"variable=0\\u003cbr\\u003eindex=%{x}\\u003cbr\\u003evalue=%{y}\\u003cextra\\u003e\\u003c\\u002fextra\\u003e\",\"legendgroup\":\"0\",\"marker\":{\"color\":\"#636efa\",\"pattern\":{\"shape\":\"\"}},\"name\":\"0\",\"offsetgroup\":\"0\",\"orientation\":\"v\",\"showlegend\":true,\"textposition\":\"auto\",\"x\":[0,1,2,3,4,5,6,7,8,9,10,11,12,13,14,15,16,17,18,19,20,21,22,23,24,25,26,27,28,29,30,31,32,33,34,35,36,37,38,39,40,41,42,43,44,45,46,47,48,49,50,51,52,53,54,55,56,57,58,59,60,61,62,63,64,65,66,67,68,69,70,71,72,73,74,75,76,77,78,79,80,81,82,83,84,85,86,87,88,89,90,91,92,93,94,95,96,97,98,99,100,101,102,103,104,105,106,107,108,109,110,111,112,113,114,115,116,117,118,119,120,121,122,123,124,125,126,127,128,129,130,131,132,133,134,135,136,137,138,139,140,141,142,143,144,145,146,147,148,149,150,151,152,153,154,155,156,157,158,159,160,161,162,163,164,165,166,167,168,169,170,171,172,173,174,175,176,177,178,179,180,181,182,183,184,185,186,187,188,189,190,191,192,193,194,195,196,197,198,199,200,201,202,203,204,205,206,207,208,209,210,211,212,213,214,215,216,217,218,219,220,221,222,223,224,225,226,227,228,229,230,231,232,233,234,235,236,237,238,239,240,241,242,243,244,245,246,247,248,249,250,251,252,253,254,255,256,257,258,259,260,261,262,263,264,265,266,267,268,269,270,271,272,273,274,275,276,277,278,279,280,281,282,283,284,285,286,287,288,289,290,291,292,293,294,295,296,297,298,299,300,301,302,303,304,305,306,307,308,309,310,311,312,313,314,315,316,317,318,319,320,321,322,323,324,325,326,327,328,329,330,331,332,333,334,335,336,337,338,339,340,341,342,343,344,345,346,347,348,349,350,351,352,353,354,355,356,357,358,359,360,361,362,363,364,365,366,367,368,369,370,371,372,373,374,375,376,377,378,379,380,381,382,383,384,385,386,387,388,389,390,391,392,393,394,395,396,397,398,399,400,401,402,403,404,405,406,407,408,409,410,411,412,413,414,415,416,417,418,419,420,421,422,423,424,425,426,427,428,429,430,431,432,433,434,435,436,437,438,439,440,441,442,443,444,445,446,447,448,449,450,451,452,453,454,455,456,457,458,459,460,461,462,463,464,465,466,467,468,469,470,471,472,473,474,475,476,477,478,479,480,481,482,483,484,485,486,487,488,489,490,491,492,493,494,495,496,497,498,499,500,501,502,503,504,505,506,507,508,509,510,511],\"xaxis\":\"x\",\"y\":[0.5149187445640564,0.4756685197353363,0.48397350311279297,0.49640092253685,0.6577042937278748,1.09037184715271,0.8615448474884033,0.767864465713501,0.540471076965332,0.5486795902252197,0.5474894046783447,0.4200289845466614,0.47425737977027893,0.7540517449378967,0.4993663430213928,0.35693177580833435,0.7708346843719482,0.5461869835853577,0.6792988181114197,0.619009792804718,0.4815714359283447,1.8975868225097656,0.46052637696266174,0.6619675159454346,0.5192344784736633,0.6617085933685303,1.326930284500122,0.5130066871643066,0.48487353324890137,2.2749593257904053,1.2995901107788086,0.5400726795196533,0.6126335859298706,0.6153610348701477,0.4842413365840912,0.4704562723636627,1.4306635856628418,0.6308125853538513,0.6285699605941772,1.2311395406723022,0.5595797896385193,0.49887046217918396,0.4245893657207489,1.5614433288574219,0.6254204511642456,0.6464495658874512,0.40710732340812683,0.7555645704269409,0.45466089248657227,0.42244791984558105,0.8035300970077515,0.5263400673866272,2.4246206283569336,1.2403385639190674,0.5052223801612854,0.6477088332176208,0.8001826405525208,0.4592256247997284,1.1746991872787476,0.5226419568061829,0.7277857065200806,0.7180525064468384,0.4872101843357086,0.5181087851524353,0.4005911648273468,1.0589606761932373,0.4404136836528778,1.3950834274291992,0.40327534079551697,0.690820038318634,0.39595335721969604,0.4375239312648773,0.8377806544303894,0.509395956993103,0.4570947289466858,0.5490944981575012,0.7352747321128845,0.8665518164634705,0.4578596353530884,1.5960935354232788,1.4132765531539917,0.6704503297805786,1.287638545036316,0.4795215129852295,0.7392610311508179,0.6826305985450745,0.6456214189529419,0.7392190098762512,0.5665897130966187,0.7992891073226929,0.48760852217674255,0.5784634947776794,0.4217146635055542,0.4935376048088074,0.41061699390411377,0.4189930558204651,0.45537635684013367,0.4386623203754425,0.5019267797470093,0.4508294463157654,0.4618128538131714,0.7842962145805359,0.6211361885070801,0.5506049394607544,0.6346606016159058,1.3619861602783203,0.4765739142894745,0.591463565826416,0.595319926738739,0.43740925192832947,0.5472879409790039,0.6300374269485474,0.5357280373573303,0.4914073348045349,0.6147966980934143,0.5996391773223877,0.40773725509643555,0.4903979003429413,0.7413163781166077,0.8224660754203796,0.43542763590812683,0.4184994399547577,0.4501899480819702,0.4562503397464752,0.4455946385860443,0.5384456515312195,0.7106385231018066,0.3971582055091858,0.4844253659248352,0.5234625935554504,1.82662034034729,0.47134241461753845,0.4729037582874298,0.6060940623283386,1.1860837936401367,0.44966763257980347,0.4116244912147522,0.6140671968460083,0.5067515969276428,0.4635683298110962,0.651251494884491,0.46787381172180176,0.48579126596450806,0.5239107012748718,0.48557397723197937,2.274047374725342,0.4260593056678772,0.7921635508537292,1.4503051042556763,0.7299216985702515,0.435604065656662,0.9010974764823914,0.7801037430763245,1.4505802392959595,0.4255986511707306,0.790127694606781,0.4075210690498352,0.8112663626670837,0.49201667308807373,0.5104502439498901,0.5174480080604553,0.5097299814224243,1.1032501459121704,0.6795574426651001,0.4523053765296936,0.583989143371582,1.3063865900039673,0.5051169991493225,0.4798060655593872,0.4819989800453186,1.4548929929733276,1.1359308958053589,0.5041192770004272,0.5802228450775146,0.643574595451355,0.48031213879585266,0.660614013671875,0.5157146453857422,0.5681191682815552,0.5189536809921265,1.6386909484863281,0.47384893894195557,0.48015138506889343,0.4487912058830261,1.4189355373382568,1.2209844589233398,0.4318088889122009,0.7965737581253052,1.1087895631790161,1.1551481485366821,0.5709789991378784,0.6930805444717407,1.0222868919372559,0.5456229448318481,0.47054681181907654,0.4350946247577667,0.49391645193099976,0.504478394985199,0.4174198508262634,0.711070716381073,0.42631250619888306,0.5359266996383667,0.6812588572502136,0.5496670603752136,0.426749050617218,1.173214316368103,0.6890044212341309,0.7669246196746826,0.48697125911712646,0.5785074234008789,0.5097506642341614,0.3689456880092621,1.0520458221435547,0.5119418501853943,0.627010703086853,0.5721787214279175,0.4848899245262146,0.5040350556373596,0.579798698425293,0.41256704926490784,0.9962791800498962,0.5372405052185059,2.0856406688690186,1.1436326503753662,0.6538837552070618,0.5529263615608215,0.5020248889923096,1.8438273668289185,0.47143515944480896,0.4763091802597046,0.7279181480407715,0.5940580368041992,0.49554285407066345,0.472792387008667,0.466692715883255,0.48045480251312256,0.44246548414230347,0.830630898475647,0.4746474027633667,0.3854514956474304,0.5608188509941101,1.057873010635376,0.52866131067276,1.1680799722671509,0.5704582929611206,0.6809055805206299,0.4373437166213989,0.4676065146923065,0.44393190741539,1.541548490524292,0.47258079051971436,1.5395112037658691,0.8028103113174438,0.5459713339805603,0.5939761996269226,0.519335925579071,0.4230630099773407,0.4995451271533966,0.419166624546051,0.45431745052337646,0.38548871874809265,0.3762097656726837,0.44061440229415894,0.5563836097717285,0.5082585215568542,0.5225526094436646,0.6268355846405029,0.47898611426353455,1.0471168756484985,0.5145983099937439,0.5111443400382996,0.7095187306404114,0.6411354541778564,0.5446471571922302,0.4128637909889221,0.41290488839149475,0.8340059518814087,1.7302228212356567,0.46966752409935,0.45976322889328003,0.4097669720649719,0.5123698711395264,0.48920199275016785,0.4240526258945465,1.0199283361434937,0.6669822335243225,0.47472742199897766,0.6925176978111267,0.6023275256156921,1.8746616840362549,0.45710912346839905,1.1907334327697754,0.5060321688652039,0.46907925605773926,0.42479339241981506,1.5990891456604004,1.7305128574371338,0.3897946774959564,0.5283649563789368,0.8451052904129028,0.481266051530838,0.43423864245414734,0.6814948320388794,0.7537049055099487,0.4571588635444641,0.6858124136924744,1.1585266590118408,0.7907431125640869,0.918117344379425,0.4845024347305298,0.4380832612514496,0.7021863460540771,0.3617660403251648,0.4097767770290375,0.40392133593559265,0.6245239973068237,0.9269207119941711,1.4423171281814575,0.45058009028434753,0.4313674867153168,0.3540535867214203,0.4541624188423157,0.5193505883216858,0.5755518674850464,1.1467790603637695,0.4378131330013275,0.5697269439697266,1.2984821796417236,0.42445647716522217,0.7521975636482239,0.39757445454597473,1.4098427295684814,0.46401289105415344,0.5573696494102478,0.6436163187026978,1.265284538269043,0.8390824794769287,0.6390821933746338,0.4369395971298218,1.2176555395126343,0.6922767758369446,0.39648616313934326,1.9698156118392944,0.5126259326934814,0.46075382828712463,0.6457235813140869,0.5266962647438049,0.5321998596191406,0.49697980284690857,0.4240718483924866,0.4282563626766205,0.43061363697052,0.5714560747146606,0.47645536065101624,0.48615798354148865,0.5101646184921265,0.7791311740875244,0.7352327704429626,0.48985177278518677,0.9963104724884033,0.45497074723243713,0.5932046175003052,0.5395011305809021,0.46410247683525085,0.4552086591720581,0.4270646274089813,0.43437641859054565,0.48295658826828003,0.4007119834423065,0.7909472584724426,0.7951838374137878,0.47763603925704956,0.6391720175743103,1.624245285987854,0.42256951332092285,0.5573186874389648,0.5250608325004578,0.46282869577407837,0.47050854563713074,0.45199891924858093,0.4868158996105194,1.095902681350708,0.7967684268951416,1.2076725959777832,0.3836250305175781,0.7259645462036133,0.6816369891166687,0.6030797362327576,0.5582739114761353,0.4867703914642334,0.5381788611412048,0.49257534742355347,0.5058425068855286,0.4889524281024933,2.001955270767212,0.5715859532356262,0.6022433638572693,0.7032434344291687,0.5658127665519714,0.4080331325531006,0.6253540515899658,0.47132351994514465,1.4682226181030273,1.6495112180709839,0.46681639552116394,0.42237067222595215,0.6658987402915955,0.4372672140598297,0.672089695930481,0.5838490724563599,0.4994625449180603,0.728634774684906,1.7180715799331665,0.3654489815235138,0.7706389427185059,1.3823682069778442,0.5112876892089844,0.4856202304363251,0.38751333951950073,0.6221186518669128,0.45300421118736267,0.6305649876594543,0.47534534335136414,0.6928898096084595,0.5464843511581421,2.1867237091064453,0.44769445061683655,0.47989171743392944,0.510073184967041,0.7391756772994995,1.259303331375122,0.6428354978561401,0.39200538396835327,0.33049070835113525,0.45414918661117554,0.6259522438049316,1.5511211156845093,0.4246456027030945,0.6290686726570129,0.42072322964668274,0.6086301803588867,0.636113703250885,1.1790534257888794,0.5246080160140991,0.5641775131225586,0.4730447232723236,0.49205899238586426,1.46259343624115,0.5107353329658508,0.5913507342338562,0.5705618262290955,0.47832974791526794,0.5229190587997437,0.3681209087371826,0.424389123916626,0.44815319776535034,0.41343954205513,0.42814698815345764,0.6552229523658752,0.4448046088218689,0.4905938506126404,0.4589111804962158,0.4341205358505249,0.5941481590270996,0.6842567920684814,0.4913403391838074,0.4445500373840332,0.4897603690624237,0.4862184226512909,0.4439951479434967,0.5017064213752747,0.9305580258369446,1.0056531429290771,1.2839957475662231,0.7230729460716248,0.4626731872558594,1.2997678518295288,0.511104166507721,0.5219655632972717,0.4864555895328522,0.40721774101257324,0.45192256569862366,1.2175759077072144,0.5141292214393616,0.42397114634513855,0.6036514043807983,0.6847342848777771,0.4613370895385742,0.4951384961605072,0.4362134337425232,0.6734005808830261,0.5689697861671448,0.4972419738769531,0.41227757930755615,0.4548448622226715,0.4533618688583374,0.5107422471046448,0.4562384784221649,0.6491117477416992,1.1157841682434082,1.3118116855621338,0.45433032512664795,0.523049533367157,0.4436924159526825,0.4314406216144562,0.491413414478302,1.3030956983566284,1.2449308633804321,0.48662295937538147,0.39437738060951233,0.3938111364841461,0.5990161299705505],\"yaxis\":\"y\",\"type\":\"bar\"}],                        {\"template\":{\"data\":{\"histogram2dcontour\":[{\"type\":\"histogram2dcontour\",\"colorbar\":{\"outlinewidth\":0,\"ticks\":\"\"},\"colorscale\":[[0.0,\"#0d0887\"],[0.1111111111111111,\"#46039f\"],[0.2222222222222222,\"#7201a8\"],[0.3333333333333333,\"#9c179e\"],[0.4444444444444444,\"#bd3786\"],[0.5555555555555556,\"#d8576b\"],[0.6666666666666666,\"#ed7953\"],[0.7777777777777778,\"#fb9f3a\"],[0.8888888888888888,\"#fdca26\"],[1.0,\"#f0f921\"]]}],\"choropleth\":[{\"type\":\"choropleth\",\"colorbar\":{\"outlinewidth\":0,\"ticks\":\"\"}}],\"histogram2d\":[{\"type\":\"histogram2d\",\"colorbar\":{\"outlinewidth\":0,\"ticks\":\"\"},\"colorscale\":[[0.0,\"#0d0887\"],[0.1111111111111111,\"#46039f\"],[0.2222222222222222,\"#7201a8\"],[0.3333333333333333,\"#9c179e\"],[0.4444444444444444,\"#bd3786\"],[0.5555555555555556,\"#d8576b\"],[0.6666666666666666,\"#ed7953\"],[0.7777777777777778,\"#fb9f3a\"],[0.8888888888888888,\"#fdca26\"],[1.0,\"#f0f921\"]]}],\"heatmap\":[{\"type\":\"heatmap\",\"colorbar\":{\"outlinewidth\":0,\"ticks\":\"\"},\"colorscale\":[[0.0,\"#0d0887\"],[0.1111111111111111,\"#46039f\"],[0.2222222222222222,\"#7201a8\"],[0.3333333333333333,\"#9c179e\"],[0.4444444444444444,\"#bd3786\"],[0.5555555555555556,\"#d8576b\"],[0.6666666666666666,\"#ed7953\"],[0.7777777777777778,\"#fb9f3a\"],[0.8888888888888888,\"#fdca26\"],[1.0,\"#f0f921\"]]}],\"heatmapgl\":[{\"type\":\"heatmapgl\",\"colorbar\":{\"outlinewidth\":0,\"ticks\":\"\"},\"colorscale\":[[0.0,\"#0d0887\"],[0.1111111111111111,\"#46039f\"],[0.2222222222222222,\"#7201a8\"],[0.3333333333333333,\"#9c179e\"],[0.4444444444444444,\"#bd3786\"],[0.5555555555555556,\"#d8576b\"],[0.6666666666666666,\"#ed7953\"],[0.7777777777777778,\"#fb9f3a\"],[0.8888888888888888,\"#fdca26\"],[1.0,\"#f0f921\"]]}],\"contourcarpet\":[{\"type\":\"contourcarpet\",\"colorbar\":{\"outlinewidth\":0,\"ticks\":\"\"}}],\"contour\":[{\"type\":\"contour\",\"colorbar\":{\"outlinewidth\":0,\"ticks\":\"\"},\"colorscale\":[[0.0,\"#0d0887\"],[0.1111111111111111,\"#46039f\"],[0.2222222222222222,\"#7201a8\"],[0.3333333333333333,\"#9c179e\"],[0.4444444444444444,\"#bd3786\"],[0.5555555555555556,\"#d8576b\"],[0.6666666666666666,\"#ed7953\"],[0.7777777777777778,\"#fb9f3a\"],[0.8888888888888888,\"#fdca26\"],[1.0,\"#f0f921\"]]}],\"surface\":[{\"type\":\"surface\",\"colorbar\":{\"outlinewidth\":0,\"ticks\":\"\"},\"colorscale\":[[0.0,\"#0d0887\"],[0.1111111111111111,\"#46039f\"],[0.2222222222222222,\"#7201a8\"],[0.3333333333333333,\"#9c179e\"],[0.4444444444444444,\"#bd3786\"],[0.5555555555555556,\"#d8576b\"],[0.6666666666666666,\"#ed7953\"],[0.7777777777777778,\"#fb9f3a\"],[0.8888888888888888,\"#fdca26\"],[1.0,\"#f0f921\"]]}],\"mesh3d\":[{\"type\":\"mesh3d\",\"colorbar\":{\"outlinewidth\":0,\"ticks\":\"\"}}],\"scatter\":[{\"fillpattern\":{\"fillmode\":\"overlay\",\"size\":10,\"solidity\":0.2},\"type\":\"scatter\"}],\"parcoords\":[{\"type\":\"parcoords\",\"line\":{\"colorbar\":{\"outlinewidth\":0,\"ticks\":\"\"}}}],\"scatterpolargl\":[{\"type\":\"scatterpolargl\",\"marker\":{\"colorbar\":{\"outlinewidth\":0,\"ticks\":\"\"}}}],\"bar\":[{\"error_x\":{\"color\":\"#2a3f5f\"},\"error_y\":{\"color\":\"#2a3f5f\"},\"marker\":{\"line\":{\"color\":\"#E5ECF6\",\"width\":0.5},\"pattern\":{\"fillmode\":\"overlay\",\"size\":10,\"solidity\":0.2}},\"type\":\"bar\"}],\"scattergeo\":[{\"type\":\"scattergeo\",\"marker\":{\"colorbar\":{\"outlinewidth\":0,\"ticks\":\"\"}}}],\"scatterpolar\":[{\"type\":\"scatterpolar\",\"marker\":{\"colorbar\":{\"outlinewidth\":0,\"ticks\":\"\"}}}],\"histogram\":[{\"marker\":{\"pattern\":{\"fillmode\":\"overlay\",\"size\":10,\"solidity\":0.2}},\"type\":\"histogram\"}],\"scattergl\":[{\"type\":\"scattergl\",\"marker\":{\"colorbar\":{\"outlinewidth\":0,\"ticks\":\"\"}}}],\"scatter3d\":[{\"type\":\"scatter3d\",\"line\":{\"colorbar\":{\"outlinewidth\":0,\"ticks\":\"\"}},\"marker\":{\"colorbar\":{\"outlinewidth\":0,\"ticks\":\"\"}}}],\"scattermapbox\":[{\"type\":\"scattermapbox\",\"marker\":{\"colorbar\":{\"outlinewidth\":0,\"ticks\":\"\"}}}],\"scatterternary\":[{\"type\":\"scatterternary\",\"marker\":{\"colorbar\":{\"outlinewidth\":0,\"ticks\":\"\"}}}],\"scattercarpet\":[{\"type\":\"scattercarpet\",\"marker\":{\"colorbar\":{\"outlinewidth\":0,\"ticks\":\"\"}}}],\"carpet\":[{\"aaxis\":{\"endlinecolor\":\"#2a3f5f\",\"gridcolor\":\"white\",\"linecolor\":\"white\",\"minorgridcolor\":\"white\",\"startlinecolor\":\"#2a3f5f\"},\"baxis\":{\"endlinecolor\":\"#2a3f5f\",\"gridcolor\":\"white\",\"linecolor\":\"white\",\"minorgridcolor\":\"white\",\"startlinecolor\":\"#2a3f5f\"},\"type\":\"carpet\"}],\"table\":[{\"cells\":{\"fill\":{\"color\":\"#EBF0F8\"},\"line\":{\"color\":\"white\"}},\"header\":{\"fill\":{\"color\":\"#C8D4E3\"},\"line\":{\"color\":\"white\"}},\"type\":\"table\"}],\"barpolar\":[{\"marker\":{\"line\":{\"color\":\"#E5ECF6\",\"width\":0.5},\"pattern\":{\"fillmode\":\"overlay\",\"size\":10,\"solidity\":0.2}},\"type\":\"barpolar\"}],\"pie\":[{\"automargin\":true,\"type\":\"pie\"}]},\"layout\":{\"autotypenumbers\":\"strict\",\"colorway\":[\"#636efa\",\"#EF553B\",\"#00cc96\",\"#ab63fa\",\"#FFA15A\",\"#19d3f3\",\"#FF6692\",\"#B6E880\",\"#FF97FF\",\"#FECB52\"],\"font\":{\"color\":\"#2a3f5f\"},\"hovermode\":\"closest\",\"hoverlabel\":{\"align\":\"left\"},\"paper_bgcolor\":\"white\",\"plot_bgcolor\":\"#E5ECF6\",\"polar\":{\"bgcolor\":\"#E5ECF6\",\"angularaxis\":{\"gridcolor\":\"white\",\"linecolor\":\"white\",\"ticks\":\"\"},\"radialaxis\":{\"gridcolor\":\"white\",\"linecolor\":\"white\",\"ticks\":\"\"}},\"ternary\":{\"bgcolor\":\"#E5ECF6\",\"aaxis\":{\"gridcolor\":\"white\",\"linecolor\":\"white\",\"ticks\":\"\"},\"baxis\":{\"gridcolor\":\"white\",\"linecolor\":\"white\",\"ticks\":\"\"},\"caxis\":{\"gridcolor\":\"white\",\"linecolor\":\"white\",\"ticks\":\"\"}},\"coloraxis\":{\"colorbar\":{\"outlinewidth\":0,\"ticks\":\"\"}},\"colorscale\":{\"sequential\":[[0.0,\"#0d0887\"],[0.1111111111111111,\"#46039f\"],[0.2222222222222222,\"#7201a8\"],[0.3333333333333333,\"#9c179e\"],[0.4444444444444444,\"#bd3786\"],[0.5555555555555556,\"#d8576b\"],[0.6666666666666666,\"#ed7953\"],[0.7777777777777778,\"#fb9f3a\"],[0.8888888888888888,\"#fdca26\"],[1.0,\"#f0f921\"]],\"sequentialminus\":[[0.0,\"#0d0887\"],[0.1111111111111111,\"#46039f\"],[0.2222222222222222,\"#7201a8\"],[0.3333333333333333,\"#9c179e\"],[0.4444444444444444,\"#bd3786\"],[0.5555555555555556,\"#d8576b\"],[0.6666666666666666,\"#ed7953\"],[0.7777777777777778,\"#fb9f3a\"],[0.8888888888888888,\"#fdca26\"],[1.0,\"#f0f921\"]],\"diverging\":[[0,\"#8e0152\"],[0.1,\"#c51b7d\"],[0.2,\"#de77ae\"],[0.3,\"#f1b6da\"],[0.4,\"#fde0ef\"],[0.5,\"#f7f7f7\"],[0.6,\"#e6f5d0\"],[0.7,\"#b8e186\"],[0.8,\"#7fbc41\"],[0.9,\"#4d9221\"],[1,\"#276419\"]]},\"xaxis\":{\"gridcolor\":\"white\",\"linecolor\":\"white\",\"ticks\":\"\",\"title\":{\"standoff\":15},\"zerolinecolor\":\"white\",\"automargin\":true,\"zerolinewidth\":2},\"yaxis\":{\"gridcolor\":\"white\",\"linecolor\":\"white\",\"ticks\":\"\",\"title\":{\"standoff\":15},\"zerolinecolor\":\"white\",\"automargin\":true,\"zerolinewidth\":2},\"scene\":{\"xaxis\":{\"backgroundcolor\":\"#E5ECF6\",\"gridcolor\":\"white\",\"linecolor\":\"white\",\"showbackground\":true,\"ticks\":\"\",\"zerolinecolor\":\"white\",\"gridwidth\":2},\"yaxis\":{\"backgroundcolor\":\"#E5ECF6\",\"gridcolor\":\"white\",\"linecolor\":\"white\",\"showbackground\":true,\"ticks\":\"\",\"zerolinecolor\":\"white\",\"gridwidth\":2},\"zaxis\":{\"backgroundcolor\":\"#E5ECF6\",\"gridcolor\":\"white\",\"linecolor\":\"white\",\"showbackground\":true,\"ticks\":\"\",\"zerolinecolor\":\"white\",\"gridwidth\":2}},\"shapedefaults\":{\"line\":{\"color\":\"#2a3f5f\"}},\"annotationdefaults\":{\"arrowcolor\":\"#2a3f5f\",\"arrowhead\":0,\"arrowwidth\":1},\"geo\":{\"bgcolor\":\"white\",\"landcolor\":\"#E5ECF6\",\"subunitcolor\":\"white\",\"showland\":true,\"showlakes\":true,\"lakecolor\":\"white\"},\"title\":{\"x\":0.05},\"mapbox\":{\"style\":\"light\"}}},\"xaxis\":{\"anchor\":\"y\",\"domain\":[0.0,1.0],\"title\":{\"text\":\"index\"}},\"yaxis\":{\"anchor\":\"x\",\"domain\":[0.0,1.0],\"title\":{\"text\":\"value\"}},\"legend\":{\"title\":{\"text\":\"variable\"},\"tracegroupgap\":0},\"margin\":{\"t\":60},\"barmode\":\"relative\"},                        {\"responsive\": true}                    ).then(function(){\n",
       "                            \n",
       "var gd = document.getElementById('f601d41e-52f5-4d63-b0e0-244ce5e03d49');\n",
       "var x = new MutationObserver(function (mutations, observer) {{\n",
       "        var display = window.getComputedStyle(gd).display;\n",
       "        if (!display || display === 'none') {{\n",
       "            console.log([gd, 'removed!']);\n",
       "            Plotly.purge(gd);\n",
       "            observer.disconnect();\n",
       "        }}\n",
       "}});\n",
       "\n",
       "// Listen for the removal of the full notebook cells\n",
       "var notebookContainer = gd.closest('#notebook-container');\n",
       "if (notebookContainer) {{\n",
       "    x.observe(notebookContainer, {childList: true});\n",
       "}}\n",
       "\n",
       "// Listen for the clearing of the current output cell\n",
       "var outputEl = gd.closest('.output');\n",
       "if (outputEl) {{\n",
       "    x.observe(outputEl, {childList: true});\n",
       "}}\n",
       "\n",
       "                        })                };                });            </script>        </div>"
      ]
     },
     "metadata": {},
     "output_type": "display_data"
    }
   ],
   "source": [
    "import plotly.express as px\n",
    "\n",
    "encoder_weights = autoencoder.encoder.Linear.weight.T.detach().cpu()\n",
    "print(encoder_weights.shape)\n",
    "centred_encoder_weights = encoder_weights - encoder_weights.mean(dim=0)\n",
    "px.bar(encoder_weights.norm(dim=0))"
   ]
  },
  {
   "cell_type": "code",
   "execution_count": 258,
   "metadata": {},
   "outputs": [],
   "source": [
    "# # get a cosine similarity matrix\n",
    "import torch.nn.functional as F\n",
    "from scipy.cluster import hierarchy\n",
    "import numpy as np\n",
    "import pandas as pd\n",
    "\n",
    "\n",
    "def get_cosine_sim_heatmap(centred_weights):\n",
    "    data_array = F.cosine_similarity(\n",
    "        centred_weights.T.unsqueeze(1), centred_weights.T.unsqueeze(0), dim=2\n",
    "    )\n",
    "    df = pd.DataFrame(data_array.numpy())\n",
    "\n",
    "    linkage = hierarchy.linkage(data_array)\n",
    "    dendrogram = hierarchy.dendrogram(linkage, no_plot=True, color_threshold=-np.inf)\n",
    "    reordered_ind = dendrogram[\"leaves\"]\n",
    "    # reorder df by ind\n",
    "    df = df.iloc[reordered_ind, reordered_ind]\n",
    "    data_array = df.to_numpy()\n",
    "    fig = px.imshow(\n",
    "        data_array, color_continuous_scale=\"RdBu\", color_continuous_midpoint=0\n",
    "    )\n",
    "    return fig\n",
    "\n",
    "\n",
    "# fig = get_cosine_sim_heatmap(centred_weights)\n",
    "# fig.show()\n",
    "# fig.write_html(\"cosine_sim.html\")"
   ]
  },
  {
   "cell_type": "code",
   "execution_count": 197,
   "metadata": {},
   "outputs": [],
   "source": [
    "decoder_weights = autoencoder.decoder[0].weight.detach().cpu()\n",
    "decoder_weights.shape\n",
    "\n",
    "centred_decoder_weights = decoder_weights - decoder_weights.mean(dim=0)\n",
    "# px.bar(decoder_weights.norm(dim=0))"
   ]
  },
  {
   "cell_type": "code",
   "execution_count": null,
   "metadata": {},
   "outputs": [],
   "source": [
    "# fig = get_cosine_sim_heatmap(centred_weights)\n",
    "# fig.show()"
   ]
  },
  {
   "cell_type": "markdown",
   "metadata": {},
   "source": [
    "# Look at token intersection with encoder weights"
   ]
  },
  {
   "cell_type": "code",
   "execution_count": 53,
   "metadata": {},
   "outputs": [
    {
     "data": {
      "text/plain": [
       "torch.Size([512, 50257])"
      ]
     },
     "execution_count": 53,
     "metadata": {},
     "output_type": "execute_result"
    }
   ],
   "source": [
    "centred_embedding = src_model.W_E.cpu() - src_model.W_E.cpu().mean(dim=0)\n",
    "centred_embedding = centred_embedding / centred_embedding.norm(dim=1).unsqueeze(1)\n",
    "token_alignment = centred_embedding @ encoder_weights.cpu()\n",
    "token_alignment = token_alignment.T.detach()\n",
    "token_alignment.shape"
   ]
  },
  {
   "cell_type": "code",
   "execution_count": 52,
   "metadata": {},
   "outputs": [
    {
     "data": {
      "text/plain": [
       "tensor([0.6388, 0.7038, 0.5022,  ..., 0.3607, 0.6348, 0.6243], device='cuda:0',\n",
       "       grad_fn=<LinalgVectorNormBackward0>)"
      ]
     },
     "execution_count": 52,
     "metadata": {},
     "output_type": "execute_result"
    }
   ],
   "source": [
    "src_model.W_E.norm(dim=1)"
   ]
  },
  {
   "cell_type": "code",
   "execution_count": 76,
   "metadata": {},
   "outputs": [
    {
     "data": {
      "text/plain": [
       "9246"
      ]
     },
     "execution_count": 76,
     "metadata": {},
     "output_type": "execute_result"
    }
   ],
   "source": [
    "# token\n",
    "\n",
    "tokenizer.vocab[\"cat\"]"
   ]
  },
  {
   "cell_type": "code",
   "execution_count": null,
   "metadata": {},
   "outputs": [],
   "source": [
    "# px.bar(token_alignment.norm(dim=1))\n",
    "\n",
    "\n",
    "token_strings = tokenizer.convert_ids_to_tokens(list(tokenizer.vocab.values()))\n",
    "# sort the strings by the keys in tokenizer vocab\n",
    "token_strings = [x for _, x in sorted(zip(tokenizer.vocab.keys(), token_strings))]\n",
    "[i for i in token_strings if \"cat\" in i]"
   ]
  },
  {
   "cell_type": "code",
   "execution_count": 86,
   "metadata": {},
   "outputs": [
    {
     "data": {
      "text/html": [
       "<div>\n",
       "<style scoped>\n",
       "    .dataframe tbody tr th:only-of-type {\n",
       "        vertical-align: middle;\n",
       "    }\n",
       "\n",
       "    .dataframe tbody tr th {\n",
       "        vertical-align: top;\n",
       "    }\n",
       "\n",
       "    .dataframe thead th {\n",
       "        text-align: right;\n",
       "    }\n",
       "</style>\n",
       "<table border=\"1\" class=\"dataframe\">\n",
       "  <thead>\n",
       "    <tr style=\"text-align: right;\">\n",
       "      <th></th>\n",
       "      <th>token</th>\n",
       "      <th>projection</th>\n",
       "    </tr>\n",
       "  </thead>\n",
       "  <tbody>\n",
       "    <tr>\n",
       "      <th>32435</th>\n",
       "      <td>Ġbrains</td>\n",
       "      <td>0.242673</td>\n",
       "    </tr>\n",
       "    <tr>\n",
       "      <th>28163</th>\n",
       "      <td>ĠSites</td>\n",
       "      <td>0.242108</td>\n",
       "    </tr>\n",
       "    <tr>\n",
       "      <th>30252</th>\n",
       "      <td>ĠZe</td>\n",
       "      <td>0.233666</td>\n",
       "    </tr>\n",
       "    <tr>\n",
       "      <th>22025</th>\n",
       "      <td>ĠForbes</td>\n",
       "      <td>0.232709</td>\n",
       "    </tr>\n",
       "    <tr>\n",
       "      <th>11335</th>\n",
       "      <td>izing</td>\n",
       "      <td>0.229393</td>\n",
       "    </tr>\n",
       "    <tr>\n",
       "      <th>8108</th>\n",
       "      <td>compatible</td>\n",
       "      <td>0.228056</td>\n",
       "    </tr>\n",
       "    <tr>\n",
       "      <th>6234</th>\n",
       "      <td>age</td>\n",
       "      <td>0.220957</td>\n",
       "    </tr>\n",
       "    <tr>\n",
       "      <th>27623</th>\n",
       "      <td>ĠSV</td>\n",
       "      <td>0.219029</td>\n",
       "    </tr>\n",
       "    <tr>\n",
       "      <th>17579</th>\n",
       "      <td>Ġ269</td>\n",
       "      <td>0.217539</td>\n",
       "    </tr>\n",
       "    <tr>\n",
       "      <th>855</th>\n",
       "      <td>409</td>\n",
       "      <td>0.213913</td>\n",
       "    </tr>\n",
       "  </tbody>\n",
       "</table>\n",
       "</div>"
      ],
      "text/plain": [
       "            token  projection\n",
       "32435     Ġbrains    0.242673\n",
       "28163      ĠSites    0.242108\n",
       "30252         ĠZe    0.233666\n",
       "22025     ĠForbes    0.232709\n",
       "11335       izing    0.229393\n",
       "8108   compatible    0.228056\n",
       "6234          age    0.220957\n",
       "27623         ĠSV    0.219029\n",
       "17579        Ġ269    0.217539\n",
       "855           409    0.213913"
      ]
     },
     "execution_count": 86,
     "metadata": {},
     "output_type": "execute_result"
    }
   ],
   "source": [
    "import pandas as pd \n",
    "df = pd.DataFrame(\n",
    "    {\n",
    "        \"token\": token_strings,\n",
    "        \"projection\": token_alignment[196],\n",
    "    }\n",
    ")\n",
    "df.sort_values(\"projection\", ascending=False).head(10)"
   ]
  },
  {
   "cell_type": "markdown",
   "metadata": {},
   "source": [
    "## Analysis: Try to interpret a feature\n",
    "\n"
   ]
  },
  {
   "cell_type": "code",
   "execution_count": 199,
   "metadata": {},
   "outputs": [],
   "source": [
    "src_model.reset_hooks()"
   ]
  },
  {
   "cell_type": "code",
   "execution_count": 248,
   "metadata": {},
   "outputs": [
    {
     "name": "stdout",
     "output_type": "stream",
     "text": [
      "  Prompt  Activation  Index\n",
      "0    cat    0.350422    499\n",
      "1    cat    0.278190    464\n",
      "2    cat    0.212369    153\n",
      "3    cat    0.128653    185\n",
      "4    cat    0.127985    212\n",
      "5    cat    0.101748    335\n",
      "6    cat    0.093093    381\n",
      "7    cat    0.067556    415\n",
      "8    cat    0.052384     53\n",
      "9    cat    0.022608    306\n"
     ]
    }
   ],
   "source": [
    "# let's run a forward pass and look at the autoencoder\n",
    "\n",
    "# example_prompt = \"\"\"\n",
    "# Once upon a time, there lived a black cat. The cat belonged to a little girl called Katie. Every day, Katie\n",
    "# would take her cat for a walk in the park.\n",
    "# One day, as Katie and her cat were walking around, they saw a mean looking man. He said he wanted to\n",
    "# take the cat, to which she replied ”This cat belongs to\n",
    "# \"\"\"\n",
    "\n",
    "example_prompts = [\n",
    "    \" cat\", \" kitten\", \" cats\", \" dog\",  \" dogs\",  \" puppy\", \" man\", \" boy\", \n",
    "    \" girl\", \" woman\", \" grandma\", \" grandpa\", \" aunt\", \" uncle\",\n",
    "    \" old\", \" young\", \" male\", \" female\"\n",
    "    # \"bear\", \"cloud\", \"dragon\", \"frog\", \"grape\", \"house\", \"island\", \"jungle\",\n",
    "    # \"kangaroo\", \"leaf\", \"mushroom\", \"night\", \"ocean\", \"panda\", \"quilt\", \"rainbow\",\n",
    "    # \"star\", \"turtle\", \"unicorn\", \"volcano\", \"wolf\", \"fox\", \"yarn\", \"zeppelin\"\n",
    "]\n",
    "\n",
    "\n",
    "# Prepare a list to collect the data\n",
    "data = []\n",
    "\n",
    "for prompt in example_prompts:\n",
    "    tokens = src_model.to_tokens(prompt)\n",
    "\n",
    "    logits, cache = src_model.run_with_cache(tokens)\n",
    "    activations = cache[src_model_activation_hook_point]\n",
    "\n",
    "    autoencoder.eval()\n",
    "    learned_activations, decoded_activations = autoencoder(activations.cpu())\n",
    "\n",
    "    topk = 10\n",
    "    topk_activations, topk_indices = torch.topk(learned_activations[0,-1], topk)\n",
    "\n",
    "    # Collect data in the list\n",
    "    for activation, index in zip(topk_activations, topk_indices):\n",
    "        data.append({\n",
    "            \"Prompt\": prompt,\n",
    "            \"Activation\": activation.item(),\n",
    "            \"Index\": index.item()\n",
    "        })\n",
    "\n",
    "# Create DataFrame from the collected data\n",
    "results_df = pd.DataFrame(data)\n",
    "\n",
    "# Display the DataFrame\n",
    "print(results_df[results_df.Prompt == \" cat\"])\n",
    "\n",
    "# ok let's see if we can work out what 311 is doing. \n",
    "\n",
    "# df = pd.DataFrame(\n",
    "#     {\n",
    "#         \"token\": token_strings,\n",
    "#         \"projection\": token_alignment[311],\n",
    "#     }\n",
    "# )\n",
    "# df.sort_values(\"projection\", ascending=False).head(40)"
   ]
  },
  {
   "cell_type": "markdown",
   "metadata": {},
   "source": []
  },
  {
   "cell_type": "code",
   "execution_count": 249,
   "metadata": {},
   "outputs": [
    {
     "data": {
      "text/html": [
       "<div>\n",
       "<style scoped>\n",
       "    .dataframe tbody tr th:only-of-type {\n",
       "        vertical-align: middle;\n",
       "    }\n",
       "\n",
       "    .dataframe tbody tr th {\n",
       "        vertical-align: top;\n",
       "    }\n",
       "\n",
       "    .dataframe thead th {\n",
       "        text-align: right;\n",
       "    }\n",
       "</style>\n",
       "<table border=\"1\" class=\"dataframe\">\n",
       "  <thead>\n",
       "    <tr style=\"text-align: right;\">\n",
       "      <th></th>\n",
       "      <th>Prompt</th>\n",
       "      <th>Activation</th>\n",
       "      <th>Index</th>\n",
       "    </tr>\n",
       "  </thead>\n",
       "  <tbody>\n",
       "  </tbody>\n",
       "</table>\n",
       "</div>"
      ],
      "text/plain": [
       "Empty DataFrame\n",
       "Columns: [Prompt, Activation, Index]\n",
       "Index: []"
      ]
     },
     "execution_count": 249,
     "metadata": {},
     "output_type": "execute_result"
    }
   ],
   "source": [
    "results_df[results_df.Index == 196].sort_values(\"Activation\", ascending=False).head(10)"
   ]
  },
  {
   "cell_type": "code",
   "execution_count": 250,
   "metadata": {},
   "outputs": [],
   "source": [
    "wide_df = results_df.pivot_table(index='Prompt', columns='Index', values='Activation', fill_value=0).T\n",
    "# wide_df.reset_index(inplace=True)\n",
    "\n",
    "# fig = px.scatter(wide_df, x=\" dog\", y=\" puppy\", hover_name=wide_df.index, text=wide_df.index)\n",
    "# fig.show()\n",
    "\n",
    "# fig = px.scatter(wide_df, x=\" cat\", y=\" kitten\", hover_name=wide_df.index, text=wide_df.index)\n",
    "# fig.show()\n",
    "\n",
    "# fig = px.scatter(wide_df, x=\" man\", y=\" boy\", hover_name=wide_df.index, text=wide_df.index)\n",
    "# fig.show()"
   ]
  },
  {
   "cell_type": "code",
   "execution_count": 251,
   "metadata": {},
   "outputs": [
    {
     "data": {
      "application/vnd.plotly.v1+json": {
       "config": {
        "plotlyServerURL": "https://plot.ly"
       },
       "data": [
        {
         "hovertemplate": "<b>%{hovertext}</b><br><br> girl=%{x}<br> boy=%{y}<br>Index=%{text}<extra></extra>",
         "hovertext": [
          5,
          30,
          36,
          39,
          53,
          58,
          65,
          82,
          105,
          130,
          134,
          153,
          166,
          170,
          171,
          184,
          185,
          188,
          189,
          212,
          220,
          222,
          223,
          227,
          241,
          243,
          249,
          268,
          277,
          284,
          289,
          296,
          306,
          317,
          324,
          327,
          335,
          339,
          359,
          381,
          383,
          402,
          403,
          415,
          430,
          442,
          464,
          472,
          473,
          482,
          499,
          507
         ],
         "legendgroup": "",
         "marker": {
          "color": "#636efa",
          "symbol": "circle"
         },
         "mode": "markers+text",
         "name": "",
         "orientation": "v",
         "showlegend": false,
         "text": [
          5,
          30,
          36,
          39,
          53,
          58,
          65,
          82,
          105,
          130,
          134,
          153,
          166,
          170,
          171,
          184,
          185,
          188,
          189,
          212,
          220,
          222,
          223,
          227,
          241,
          243,
          249,
          268,
          277,
          284,
          289,
          296,
          306,
          317,
          324,
          327,
          335,
          339,
          359,
          381,
          383,
          402,
          403,
          415,
          430,
          442,
          464,
          472,
          473,
          482,
          499,
          507
         ],
         "type": "scatter",
         "x": [
          0,
          0,
          0.06505705416202545,
          0.04483698308467865,
          0,
          0,
          0,
          0,
          0,
          0,
          0,
          0,
          0,
          0.12156346440315247,
          0,
          0.0489589124917984,
          0,
          0,
          0,
          0.06067947670817375,
          0,
          0,
          0,
          0,
          0,
          0.25264182686805725,
          0,
          0,
          0,
          0.13622266054153442,
          0,
          0,
          0,
          0,
          0,
          0,
          0,
          0,
          0,
          0,
          0,
          0,
          0,
          0,
          0,
          0,
          0.3093792498111725,
          0,
          0.1656292974948883,
          0,
          0.43639057874679565,
          0
         ],
         "xaxis": "x",
         "y": [
          0,
          0,
          0,
          0.09223811328411102,
          0.08940689265727997,
          0,
          0,
          0,
          0,
          0,
          0,
          0.05978041887283325,
          0,
          0.10433498024940491,
          0,
          0,
          0,
          0,
          0,
          0.07346619665622711,
          0,
          0,
          0,
          0,
          0,
          0.22014564275741577,
          0,
          0.22065530717372894,
          0,
          0,
          0,
          0,
          0,
          0,
          0,
          0,
          0,
          0,
          0,
          0,
          0,
          0,
          0,
          0,
          0,
          0,
          0.32223233580589294,
          0,
          0.13761809468269348,
          0,
          0.4193722605705261,
          0
         ],
         "yaxis": "y"
        }
       ],
       "layout": {
        "legend": {
         "tracegroupgap": 0
        },
        "margin": {
         "t": 60
        },
        "template": {
         "data": {
          "bar": [
           {
            "error_x": {
             "color": "#2a3f5f"
            },
            "error_y": {
             "color": "#2a3f5f"
            },
            "marker": {
             "line": {
              "color": "#E5ECF6",
              "width": 0.5
             },
             "pattern": {
              "fillmode": "overlay",
              "size": 10,
              "solidity": 0.2
             }
            },
            "type": "bar"
           }
          ],
          "barpolar": [
           {
            "marker": {
             "line": {
              "color": "#E5ECF6",
              "width": 0.5
             },
             "pattern": {
              "fillmode": "overlay",
              "size": 10,
              "solidity": 0.2
             }
            },
            "type": "barpolar"
           }
          ],
          "carpet": [
           {
            "aaxis": {
             "endlinecolor": "#2a3f5f",
             "gridcolor": "white",
             "linecolor": "white",
             "minorgridcolor": "white",
             "startlinecolor": "#2a3f5f"
            },
            "baxis": {
             "endlinecolor": "#2a3f5f",
             "gridcolor": "white",
             "linecolor": "white",
             "minorgridcolor": "white",
             "startlinecolor": "#2a3f5f"
            },
            "type": "carpet"
           }
          ],
          "choropleth": [
           {
            "colorbar": {
             "outlinewidth": 0,
             "ticks": ""
            },
            "type": "choropleth"
           }
          ],
          "contour": [
           {
            "colorbar": {
             "outlinewidth": 0,
             "ticks": ""
            },
            "colorscale": [
             [
              0,
              "#0d0887"
             ],
             [
              0.1111111111111111,
              "#46039f"
             ],
             [
              0.2222222222222222,
              "#7201a8"
             ],
             [
              0.3333333333333333,
              "#9c179e"
             ],
             [
              0.4444444444444444,
              "#bd3786"
             ],
             [
              0.5555555555555556,
              "#d8576b"
             ],
             [
              0.6666666666666666,
              "#ed7953"
             ],
             [
              0.7777777777777778,
              "#fb9f3a"
             ],
             [
              0.8888888888888888,
              "#fdca26"
             ],
             [
              1,
              "#f0f921"
             ]
            ],
            "type": "contour"
           }
          ],
          "contourcarpet": [
           {
            "colorbar": {
             "outlinewidth": 0,
             "ticks": ""
            },
            "type": "contourcarpet"
           }
          ],
          "heatmap": [
           {
            "colorbar": {
             "outlinewidth": 0,
             "ticks": ""
            },
            "colorscale": [
             [
              0,
              "#0d0887"
             ],
             [
              0.1111111111111111,
              "#46039f"
             ],
             [
              0.2222222222222222,
              "#7201a8"
             ],
             [
              0.3333333333333333,
              "#9c179e"
             ],
             [
              0.4444444444444444,
              "#bd3786"
             ],
             [
              0.5555555555555556,
              "#d8576b"
             ],
             [
              0.6666666666666666,
              "#ed7953"
             ],
             [
              0.7777777777777778,
              "#fb9f3a"
             ],
             [
              0.8888888888888888,
              "#fdca26"
             ],
             [
              1,
              "#f0f921"
             ]
            ],
            "type": "heatmap"
           }
          ],
          "heatmapgl": [
           {
            "colorbar": {
             "outlinewidth": 0,
             "ticks": ""
            },
            "colorscale": [
             [
              0,
              "#0d0887"
             ],
             [
              0.1111111111111111,
              "#46039f"
             ],
             [
              0.2222222222222222,
              "#7201a8"
             ],
             [
              0.3333333333333333,
              "#9c179e"
             ],
             [
              0.4444444444444444,
              "#bd3786"
             ],
             [
              0.5555555555555556,
              "#d8576b"
             ],
             [
              0.6666666666666666,
              "#ed7953"
             ],
             [
              0.7777777777777778,
              "#fb9f3a"
             ],
             [
              0.8888888888888888,
              "#fdca26"
             ],
             [
              1,
              "#f0f921"
             ]
            ],
            "type": "heatmapgl"
           }
          ],
          "histogram": [
           {
            "marker": {
             "pattern": {
              "fillmode": "overlay",
              "size": 10,
              "solidity": 0.2
             }
            },
            "type": "histogram"
           }
          ],
          "histogram2d": [
           {
            "colorbar": {
             "outlinewidth": 0,
             "ticks": ""
            },
            "colorscale": [
             [
              0,
              "#0d0887"
             ],
             [
              0.1111111111111111,
              "#46039f"
             ],
             [
              0.2222222222222222,
              "#7201a8"
             ],
             [
              0.3333333333333333,
              "#9c179e"
             ],
             [
              0.4444444444444444,
              "#bd3786"
             ],
             [
              0.5555555555555556,
              "#d8576b"
             ],
             [
              0.6666666666666666,
              "#ed7953"
             ],
             [
              0.7777777777777778,
              "#fb9f3a"
             ],
             [
              0.8888888888888888,
              "#fdca26"
             ],
             [
              1,
              "#f0f921"
             ]
            ],
            "type": "histogram2d"
           }
          ],
          "histogram2dcontour": [
           {
            "colorbar": {
             "outlinewidth": 0,
             "ticks": ""
            },
            "colorscale": [
             [
              0,
              "#0d0887"
             ],
             [
              0.1111111111111111,
              "#46039f"
             ],
             [
              0.2222222222222222,
              "#7201a8"
             ],
             [
              0.3333333333333333,
              "#9c179e"
             ],
             [
              0.4444444444444444,
              "#bd3786"
             ],
             [
              0.5555555555555556,
              "#d8576b"
             ],
             [
              0.6666666666666666,
              "#ed7953"
             ],
             [
              0.7777777777777778,
              "#fb9f3a"
             ],
             [
              0.8888888888888888,
              "#fdca26"
             ],
             [
              1,
              "#f0f921"
             ]
            ],
            "type": "histogram2dcontour"
           }
          ],
          "mesh3d": [
           {
            "colorbar": {
             "outlinewidth": 0,
             "ticks": ""
            },
            "type": "mesh3d"
           }
          ],
          "parcoords": [
           {
            "line": {
             "colorbar": {
              "outlinewidth": 0,
              "ticks": ""
             }
            },
            "type": "parcoords"
           }
          ],
          "pie": [
           {
            "automargin": true,
            "type": "pie"
           }
          ],
          "scatter": [
           {
            "fillpattern": {
             "fillmode": "overlay",
             "size": 10,
             "solidity": 0.2
            },
            "type": "scatter"
           }
          ],
          "scatter3d": [
           {
            "line": {
             "colorbar": {
              "outlinewidth": 0,
              "ticks": ""
             }
            },
            "marker": {
             "colorbar": {
              "outlinewidth": 0,
              "ticks": ""
             }
            },
            "type": "scatter3d"
           }
          ],
          "scattercarpet": [
           {
            "marker": {
             "colorbar": {
              "outlinewidth": 0,
              "ticks": ""
             }
            },
            "type": "scattercarpet"
           }
          ],
          "scattergeo": [
           {
            "marker": {
             "colorbar": {
              "outlinewidth": 0,
              "ticks": ""
             }
            },
            "type": "scattergeo"
           }
          ],
          "scattergl": [
           {
            "marker": {
             "colorbar": {
              "outlinewidth": 0,
              "ticks": ""
             }
            },
            "type": "scattergl"
           }
          ],
          "scattermapbox": [
           {
            "marker": {
             "colorbar": {
              "outlinewidth": 0,
              "ticks": ""
             }
            },
            "type": "scattermapbox"
           }
          ],
          "scatterpolar": [
           {
            "marker": {
             "colorbar": {
              "outlinewidth": 0,
              "ticks": ""
             }
            },
            "type": "scatterpolar"
           }
          ],
          "scatterpolargl": [
           {
            "marker": {
             "colorbar": {
              "outlinewidth": 0,
              "ticks": ""
             }
            },
            "type": "scatterpolargl"
           }
          ],
          "scatterternary": [
           {
            "marker": {
             "colorbar": {
              "outlinewidth": 0,
              "ticks": ""
             }
            },
            "type": "scatterternary"
           }
          ],
          "surface": [
           {
            "colorbar": {
             "outlinewidth": 0,
             "ticks": ""
            },
            "colorscale": [
             [
              0,
              "#0d0887"
             ],
             [
              0.1111111111111111,
              "#46039f"
             ],
             [
              0.2222222222222222,
              "#7201a8"
             ],
             [
              0.3333333333333333,
              "#9c179e"
             ],
             [
              0.4444444444444444,
              "#bd3786"
             ],
             [
              0.5555555555555556,
              "#d8576b"
             ],
             [
              0.6666666666666666,
              "#ed7953"
             ],
             [
              0.7777777777777778,
              "#fb9f3a"
             ],
             [
              0.8888888888888888,
              "#fdca26"
             ],
             [
              1,
              "#f0f921"
             ]
            ],
            "type": "surface"
           }
          ],
          "table": [
           {
            "cells": {
             "fill": {
              "color": "#EBF0F8"
             },
             "line": {
              "color": "white"
             }
            },
            "header": {
             "fill": {
              "color": "#C8D4E3"
             },
             "line": {
              "color": "white"
             }
            },
            "type": "table"
           }
          ]
         },
         "layout": {
          "annotationdefaults": {
           "arrowcolor": "#2a3f5f",
           "arrowhead": 0,
           "arrowwidth": 1
          },
          "autotypenumbers": "strict",
          "coloraxis": {
           "colorbar": {
            "outlinewidth": 0,
            "ticks": ""
           }
          },
          "colorscale": {
           "diverging": [
            [
             0,
             "#8e0152"
            ],
            [
             0.1,
             "#c51b7d"
            ],
            [
             0.2,
             "#de77ae"
            ],
            [
             0.3,
             "#f1b6da"
            ],
            [
             0.4,
             "#fde0ef"
            ],
            [
             0.5,
             "#f7f7f7"
            ],
            [
             0.6,
             "#e6f5d0"
            ],
            [
             0.7,
             "#b8e186"
            ],
            [
             0.8,
             "#7fbc41"
            ],
            [
             0.9,
             "#4d9221"
            ],
            [
             1,
             "#276419"
            ]
           ],
           "sequential": [
            [
             0,
             "#0d0887"
            ],
            [
             0.1111111111111111,
             "#46039f"
            ],
            [
             0.2222222222222222,
             "#7201a8"
            ],
            [
             0.3333333333333333,
             "#9c179e"
            ],
            [
             0.4444444444444444,
             "#bd3786"
            ],
            [
             0.5555555555555556,
             "#d8576b"
            ],
            [
             0.6666666666666666,
             "#ed7953"
            ],
            [
             0.7777777777777778,
             "#fb9f3a"
            ],
            [
             0.8888888888888888,
             "#fdca26"
            ],
            [
             1,
             "#f0f921"
            ]
           ],
           "sequentialminus": [
            [
             0,
             "#0d0887"
            ],
            [
             0.1111111111111111,
             "#46039f"
            ],
            [
             0.2222222222222222,
             "#7201a8"
            ],
            [
             0.3333333333333333,
             "#9c179e"
            ],
            [
             0.4444444444444444,
             "#bd3786"
            ],
            [
             0.5555555555555556,
             "#d8576b"
            ],
            [
             0.6666666666666666,
             "#ed7953"
            ],
            [
             0.7777777777777778,
             "#fb9f3a"
            ],
            [
             0.8888888888888888,
             "#fdca26"
            ],
            [
             1,
             "#f0f921"
            ]
           ]
          },
          "colorway": [
           "#636efa",
           "#EF553B",
           "#00cc96",
           "#ab63fa",
           "#FFA15A",
           "#19d3f3",
           "#FF6692",
           "#B6E880",
           "#FF97FF",
           "#FECB52"
          ],
          "font": {
           "color": "#2a3f5f"
          },
          "geo": {
           "bgcolor": "white",
           "lakecolor": "white",
           "landcolor": "#E5ECF6",
           "showlakes": true,
           "showland": true,
           "subunitcolor": "white"
          },
          "hoverlabel": {
           "align": "left"
          },
          "hovermode": "closest",
          "mapbox": {
           "style": "light"
          },
          "paper_bgcolor": "white",
          "plot_bgcolor": "#E5ECF6",
          "polar": {
           "angularaxis": {
            "gridcolor": "white",
            "linecolor": "white",
            "ticks": ""
           },
           "bgcolor": "#E5ECF6",
           "radialaxis": {
            "gridcolor": "white",
            "linecolor": "white",
            "ticks": ""
           }
          },
          "scene": {
           "xaxis": {
            "backgroundcolor": "#E5ECF6",
            "gridcolor": "white",
            "gridwidth": 2,
            "linecolor": "white",
            "showbackground": true,
            "ticks": "",
            "zerolinecolor": "white"
           },
           "yaxis": {
            "backgroundcolor": "#E5ECF6",
            "gridcolor": "white",
            "gridwidth": 2,
            "linecolor": "white",
            "showbackground": true,
            "ticks": "",
            "zerolinecolor": "white"
           },
           "zaxis": {
            "backgroundcolor": "#E5ECF6",
            "gridcolor": "white",
            "gridwidth": 2,
            "linecolor": "white",
            "showbackground": true,
            "ticks": "",
            "zerolinecolor": "white"
           }
          },
          "shapedefaults": {
           "line": {
            "color": "#2a3f5f"
           }
          },
          "ternary": {
           "aaxis": {
            "gridcolor": "white",
            "linecolor": "white",
            "ticks": ""
           },
           "baxis": {
            "gridcolor": "white",
            "linecolor": "white",
            "ticks": ""
           },
           "bgcolor": "#E5ECF6",
           "caxis": {
            "gridcolor": "white",
            "linecolor": "white",
            "ticks": ""
           }
          },
          "title": {
           "x": 0.05
          },
          "xaxis": {
           "automargin": true,
           "gridcolor": "white",
           "linecolor": "white",
           "ticks": "",
           "title": {
            "standoff": 15
           },
           "zerolinecolor": "white",
           "zerolinewidth": 2
          },
          "yaxis": {
           "automargin": true,
           "gridcolor": "white",
           "linecolor": "white",
           "ticks": "",
           "title": {
            "standoff": 15
           },
           "zerolinecolor": "white",
           "zerolinewidth": 2
          }
         }
        },
        "xaxis": {
         "anchor": "y",
         "domain": [
          0,
          1
         ],
         "title": {
          "text": " girl"
         }
        },
        "yaxis": {
         "anchor": "x",
         "domain": [
          0,
          1
         ],
         "title": {
          "text": " boy"
         }
        }
       }
      },
      "text/html": [
       "<div>                            <div id=\"501029c1-661c-4743-b156-5488797c28fb\" class=\"plotly-graph-div\" style=\"height:525px; width:100%;\"></div>            <script type=\"text/javascript\">                require([\"plotly\"], function(Plotly) {                    window.PLOTLYENV=window.PLOTLYENV || {};                                    if (document.getElementById(\"501029c1-661c-4743-b156-5488797c28fb\")) {                    Plotly.newPlot(                        \"501029c1-661c-4743-b156-5488797c28fb\",                        [{\"hovertemplate\":\"\\u003cb\\u003e%{hovertext}\\u003c\\u002fb\\u003e\\u003cbr\\u003e\\u003cbr\\u003e girl=%{x}\\u003cbr\\u003e boy=%{y}\\u003cbr\\u003eIndex=%{text}\\u003cextra\\u003e\\u003c\\u002fextra\\u003e\",\"hovertext\":[5.0,30.0,36.0,39.0,53.0,58.0,65.0,82.0,105.0,130.0,134.0,153.0,166.0,170.0,171.0,184.0,185.0,188.0,189.0,212.0,220.0,222.0,223.0,227.0,241.0,243.0,249.0,268.0,277.0,284.0,289.0,296.0,306.0,317.0,324.0,327.0,335.0,339.0,359.0,381.0,383.0,402.0,403.0,415.0,430.0,442.0,464.0,472.0,473.0,482.0,499.0,507.0],\"legendgroup\":\"\",\"marker\":{\"color\":\"#636efa\",\"symbol\":\"circle\"},\"mode\":\"markers+text\",\"name\":\"\",\"orientation\":\"v\",\"showlegend\":false,\"text\":[5.0,30.0,36.0,39.0,53.0,58.0,65.0,82.0,105.0,130.0,134.0,153.0,166.0,170.0,171.0,184.0,185.0,188.0,189.0,212.0,220.0,222.0,223.0,227.0,241.0,243.0,249.0,268.0,277.0,284.0,289.0,296.0,306.0,317.0,324.0,327.0,335.0,339.0,359.0,381.0,383.0,402.0,403.0,415.0,430.0,442.0,464.0,472.0,473.0,482.0,499.0,507.0],\"x\":[0.0,0.0,0.06505705416202545,0.04483698308467865,0.0,0.0,0.0,0.0,0.0,0.0,0.0,0.0,0.0,0.12156346440315247,0.0,0.0489589124917984,0.0,0.0,0.0,0.06067947670817375,0.0,0.0,0.0,0.0,0.0,0.25264182686805725,0.0,0.0,0.0,0.13622266054153442,0.0,0.0,0.0,0.0,0.0,0.0,0.0,0.0,0.0,0.0,0.0,0.0,0.0,0.0,0.0,0.0,0.3093792498111725,0.0,0.1656292974948883,0.0,0.43639057874679565,0.0],\"xaxis\":\"x\",\"y\":[0.0,0.0,0.0,0.09223811328411102,0.08940689265727997,0.0,0.0,0.0,0.0,0.0,0.0,0.05978041887283325,0.0,0.10433498024940491,0.0,0.0,0.0,0.0,0.0,0.07346619665622711,0.0,0.0,0.0,0.0,0.0,0.22014564275741577,0.0,0.22065530717372894,0.0,0.0,0.0,0.0,0.0,0.0,0.0,0.0,0.0,0.0,0.0,0.0,0.0,0.0,0.0,0.0,0.0,0.0,0.32223233580589294,0.0,0.13761809468269348,0.0,0.4193722605705261,0.0],\"yaxis\":\"y\",\"type\":\"scatter\"}],                        {\"template\":{\"data\":{\"histogram2dcontour\":[{\"type\":\"histogram2dcontour\",\"colorbar\":{\"outlinewidth\":0,\"ticks\":\"\"},\"colorscale\":[[0.0,\"#0d0887\"],[0.1111111111111111,\"#46039f\"],[0.2222222222222222,\"#7201a8\"],[0.3333333333333333,\"#9c179e\"],[0.4444444444444444,\"#bd3786\"],[0.5555555555555556,\"#d8576b\"],[0.6666666666666666,\"#ed7953\"],[0.7777777777777778,\"#fb9f3a\"],[0.8888888888888888,\"#fdca26\"],[1.0,\"#f0f921\"]]}],\"choropleth\":[{\"type\":\"choropleth\",\"colorbar\":{\"outlinewidth\":0,\"ticks\":\"\"}}],\"histogram2d\":[{\"type\":\"histogram2d\",\"colorbar\":{\"outlinewidth\":0,\"ticks\":\"\"},\"colorscale\":[[0.0,\"#0d0887\"],[0.1111111111111111,\"#46039f\"],[0.2222222222222222,\"#7201a8\"],[0.3333333333333333,\"#9c179e\"],[0.4444444444444444,\"#bd3786\"],[0.5555555555555556,\"#d8576b\"],[0.6666666666666666,\"#ed7953\"],[0.7777777777777778,\"#fb9f3a\"],[0.8888888888888888,\"#fdca26\"],[1.0,\"#f0f921\"]]}],\"heatmap\":[{\"type\":\"heatmap\",\"colorbar\":{\"outlinewidth\":0,\"ticks\":\"\"},\"colorscale\":[[0.0,\"#0d0887\"],[0.1111111111111111,\"#46039f\"],[0.2222222222222222,\"#7201a8\"],[0.3333333333333333,\"#9c179e\"],[0.4444444444444444,\"#bd3786\"],[0.5555555555555556,\"#d8576b\"],[0.6666666666666666,\"#ed7953\"],[0.7777777777777778,\"#fb9f3a\"],[0.8888888888888888,\"#fdca26\"],[1.0,\"#f0f921\"]]}],\"heatmapgl\":[{\"type\":\"heatmapgl\",\"colorbar\":{\"outlinewidth\":0,\"ticks\":\"\"},\"colorscale\":[[0.0,\"#0d0887\"],[0.1111111111111111,\"#46039f\"],[0.2222222222222222,\"#7201a8\"],[0.3333333333333333,\"#9c179e\"],[0.4444444444444444,\"#bd3786\"],[0.5555555555555556,\"#d8576b\"],[0.6666666666666666,\"#ed7953\"],[0.7777777777777778,\"#fb9f3a\"],[0.8888888888888888,\"#fdca26\"],[1.0,\"#f0f921\"]]}],\"contourcarpet\":[{\"type\":\"contourcarpet\",\"colorbar\":{\"outlinewidth\":0,\"ticks\":\"\"}}],\"contour\":[{\"type\":\"contour\",\"colorbar\":{\"outlinewidth\":0,\"ticks\":\"\"},\"colorscale\":[[0.0,\"#0d0887\"],[0.1111111111111111,\"#46039f\"],[0.2222222222222222,\"#7201a8\"],[0.3333333333333333,\"#9c179e\"],[0.4444444444444444,\"#bd3786\"],[0.5555555555555556,\"#d8576b\"],[0.6666666666666666,\"#ed7953\"],[0.7777777777777778,\"#fb9f3a\"],[0.8888888888888888,\"#fdca26\"],[1.0,\"#f0f921\"]]}],\"surface\":[{\"type\":\"surface\",\"colorbar\":{\"outlinewidth\":0,\"ticks\":\"\"},\"colorscale\":[[0.0,\"#0d0887\"],[0.1111111111111111,\"#46039f\"],[0.2222222222222222,\"#7201a8\"],[0.3333333333333333,\"#9c179e\"],[0.4444444444444444,\"#bd3786\"],[0.5555555555555556,\"#d8576b\"],[0.6666666666666666,\"#ed7953\"],[0.7777777777777778,\"#fb9f3a\"],[0.8888888888888888,\"#fdca26\"],[1.0,\"#f0f921\"]]}],\"mesh3d\":[{\"type\":\"mesh3d\",\"colorbar\":{\"outlinewidth\":0,\"ticks\":\"\"}}],\"scatter\":[{\"fillpattern\":{\"fillmode\":\"overlay\",\"size\":10,\"solidity\":0.2},\"type\":\"scatter\"}],\"parcoords\":[{\"type\":\"parcoords\",\"line\":{\"colorbar\":{\"outlinewidth\":0,\"ticks\":\"\"}}}],\"scatterpolargl\":[{\"type\":\"scatterpolargl\",\"marker\":{\"colorbar\":{\"outlinewidth\":0,\"ticks\":\"\"}}}],\"bar\":[{\"error_x\":{\"color\":\"#2a3f5f\"},\"error_y\":{\"color\":\"#2a3f5f\"},\"marker\":{\"line\":{\"color\":\"#E5ECF6\",\"width\":0.5},\"pattern\":{\"fillmode\":\"overlay\",\"size\":10,\"solidity\":0.2}},\"type\":\"bar\"}],\"scattergeo\":[{\"type\":\"scattergeo\",\"marker\":{\"colorbar\":{\"outlinewidth\":0,\"ticks\":\"\"}}}],\"scatterpolar\":[{\"type\":\"scatterpolar\",\"marker\":{\"colorbar\":{\"outlinewidth\":0,\"ticks\":\"\"}}}],\"histogram\":[{\"marker\":{\"pattern\":{\"fillmode\":\"overlay\",\"size\":10,\"solidity\":0.2}},\"type\":\"histogram\"}],\"scattergl\":[{\"type\":\"scattergl\",\"marker\":{\"colorbar\":{\"outlinewidth\":0,\"ticks\":\"\"}}}],\"scatter3d\":[{\"type\":\"scatter3d\",\"line\":{\"colorbar\":{\"outlinewidth\":0,\"ticks\":\"\"}},\"marker\":{\"colorbar\":{\"outlinewidth\":0,\"ticks\":\"\"}}}],\"scattermapbox\":[{\"type\":\"scattermapbox\",\"marker\":{\"colorbar\":{\"outlinewidth\":0,\"ticks\":\"\"}}}],\"scatterternary\":[{\"type\":\"scatterternary\",\"marker\":{\"colorbar\":{\"outlinewidth\":0,\"ticks\":\"\"}}}],\"scattercarpet\":[{\"type\":\"scattercarpet\",\"marker\":{\"colorbar\":{\"outlinewidth\":0,\"ticks\":\"\"}}}],\"carpet\":[{\"aaxis\":{\"endlinecolor\":\"#2a3f5f\",\"gridcolor\":\"white\",\"linecolor\":\"white\",\"minorgridcolor\":\"white\",\"startlinecolor\":\"#2a3f5f\"},\"baxis\":{\"endlinecolor\":\"#2a3f5f\",\"gridcolor\":\"white\",\"linecolor\":\"white\",\"minorgridcolor\":\"white\",\"startlinecolor\":\"#2a3f5f\"},\"type\":\"carpet\"}],\"table\":[{\"cells\":{\"fill\":{\"color\":\"#EBF0F8\"},\"line\":{\"color\":\"white\"}},\"header\":{\"fill\":{\"color\":\"#C8D4E3\"},\"line\":{\"color\":\"white\"}},\"type\":\"table\"}],\"barpolar\":[{\"marker\":{\"line\":{\"color\":\"#E5ECF6\",\"width\":0.5},\"pattern\":{\"fillmode\":\"overlay\",\"size\":10,\"solidity\":0.2}},\"type\":\"barpolar\"}],\"pie\":[{\"automargin\":true,\"type\":\"pie\"}]},\"layout\":{\"autotypenumbers\":\"strict\",\"colorway\":[\"#636efa\",\"#EF553B\",\"#00cc96\",\"#ab63fa\",\"#FFA15A\",\"#19d3f3\",\"#FF6692\",\"#B6E880\",\"#FF97FF\",\"#FECB52\"],\"font\":{\"color\":\"#2a3f5f\"},\"hovermode\":\"closest\",\"hoverlabel\":{\"align\":\"left\"},\"paper_bgcolor\":\"white\",\"plot_bgcolor\":\"#E5ECF6\",\"polar\":{\"bgcolor\":\"#E5ECF6\",\"angularaxis\":{\"gridcolor\":\"white\",\"linecolor\":\"white\",\"ticks\":\"\"},\"radialaxis\":{\"gridcolor\":\"white\",\"linecolor\":\"white\",\"ticks\":\"\"}},\"ternary\":{\"bgcolor\":\"#E5ECF6\",\"aaxis\":{\"gridcolor\":\"white\",\"linecolor\":\"white\",\"ticks\":\"\"},\"baxis\":{\"gridcolor\":\"white\",\"linecolor\":\"white\",\"ticks\":\"\"},\"caxis\":{\"gridcolor\":\"white\",\"linecolor\":\"white\",\"ticks\":\"\"}},\"coloraxis\":{\"colorbar\":{\"outlinewidth\":0,\"ticks\":\"\"}},\"colorscale\":{\"sequential\":[[0.0,\"#0d0887\"],[0.1111111111111111,\"#46039f\"],[0.2222222222222222,\"#7201a8\"],[0.3333333333333333,\"#9c179e\"],[0.4444444444444444,\"#bd3786\"],[0.5555555555555556,\"#d8576b\"],[0.6666666666666666,\"#ed7953\"],[0.7777777777777778,\"#fb9f3a\"],[0.8888888888888888,\"#fdca26\"],[1.0,\"#f0f921\"]],\"sequentialminus\":[[0.0,\"#0d0887\"],[0.1111111111111111,\"#46039f\"],[0.2222222222222222,\"#7201a8\"],[0.3333333333333333,\"#9c179e\"],[0.4444444444444444,\"#bd3786\"],[0.5555555555555556,\"#d8576b\"],[0.6666666666666666,\"#ed7953\"],[0.7777777777777778,\"#fb9f3a\"],[0.8888888888888888,\"#fdca26\"],[1.0,\"#f0f921\"]],\"diverging\":[[0,\"#8e0152\"],[0.1,\"#c51b7d\"],[0.2,\"#de77ae\"],[0.3,\"#f1b6da\"],[0.4,\"#fde0ef\"],[0.5,\"#f7f7f7\"],[0.6,\"#e6f5d0\"],[0.7,\"#b8e186\"],[0.8,\"#7fbc41\"],[0.9,\"#4d9221\"],[1,\"#276419\"]]},\"xaxis\":{\"gridcolor\":\"white\",\"linecolor\":\"white\",\"ticks\":\"\",\"title\":{\"standoff\":15},\"zerolinecolor\":\"white\",\"automargin\":true,\"zerolinewidth\":2},\"yaxis\":{\"gridcolor\":\"white\",\"linecolor\":\"white\",\"ticks\":\"\",\"title\":{\"standoff\":15},\"zerolinecolor\":\"white\",\"automargin\":true,\"zerolinewidth\":2},\"scene\":{\"xaxis\":{\"backgroundcolor\":\"#E5ECF6\",\"gridcolor\":\"white\",\"linecolor\":\"white\",\"showbackground\":true,\"ticks\":\"\",\"zerolinecolor\":\"white\",\"gridwidth\":2},\"yaxis\":{\"backgroundcolor\":\"#E5ECF6\",\"gridcolor\":\"white\",\"linecolor\":\"white\",\"showbackground\":true,\"ticks\":\"\",\"zerolinecolor\":\"white\",\"gridwidth\":2},\"zaxis\":{\"backgroundcolor\":\"#E5ECF6\",\"gridcolor\":\"white\",\"linecolor\":\"white\",\"showbackground\":true,\"ticks\":\"\",\"zerolinecolor\":\"white\",\"gridwidth\":2}},\"shapedefaults\":{\"line\":{\"color\":\"#2a3f5f\"}},\"annotationdefaults\":{\"arrowcolor\":\"#2a3f5f\",\"arrowhead\":0,\"arrowwidth\":1},\"geo\":{\"bgcolor\":\"white\",\"landcolor\":\"#E5ECF6\",\"subunitcolor\":\"white\",\"showland\":true,\"showlakes\":true,\"lakecolor\":\"white\"},\"title\":{\"x\":0.05},\"mapbox\":{\"style\":\"light\"}}},\"xaxis\":{\"anchor\":\"y\",\"domain\":[0.0,1.0],\"title\":{\"text\":\" girl\"}},\"yaxis\":{\"anchor\":\"x\",\"domain\":[0.0,1.0],\"title\":{\"text\":\" boy\"}},\"legend\":{\"tracegroupgap\":0},\"margin\":{\"t\":60}},                        {\"responsive\": true}                    ).then(function(){\n",
       "                            \n",
       "var gd = document.getElementById('501029c1-661c-4743-b156-5488797c28fb');\n",
       "var x = new MutationObserver(function (mutations, observer) {{\n",
       "        var display = window.getComputedStyle(gd).display;\n",
       "        if (!display || display === 'none') {{\n",
       "            console.log([gd, 'removed!']);\n",
       "            Plotly.purge(gd);\n",
       "            observer.disconnect();\n",
       "        }}\n",
       "}});\n",
       "\n",
       "// Listen for the removal of the full notebook cells\n",
       "var notebookContainer = gd.closest('#notebook-container');\n",
       "if (notebookContainer) {{\n",
       "    x.observe(notebookContainer, {childList: true});\n",
       "}}\n",
       "\n",
       "// Listen for the clearing of the current output cell\n",
       "var outputEl = gd.closest('.output');\n",
       "if (outputEl) {{\n",
       "    x.observe(outputEl, {childList: true});\n",
       "}}\n",
       "\n",
       "                        })                };                });            </script>        </div>"
      ]
     },
     "metadata": {},
     "output_type": "display_data"
    },
    {
     "data": {
      "application/vnd.plotly.v1+json": {
       "config": {
        "plotlyServerURL": "https://plot.ly"
       },
       "data": [
        {
         "hovertemplate": "<b>%{hovertext}</b><br><br> woman=%{x}<br> man=%{y}<br>Index=%{text}<extra></extra>",
         "hovertext": [
          5,
          30,
          36,
          39,
          53,
          58,
          65,
          82,
          105,
          130,
          134,
          153,
          166,
          170,
          171,
          184,
          185,
          188,
          189,
          212,
          220,
          222,
          223,
          227,
          241,
          243,
          249,
          268,
          277,
          284,
          289,
          296,
          306,
          317,
          324,
          327,
          335,
          339,
          359,
          381,
          383,
          402,
          403,
          415,
          430,
          442,
          464,
          472,
          473,
          482,
          499,
          507
         ],
         "legendgroup": "",
         "marker": {
          "color": "#636efa",
          "symbol": "circle"
         },
         "mode": "markers+text",
         "name": "",
         "orientation": "v",
         "showlegend": false,
         "text": [
          5,
          30,
          36,
          39,
          53,
          58,
          65,
          82,
          105,
          130,
          134,
          153,
          166,
          170,
          171,
          184,
          185,
          188,
          189,
          212,
          220,
          222,
          223,
          227,
          241,
          243,
          249,
          268,
          277,
          284,
          289,
          296,
          306,
          317,
          324,
          327,
          335,
          339,
          359,
          381,
          383,
          402,
          403,
          415,
          430,
          442,
          464,
          472,
          473,
          482,
          499,
          507
         ],
         "type": "scatter",
         "x": [
          0,
          0,
          0.18809770047664642,
          0,
          0,
          0,
          0,
          0,
          0,
          0,
          0,
          0.13231070339679718,
          0,
          0,
          0,
          0,
          0.13831046223640442,
          0,
          0,
          0,
          0,
          0,
          0.07131971418857574,
          0,
          0.1480153203010559,
          0,
          0,
          0,
          0,
          0.12679412961006165,
          0,
          0,
          0,
          0,
          0,
          0,
          0,
          0,
          0,
          0.10464618355035782,
          0,
          0,
          0,
          0,
          0,
          0,
          0.2736351191997528,
          0.12081614136695862,
          0,
          0,
          0.4108917713165283,
          0
         ],
         "xaxis": "x",
         "y": [
          0,
          0,
          0,
          0,
          0,
          0,
          0.07578723877668381,
          0,
          0,
          0,
          0,
          0,
          0,
          0,
          0,
          0.09456509351730347,
          0.0679643303155899,
          0,
          0,
          0,
          0,
          0,
          0,
          0,
          0.0682201012969017,
          0,
          0.07871219515800476,
          0.20043699443340302,
          0,
          0,
          0,
          0,
          0,
          0,
          0.05017056688666344,
          0.06151863932609558,
          0,
          0,
          0,
          0,
          0,
          0,
          0,
          0,
          0,
          0,
          0.2818966209888458,
          0,
          0,
          0,
          0.3768388032913208,
          0
         ],
         "yaxis": "y"
        }
       ],
       "layout": {
        "legend": {
         "tracegroupgap": 0
        },
        "margin": {
         "t": 60
        },
        "template": {
         "data": {
          "bar": [
           {
            "error_x": {
             "color": "#2a3f5f"
            },
            "error_y": {
             "color": "#2a3f5f"
            },
            "marker": {
             "line": {
              "color": "#E5ECF6",
              "width": 0.5
             },
             "pattern": {
              "fillmode": "overlay",
              "size": 10,
              "solidity": 0.2
             }
            },
            "type": "bar"
           }
          ],
          "barpolar": [
           {
            "marker": {
             "line": {
              "color": "#E5ECF6",
              "width": 0.5
             },
             "pattern": {
              "fillmode": "overlay",
              "size": 10,
              "solidity": 0.2
             }
            },
            "type": "barpolar"
           }
          ],
          "carpet": [
           {
            "aaxis": {
             "endlinecolor": "#2a3f5f",
             "gridcolor": "white",
             "linecolor": "white",
             "minorgridcolor": "white",
             "startlinecolor": "#2a3f5f"
            },
            "baxis": {
             "endlinecolor": "#2a3f5f",
             "gridcolor": "white",
             "linecolor": "white",
             "minorgridcolor": "white",
             "startlinecolor": "#2a3f5f"
            },
            "type": "carpet"
           }
          ],
          "choropleth": [
           {
            "colorbar": {
             "outlinewidth": 0,
             "ticks": ""
            },
            "type": "choropleth"
           }
          ],
          "contour": [
           {
            "colorbar": {
             "outlinewidth": 0,
             "ticks": ""
            },
            "colorscale": [
             [
              0,
              "#0d0887"
             ],
             [
              0.1111111111111111,
              "#46039f"
             ],
             [
              0.2222222222222222,
              "#7201a8"
             ],
             [
              0.3333333333333333,
              "#9c179e"
             ],
             [
              0.4444444444444444,
              "#bd3786"
             ],
             [
              0.5555555555555556,
              "#d8576b"
             ],
             [
              0.6666666666666666,
              "#ed7953"
             ],
             [
              0.7777777777777778,
              "#fb9f3a"
             ],
             [
              0.8888888888888888,
              "#fdca26"
             ],
             [
              1,
              "#f0f921"
             ]
            ],
            "type": "contour"
           }
          ],
          "contourcarpet": [
           {
            "colorbar": {
             "outlinewidth": 0,
             "ticks": ""
            },
            "type": "contourcarpet"
           }
          ],
          "heatmap": [
           {
            "colorbar": {
             "outlinewidth": 0,
             "ticks": ""
            },
            "colorscale": [
             [
              0,
              "#0d0887"
             ],
             [
              0.1111111111111111,
              "#46039f"
             ],
             [
              0.2222222222222222,
              "#7201a8"
             ],
             [
              0.3333333333333333,
              "#9c179e"
             ],
             [
              0.4444444444444444,
              "#bd3786"
             ],
             [
              0.5555555555555556,
              "#d8576b"
             ],
             [
              0.6666666666666666,
              "#ed7953"
             ],
             [
              0.7777777777777778,
              "#fb9f3a"
             ],
             [
              0.8888888888888888,
              "#fdca26"
             ],
             [
              1,
              "#f0f921"
             ]
            ],
            "type": "heatmap"
           }
          ],
          "heatmapgl": [
           {
            "colorbar": {
             "outlinewidth": 0,
             "ticks": ""
            },
            "colorscale": [
             [
              0,
              "#0d0887"
             ],
             [
              0.1111111111111111,
              "#46039f"
             ],
             [
              0.2222222222222222,
              "#7201a8"
             ],
             [
              0.3333333333333333,
              "#9c179e"
             ],
             [
              0.4444444444444444,
              "#bd3786"
             ],
             [
              0.5555555555555556,
              "#d8576b"
             ],
             [
              0.6666666666666666,
              "#ed7953"
             ],
             [
              0.7777777777777778,
              "#fb9f3a"
             ],
             [
              0.8888888888888888,
              "#fdca26"
             ],
             [
              1,
              "#f0f921"
             ]
            ],
            "type": "heatmapgl"
           }
          ],
          "histogram": [
           {
            "marker": {
             "pattern": {
              "fillmode": "overlay",
              "size": 10,
              "solidity": 0.2
             }
            },
            "type": "histogram"
           }
          ],
          "histogram2d": [
           {
            "colorbar": {
             "outlinewidth": 0,
             "ticks": ""
            },
            "colorscale": [
             [
              0,
              "#0d0887"
             ],
             [
              0.1111111111111111,
              "#46039f"
             ],
             [
              0.2222222222222222,
              "#7201a8"
             ],
             [
              0.3333333333333333,
              "#9c179e"
             ],
             [
              0.4444444444444444,
              "#bd3786"
             ],
             [
              0.5555555555555556,
              "#d8576b"
             ],
             [
              0.6666666666666666,
              "#ed7953"
             ],
             [
              0.7777777777777778,
              "#fb9f3a"
             ],
             [
              0.8888888888888888,
              "#fdca26"
             ],
             [
              1,
              "#f0f921"
             ]
            ],
            "type": "histogram2d"
           }
          ],
          "histogram2dcontour": [
           {
            "colorbar": {
             "outlinewidth": 0,
             "ticks": ""
            },
            "colorscale": [
             [
              0,
              "#0d0887"
             ],
             [
              0.1111111111111111,
              "#46039f"
             ],
             [
              0.2222222222222222,
              "#7201a8"
             ],
             [
              0.3333333333333333,
              "#9c179e"
             ],
             [
              0.4444444444444444,
              "#bd3786"
             ],
             [
              0.5555555555555556,
              "#d8576b"
             ],
             [
              0.6666666666666666,
              "#ed7953"
             ],
             [
              0.7777777777777778,
              "#fb9f3a"
             ],
             [
              0.8888888888888888,
              "#fdca26"
             ],
             [
              1,
              "#f0f921"
             ]
            ],
            "type": "histogram2dcontour"
           }
          ],
          "mesh3d": [
           {
            "colorbar": {
             "outlinewidth": 0,
             "ticks": ""
            },
            "type": "mesh3d"
           }
          ],
          "parcoords": [
           {
            "line": {
             "colorbar": {
              "outlinewidth": 0,
              "ticks": ""
             }
            },
            "type": "parcoords"
           }
          ],
          "pie": [
           {
            "automargin": true,
            "type": "pie"
           }
          ],
          "scatter": [
           {
            "fillpattern": {
             "fillmode": "overlay",
             "size": 10,
             "solidity": 0.2
            },
            "type": "scatter"
           }
          ],
          "scatter3d": [
           {
            "line": {
             "colorbar": {
              "outlinewidth": 0,
              "ticks": ""
             }
            },
            "marker": {
             "colorbar": {
              "outlinewidth": 0,
              "ticks": ""
             }
            },
            "type": "scatter3d"
           }
          ],
          "scattercarpet": [
           {
            "marker": {
             "colorbar": {
              "outlinewidth": 0,
              "ticks": ""
             }
            },
            "type": "scattercarpet"
           }
          ],
          "scattergeo": [
           {
            "marker": {
             "colorbar": {
              "outlinewidth": 0,
              "ticks": ""
             }
            },
            "type": "scattergeo"
           }
          ],
          "scattergl": [
           {
            "marker": {
             "colorbar": {
              "outlinewidth": 0,
              "ticks": ""
             }
            },
            "type": "scattergl"
           }
          ],
          "scattermapbox": [
           {
            "marker": {
             "colorbar": {
              "outlinewidth": 0,
              "ticks": ""
             }
            },
            "type": "scattermapbox"
           }
          ],
          "scatterpolar": [
           {
            "marker": {
             "colorbar": {
              "outlinewidth": 0,
              "ticks": ""
             }
            },
            "type": "scatterpolar"
           }
          ],
          "scatterpolargl": [
           {
            "marker": {
             "colorbar": {
              "outlinewidth": 0,
              "ticks": ""
             }
            },
            "type": "scatterpolargl"
           }
          ],
          "scatterternary": [
           {
            "marker": {
             "colorbar": {
              "outlinewidth": 0,
              "ticks": ""
             }
            },
            "type": "scatterternary"
           }
          ],
          "surface": [
           {
            "colorbar": {
             "outlinewidth": 0,
             "ticks": ""
            },
            "colorscale": [
             [
              0,
              "#0d0887"
             ],
             [
              0.1111111111111111,
              "#46039f"
             ],
             [
              0.2222222222222222,
              "#7201a8"
             ],
             [
              0.3333333333333333,
              "#9c179e"
             ],
             [
              0.4444444444444444,
              "#bd3786"
             ],
             [
              0.5555555555555556,
              "#d8576b"
             ],
             [
              0.6666666666666666,
              "#ed7953"
             ],
             [
              0.7777777777777778,
              "#fb9f3a"
             ],
             [
              0.8888888888888888,
              "#fdca26"
             ],
             [
              1,
              "#f0f921"
             ]
            ],
            "type": "surface"
           }
          ],
          "table": [
           {
            "cells": {
             "fill": {
              "color": "#EBF0F8"
             },
             "line": {
              "color": "white"
             }
            },
            "header": {
             "fill": {
              "color": "#C8D4E3"
             },
             "line": {
              "color": "white"
             }
            },
            "type": "table"
           }
          ]
         },
         "layout": {
          "annotationdefaults": {
           "arrowcolor": "#2a3f5f",
           "arrowhead": 0,
           "arrowwidth": 1
          },
          "autotypenumbers": "strict",
          "coloraxis": {
           "colorbar": {
            "outlinewidth": 0,
            "ticks": ""
           }
          },
          "colorscale": {
           "diverging": [
            [
             0,
             "#8e0152"
            ],
            [
             0.1,
             "#c51b7d"
            ],
            [
             0.2,
             "#de77ae"
            ],
            [
             0.3,
             "#f1b6da"
            ],
            [
             0.4,
             "#fde0ef"
            ],
            [
             0.5,
             "#f7f7f7"
            ],
            [
             0.6,
             "#e6f5d0"
            ],
            [
             0.7,
             "#b8e186"
            ],
            [
             0.8,
             "#7fbc41"
            ],
            [
             0.9,
             "#4d9221"
            ],
            [
             1,
             "#276419"
            ]
           ],
           "sequential": [
            [
             0,
             "#0d0887"
            ],
            [
             0.1111111111111111,
             "#46039f"
            ],
            [
             0.2222222222222222,
             "#7201a8"
            ],
            [
             0.3333333333333333,
             "#9c179e"
            ],
            [
             0.4444444444444444,
             "#bd3786"
            ],
            [
             0.5555555555555556,
             "#d8576b"
            ],
            [
             0.6666666666666666,
             "#ed7953"
            ],
            [
             0.7777777777777778,
             "#fb9f3a"
            ],
            [
             0.8888888888888888,
             "#fdca26"
            ],
            [
             1,
             "#f0f921"
            ]
           ],
           "sequentialminus": [
            [
             0,
             "#0d0887"
            ],
            [
             0.1111111111111111,
             "#46039f"
            ],
            [
             0.2222222222222222,
             "#7201a8"
            ],
            [
             0.3333333333333333,
             "#9c179e"
            ],
            [
             0.4444444444444444,
             "#bd3786"
            ],
            [
             0.5555555555555556,
             "#d8576b"
            ],
            [
             0.6666666666666666,
             "#ed7953"
            ],
            [
             0.7777777777777778,
             "#fb9f3a"
            ],
            [
             0.8888888888888888,
             "#fdca26"
            ],
            [
             1,
             "#f0f921"
            ]
           ]
          },
          "colorway": [
           "#636efa",
           "#EF553B",
           "#00cc96",
           "#ab63fa",
           "#FFA15A",
           "#19d3f3",
           "#FF6692",
           "#B6E880",
           "#FF97FF",
           "#FECB52"
          ],
          "font": {
           "color": "#2a3f5f"
          },
          "geo": {
           "bgcolor": "white",
           "lakecolor": "white",
           "landcolor": "#E5ECF6",
           "showlakes": true,
           "showland": true,
           "subunitcolor": "white"
          },
          "hoverlabel": {
           "align": "left"
          },
          "hovermode": "closest",
          "mapbox": {
           "style": "light"
          },
          "paper_bgcolor": "white",
          "plot_bgcolor": "#E5ECF6",
          "polar": {
           "angularaxis": {
            "gridcolor": "white",
            "linecolor": "white",
            "ticks": ""
           },
           "bgcolor": "#E5ECF6",
           "radialaxis": {
            "gridcolor": "white",
            "linecolor": "white",
            "ticks": ""
           }
          },
          "scene": {
           "xaxis": {
            "backgroundcolor": "#E5ECF6",
            "gridcolor": "white",
            "gridwidth": 2,
            "linecolor": "white",
            "showbackground": true,
            "ticks": "",
            "zerolinecolor": "white"
           },
           "yaxis": {
            "backgroundcolor": "#E5ECF6",
            "gridcolor": "white",
            "gridwidth": 2,
            "linecolor": "white",
            "showbackground": true,
            "ticks": "",
            "zerolinecolor": "white"
           },
           "zaxis": {
            "backgroundcolor": "#E5ECF6",
            "gridcolor": "white",
            "gridwidth": 2,
            "linecolor": "white",
            "showbackground": true,
            "ticks": "",
            "zerolinecolor": "white"
           }
          },
          "shapedefaults": {
           "line": {
            "color": "#2a3f5f"
           }
          },
          "ternary": {
           "aaxis": {
            "gridcolor": "white",
            "linecolor": "white",
            "ticks": ""
           },
           "baxis": {
            "gridcolor": "white",
            "linecolor": "white",
            "ticks": ""
           },
           "bgcolor": "#E5ECF6",
           "caxis": {
            "gridcolor": "white",
            "linecolor": "white",
            "ticks": ""
           }
          },
          "title": {
           "x": 0.05
          },
          "xaxis": {
           "automargin": true,
           "gridcolor": "white",
           "linecolor": "white",
           "ticks": "",
           "title": {
            "standoff": 15
           },
           "zerolinecolor": "white",
           "zerolinewidth": 2
          },
          "yaxis": {
           "automargin": true,
           "gridcolor": "white",
           "linecolor": "white",
           "ticks": "",
           "title": {
            "standoff": 15
           },
           "zerolinecolor": "white",
           "zerolinewidth": 2
          }
         }
        },
        "xaxis": {
         "anchor": "y",
         "domain": [
          0,
          1
         ],
         "title": {
          "text": " woman"
         }
        },
        "yaxis": {
         "anchor": "x",
         "domain": [
          0,
          1
         ],
         "title": {
          "text": " man"
         }
        }
       }
      },
      "text/html": [
       "<div>                            <div id=\"7ec80546-7a68-4372-854b-f508f39347a7\" class=\"plotly-graph-div\" style=\"height:525px; width:100%;\"></div>            <script type=\"text/javascript\">                require([\"plotly\"], function(Plotly) {                    window.PLOTLYENV=window.PLOTLYENV || {};                                    if (document.getElementById(\"7ec80546-7a68-4372-854b-f508f39347a7\")) {                    Plotly.newPlot(                        \"7ec80546-7a68-4372-854b-f508f39347a7\",                        [{\"hovertemplate\":\"\\u003cb\\u003e%{hovertext}\\u003c\\u002fb\\u003e\\u003cbr\\u003e\\u003cbr\\u003e woman=%{x}\\u003cbr\\u003e man=%{y}\\u003cbr\\u003eIndex=%{text}\\u003cextra\\u003e\\u003c\\u002fextra\\u003e\",\"hovertext\":[5.0,30.0,36.0,39.0,53.0,58.0,65.0,82.0,105.0,130.0,134.0,153.0,166.0,170.0,171.0,184.0,185.0,188.0,189.0,212.0,220.0,222.0,223.0,227.0,241.0,243.0,249.0,268.0,277.0,284.0,289.0,296.0,306.0,317.0,324.0,327.0,335.0,339.0,359.0,381.0,383.0,402.0,403.0,415.0,430.0,442.0,464.0,472.0,473.0,482.0,499.0,507.0],\"legendgroup\":\"\",\"marker\":{\"color\":\"#636efa\",\"symbol\":\"circle\"},\"mode\":\"markers+text\",\"name\":\"\",\"orientation\":\"v\",\"showlegend\":false,\"text\":[5.0,30.0,36.0,39.0,53.0,58.0,65.0,82.0,105.0,130.0,134.0,153.0,166.0,170.0,171.0,184.0,185.0,188.0,189.0,212.0,220.0,222.0,223.0,227.0,241.0,243.0,249.0,268.0,277.0,284.0,289.0,296.0,306.0,317.0,324.0,327.0,335.0,339.0,359.0,381.0,383.0,402.0,403.0,415.0,430.0,442.0,464.0,472.0,473.0,482.0,499.0,507.0],\"x\":[0.0,0.0,0.18809770047664642,0.0,0.0,0.0,0.0,0.0,0.0,0.0,0.0,0.13231070339679718,0.0,0.0,0.0,0.0,0.13831046223640442,0.0,0.0,0.0,0.0,0.0,0.07131971418857574,0.0,0.1480153203010559,0.0,0.0,0.0,0.0,0.12679412961006165,0.0,0.0,0.0,0.0,0.0,0.0,0.0,0.0,0.0,0.10464618355035782,0.0,0.0,0.0,0.0,0.0,0.0,0.2736351191997528,0.12081614136695862,0.0,0.0,0.4108917713165283,0.0],\"xaxis\":\"x\",\"y\":[0.0,0.0,0.0,0.0,0.0,0.0,0.07578723877668381,0.0,0.0,0.0,0.0,0.0,0.0,0.0,0.0,0.09456509351730347,0.0679643303155899,0.0,0.0,0.0,0.0,0.0,0.0,0.0,0.0682201012969017,0.0,0.07871219515800476,0.20043699443340302,0.0,0.0,0.0,0.0,0.0,0.0,0.05017056688666344,0.06151863932609558,0.0,0.0,0.0,0.0,0.0,0.0,0.0,0.0,0.0,0.0,0.2818966209888458,0.0,0.0,0.0,0.3768388032913208,0.0],\"yaxis\":\"y\",\"type\":\"scatter\"}],                        {\"template\":{\"data\":{\"histogram2dcontour\":[{\"type\":\"histogram2dcontour\",\"colorbar\":{\"outlinewidth\":0,\"ticks\":\"\"},\"colorscale\":[[0.0,\"#0d0887\"],[0.1111111111111111,\"#46039f\"],[0.2222222222222222,\"#7201a8\"],[0.3333333333333333,\"#9c179e\"],[0.4444444444444444,\"#bd3786\"],[0.5555555555555556,\"#d8576b\"],[0.6666666666666666,\"#ed7953\"],[0.7777777777777778,\"#fb9f3a\"],[0.8888888888888888,\"#fdca26\"],[1.0,\"#f0f921\"]]}],\"choropleth\":[{\"type\":\"choropleth\",\"colorbar\":{\"outlinewidth\":0,\"ticks\":\"\"}}],\"histogram2d\":[{\"type\":\"histogram2d\",\"colorbar\":{\"outlinewidth\":0,\"ticks\":\"\"},\"colorscale\":[[0.0,\"#0d0887\"],[0.1111111111111111,\"#46039f\"],[0.2222222222222222,\"#7201a8\"],[0.3333333333333333,\"#9c179e\"],[0.4444444444444444,\"#bd3786\"],[0.5555555555555556,\"#d8576b\"],[0.6666666666666666,\"#ed7953\"],[0.7777777777777778,\"#fb9f3a\"],[0.8888888888888888,\"#fdca26\"],[1.0,\"#f0f921\"]]}],\"heatmap\":[{\"type\":\"heatmap\",\"colorbar\":{\"outlinewidth\":0,\"ticks\":\"\"},\"colorscale\":[[0.0,\"#0d0887\"],[0.1111111111111111,\"#46039f\"],[0.2222222222222222,\"#7201a8\"],[0.3333333333333333,\"#9c179e\"],[0.4444444444444444,\"#bd3786\"],[0.5555555555555556,\"#d8576b\"],[0.6666666666666666,\"#ed7953\"],[0.7777777777777778,\"#fb9f3a\"],[0.8888888888888888,\"#fdca26\"],[1.0,\"#f0f921\"]]}],\"heatmapgl\":[{\"type\":\"heatmapgl\",\"colorbar\":{\"outlinewidth\":0,\"ticks\":\"\"},\"colorscale\":[[0.0,\"#0d0887\"],[0.1111111111111111,\"#46039f\"],[0.2222222222222222,\"#7201a8\"],[0.3333333333333333,\"#9c179e\"],[0.4444444444444444,\"#bd3786\"],[0.5555555555555556,\"#d8576b\"],[0.6666666666666666,\"#ed7953\"],[0.7777777777777778,\"#fb9f3a\"],[0.8888888888888888,\"#fdca26\"],[1.0,\"#f0f921\"]]}],\"contourcarpet\":[{\"type\":\"contourcarpet\",\"colorbar\":{\"outlinewidth\":0,\"ticks\":\"\"}}],\"contour\":[{\"type\":\"contour\",\"colorbar\":{\"outlinewidth\":0,\"ticks\":\"\"},\"colorscale\":[[0.0,\"#0d0887\"],[0.1111111111111111,\"#46039f\"],[0.2222222222222222,\"#7201a8\"],[0.3333333333333333,\"#9c179e\"],[0.4444444444444444,\"#bd3786\"],[0.5555555555555556,\"#d8576b\"],[0.6666666666666666,\"#ed7953\"],[0.7777777777777778,\"#fb9f3a\"],[0.8888888888888888,\"#fdca26\"],[1.0,\"#f0f921\"]]}],\"surface\":[{\"type\":\"surface\",\"colorbar\":{\"outlinewidth\":0,\"ticks\":\"\"},\"colorscale\":[[0.0,\"#0d0887\"],[0.1111111111111111,\"#46039f\"],[0.2222222222222222,\"#7201a8\"],[0.3333333333333333,\"#9c179e\"],[0.4444444444444444,\"#bd3786\"],[0.5555555555555556,\"#d8576b\"],[0.6666666666666666,\"#ed7953\"],[0.7777777777777778,\"#fb9f3a\"],[0.8888888888888888,\"#fdca26\"],[1.0,\"#f0f921\"]]}],\"mesh3d\":[{\"type\":\"mesh3d\",\"colorbar\":{\"outlinewidth\":0,\"ticks\":\"\"}}],\"scatter\":[{\"fillpattern\":{\"fillmode\":\"overlay\",\"size\":10,\"solidity\":0.2},\"type\":\"scatter\"}],\"parcoords\":[{\"type\":\"parcoords\",\"line\":{\"colorbar\":{\"outlinewidth\":0,\"ticks\":\"\"}}}],\"scatterpolargl\":[{\"type\":\"scatterpolargl\",\"marker\":{\"colorbar\":{\"outlinewidth\":0,\"ticks\":\"\"}}}],\"bar\":[{\"error_x\":{\"color\":\"#2a3f5f\"},\"error_y\":{\"color\":\"#2a3f5f\"},\"marker\":{\"line\":{\"color\":\"#E5ECF6\",\"width\":0.5},\"pattern\":{\"fillmode\":\"overlay\",\"size\":10,\"solidity\":0.2}},\"type\":\"bar\"}],\"scattergeo\":[{\"type\":\"scattergeo\",\"marker\":{\"colorbar\":{\"outlinewidth\":0,\"ticks\":\"\"}}}],\"scatterpolar\":[{\"type\":\"scatterpolar\",\"marker\":{\"colorbar\":{\"outlinewidth\":0,\"ticks\":\"\"}}}],\"histogram\":[{\"marker\":{\"pattern\":{\"fillmode\":\"overlay\",\"size\":10,\"solidity\":0.2}},\"type\":\"histogram\"}],\"scattergl\":[{\"type\":\"scattergl\",\"marker\":{\"colorbar\":{\"outlinewidth\":0,\"ticks\":\"\"}}}],\"scatter3d\":[{\"type\":\"scatter3d\",\"line\":{\"colorbar\":{\"outlinewidth\":0,\"ticks\":\"\"}},\"marker\":{\"colorbar\":{\"outlinewidth\":0,\"ticks\":\"\"}}}],\"scattermapbox\":[{\"type\":\"scattermapbox\",\"marker\":{\"colorbar\":{\"outlinewidth\":0,\"ticks\":\"\"}}}],\"scatterternary\":[{\"type\":\"scatterternary\",\"marker\":{\"colorbar\":{\"outlinewidth\":0,\"ticks\":\"\"}}}],\"scattercarpet\":[{\"type\":\"scattercarpet\",\"marker\":{\"colorbar\":{\"outlinewidth\":0,\"ticks\":\"\"}}}],\"carpet\":[{\"aaxis\":{\"endlinecolor\":\"#2a3f5f\",\"gridcolor\":\"white\",\"linecolor\":\"white\",\"minorgridcolor\":\"white\",\"startlinecolor\":\"#2a3f5f\"},\"baxis\":{\"endlinecolor\":\"#2a3f5f\",\"gridcolor\":\"white\",\"linecolor\":\"white\",\"minorgridcolor\":\"white\",\"startlinecolor\":\"#2a3f5f\"},\"type\":\"carpet\"}],\"table\":[{\"cells\":{\"fill\":{\"color\":\"#EBF0F8\"},\"line\":{\"color\":\"white\"}},\"header\":{\"fill\":{\"color\":\"#C8D4E3\"},\"line\":{\"color\":\"white\"}},\"type\":\"table\"}],\"barpolar\":[{\"marker\":{\"line\":{\"color\":\"#E5ECF6\",\"width\":0.5},\"pattern\":{\"fillmode\":\"overlay\",\"size\":10,\"solidity\":0.2}},\"type\":\"barpolar\"}],\"pie\":[{\"automargin\":true,\"type\":\"pie\"}]},\"layout\":{\"autotypenumbers\":\"strict\",\"colorway\":[\"#636efa\",\"#EF553B\",\"#00cc96\",\"#ab63fa\",\"#FFA15A\",\"#19d3f3\",\"#FF6692\",\"#B6E880\",\"#FF97FF\",\"#FECB52\"],\"font\":{\"color\":\"#2a3f5f\"},\"hovermode\":\"closest\",\"hoverlabel\":{\"align\":\"left\"},\"paper_bgcolor\":\"white\",\"plot_bgcolor\":\"#E5ECF6\",\"polar\":{\"bgcolor\":\"#E5ECF6\",\"angularaxis\":{\"gridcolor\":\"white\",\"linecolor\":\"white\",\"ticks\":\"\"},\"radialaxis\":{\"gridcolor\":\"white\",\"linecolor\":\"white\",\"ticks\":\"\"}},\"ternary\":{\"bgcolor\":\"#E5ECF6\",\"aaxis\":{\"gridcolor\":\"white\",\"linecolor\":\"white\",\"ticks\":\"\"},\"baxis\":{\"gridcolor\":\"white\",\"linecolor\":\"white\",\"ticks\":\"\"},\"caxis\":{\"gridcolor\":\"white\",\"linecolor\":\"white\",\"ticks\":\"\"}},\"coloraxis\":{\"colorbar\":{\"outlinewidth\":0,\"ticks\":\"\"}},\"colorscale\":{\"sequential\":[[0.0,\"#0d0887\"],[0.1111111111111111,\"#46039f\"],[0.2222222222222222,\"#7201a8\"],[0.3333333333333333,\"#9c179e\"],[0.4444444444444444,\"#bd3786\"],[0.5555555555555556,\"#d8576b\"],[0.6666666666666666,\"#ed7953\"],[0.7777777777777778,\"#fb9f3a\"],[0.8888888888888888,\"#fdca26\"],[1.0,\"#f0f921\"]],\"sequentialminus\":[[0.0,\"#0d0887\"],[0.1111111111111111,\"#46039f\"],[0.2222222222222222,\"#7201a8\"],[0.3333333333333333,\"#9c179e\"],[0.4444444444444444,\"#bd3786\"],[0.5555555555555556,\"#d8576b\"],[0.6666666666666666,\"#ed7953\"],[0.7777777777777778,\"#fb9f3a\"],[0.8888888888888888,\"#fdca26\"],[1.0,\"#f0f921\"]],\"diverging\":[[0,\"#8e0152\"],[0.1,\"#c51b7d\"],[0.2,\"#de77ae\"],[0.3,\"#f1b6da\"],[0.4,\"#fde0ef\"],[0.5,\"#f7f7f7\"],[0.6,\"#e6f5d0\"],[0.7,\"#b8e186\"],[0.8,\"#7fbc41\"],[0.9,\"#4d9221\"],[1,\"#276419\"]]},\"xaxis\":{\"gridcolor\":\"white\",\"linecolor\":\"white\",\"ticks\":\"\",\"title\":{\"standoff\":15},\"zerolinecolor\":\"white\",\"automargin\":true,\"zerolinewidth\":2},\"yaxis\":{\"gridcolor\":\"white\",\"linecolor\":\"white\",\"ticks\":\"\",\"title\":{\"standoff\":15},\"zerolinecolor\":\"white\",\"automargin\":true,\"zerolinewidth\":2},\"scene\":{\"xaxis\":{\"backgroundcolor\":\"#E5ECF6\",\"gridcolor\":\"white\",\"linecolor\":\"white\",\"showbackground\":true,\"ticks\":\"\",\"zerolinecolor\":\"white\",\"gridwidth\":2},\"yaxis\":{\"backgroundcolor\":\"#E5ECF6\",\"gridcolor\":\"white\",\"linecolor\":\"white\",\"showbackground\":true,\"ticks\":\"\",\"zerolinecolor\":\"white\",\"gridwidth\":2},\"zaxis\":{\"backgroundcolor\":\"#E5ECF6\",\"gridcolor\":\"white\",\"linecolor\":\"white\",\"showbackground\":true,\"ticks\":\"\",\"zerolinecolor\":\"white\",\"gridwidth\":2}},\"shapedefaults\":{\"line\":{\"color\":\"#2a3f5f\"}},\"annotationdefaults\":{\"arrowcolor\":\"#2a3f5f\",\"arrowhead\":0,\"arrowwidth\":1},\"geo\":{\"bgcolor\":\"white\",\"landcolor\":\"#E5ECF6\",\"subunitcolor\":\"white\",\"showland\":true,\"showlakes\":true,\"lakecolor\":\"white\"},\"title\":{\"x\":0.05},\"mapbox\":{\"style\":\"light\"}}},\"xaxis\":{\"anchor\":\"y\",\"domain\":[0.0,1.0],\"title\":{\"text\":\" woman\"}},\"yaxis\":{\"anchor\":\"x\",\"domain\":[0.0,1.0],\"title\":{\"text\":\" man\"}},\"legend\":{\"tracegroupgap\":0},\"margin\":{\"t\":60}},                        {\"responsive\": true}                    ).then(function(){\n",
       "                            \n",
       "var gd = document.getElementById('7ec80546-7a68-4372-854b-f508f39347a7');\n",
       "var x = new MutationObserver(function (mutations, observer) {{\n",
       "        var display = window.getComputedStyle(gd).display;\n",
       "        if (!display || display === 'none') {{\n",
       "            console.log([gd, 'removed!']);\n",
       "            Plotly.purge(gd);\n",
       "            observer.disconnect();\n",
       "        }}\n",
       "}});\n",
       "\n",
       "// Listen for the removal of the full notebook cells\n",
       "var notebookContainer = gd.closest('#notebook-container');\n",
       "if (notebookContainer) {{\n",
       "    x.observe(notebookContainer, {childList: true});\n",
       "}}\n",
       "\n",
       "// Listen for the clearing of the current output cell\n",
       "var outputEl = gd.closest('.output');\n",
       "if (outputEl) {{\n",
       "    x.observe(outputEl, {childList: true});\n",
       "}}\n",
       "\n",
       "                        })                };                });            </script>        </div>"
      ]
     },
     "metadata": {},
     "output_type": "display_data"
    },
    {
     "data": {
      "application/vnd.plotly.v1+json": {
       "config": {
        "plotlyServerURL": "https://plot.ly"
       },
       "data": [
        {
         "hovertemplate": "<b>%{hovertext}</b><br><br> aunt=%{x}<br> uncle=%{y}<br>Index=%{text}<extra></extra>",
         "hovertext": [
          5,
          30,
          36,
          39,
          53,
          58,
          65,
          82,
          105,
          130,
          134,
          153,
          166,
          170,
          171,
          184,
          185,
          188,
          189,
          212,
          220,
          222,
          223,
          227,
          241,
          243,
          249,
          268,
          277,
          284,
          289,
          296,
          306,
          317,
          324,
          327,
          335,
          339,
          359,
          381,
          383,
          402,
          403,
          415,
          430,
          442,
          464,
          472,
          473,
          482,
          499,
          507
         ],
         "legendgroup": "",
         "marker": {
          "color": "#636efa",
          "symbol": "circle"
         },
         "mode": "markers+text",
         "name": "",
         "orientation": "v",
         "showlegend": false,
         "text": [
          5,
          30,
          36,
          39,
          53,
          58,
          65,
          82,
          105,
          130,
          134,
          153,
          166,
          170,
          171,
          184,
          185,
          188,
          189,
          212,
          220,
          222,
          223,
          227,
          241,
          243,
          249,
          268,
          277,
          284,
          289,
          296,
          306,
          317,
          324,
          327,
          335,
          339,
          359,
          381,
          383,
          402,
          403,
          415,
          430,
          442,
          464,
          472,
          473,
          482,
          499,
          507
         ],
         "type": "scatter",
         "x": [
          0,
          0,
          0,
          0.12354247272014618,
          0,
          0,
          0,
          0,
          0,
          0,
          0,
          0,
          0,
          0,
          0,
          0,
          0.22553999722003937,
          0,
          0,
          0.13882476091384888,
          0,
          0,
          0,
          0.16561275720596313,
          0,
          0,
          0,
          0,
          0,
          0,
          0.12395238876342773,
          0,
          0,
          0,
          0,
          0,
          0.23731806874275208,
          0.14972051978111267,
          0,
          0,
          0,
          0,
          0,
          0.3773062229156494,
          0,
          0,
          0.3265317380428314,
          0,
          0,
          0,
          0.17477044463157654,
          0
         ],
         "xaxis": "x",
         "y": [
          0,
          0,
          0,
          0,
          0,
          0,
          0,
          0,
          0,
          0,
          0,
          0.1461615115404129,
          0,
          0,
          0,
          0,
          0.12445901334285736,
          0,
          0,
          0.16908937692642212,
          0,
          0,
          0,
          0,
          0,
          0,
          0,
          0.11201950907707214,
          0,
          0,
          0.12666121125221252,
          0,
          0,
          0,
          0,
          0,
          0.17807042598724365,
          0,
          0.11718863248825073,
          0,
          0,
          0,
          0,
          0.3481229543685913,
          0,
          0,
          0.31119197607040405,
          0,
          0,
          0,
          0,
          0.13465479016304016
         ],
         "yaxis": "y"
        }
       ],
       "layout": {
        "legend": {
         "tracegroupgap": 0
        },
        "margin": {
         "t": 60
        },
        "template": {
         "data": {
          "bar": [
           {
            "error_x": {
             "color": "#2a3f5f"
            },
            "error_y": {
             "color": "#2a3f5f"
            },
            "marker": {
             "line": {
              "color": "#E5ECF6",
              "width": 0.5
             },
             "pattern": {
              "fillmode": "overlay",
              "size": 10,
              "solidity": 0.2
             }
            },
            "type": "bar"
           }
          ],
          "barpolar": [
           {
            "marker": {
             "line": {
              "color": "#E5ECF6",
              "width": 0.5
             },
             "pattern": {
              "fillmode": "overlay",
              "size": 10,
              "solidity": 0.2
             }
            },
            "type": "barpolar"
           }
          ],
          "carpet": [
           {
            "aaxis": {
             "endlinecolor": "#2a3f5f",
             "gridcolor": "white",
             "linecolor": "white",
             "minorgridcolor": "white",
             "startlinecolor": "#2a3f5f"
            },
            "baxis": {
             "endlinecolor": "#2a3f5f",
             "gridcolor": "white",
             "linecolor": "white",
             "minorgridcolor": "white",
             "startlinecolor": "#2a3f5f"
            },
            "type": "carpet"
           }
          ],
          "choropleth": [
           {
            "colorbar": {
             "outlinewidth": 0,
             "ticks": ""
            },
            "type": "choropleth"
           }
          ],
          "contour": [
           {
            "colorbar": {
             "outlinewidth": 0,
             "ticks": ""
            },
            "colorscale": [
             [
              0,
              "#0d0887"
             ],
             [
              0.1111111111111111,
              "#46039f"
             ],
             [
              0.2222222222222222,
              "#7201a8"
             ],
             [
              0.3333333333333333,
              "#9c179e"
             ],
             [
              0.4444444444444444,
              "#bd3786"
             ],
             [
              0.5555555555555556,
              "#d8576b"
             ],
             [
              0.6666666666666666,
              "#ed7953"
             ],
             [
              0.7777777777777778,
              "#fb9f3a"
             ],
             [
              0.8888888888888888,
              "#fdca26"
             ],
             [
              1,
              "#f0f921"
             ]
            ],
            "type": "contour"
           }
          ],
          "contourcarpet": [
           {
            "colorbar": {
             "outlinewidth": 0,
             "ticks": ""
            },
            "type": "contourcarpet"
           }
          ],
          "heatmap": [
           {
            "colorbar": {
             "outlinewidth": 0,
             "ticks": ""
            },
            "colorscale": [
             [
              0,
              "#0d0887"
             ],
             [
              0.1111111111111111,
              "#46039f"
             ],
             [
              0.2222222222222222,
              "#7201a8"
             ],
             [
              0.3333333333333333,
              "#9c179e"
             ],
             [
              0.4444444444444444,
              "#bd3786"
             ],
             [
              0.5555555555555556,
              "#d8576b"
             ],
             [
              0.6666666666666666,
              "#ed7953"
             ],
             [
              0.7777777777777778,
              "#fb9f3a"
             ],
             [
              0.8888888888888888,
              "#fdca26"
             ],
             [
              1,
              "#f0f921"
             ]
            ],
            "type": "heatmap"
           }
          ],
          "heatmapgl": [
           {
            "colorbar": {
             "outlinewidth": 0,
             "ticks": ""
            },
            "colorscale": [
             [
              0,
              "#0d0887"
             ],
             [
              0.1111111111111111,
              "#46039f"
             ],
             [
              0.2222222222222222,
              "#7201a8"
             ],
             [
              0.3333333333333333,
              "#9c179e"
             ],
             [
              0.4444444444444444,
              "#bd3786"
             ],
             [
              0.5555555555555556,
              "#d8576b"
             ],
             [
              0.6666666666666666,
              "#ed7953"
             ],
             [
              0.7777777777777778,
              "#fb9f3a"
             ],
             [
              0.8888888888888888,
              "#fdca26"
             ],
             [
              1,
              "#f0f921"
             ]
            ],
            "type": "heatmapgl"
           }
          ],
          "histogram": [
           {
            "marker": {
             "pattern": {
              "fillmode": "overlay",
              "size": 10,
              "solidity": 0.2
             }
            },
            "type": "histogram"
           }
          ],
          "histogram2d": [
           {
            "colorbar": {
             "outlinewidth": 0,
             "ticks": ""
            },
            "colorscale": [
             [
              0,
              "#0d0887"
             ],
             [
              0.1111111111111111,
              "#46039f"
             ],
             [
              0.2222222222222222,
              "#7201a8"
             ],
             [
              0.3333333333333333,
              "#9c179e"
             ],
             [
              0.4444444444444444,
              "#bd3786"
             ],
             [
              0.5555555555555556,
              "#d8576b"
             ],
             [
              0.6666666666666666,
              "#ed7953"
             ],
             [
              0.7777777777777778,
              "#fb9f3a"
             ],
             [
              0.8888888888888888,
              "#fdca26"
             ],
             [
              1,
              "#f0f921"
             ]
            ],
            "type": "histogram2d"
           }
          ],
          "histogram2dcontour": [
           {
            "colorbar": {
             "outlinewidth": 0,
             "ticks": ""
            },
            "colorscale": [
             [
              0,
              "#0d0887"
             ],
             [
              0.1111111111111111,
              "#46039f"
             ],
             [
              0.2222222222222222,
              "#7201a8"
             ],
             [
              0.3333333333333333,
              "#9c179e"
             ],
             [
              0.4444444444444444,
              "#bd3786"
             ],
             [
              0.5555555555555556,
              "#d8576b"
             ],
             [
              0.6666666666666666,
              "#ed7953"
             ],
             [
              0.7777777777777778,
              "#fb9f3a"
             ],
             [
              0.8888888888888888,
              "#fdca26"
             ],
             [
              1,
              "#f0f921"
             ]
            ],
            "type": "histogram2dcontour"
           }
          ],
          "mesh3d": [
           {
            "colorbar": {
             "outlinewidth": 0,
             "ticks": ""
            },
            "type": "mesh3d"
           }
          ],
          "parcoords": [
           {
            "line": {
             "colorbar": {
              "outlinewidth": 0,
              "ticks": ""
             }
            },
            "type": "parcoords"
           }
          ],
          "pie": [
           {
            "automargin": true,
            "type": "pie"
           }
          ],
          "scatter": [
           {
            "fillpattern": {
             "fillmode": "overlay",
             "size": 10,
             "solidity": 0.2
            },
            "type": "scatter"
           }
          ],
          "scatter3d": [
           {
            "line": {
             "colorbar": {
              "outlinewidth": 0,
              "ticks": ""
             }
            },
            "marker": {
             "colorbar": {
              "outlinewidth": 0,
              "ticks": ""
             }
            },
            "type": "scatter3d"
           }
          ],
          "scattercarpet": [
           {
            "marker": {
             "colorbar": {
              "outlinewidth": 0,
              "ticks": ""
             }
            },
            "type": "scattercarpet"
           }
          ],
          "scattergeo": [
           {
            "marker": {
             "colorbar": {
              "outlinewidth": 0,
              "ticks": ""
             }
            },
            "type": "scattergeo"
           }
          ],
          "scattergl": [
           {
            "marker": {
             "colorbar": {
              "outlinewidth": 0,
              "ticks": ""
             }
            },
            "type": "scattergl"
           }
          ],
          "scattermapbox": [
           {
            "marker": {
             "colorbar": {
              "outlinewidth": 0,
              "ticks": ""
             }
            },
            "type": "scattermapbox"
           }
          ],
          "scatterpolar": [
           {
            "marker": {
             "colorbar": {
              "outlinewidth": 0,
              "ticks": ""
             }
            },
            "type": "scatterpolar"
           }
          ],
          "scatterpolargl": [
           {
            "marker": {
             "colorbar": {
              "outlinewidth": 0,
              "ticks": ""
             }
            },
            "type": "scatterpolargl"
           }
          ],
          "scatterternary": [
           {
            "marker": {
             "colorbar": {
              "outlinewidth": 0,
              "ticks": ""
             }
            },
            "type": "scatterternary"
           }
          ],
          "surface": [
           {
            "colorbar": {
             "outlinewidth": 0,
             "ticks": ""
            },
            "colorscale": [
             [
              0,
              "#0d0887"
             ],
             [
              0.1111111111111111,
              "#46039f"
             ],
             [
              0.2222222222222222,
              "#7201a8"
             ],
             [
              0.3333333333333333,
              "#9c179e"
             ],
             [
              0.4444444444444444,
              "#bd3786"
             ],
             [
              0.5555555555555556,
              "#d8576b"
             ],
             [
              0.6666666666666666,
              "#ed7953"
             ],
             [
              0.7777777777777778,
              "#fb9f3a"
             ],
             [
              0.8888888888888888,
              "#fdca26"
             ],
             [
              1,
              "#f0f921"
             ]
            ],
            "type": "surface"
           }
          ],
          "table": [
           {
            "cells": {
             "fill": {
              "color": "#EBF0F8"
             },
             "line": {
              "color": "white"
             }
            },
            "header": {
             "fill": {
              "color": "#C8D4E3"
             },
             "line": {
              "color": "white"
             }
            },
            "type": "table"
           }
          ]
         },
         "layout": {
          "annotationdefaults": {
           "arrowcolor": "#2a3f5f",
           "arrowhead": 0,
           "arrowwidth": 1
          },
          "autotypenumbers": "strict",
          "coloraxis": {
           "colorbar": {
            "outlinewidth": 0,
            "ticks": ""
           }
          },
          "colorscale": {
           "diverging": [
            [
             0,
             "#8e0152"
            ],
            [
             0.1,
             "#c51b7d"
            ],
            [
             0.2,
             "#de77ae"
            ],
            [
             0.3,
             "#f1b6da"
            ],
            [
             0.4,
             "#fde0ef"
            ],
            [
             0.5,
             "#f7f7f7"
            ],
            [
             0.6,
             "#e6f5d0"
            ],
            [
             0.7,
             "#b8e186"
            ],
            [
             0.8,
             "#7fbc41"
            ],
            [
             0.9,
             "#4d9221"
            ],
            [
             1,
             "#276419"
            ]
           ],
           "sequential": [
            [
             0,
             "#0d0887"
            ],
            [
             0.1111111111111111,
             "#46039f"
            ],
            [
             0.2222222222222222,
             "#7201a8"
            ],
            [
             0.3333333333333333,
             "#9c179e"
            ],
            [
             0.4444444444444444,
             "#bd3786"
            ],
            [
             0.5555555555555556,
             "#d8576b"
            ],
            [
             0.6666666666666666,
             "#ed7953"
            ],
            [
             0.7777777777777778,
             "#fb9f3a"
            ],
            [
             0.8888888888888888,
             "#fdca26"
            ],
            [
             1,
             "#f0f921"
            ]
           ],
           "sequentialminus": [
            [
             0,
             "#0d0887"
            ],
            [
             0.1111111111111111,
             "#46039f"
            ],
            [
             0.2222222222222222,
             "#7201a8"
            ],
            [
             0.3333333333333333,
             "#9c179e"
            ],
            [
             0.4444444444444444,
             "#bd3786"
            ],
            [
             0.5555555555555556,
             "#d8576b"
            ],
            [
             0.6666666666666666,
             "#ed7953"
            ],
            [
             0.7777777777777778,
             "#fb9f3a"
            ],
            [
             0.8888888888888888,
             "#fdca26"
            ],
            [
             1,
             "#f0f921"
            ]
           ]
          },
          "colorway": [
           "#636efa",
           "#EF553B",
           "#00cc96",
           "#ab63fa",
           "#FFA15A",
           "#19d3f3",
           "#FF6692",
           "#B6E880",
           "#FF97FF",
           "#FECB52"
          ],
          "font": {
           "color": "#2a3f5f"
          },
          "geo": {
           "bgcolor": "white",
           "lakecolor": "white",
           "landcolor": "#E5ECF6",
           "showlakes": true,
           "showland": true,
           "subunitcolor": "white"
          },
          "hoverlabel": {
           "align": "left"
          },
          "hovermode": "closest",
          "mapbox": {
           "style": "light"
          },
          "paper_bgcolor": "white",
          "plot_bgcolor": "#E5ECF6",
          "polar": {
           "angularaxis": {
            "gridcolor": "white",
            "linecolor": "white",
            "ticks": ""
           },
           "bgcolor": "#E5ECF6",
           "radialaxis": {
            "gridcolor": "white",
            "linecolor": "white",
            "ticks": ""
           }
          },
          "scene": {
           "xaxis": {
            "backgroundcolor": "#E5ECF6",
            "gridcolor": "white",
            "gridwidth": 2,
            "linecolor": "white",
            "showbackground": true,
            "ticks": "",
            "zerolinecolor": "white"
           },
           "yaxis": {
            "backgroundcolor": "#E5ECF6",
            "gridcolor": "white",
            "gridwidth": 2,
            "linecolor": "white",
            "showbackground": true,
            "ticks": "",
            "zerolinecolor": "white"
           },
           "zaxis": {
            "backgroundcolor": "#E5ECF6",
            "gridcolor": "white",
            "gridwidth": 2,
            "linecolor": "white",
            "showbackground": true,
            "ticks": "",
            "zerolinecolor": "white"
           }
          },
          "shapedefaults": {
           "line": {
            "color": "#2a3f5f"
           }
          },
          "ternary": {
           "aaxis": {
            "gridcolor": "white",
            "linecolor": "white",
            "ticks": ""
           },
           "baxis": {
            "gridcolor": "white",
            "linecolor": "white",
            "ticks": ""
           },
           "bgcolor": "#E5ECF6",
           "caxis": {
            "gridcolor": "white",
            "linecolor": "white",
            "ticks": ""
           }
          },
          "title": {
           "x": 0.05
          },
          "xaxis": {
           "automargin": true,
           "gridcolor": "white",
           "linecolor": "white",
           "ticks": "",
           "title": {
            "standoff": 15
           },
           "zerolinecolor": "white",
           "zerolinewidth": 2
          },
          "yaxis": {
           "automargin": true,
           "gridcolor": "white",
           "linecolor": "white",
           "ticks": "",
           "title": {
            "standoff": 15
           },
           "zerolinecolor": "white",
           "zerolinewidth": 2
          }
         }
        },
        "xaxis": {
         "anchor": "y",
         "domain": [
          0,
          1
         ],
         "title": {
          "text": " aunt"
         }
        },
        "yaxis": {
         "anchor": "x",
         "domain": [
          0,
          1
         ],
         "title": {
          "text": " uncle"
         }
        }
       }
      },
      "text/html": [
       "<div>                            <div id=\"0a75b84a-cd4b-49e1-8447-a05a7dd210e6\" class=\"plotly-graph-div\" style=\"height:525px; width:100%;\"></div>            <script type=\"text/javascript\">                require([\"plotly\"], function(Plotly) {                    window.PLOTLYENV=window.PLOTLYENV || {};                                    if (document.getElementById(\"0a75b84a-cd4b-49e1-8447-a05a7dd210e6\")) {                    Plotly.newPlot(                        \"0a75b84a-cd4b-49e1-8447-a05a7dd210e6\",                        [{\"hovertemplate\":\"\\u003cb\\u003e%{hovertext}\\u003c\\u002fb\\u003e\\u003cbr\\u003e\\u003cbr\\u003e aunt=%{x}\\u003cbr\\u003e uncle=%{y}\\u003cbr\\u003eIndex=%{text}\\u003cextra\\u003e\\u003c\\u002fextra\\u003e\",\"hovertext\":[5.0,30.0,36.0,39.0,53.0,58.0,65.0,82.0,105.0,130.0,134.0,153.0,166.0,170.0,171.0,184.0,185.0,188.0,189.0,212.0,220.0,222.0,223.0,227.0,241.0,243.0,249.0,268.0,277.0,284.0,289.0,296.0,306.0,317.0,324.0,327.0,335.0,339.0,359.0,381.0,383.0,402.0,403.0,415.0,430.0,442.0,464.0,472.0,473.0,482.0,499.0,507.0],\"legendgroup\":\"\",\"marker\":{\"color\":\"#636efa\",\"symbol\":\"circle\"},\"mode\":\"markers+text\",\"name\":\"\",\"orientation\":\"v\",\"showlegend\":false,\"text\":[5.0,30.0,36.0,39.0,53.0,58.0,65.0,82.0,105.0,130.0,134.0,153.0,166.0,170.0,171.0,184.0,185.0,188.0,189.0,212.0,220.0,222.0,223.0,227.0,241.0,243.0,249.0,268.0,277.0,284.0,289.0,296.0,306.0,317.0,324.0,327.0,335.0,339.0,359.0,381.0,383.0,402.0,403.0,415.0,430.0,442.0,464.0,472.0,473.0,482.0,499.0,507.0],\"x\":[0.0,0.0,0.0,0.12354247272014618,0.0,0.0,0.0,0.0,0.0,0.0,0.0,0.0,0.0,0.0,0.0,0.0,0.22553999722003937,0.0,0.0,0.13882476091384888,0.0,0.0,0.0,0.16561275720596313,0.0,0.0,0.0,0.0,0.0,0.0,0.12395238876342773,0.0,0.0,0.0,0.0,0.0,0.23731806874275208,0.14972051978111267,0.0,0.0,0.0,0.0,0.0,0.3773062229156494,0.0,0.0,0.3265317380428314,0.0,0.0,0.0,0.17477044463157654,0.0],\"xaxis\":\"x\",\"y\":[0.0,0.0,0.0,0.0,0.0,0.0,0.0,0.0,0.0,0.0,0.0,0.1461615115404129,0.0,0.0,0.0,0.0,0.12445901334285736,0.0,0.0,0.16908937692642212,0.0,0.0,0.0,0.0,0.0,0.0,0.0,0.11201950907707214,0.0,0.0,0.12666121125221252,0.0,0.0,0.0,0.0,0.0,0.17807042598724365,0.0,0.11718863248825073,0.0,0.0,0.0,0.0,0.3481229543685913,0.0,0.0,0.31119197607040405,0.0,0.0,0.0,0.0,0.13465479016304016],\"yaxis\":\"y\",\"type\":\"scatter\"}],                        {\"template\":{\"data\":{\"histogram2dcontour\":[{\"type\":\"histogram2dcontour\",\"colorbar\":{\"outlinewidth\":0,\"ticks\":\"\"},\"colorscale\":[[0.0,\"#0d0887\"],[0.1111111111111111,\"#46039f\"],[0.2222222222222222,\"#7201a8\"],[0.3333333333333333,\"#9c179e\"],[0.4444444444444444,\"#bd3786\"],[0.5555555555555556,\"#d8576b\"],[0.6666666666666666,\"#ed7953\"],[0.7777777777777778,\"#fb9f3a\"],[0.8888888888888888,\"#fdca26\"],[1.0,\"#f0f921\"]]}],\"choropleth\":[{\"type\":\"choropleth\",\"colorbar\":{\"outlinewidth\":0,\"ticks\":\"\"}}],\"histogram2d\":[{\"type\":\"histogram2d\",\"colorbar\":{\"outlinewidth\":0,\"ticks\":\"\"},\"colorscale\":[[0.0,\"#0d0887\"],[0.1111111111111111,\"#46039f\"],[0.2222222222222222,\"#7201a8\"],[0.3333333333333333,\"#9c179e\"],[0.4444444444444444,\"#bd3786\"],[0.5555555555555556,\"#d8576b\"],[0.6666666666666666,\"#ed7953\"],[0.7777777777777778,\"#fb9f3a\"],[0.8888888888888888,\"#fdca26\"],[1.0,\"#f0f921\"]]}],\"heatmap\":[{\"type\":\"heatmap\",\"colorbar\":{\"outlinewidth\":0,\"ticks\":\"\"},\"colorscale\":[[0.0,\"#0d0887\"],[0.1111111111111111,\"#46039f\"],[0.2222222222222222,\"#7201a8\"],[0.3333333333333333,\"#9c179e\"],[0.4444444444444444,\"#bd3786\"],[0.5555555555555556,\"#d8576b\"],[0.6666666666666666,\"#ed7953\"],[0.7777777777777778,\"#fb9f3a\"],[0.8888888888888888,\"#fdca26\"],[1.0,\"#f0f921\"]]}],\"heatmapgl\":[{\"type\":\"heatmapgl\",\"colorbar\":{\"outlinewidth\":0,\"ticks\":\"\"},\"colorscale\":[[0.0,\"#0d0887\"],[0.1111111111111111,\"#46039f\"],[0.2222222222222222,\"#7201a8\"],[0.3333333333333333,\"#9c179e\"],[0.4444444444444444,\"#bd3786\"],[0.5555555555555556,\"#d8576b\"],[0.6666666666666666,\"#ed7953\"],[0.7777777777777778,\"#fb9f3a\"],[0.8888888888888888,\"#fdca26\"],[1.0,\"#f0f921\"]]}],\"contourcarpet\":[{\"type\":\"contourcarpet\",\"colorbar\":{\"outlinewidth\":0,\"ticks\":\"\"}}],\"contour\":[{\"type\":\"contour\",\"colorbar\":{\"outlinewidth\":0,\"ticks\":\"\"},\"colorscale\":[[0.0,\"#0d0887\"],[0.1111111111111111,\"#46039f\"],[0.2222222222222222,\"#7201a8\"],[0.3333333333333333,\"#9c179e\"],[0.4444444444444444,\"#bd3786\"],[0.5555555555555556,\"#d8576b\"],[0.6666666666666666,\"#ed7953\"],[0.7777777777777778,\"#fb9f3a\"],[0.8888888888888888,\"#fdca26\"],[1.0,\"#f0f921\"]]}],\"surface\":[{\"type\":\"surface\",\"colorbar\":{\"outlinewidth\":0,\"ticks\":\"\"},\"colorscale\":[[0.0,\"#0d0887\"],[0.1111111111111111,\"#46039f\"],[0.2222222222222222,\"#7201a8\"],[0.3333333333333333,\"#9c179e\"],[0.4444444444444444,\"#bd3786\"],[0.5555555555555556,\"#d8576b\"],[0.6666666666666666,\"#ed7953\"],[0.7777777777777778,\"#fb9f3a\"],[0.8888888888888888,\"#fdca26\"],[1.0,\"#f0f921\"]]}],\"mesh3d\":[{\"type\":\"mesh3d\",\"colorbar\":{\"outlinewidth\":0,\"ticks\":\"\"}}],\"scatter\":[{\"fillpattern\":{\"fillmode\":\"overlay\",\"size\":10,\"solidity\":0.2},\"type\":\"scatter\"}],\"parcoords\":[{\"type\":\"parcoords\",\"line\":{\"colorbar\":{\"outlinewidth\":0,\"ticks\":\"\"}}}],\"scatterpolargl\":[{\"type\":\"scatterpolargl\",\"marker\":{\"colorbar\":{\"outlinewidth\":0,\"ticks\":\"\"}}}],\"bar\":[{\"error_x\":{\"color\":\"#2a3f5f\"},\"error_y\":{\"color\":\"#2a3f5f\"},\"marker\":{\"line\":{\"color\":\"#E5ECF6\",\"width\":0.5},\"pattern\":{\"fillmode\":\"overlay\",\"size\":10,\"solidity\":0.2}},\"type\":\"bar\"}],\"scattergeo\":[{\"type\":\"scattergeo\",\"marker\":{\"colorbar\":{\"outlinewidth\":0,\"ticks\":\"\"}}}],\"scatterpolar\":[{\"type\":\"scatterpolar\",\"marker\":{\"colorbar\":{\"outlinewidth\":0,\"ticks\":\"\"}}}],\"histogram\":[{\"marker\":{\"pattern\":{\"fillmode\":\"overlay\",\"size\":10,\"solidity\":0.2}},\"type\":\"histogram\"}],\"scattergl\":[{\"type\":\"scattergl\",\"marker\":{\"colorbar\":{\"outlinewidth\":0,\"ticks\":\"\"}}}],\"scatter3d\":[{\"type\":\"scatter3d\",\"line\":{\"colorbar\":{\"outlinewidth\":0,\"ticks\":\"\"}},\"marker\":{\"colorbar\":{\"outlinewidth\":0,\"ticks\":\"\"}}}],\"scattermapbox\":[{\"type\":\"scattermapbox\",\"marker\":{\"colorbar\":{\"outlinewidth\":0,\"ticks\":\"\"}}}],\"scatterternary\":[{\"type\":\"scatterternary\",\"marker\":{\"colorbar\":{\"outlinewidth\":0,\"ticks\":\"\"}}}],\"scattercarpet\":[{\"type\":\"scattercarpet\",\"marker\":{\"colorbar\":{\"outlinewidth\":0,\"ticks\":\"\"}}}],\"carpet\":[{\"aaxis\":{\"endlinecolor\":\"#2a3f5f\",\"gridcolor\":\"white\",\"linecolor\":\"white\",\"minorgridcolor\":\"white\",\"startlinecolor\":\"#2a3f5f\"},\"baxis\":{\"endlinecolor\":\"#2a3f5f\",\"gridcolor\":\"white\",\"linecolor\":\"white\",\"minorgridcolor\":\"white\",\"startlinecolor\":\"#2a3f5f\"},\"type\":\"carpet\"}],\"table\":[{\"cells\":{\"fill\":{\"color\":\"#EBF0F8\"},\"line\":{\"color\":\"white\"}},\"header\":{\"fill\":{\"color\":\"#C8D4E3\"},\"line\":{\"color\":\"white\"}},\"type\":\"table\"}],\"barpolar\":[{\"marker\":{\"line\":{\"color\":\"#E5ECF6\",\"width\":0.5},\"pattern\":{\"fillmode\":\"overlay\",\"size\":10,\"solidity\":0.2}},\"type\":\"barpolar\"}],\"pie\":[{\"automargin\":true,\"type\":\"pie\"}]},\"layout\":{\"autotypenumbers\":\"strict\",\"colorway\":[\"#636efa\",\"#EF553B\",\"#00cc96\",\"#ab63fa\",\"#FFA15A\",\"#19d3f3\",\"#FF6692\",\"#B6E880\",\"#FF97FF\",\"#FECB52\"],\"font\":{\"color\":\"#2a3f5f\"},\"hovermode\":\"closest\",\"hoverlabel\":{\"align\":\"left\"},\"paper_bgcolor\":\"white\",\"plot_bgcolor\":\"#E5ECF6\",\"polar\":{\"bgcolor\":\"#E5ECF6\",\"angularaxis\":{\"gridcolor\":\"white\",\"linecolor\":\"white\",\"ticks\":\"\"},\"radialaxis\":{\"gridcolor\":\"white\",\"linecolor\":\"white\",\"ticks\":\"\"}},\"ternary\":{\"bgcolor\":\"#E5ECF6\",\"aaxis\":{\"gridcolor\":\"white\",\"linecolor\":\"white\",\"ticks\":\"\"},\"baxis\":{\"gridcolor\":\"white\",\"linecolor\":\"white\",\"ticks\":\"\"},\"caxis\":{\"gridcolor\":\"white\",\"linecolor\":\"white\",\"ticks\":\"\"}},\"coloraxis\":{\"colorbar\":{\"outlinewidth\":0,\"ticks\":\"\"}},\"colorscale\":{\"sequential\":[[0.0,\"#0d0887\"],[0.1111111111111111,\"#46039f\"],[0.2222222222222222,\"#7201a8\"],[0.3333333333333333,\"#9c179e\"],[0.4444444444444444,\"#bd3786\"],[0.5555555555555556,\"#d8576b\"],[0.6666666666666666,\"#ed7953\"],[0.7777777777777778,\"#fb9f3a\"],[0.8888888888888888,\"#fdca26\"],[1.0,\"#f0f921\"]],\"sequentialminus\":[[0.0,\"#0d0887\"],[0.1111111111111111,\"#46039f\"],[0.2222222222222222,\"#7201a8\"],[0.3333333333333333,\"#9c179e\"],[0.4444444444444444,\"#bd3786\"],[0.5555555555555556,\"#d8576b\"],[0.6666666666666666,\"#ed7953\"],[0.7777777777777778,\"#fb9f3a\"],[0.8888888888888888,\"#fdca26\"],[1.0,\"#f0f921\"]],\"diverging\":[[0,\"#8e0152\"],[0.1,\"#c51b7d\"],[0.2,\"#de77ae\"],[0.3,\"#f1b6da\"],[0.4,\"#fde0ef\"],[0.5,\"#f7f7f7\"],[0.6,\"#e6f5d0\"],[0.7,\"#b8e186\"],[0.8,\"#7fbc41\"],[0.9,\"#4d9221\"],[1,\"#276419\"]]},\"xaxis\":{\"gridcolor\":\"white\",\"linecolor\":\"white\",\"ticks\":\"\",\"title\":{\"standoff\":15},\"zerolinecolor\":\"white\",\"automargin\":true,\"zerolinewidth\":2},\"yaxis\":{\"gridcolor\":\"white\",\"linecolor\":\"white\",\"ticks\":\"\",\"title\":{\"standoff\":15},\"zerolinecolor\":\"white\",\"automargin\":true,\"zerolinewidth\":2},\"scene\":{\"xaxis\":{\"backgroundcolor\":\"#E5ECF6\",\"gridcolor\":\"white\",\"linecolor\":\"white\",\"showbackground\":true,\"ticks\":\"\",\"zerolinecolor\":\"white\",\"gridwidth\":2},\"yaxis\":{\"backgroundcolor\":\"#E5ECF6\",\"gridcolor\":\"white\",\"linecolor\":\"white\",\"showbackground\":true,\"ticks\":\"\",\"zerolinecolor\":\"white\",\"gridwidth\":2},\"zaxis\":{\"backgroundcolor\":\"#E5ECF6\",\"gridcolor\":\"white\",\"linecolor\":\"white\",\"showbackground\":true,\"ticks\":\"\",\"zerolinecolor\":\"white\",\"gridwidth\":2}},\"shapedefaults\":{\"line\":{\"color\":\"#2a3f5f\"}},\"annotationdefaults\":{\"arrowcolor\":\"#2a3f5f\",\"arrowhead\":0,\"arrowwidth\":1},\"geo\":{\"bgcolor\":\"white\",\"landcolor\":\"#E5ECF6\",\"subunitcolor\":\"white\",\"showland\":true,\"showlakes\":true,\"lakecolor\":\"white\"},\"title\":{\"x\":0.05},\"mapbox\":{\"style\":\"light\"}}},\"xaxis\":{\"anchor\":\"y\",\"domain\":[0.0,1.0],\"title\":{\"text\":\" aunt\"}},\"yaxis\":{\"anchor\":\"x\",\"domain\":[0.0,1.0],\"title\":{\"text\":\" uncle\"}},\"legend\":{\"tracegroupgap\":0},\"margin\":{\"t\":60}},                        {\"responsive\": true}                    ).then(function(){\n",
       "                            \n",
       "var gd = document.getElementById('0a75b84a-cd4b-49e1-8447-a05a7dd210e6');\n",
       "var x = new MutationObserver(function (mutations, observer) {{\n",
       "        var display = window.getComputedStyle(gd).display;\n",
       "        if (!display || display === 'none') {{\n",
       "            console.log([gd, 'removed!']);\n",
       "            Plotly.purge(gd);\n",
       "            observer.disconnect();\n",
       "        }}\n",
       "}});\n",
       "\n",
       "// Listen for the removal of the full notebook cells\n",
       "var notebookContainer = gd.closest('#notebook-container');\n",
       "if (notebookContainer) {{\n",
       "    x.observe(notebookContainer, {childList: true});\n",
       "}}\n",
       "\n",
       "// Listen for the clearing of the current output cell\n",
       "var outputEl = gd.closest('.output');\n",
       "if (outputEl) {{\n",
       "    x.observe(outputEl, {childList: true});\n",
       "}}\n",
       "\n",
       "                        })                };                });            </script>        </div>"
      ]
     },
     "metadata": {},
     "output_type": "display_data"
    }
   ],
   "source": [
    "fig = px.scatter(wide_df, x=\" girl\", y=\" boy\", hover_name=wide_df.index, text=wide_df.index)\n",
    "fig.show()\n",
    "\n",
    "fig = px.scatter(wide_df, x=\" woman\", y=\" man\", hover_name=wide_df.index, text=wide_df.index)\n",
    "fig.show()\n",
    "\n",
    "fig = px.scatter(wide_df, x=\" aunt\", y=\" uncle\", hover_name=wide_df.index, text=wide_df.index)\n",
    "fig.show()"
   ]
  },
  {
   "cell_type": "code",
   "execution_count": 252,
   "metadata": {},
   "outputs": [
    {
     "data": {
      "application/vnd.plotly.v1+json": {
       "config": {
        "plotlyServerURL": "https://plot.ly"
       },
       "data": [
        {
         "hovertemplate": "<b>%{hovertext}</b><br><br> grandma=%{x}<br> grandpa=%{y}<br>Index=%{text}<extra></extra>",
         "hovertext": [
          5,
          30,
          36,
          39,
          53,
          58,
          65,
          82,
          105,
          130,
          134,
          153,
          166,
          170,
          171,
          184,
          185,
          188,
          189,
          212,
          220,
          222,
          223,
          227,
          241,
          243,
          249,
          268,
          277,
          284,
          289,
          296,
          306,
          317,
          324,
          327,
          335,
          339,
          359,
          381,
          383,
          402,
          403,
          415,
          430,
          442,
          464,
          472,
          473,
          482,
          499,
          507
         ],
         "legendgroup": "",
         "marker": {
          "color": "#636efa",
          "symbol": "circle"
         },
         "mode": "markers+text",
         "name": "",
         "orientation": "v",
         "showlegend": false,
         "text": [
          5,
          30,
          36,
          39,
          53,
          58,
          65,
          82,
          105,
          130,
          134,
          153,
          166,
          170,
          171,
          184,
          185,
          188,
          189,
          212,
          220,
          222,
          223,
          227,
          241,
          243,
          249,
          268,
          277,
          284,
          289,
          296,
          306,
          317,
          324,
          327,
          335,
          339,
          359,
          381,
          383,
          402,
          403,
          415,
          430,
          442,
          464,
          472,
          473,
          482,
          499,
          507
         ],
         "type": "scatter",
         "x": [
          0,
          0,
          0.08005400002002716,
          0.07400096952915192,
          0,
          0,
          0,
          0,
          0.11065439134836197,
          0,
          0,
          0,
          0,
          0,
          0,
          0,
          0.10443368554115295,
          0.14571550488471985,
          0,
          0.06609724462032318,
          0,
          0,
          0,
          0,
          0,
          0,
          0,
          0,
          0,
          0.05369717255234718,
          0,
          0,
          0,
          0,
          0,
          0,
          0,
          0,
          0,
          0,
          0,
          0,
          0,
          0.42512327432632446,
          0,
          0,
          0.2805042564868927,
          0,
          0,
          0,
          0,
          0.08489631861448288
         ],
         "xaxis": "x",
         "y": [
          0,
          0.24782606959342957,
          0,
          0,
          0,
          0,
          0,
          0,
          0,
          0,
          0,
          0,
          0,
          0.3025265038013458,
          0.1866948902606964,
          0,
          0,
          0.28122493624687195,
          0,
          0.2313230037689209,
          0,
          0,
          0,
          0,
          0,
          0,
          0,
          0,
          0,
          0,
          0,
          0,
          0,
          0,
          0,
          0,
          0,
          0.2179582417011261,
          0,
          0,
          0,
          0,
          0,
          0.19063390791416168,
          0.23101294040679932,
          0,
          0.3105761408805847,
          0,
          0,
          0,
          0,
          0.18630388379096985
         ],
         "yaxis": "y"
        }
       ],
       "layout": {
        "legend": {
         "tracegroupgap": 0
        },
        "margin": {
         "t": 60
        },
        "template": {
         "data": {
          "bar": [
           {
            "error_x": {
             "color": "#2a3f5f"
            },
            "error_y": {
             "color": "#2a3f5f"
            },
            "marker": {
             "line": {
              "color": "#E5ECF6",
              "width": 0.5
             },
             "pattern": {
              "fillmode": "overlay",
              "size": 10,
              "solidity": 0.2
             }
            },
            "type": "bar"
           }
          ],
          "barpolar": [
           {
            "marker": {
             "line": {
              "color": "#E5ECF6",
              "width": 0.5
             },
             "pattern": {
              "fillmode": "overlay",
              "size": 10,
              "solidity": 0.2
             }
            },
            "type": "barpolar"
           }
          ],
          "carpet": [
           {
            "aaxis": {
             "endlinecolor": "#2a3f5f",
             "gridcolor": "white",
             "linecolor": "white",
             "minorgridcolor": "white",
             "startlinecolor": "#2a3f5f"
            },
            "baxis": {
             "endlinecolor": "#2a3f5f",
             "gridcolor": "white",
             "linecolor": "white",
             "minorgridcolor": "white",
             "startlinecolor": "#2a3f5f"
            },
            "type": "carpet"
           }
          ],
          "choropleth": [
           {
            "colorbar": {
             "outlinewidth": 0,
             "ticks": ""
            },
            "type": "choropleth"
           }
          ],
          "contour": [
           {
            "colorbar": {
             "outlinewidth": 0,
             "ticks": ""
            },
            "colorscale": [
             [
              0,
              "#0d0887"
             ],
             [
              0.1111111111111111,
              "#46039f"
             ],
             [
              0.2222222222222222,
              "#7201a8"
             ],
             [
              0.3333333333333333,
              "#9c179e"
             ],
             [
              0.4444444444444444,
              "#bd3786"
             ],
             [
              0.5555555555555556,
              "#d8576b"
             ],
             [
              0.6666666666666666,
              "#ed7953"
             ],
             [
              0.7777777777777778,
              "#fb9f3a"
             ],
             [
              0.8888888888888888,
              "#fdca26"
             ],
             [
              1,
              "#f0f921"
             ]
            ],
            "type": "contour"
           }
          ],
          "contourcarpet": [
           {
            "colorbar": {
             "outlinewidth": 0,
             "ticks": ""
            },
            "type": "contourcarpet"
           }
          ],
          "heatmap": [
           {
            "colorbar": {
             "outlinewidth": 0,
             "ticks": ""
            },
            "colorscale": [
             [
              0,
              "#0d0887"
             ],
             [
              0.1111111111111111,
              "#46039f"
             ],
             [
              0.2222222222222222,
              "#7201a8"
             ],
             [
              0.3333333333333333,
              "#9c179e"
             ],
             [
              0.4444444444444444,
              "#bd3786"
             ],
             [
              0.5555555555555556,
              "#d8576b"
             ],
             [
              0.6666666666666666,
              "#ed7953"
             ],
             [
              0.7777777777777778,
              "#fb9f3a"
             ],
             [
              0.8888888888888888,
              "#fdca26"
             ],
             [
              1,
              "#f0f921"
             ]
            ],
            "type": "heatmap"
           }
          ],
          "heatmapgl": [
           {
            "colorbar": {
             "outlinewidth": 0,
             "ticks": ""
            },
            "colorscale": [
             [
              0,
              "#0d0887"
             ],
             [
              0.1111111111111111,
              "#46039f"
             ],
             [
              0.2222222222222222,
              "#7201a8"
             ],
             [
              0.3333333333333333,
              "#9c179e"
             ],
             [
              0.4444444444444444,
              "#bd3786"
             ],
             [
              0.5555555555555556,
              "#d8576b"
             ],
             [
              0.6666666666666666,
              "#ed7953"
             ],
             [
              0.7777777777777778,
              "#fb9f3a"
             ],
             [
              0.8888888888888888,
              "#fdca26"
             ],
             [
              1,
              "#f0f921"
             ]
            ],
            "type": "heatmapgl"
           }
          ],
          "histogram": [
           {
            "marker": {
             "pattern": {
              "fillmode": "overlay",
              "size": 10,
              "solidity": 0.2
             }
            },
            "type": "histogram"
           }
          ],
          "histogram2d": [
           {
            "colorbar": {
             "outlinewidth": 0,
             "ticks": ""
            },
            "colorscale": [
             [
              0,
              "#0d0887"
             ],
             [
              0.1111111111111111,
              "#46039f"
             ],
             [
              0.2222222222222222,
              "#7201a8"
             ],
             [
              0.3333333333333333,
              "#9c179e"
             ],
             [
              0.4444444444444444,
              "#bd3786"
             ],
             [
              0.5555555555555556,
              "#d8576b"
             ],
             [
              0.6666666666666666,
              "#ed7953"
             ],
             [
              0.7777777777777778,
              "#fb9f3a"
             ],
             [
              0.8888888888888888,
              "#fdca26"
             ],
             [
              1,
              "#f0f921"
             ]
            ],
            "type": "histogram2d"
           }
          ],
          "histogram2dcontour": [
           {
            "colorbar": {
             "outlinewidth": 0,
             "ticks": ""
            },
            "colorscale": [
             [
              0,
              "#0d0887"
             ],
             [
              0.1111111111111111,
              "#46039f"
             ],
             [
              0.2222222222222222,
              "#7201a8"
             ],
             [
              0.3333333333333333,
              "#9c179e"
             ],
             [
              0.4444444444444444,
              "#bd3786"
             ],
             [
              0.5555555555555556,
              "#d8576b"
             ],
             [
              0.6666666666666666,
              "#ed7953"
             ],
             [
              0.7777777777777778,
              "#fb9f3a"
             ],
             [
              0.8888888888888888,
              "#fdca26"
             ],
             [
              1,
              "#f0f921"
             ]
            ],
            "type": "histogram2dcontour"
           }
          ],
          "mesh3d": [
           {
            "colorbar": {
             "outlinewidth": 0,
             "ticks": ""
            },
            "type": "mesh3d"
           }
          ],
          "parcoords": [
           {
            "line": {
             "colorbar": {
              "outlinewidth": 0,
              "ticks": ""
             }
            },
            "type": "parcoords"
           }
          ],
          "pie": [
           {
            "automargin": true,
            "type": "pie"
           }
          ],
          "scatter": [
           {
            "fillpattern": {
             "fillmode": "overlay",
             "size": 10,
             "solidity": 0.2
            },
            "type": "scatter"
           }
          ],
          "scatter3d": [
           {
            "line": {
             "colorbar": {
              "outlinewidth": 0,
              "ticks": ""
             }
            },
            "marker": {
             "colorbar": {
              "outlinewidth": 0,
              "ticks": ""
             }
            },
            "type": "scatter3d"
           }
          ],
          "scattercarpet": [
           {
            "marker": {
             "colorbar": {
              "outlinewidth": 0,
              "ticks": ""
             }
            },
            "type": "scattercarpet"
           }
          ],
          "scattergeo": [
           {
            "marker": {
             "colorbar": {
              "outlinewidth": 0,
              "ticks": ""
             }
            },
            "type": "scattergeo"
           }
          ],
          "scattergl": [
           {
            "marker": {
             "colorbar": {
              "outlinewidth": 0,
              "ticks": ""
             }
            },
            "type": "scattergl"
           }
          ],
          "scattermapbox": [
           {
            "marker": {
             "colorbar": {
              "outlinewidth": 0,
              "ticks": ""
             }
            },
            "type": "scattermapbox"
           }
          ],
          "scatterpolar": [
           {
            "marker": {
             "colorbar": {
              "outlinewidth": 0,
              "ticks": ""
             }
            },
            "type": "scatterpolar"
           }
          ],
          "scatterpolargl": [
           {
            "marker": {
             "colorbar": {
              "outlinewidth": 0,
              "ticks": ""
             }
            },
            "type": "scatterpolargl"
           }
          ],
          "scatterternary": [
           {
            "marker": {
             "colorbar": {
              "outlinewidth": 0,
              "ticks": ""
             }
            },
            "type": "scatterternary"
           }
          ],
          "surface": [
           {
            "colorbar": {
             "outlinewidth": 0,
             "ticks": ""
            },
            "colorscale": [
             [
              0,
              "#0d0887"
             ],
             [
              0.1111111111111111,
              "#46039f"
             ],
             [
              0.2222222222222222,
              "#7201a8"
             ],
             [
              0.3333333333333333,
              "#9c179e"
             ],
             [
              0.4444444444444444,
              "#bd3786"
             ],
             [
              0.5555555555555556,
              "#d8576b"
             ],
             [
              0.6666666666666666,
              "#ed7953"
             ],
             [
              0.7777777777777778,
              "#fb9f3a"
             ],
             [
              0.8888888888888888,
              "#fdca26"
             ],
             [
              1,
              "#f0f921"
             ]
            ],
            "type": "surface"
           }
          ],
          "table": [
           {
            "cells": {
             "fill": {
              "color": "#EBF0F8"
             },
             "line": {
              "color": "white"
             }
            },
            "header": {
             "fill": {
              "color": "#C8D4E3"
             },
             "line": {
              "color": "white"
             }
            },
            "type": "table"
           }
          ]
         },
         "layout": {
          "annotationdefaults": {
           "arrowcolor": "#2a3f5f",
           "arrowhead": 0,
           "arrowwidth": 1
          },
          "autotypenumbers": "strict",
          "coloraxis": {
           "colorbar": {
            "outlinewidth": 0,
            "ticks": ""
           }
          },
          "colorscale": {
           "diverging": [
            [
             0,
             "#8e0152"
            ],
            [
             0.1,
             "#c51b7d"
            ],
            [
             0.2,
             "#de77ae"
            ],
            [
             0.3,
             "#f1b6da"
            ],
            [
             0.4,
             "#fde0ef"
            ],
            [
             0.5,
             "#f7f7f7"
            ],
            [
             0.6,
             "#e6f5d0"
            ],
            [
             0.7,
             "#b8e186"
            ],
            [
             0.8,
             "#7fbc41"
            ],
            [
             0.9,
             "#4d9221"
            ],
            [
             1,
             "#276419"
            ]
           ],
           "sequential": [
            [
             0,
             "#0d0887"
            ],
            [
             0.1111111111111111,
             "#46039f"
            ],
            [
             0.2222222222222222,
             "#7201a8"
            ],
            [
             0.3333333333333333,
             "#9c179e"
            ],
            [
             0.4444444444444444,
             "#bd3786"
            ],
            [
             0.5555555555555556,
             "#d8576b"
            ],
            [
             0.6666666666666666,
             "#ed7953"
            ],
            [
             0.7777777777777778,
             "#fb9f3a"
            ],
            [
             0.8888888888888888,
             "#fdca26"
            ],
            [
             1,
             "#f0f921"
            ]
           ],
           "sequentialminus": [
            [
             0,
             "#0d0887"
            ],
            [
             0.1111111111111111,
             "#46039f"
            ],
            [
             0.2222222222222222,
             "#7201a8"
            ],
            [
             0.3333333333333333,
             "#9c179e"
            ],
            [
             0.4444444444444444,
             "#bd3786"
            ],
            [
             0.5555555555555556,
             "#d8576b"
            ],
            [
             0.6666666666666666,
             "#ed7953"
            ],
            [
             0.7777777777777778,
             "#fb9f3a"
            ],
            [
             0.8888888888888888,
             "#fdca26"
            ],
            [
             1,
             "#f0f921"
            ]
           ]
          },
          "colorway": [
           "#636efa",
           "#EF553B",
           "#00cc96",
           "#ab63fa",
           "#FFA15A",
           "#19d3f3",
           "#FF6692",
           "#B6E880",
           "#FF97FF",
           "#FECB52"
          ],
          "font": {
           "color": "#2a3f5f"
          },
          "geo": {
           "bgcolor": "white",
           "lakecolor": "white",
           "landcolor": "#E5ECF6",
           "showlakes": true,
           "showland": true,
           "subunitcolor": "white"
          },
          "hoverlabel": {
           "align": "left"
          },
          "hovermode": "closest",
          "mapbox": {
           "style": "light"
          },
          "paper_bgcolor": "white",
          "plot_bgcolor": "#E5ECF6",
          "polar": {
           "angularaxis": {
            "gridcolor": "white",
            "linecolor": "white",
            "ticks": ""
           },
           "bgcolor": "#E5ECF6",
           "radialaxis": {
            "gridcolor": "white",
            "linecolor": "white",
            "ticks": ""
           }
          },
          "scene": {
           "xaxis": {
            "backgroundcolor": "#E5ECF6",
            "gridcolor": "white",
            "gridwidth": 2,
            "linecolor": "white",
            "showbackground": true,
            "ticks": "",
            "zerolinecolor": "white"
           },
           "yaxis": {
            "backgroundcolor": "#E5ECF6",
            "gridcolor": "white",
            "gridwidth": 2,
            "linecolor": "white",
            "showbackground": true,
            "ticks": "",
            "zerolinecolor": "white"
           },
           "zaxis": {
            "backgroundcolor": "#E5ECF6",
            "gridcolor": "white",
            "gridwidth": 2,
            "linecolor": "white",
            "showbackground": true,
            "ticks": "",
            "zerolinecolor": "white"
           }
          },
          "shapedefaults": {
           "line": {
            "color": "#2a3f5f"
           }
          },
          "ternary": {
           "aaxis": {
            "gridcolor": "white",
            "linecolor": "white",
            "ticks": ""
           },
           "baxis": {
            "gridcolor": "white",
            "linecolor": "white",
            "ticks": ""
           },
           "bgcolor": "#E5ECF6",
           "caxis": {
            "gridcolor": "white",
            "linecolor": "white",
            "ticks": ""
           }
          },
          "title": {
           "x": 0.05
          },
          "xaxis": {
           "automargin": true,
           "gridcolor": "white",
           "linecolor": "white",
           "ticks": "",
           "title": {
            "standoff": 15
           },
           "zerolinecolor": "white",
           "zerolinewidth": 2
          },
          "yaxis": {
           "automargin": true,
           "gridcolor": "white",
           "linecolor": "white",
           "ticks": "",
           "title": {
            "standoff": 15
           },
           "zerolinecolor": "white",
           "zerolinewidth": 2
          }
         }
        },
        "xaxis": {
         "anchor": "y",
         "domain": [
          0,
          1
         ],
         "title": {
          "text": " grandma"
         }
        },
        "yaxis": {
         "anchor": "x",
         "domain": [
          0,
          1
         ],
         "title": {
          "text": " grandpa"
         }
        }
       }
      },
      "text/html": [
       "<div>                            <div id=\"866a5b28-09c9-4762-9177-09a765d244a5\" class=\"plotly-graph-div\" style=\"height:525px; width:100%;\"></div>            <script type=\"text/javascript\">                require([\"plotly\"], function(Plotly) {                    window.PLOTLYENV=window.PLOTLYENV || {};                                    if (document.getElementById(\"866a5b28-09c9-4762-9177-09a765d244a5\")) {                    Plotly.newPlot(                        \"866a5b28-09c9-4762-9177-09a765d244a5\",                        [{\"hovertemplate\":\"\\u003cb\\u003e%{hovertext}\\u003c\\u002fb\\u003e\\u003cbr\\u003e\\u003cbr\\u003e grandma=%{x}\\u003cbr\\u003e grandpa=%{y}\\u003cbr\\u003eIndex=%{text}\\u003cextra\\u003e\\u003c\\u002fextra\\u003e\",\"hovertext\":[5.0,30.0,36.0,39.0,53.0,58.0,65.0,82.0,105.0,130.0,134.0,153.0,166.0,170.0,171.0,184.0,185.0,188.0,189.0,212.0,220.0,222.0,223.0,227.0,241.0,243.0,249.0,268.0,277.0,284.0,289.0,296.0,306.0,317.0,324.0,327.0,335.0,339.0,359.0,381.0,383.0,402.0,403.0,415.0,430.0,442.0,464.0,472.0,473.0,482.0,499.0,507.0],\"legendgroup\":\"\",\"marker\":{\"color\":\"#636efa\",\"symbol\":\"circle\"},\"mode\":\"markers+text\",\"name\":\"\",\"orientation\":\"v\",\"showlegend\":false,\"text\":[5.0,30.0,36.0,39.0,53.0,58.0,65.0,82.0,105.0,130.0,134.0,153.0,166.0,170.0,171.0,184.0,185.0,188.0,189.0,212.0,220.0,222.0,223.0,227.0,241.0,243.0,249.0,268.0,277.0,284.0,289.0,296.0,306.0,317.0,324.0,327.0,335.0,339.0,359.0,381.0,383.0,402.0,403.0,415.0,430.0,442.0,464.0,472.0,473.0,482.0,499.0,507.0],\"x\":[0.0,0.0,0.08005400002002716,0.07400096952915192,0.0,0.0,0.0,0.0,0.11065439134836197,0.0,0.0,0.0,0.0,0.0,0.0,0.0,0.10443368554115295,0.14571550488471985,0.0,0.06609724462032318,0.0,0.0,0.0,0.0,0.0,0.0,0.0,0.0,0.0,0.05369717255234718,0.0,0.0,0.0,0.0,0.0,0.0,0.0,0.0,0.0,0.0,0.0,0.0,0.0,0.42512327432632446,0.0,0.0,0.2805042564868927,0.0,0.0,0.0,0.0,0.08489631861448288],\"xaxis\":\"x\",\"y\":[0.0,0.24782606959342957,0.0,0.0,0.0,0.0,0.0,0.0,0.0,0.0,0.0,0.0,0.0,0.3025265038013458,0.1866948902606964,0.0,0.0,0.28122493624687195,0.0,0.2313230037689209,0.0,0.0,0.0,0.0,0.0,0.0,0.0,0.0,0.0,0.0,0.0,0.0,0.0,0.0,0.0,0.0,0.0,0.2179582417011261,0.0,0.0,0.0,0.0,0.0,0.19063390791416168,0.23101294040679932,0.0,0.3105761408805847,0.0,0.0,0.0,0.0,0.18630388379096985],\"yaxis\":\"y\",\"type\":\"scatter\"}],                        {\"template\":{\"data\":{\"histogram2dcontour\":[{\"type\":\"histogram2dcontour\",\"colorbar\":{\"outlinewidth\":0,\"ticks\":\"\"},\"colorscale\":[[0.0,\"#0d0887\"],[0.1111111111111111,\"#46039f\"],[0.2222222222222222,\"#7201a8\"],[0.3333333333333333,\"#9c179e\"],[0.4444444444444444,\"#bd3786\"],[0.5555555555555556,\"#d8576b\"],[0.6666666666666666,\"#ed7953\"],[0.7777777777777778,\"#fb9f3a\"],[0.8888888888888888,\"#fdca26\"],[1.0,\"#f0f921\"]]}],\"choropleth\":[{\"type\":\"choropleth\",\"colorbar\":{\"outlinewidth\":0,\"ticks\":\"\"}}],\"histogram2d\":[{\"type\":\"histogram2d\",\"colorbar\":{\"outlinewidth\":0,\"ticks\":\"\"},\"colorscale\":[[0.0,\"#0d0887\"],[0.1111111111111111,\"#46039f\"],[0.2222222222222222,\"#7201a8\"],[0.3333333333333333,\"#9c179e\"],[0.4444444444444444,\"#bd3786\"],[0.5555555555555556,\"#d8576b\"],[0.6666666666666666,\"#ed7953\"],[0.7777777777777778,\"#fb9f3a\"],[0.8888888888888888,\"#fdca26\"],[1.0,\"#f0f921\"]]}],\"heatmap\":[{\"type\":\"heatmap\",\"colorbar\":{\"outlinewidth\":0,\"ticks\":\"\"},\"colorscale\":[[0.0,\"#0d0887\"],[0.1111111111111111,\"#46039f\"],[0.2222222222222222,\"#7201a8\"],[0.3333333333333333,\"#9c179e\"],[0.4444444444444444,\"#bd3786\"],[0.5555555555555556,\"#d8576b\"],[0.6666666666666666,\"#ed7953\"],[0.7777777777777778,\"#fb9f3a\"],[0.8888888888888888,\"#fdca26\"],[1.0,\"#f0f921\"]]}],\"heatmapgl\":[{\"type\":\"heatmapgl\",\"colorbar\":{\"outlinewidth\":0,\"ticks\":\"\"},\"colorscale\":[[0.0,\"#0d0887\"],[0.1111111111111111,\"#46039f\"],[0.2222222222222222,\"#7201a8\"],[0.3333333333333333,\"#9c179e\"],[0.4444444444444444,\"#bd3786\"],[0.5555555555555556,\"#d8576b\"],[0.6666666666666666,\"#ed7953\"],[0.7777777777777778,\"#fb9f3a\"],[0.8888888888888888,\"#fdca26\"],[1.0,\"#f0f921\"]]}],\"contourcarpet\":[{\"type\":\"contourcarpet\",\"colorbar\":{\"outlinewidth\":0,\"ticks\":\"\"}}],\"contour\":[{\"type\":\"contour\",\"colorbar\":{\"outlinewidth\":0,\"ticks\":\"\"},\"colorscale\":[[0.0,\"#0d0887\"],[0.1111111111111111,\"#46039f\"],[0.2222222222222222,\"#7201a8\"],[0.3333333333333333,\"#9c179e\"],[0.4444444444444444,\"#bd3786\"],[0.5555555555555556,\"#d8576b\"],[0.6666666666666666,\"#ed7953\"],[0.7777777777777778,\"#fb9f3a\"],[0.8888888888888888,\"#fdca26\"],[1.0,\"#f0f921\"]]}],\"surface\":[{\"type\":\"surface\",\"colorbar\":{\"outlinewidth\":0,\"ticks\":\"\"},\"colorscale\":[[0.0,\"#0d0887\"],[0.1111111111111111,\"#46039f\"],[0.2222222222222222,\"#7201a8\"],[0.3333333333333333,\"#9c179e\"],[0.4444444444444444,\"#bd3786\"],[0.5555555555555556,\"#d8576b\"],[0.6666666666666666,\"#ed7953\"],[0.7777777777777778,\"#fb9f3a\"],[0.8888888888888888,\"#fdca26\"],[1.0,\"#f0f921\"]]}],\"mesh3d\":[{\"type\":\"mesh3d\",\"colorbar\":{\"outlinewidth\":0,\"ticks\":\"\"}}],\"scatter\":[{\"fillpattern\":{\"fillmode\":\"overlay\",\"size\":10,\"solidity\":0.2},\"type\":\"scatter\"}],\"parcoords\":[{\"type\":\"parcoords\",\"line\":{\"colorbar\":{\"outlinewidth\":0,\"ticks\":\"\"}}}],\"scatterpolargl\":[{\"type\":\"scatterpolargl\",\"marker\":{\"colorbar\":{\"outlinewidth\":0,\"ticks\":\"\"}}}],\"bar\":[{\"error_x\":{\"color\":\"#2a3f5f\"},\"error_y\":{\"color\":\"#2a3f5f\"},\"marker\":{\"line\":{\"color\":\"#E5ECF6\",\"width\":0.5},\"pattern\":{\"fillmode\":\"overlay\",\"size\":10,\"solidity\":0.2}},\"type\":\"bar\"}],\"scattergeo\":[{\"type\":\"scattergeo\",\"marker\":{\"colorbar\":{\"outlinewidth\":0,\"ticks\":\"\"}}}],\"scatterpolar\":[{\"type\":\"scatterpolar\",\"marker\":{\"colorbar\":{\"outlinewidth\":0,\"ticks\":\"\"}}}],\"histogram\":[{\"marker\":{\"pattern\":{\"fillmode\":\"overlay\",\"size\":10,\"solidity\":0.2}},\"type\":\"histogram\"}],\"scattergl\":[{\"type\":\"scattergl\",\"marker\":{\"colorbar\":{\"outlinewidth\":0,\"ticks\":\"\"}}}],\"scatter3d\":[{\"type\":\"scatter3d\",\"line\":{\"colorbar\":{\"outlinewidth\":0,\"ticks\":\"\"}},\"marker\":{\"colorbar\":{\"outlinewidth\":0,\"ticks\":\"\"}}}],\"scattermapbox\":[{\"type\":\"scattermapbox\",\"marker\":{\"colorbar\":{\"outlinewidth\":0,\"ticks\":\"\"}}}],\"scatterternary\":[{\"type\":\"scatterternary\",\"marker\":{\"colorbar\":{\"outlinewidth\":0,\"ticks\":\"\"}}}],\"scattercarpet\":[{\"type\":\"scattercarpet\",\"marker\":{\"colorbar\":{\"outlinewidth\":0,\"ticks\":\"\"}}}],\"carpet\":[{\"aaxis\":{\"endlinecolor\":\"#2a3f5f\",\"gridcolor\":\"white\",\"linecolor\":\"white\",\"minorgridcolor\":\"white\",\"startlinecolor\":\"#2a3f5f\"},\"baxis\":{\"endlinecolor\":\"#2a3f5f\",\"gridcolor\":\"white\",\"linecolor\":\"white\",\"minorgridcolor\":\"white\",\"startlinecolor\":\"#2a3f5f\"},\"type\":\"carpet\"}],\"table\":[{\"cells\":{\"fill\":{\"color\":\"#EBF0F8\"},\"line\":{\"color\":\"white\"}},\"header\":{\"fill\":{\"color\":\"#C8D4E3\"},\"line\":{\"color\":\"white\"}},\"type\":\"table\"}],\"barpolar\":[{\"marker\":{\"line\":{\"color\":\"#E5ECF6\",\"width\":0.5},\"pattern\":{\"fillmode\":\"overlay\",\"size\":10,\"solidity\":0.2}},\"type\":\"barpolar\"}],\"pie\":[{\"automargin\":true,\"type\":\"pie\"}]},\"layout\":{\"autotypenumbers\":\"strict\",\"colorway\":[\"#636efa\",\"#EF553B\",\"#00cc96\",\"#ab63fa\",\"#FFA15A\",\"#19d3f3\",\"#FF6692\",\"#B6E880\",\"#FF97FF\",\"#FECB52\"],\"font\":{\"color\":\"#2a3f5f\"},\"hovermode\":\"closest\",\"hoverlabel\":{\"align\":\"left\"},\"paper_bgcolor\":\"white\",\"plot_bgcolor\":\"#E5ECF6\",\"polar\":{\"bgcolor\":\"#E5ECF6\",\"angularaxis\":{\"gridcolor\":\"white\",\"linecolor\":\"white\",\"ticks\":\"\"},\"radialaxis\":{\"gridcolor\":\"white\",\"linecolor\":\"white\",\"ticks\":\"\"}},\"ternary\":{\"bgcolor\":\"#E5ECF6\",\"aaxis\":{\"gridcolor\":\"white\",\"linecolor\":\"white\",\"ticks\":\"\"},\"baxis\":{\"gridcolor\":\"white\",\"linecolor\":\"white\",\"ticks\":\"\"},\"caxis\":{\"gridcolor\":\"white\",\"linecolor\":\"white\",\"ticks\":\"\"}},\"coloraxis\":{\"colorbar\":{\"outlinewidth\":0,\"ticks\":\"\"}},\"colorscale\":{\"sequential\":[[0.0,\"#0d0887\"],[0.1111111111111111,\"#46039f\"],[0.2222222222222222,\"#7201a8\"],[0.3333333333333333,\"#9c179e\"],[0.4444444444444444,\"#bd3786\"],[0.5555555555555556,\"#d8576b\"],[0.6666666666666666,\"#ed7953\"],[0.7777777777777778,\"#fb9f3a\"],[0.8888888888888888,\"#fdca26\"],[1.0,\"#f0f921\"]],\"sequentialminus\":[[0.0,\"#0d0887\"],[0.1111111111111111,\"#46039f\"],[0.2222222222222222,\"#7201a8\"],[0.3333333333333333,\"#9c179e\"],[0.4444444444444444,\"#bd3786\"],[0.5555555555555556,\"#d8576b\"],[0.6666666666666666,\"#ed7953\"],[0.7777777777777778,\"#fb9f3a\"],[0.8888888888888888,\"#fdca26\"],[1.0,\"#f0f921\"]],\"diverging\":[[0,\"#8e0152\"],[0.1,\"#c51b7d\"],[0.2,\"#de77ae\"],[0.3,\"#f1b6da\"],[0.4,\"#fde0ef\"],[0.5,\"#f7f7f7\"],[0.6,\"#e6f5d0\"],[0.7,\"#b8e186\"],[0.8,\"#7fbc41\"],[0.9,\"#4d9221\"],[1,\"#276419\"]]},\"xaxis\":{\"gridcolor\":\"white\",\"linecolor\":\"white\",\"ticks\":\"\",\"title\":{\"standoff\":15},\"zerolinecolor\":\"white\",\"automargin\":true,\"zerolinewidth\":2},\"yaxis\":{\"gridcolor\":\"white\",\"linecolor\":\"white\",\"ticks\":\"\",\"title\":{\"standoff\":15},\"zerolinecolor\":\"white\",\"automargin\":true,\"zerolinewidth\":2},\"scene\":{\"xaxis\":{\"backgroundcolor\":\"#E5ECF6\",\"gridcolor\":\"white\",\"linecolor\":\"white\",\"showbackground\":true,\"ticks\":\"\",\"zerolinecolor\":\"white\",\"gridwidth\":2},\"yaxis\":{\"backgroundcolor\":\"#E5ECF6\",\"gridcolor\":\"white\",\"linecolor\":\"white\",\"showbackground\":true,\"ticks\":\"\",\"zerolinecolor\":\"white\",\"gridwidth\":2},\"zaxis\":{\"backgroundcolor\":\"#E5ECF6\",\"gridcolor\":\"white\",\"linecolor\":\"white\",\"showbackground\":true,\"ticks\":\"\",\"zerolinecolor\":\"white\",\"gridwidth\":2}},\"shapedefaults\":{\"line\":{\"color\":\"#2a3f5f\"}},\"annotationdefaults\":{\"arrowcolor\":\"#2a3f5f\",\"arrowhead\":0,\"arrowwidth\":1},\"geo\":{\"bgcolor\":\"white\",\"landcolor\":\"#E5ECF6\",\"subunitcolor\":\"white\",\"showland\":true,\"showlakes\":true,\"lakecolor\":\"white\"},\"title\":{\"x\":0.05},\"mapbox\":{\"style\":\"light\"}}},\"xaxis\":{\"anchor\":\"y\",\"domain\":[0.0,1.0],\"title\":{\"text\":\" grandma\"}},\"yaxis\":{\"anchor\":\"x\",\"domain\":[0.0,1.0],\"title\":{\"text\":\" grandpa\"}},\"legend\":{\"tracegroupgap\":0},\"margin\":{\"t\":60}},                        {\"responsive\": true}                    ).then(function(){\n",
       "                            \n",
       "var gd = document.getElementById('866a5b28-09c9-4762-9177-09a765d244a5');\n",
       "var x = new MutationObserver(function (mutations, observer) {{\n",
       "        var display = window.getComputedStyle(gd).display;\n",
       "        if (!display || display === 'none') {{\n",
       "            console.log([gd, 'removed!']);\n",
       "            Plotly.purge(gd);\n",
       "            observer.disconnect();\n",
       "        }}\n",
       "}});\n",
       "\n",
       "// Listen for the removal of the full notebook cells\n",
       "var notebookContainer = gd.closest('#notebook-container');\n",
       "if (notebookContainer) {{\n",
       "    x.observe(notebookContainer, {childList: true});\n",
       "}}\n",
       "\n",
       "// Listen for the clearing of the current output cell\n",
       "var outputEl = gd.closest('.output');\n",
       "if (outputEl) {{\n",
       "    x.observe(outputEl, {childList: true});\n",
       "}}\n",
       "\n",
       "                        })                };                });            </script>        </div>"
      ]
     },
     "metadata": {},
     "output_type": "display_data"
    }
   ],
   "source": [
    "fig = px.scatter(wide_df, x=\" grandma\", y=\" grandpa\", hover_name=wide_df.index, text=wide_df.index)\n",
    "fig.show()"
   ]
  },
  {
   "cell_type": "code",
   "execution_count": 253,
   "metadata": {},
   "outputs": [
    {
     "data": {
      "application/vnd.plotly.v1+json": {
       "config": {
        "plotlyServerURL": "https://plot.ly"
       },
       "data": [
        {
         "hovertemplate": "<b>%{hovertext}</b><br><br> old=%{x}<br> grandpa=%{y}<br>Index=%{text}<extra></extra>",
         "hovertext": [
          5,
          30,
          36,
          39,
          53,
          58,
          65,
          82,
          105,
          130,
          134,
          153,
          166,
          170,
          171,
          184,
          185,
          188,
          189,
          212,
          220,
          222,
          223,
          227,
          241,
          243,
          249,
          268,
          277,
          284,
          289,
          296,
          306,
          317,
          324,
          327,
          335,
          339,
          359,
          381,
          383,
          402,
          403,
          415,
          430,
          442,
          464,
          472,
          473,
          482,
          499,
          507
         ],
         "legendgroup": "",
         "marker": {
          "color": "#636efa",
          "symbol": "circle"
         },
         "mode": "markers+text",
         "name": "",
         "orientation": "v",
         "showlegend": false,
         "text": [
          5,
          30,
          36,
          39,
          53,
          58,
          65,
          82,
          105,
          130,
          134,
          153,
          166,
          170,
          171,
          184,
          185,
          188,
          189,
          212,
          220,
          222,
          223,
          227,
          241,
          243,
          249,
          268,
          277,
          284,
          289,
          296,
          306,
          317,
          324,
          327,
          335,
          339,
          359,
          381,
          383,
          402,
          403,
          415,
          430,
          442,
          464,
          472,
          473,
          482,
          499,
          507
         ],
         "type": "scatter",
         "x": [
          0,
          0,
          0,
          0,
          0.21531471610069275,
          0,
          0,
          0,
          0.19592246413230896,
          0.10713255405426025,
          0,
          0,
          0,
          0,
          0,
          0,
          0,
          0,
          0.11272571980953217,
          0,
          0,
          0.11791877448558807,
          0,
          0,
          0,
          0,
          0,
          0,
          0,
          0,
          0,
          0,
          0,
          0.2190222442150116,
          0.2390446662902832,
          0.09913526475429535,
          0,
          0,
          0,
          0,
          0,
          0,
          0.17670825123786926,
          0,
          0,
          0,
          0.32833394408226013,
          0,
          0,
          0,
          0,
          0
         ],
         "xaxis": "x",
         "y": [
          0,
          0.24782606959342957,
          0,
          0,
          0,
          0,
          0,
          0,
          0,
          0,
          0,
          0,
          0,
          0.3025265038013458,
          0.1866948902606964,
          0,
          0,
          0.28122493624687195,
          0,
          0.2313230037689209,
          0,
          0,
          0,
          0,
          0,
          0,
          0,
          0,
          0,
          0,
          0,
          0,
          0,
          0,
          0,
          0,
          0,
          0.2179582417011261,
          0,
          0,
          0,
          0,
          0,
          0.19063390791416168,
          0.23101294040679932,
          0,
          0.3105761408805847,
          0,
          0,
          0,
          0,
          0.18630388379096985
         ],
         "yaxis": "y"
        }
       ],
       "layout": {
        "legend": {
         "tracegroupgap": 0
        },
        "margin": {
         "t": 60
        },
        "template": {
         "data": {
          "bar": [
           {
            "error_x": {
             "color": "#2a3f5f"
            },
            "error_y": {
             "color": "#2a3f5f"
            },
            "marker": {
             "line": {
              "color": "#E5ECF6",
              "width": 0.5
             },
             "pattern": {
              "fillmode": "overlay",
              "size": 10,
              "solidity": 0.2
             }
            },
            "type": "bar"
           }
          ],
          "barpolar": [
           {
            "marker": {
             "line": {
              "color": "#E5ECF6",
              "width": 0.5
             },
             "pattern": {
              "fillmode": "overlay",
              "size": 10,
              "solidity": 0.2
             }
            },
            "type": "barpolar"
           }
          ],
          "carpet": [
           {
            "aaxis": {
             "endlinecolor": "#2a3f5f",
             "gridcolor": "white",
             "linecolor": "white",
             "minorgridcolor": "white",
             "startlinecolor": "#2a3f5f"
            },
            "baxis": {
             "endlinecolor": "#2a3f5f",
             "gridcolor": "white",
             "linecolor": "white",
             "minorgridcolor": "white",
             "startlinecolor": "#2a3f5f"
            },
            "type": "carpet"
           }
          ],
          "choropleth": [
           {
            "colorbar": {
             "outlinewidth": 0,
             "ticks": ""
            },
            "type": "choropleth"
           }
          ],
          "contour": [
           {
            "colorbar": {
             "outlinewidth": 0,
             "ticks": ""
            },
            "colorscale": [
             [
              0,
              "#0d0887"
             ],
             [
              0.1111111111111111,
              "#46039f"
             ],
             [
              0.2222222222222222,
              "#7201a8"
             ],
             [
              0.3333333333333333,
              "#9c179e"
             ],
             [
              0.4444444444444444,
              "#bd3786"
             ],
             [
              0.5555555555555556,
              "#d8576b"
             ],
             [
              0.6666666666666666,
              "#ed7953"
             ],
             [
              0.7777777777777778,
              "#fb9f3a"
             ],
             [
              0.8888888888888888,
              "#fdca26"
             ],
             [
              1,
              "#f0f921"
             ]
            ],
            "type": "contour"
           }
          ],
          "contourcarpet": [
           {
            "colorbar": {
             "outlinewidth": 0,
             "ticks": ""
            },
            "type": "contourcarpet"
           }
          ],
          "heatmap": [
           {
            "colorbar": {
             "outlinewidth": 0,
             "ticks": ""
            },
            "colorscale": [
             [
              0,
              "#0d0887"
             ],
             [
              0.1111111111111111,
              "#46039f"
             ],
             [
              0.2222222222222222,
              "#7201a8"
             ],
             [
              0.3333333333333333,
              "#9c179e"
             ],
             [
              0.4444444444444444,
              "#bd3786"
             ],
             [
              0.5555555555555556,
              "#d8576b"
             ],
             [
              0.6666666666666666,
              "#ed7953"
             ],
             [
              0.7777777777777778,
              "#fb9f3a"
             ],
             [
              0.8888888888888888,
              "#fdca26"
             ],
             [
              1,
              "#f0f921"
             ]
            ],
            "type": "heatmap"
           }
          ],
          "heatmapgl": [
           {
            "colorbar": {
             "outlinewidth": 0,
             "ticks": ""
            },
            "colorscale": [
             [
              0,
              "#0d0887"
             ],
             [
              0.1111111111111111,
              "#46039f"
             ],
             [
              0.2222222222222222,
              "#7201a8"
             ],
             [
              0.3333333333333333,
              "#9c179e"
             ],
             [
              0.4444444444444444,
              "#bd3786"
             ],
             [
              0.5555555555555556,
              "#d8576b"
             ],
             [
              0.6666666666666666,
              "#ed7953"
             ],
             [
              0.7777777777777778,
              "#fb9f3a"
             ],
             [
              0.8888888888888888,
              "#fdca26"
             ],
             [
              1,
              "#f0f921"
             ]
            ],
            "type": "heatmapgl"
           }
          ],
          "histogram": [
           {
            "marker": {
             "pattern": {
              "fillmode": "overlay",
              "size": 10,
              "solidity": 0.2
             }
            },
            "type": "histogram"
           }
          ],
          "histogram2d": [
           {
            "colorbar": {
             "outlinewidth": 0,
             "ticks": ""
            },
            "colorscale": [
             [
              0,
              "#0d0887"
             ],
             [
              0.1111111111111111,
              "#46039f"
             ],
             [
              0.2222222222222222,
              "#7201a8"
             ],
             [
              0.3333333333333333,
              "#9c179e"
             ],
             [
              0.4444444444444444,
              "#bd3786"
             ],
             [
              0.5555555555555556,
              "#d8576b"
             ],
             [
              0.6666666666666666,
              "#ed7953"
             ],
             [
              0.7777777777777778,
              "#fb9f3a"
             ],
             [
              0.8888888888888888,
              "#fdca26"
             ],
             [
              1,
              "#f0f921"
             ]
            ],
            "type": "histogram2d"
           }
          ],
          "histogram2dcontour": [
           {
            "colorbar": {
             "outlinewidth": 0,
             "ticks": ""
            },
            "colorscale": [
             [
              0,
              "#0d0887"
             ],
             [
              0.1111111111111111,
              "#46039f"
             ],
             [
              0.2222222222222222,
              "#7201a8"
             ],
             [
              0.3333333333333333,
              "#9c179e"
             ],
             [
              0.4444444444444444,
              "#bd3786"
             ],
             [
              0.5555555555555556,
              "#d8576b"
             ],
             [
              0.6666666666666666,
              "#ed7953"
             ],
             [
              0.7777777777777778,
              "#fb9f3a"
             ],
             [
              0.8888888888888888,
              "#fdca26"
             ],
             [
              1,
              "#f0f921"
             ]
            ],
            "type": "histogram2dcontour"
           }
          ],
          "mesh3d": [
           {
            "colorbar": {
             "outlinewidth": 0,
             "ticks": ""
            },
            "type": "mesh3d"
           }
          ],
          "parcoords": [
           {
            "line": {
             "colorbar": {
              "outlinewidth": 0,
              "ticks": ""
             }
            },
            "type": "parcoords"
           }
          ],
          "pie": [
           {
            "automargin": true,
            "type": "pie"
           }
          ],
          "scatter": [
           {
            "fillpattern": {
             "fillmode": "overlay",
             "size": 10,
             "solidity": 0.2
            },
            "type": "scatter"
           }
          ],
          "scatter3d": [
           {
            "line": {
             "colorbar": {
              "outlinewidth": 0,
              "ticks": ""
             }
            },
            "marker": {
             "colorbar": {
              "outlinewidth": 0,
              "ticks": ""
             }
            },
            "type": "scatter3d"
           }
          ],
          "scattercarpet": [
           {
            "marker": {
             "colorbar": {
              "outlinewidth": 0,
              "ticks": ""
             }
            },
            "type": "scattercarpet"
           }
          ],
          "scattergeo": [
           {
            "marker": {
             "colorbar": {
              "outlinewidth": 0,
              "ticks": ""
             }
            },
            "type": "scattergeo"
           }
          ],
          "scattergl": [
           {
            "marker": {
             "colorbar": {
              "outlinewidth": 0,
              "ticks": ""
             }
            },
            "type": "scattergl"
           }
          ],
          "scattermapbox": [
           {
            "marker": {
             "colorbar": {
              "outlinewidth": 0,
              "ticks": ""
             }
            },
            "type": "scattermapbox"
           }
          ],
          "scatterpolar": [
           {
            "marker": {
             "colorbar": {
              "outlinewidth": 0,
              "ticks": ""
             }
            },
            "type": "scatterpolar"
           }
          ],
          "scatterpolargl": [
           {
            "marker": {
             "colorbar": {
              "outlinewidth": 0,
              "ticks": ""
             }
            },
            "type": "scatterpolargl"
           }
          ],
          "scatterternary": [
           {
            "marker": {
             "colorbar": {
              "outlinewidth": 0,
              "ticks": ""
             }
            },
            "type": "scatterternary"
           }
          ],
          "surface": [
           {
            "colorbar": {
             "outlinewidth": 0,
             "ticks": ""
            },
            "colorscale": [
             [
              0,
              "#0d0887"
             ],
             [
              0.1111111111111111,
              "#46039f"
             ],
             [
              0.2222222222222222,
              "#7201a8"
             ],
             [
              0.3333333333333333,
              "#9c179e"
             ],
             [
              0.4444444444444444,
              "#bd3786"
             ],
             [
              0.5555555555555556,
              "#d8576b"
             ],
             [
              0.6666666666666666,
              "#ed7953"
             ],
             [
              0.7777777777777778,
              "#fb9f3a"
             ],
             [
              0.8888888888888888,
              "#fdca26"
             ],
             [
              1,
              "#f0f921"
             ]
            ],
            "type": "surface"
           }
          ],
          "table": [
           {
            "cells": {
             "fill": {
              "color": "#EBF0F8"
             },
             "line": {
              "color": "white"
             }
            },
            "header": {
             "fill": {
              "color": "#C8D4E3"
             },
             "line": {
              "color": "white"
             }
            },
            "type": "table"
           }
          ]
         },
         "layout": {
          "annotationdefaults": {
           "arrowcolor": "#2a3f5f",
           "arrowhead": 0,
           "arrowwidth": 1
          },
          "autotypenumbers": "strict",
          "coloraxis": {
           "colorbar": {
            "outlinewidth": 0,
            "ticks": ""
           }
          },
          "colorscale": {
           "diverging": [
            [
             0,
             "#8e0152"
            ],
            [
             0.1,
             "#c51b7d"
            ],
            [
             0.2,
             "#de77ae"
            ],
            [
             0.3,
             "#f1b6da"
            ],
            [
             0.4,
             "#fde0ef"
            ],
            [
             0.5,
             "#f7f7f7"
            ],
            [
             0.6,
             "#e6f5d0"
            ],
            [
             0.7,
             "#b8e186"
            ],
            [
             0.8,
             "#7fbc41"
            ],
            [
             0.9,
             "#4d9221"
            ],
            [
             1,
             "#276419"
            ]
           ],
           "sequential": [
            [
             0,
             "#0d0887"
            ],
            [
             0.1111111111111111,
             "#46039f"
            ],
            [
             0.2222222222222222,
             "#7201a8"
            ],
            [
             0.3333333333333333,
             "#9c179e"
            ],
            [
             0.4444444444444444,
             "#bd3786"
            ],
            [
             0.5555555555555556,
             "#d8576b"
            ],
            [
             0.6666666666666666,
             "#ed7953"
            ],
            [
             0.7777777777777778,
             "#fb9f3a"
            ],
            [
             0.8888888888888888,
             "#fdca26"
            ],
            [
             1,
             "#f0f921"
            ]
           ],
           "sequentialminus": [
            [
             0,
             "#0d0887"
            ],
            [
             0.1111111111111111,
             "#46039f"
            ],
            [
             0.2222222222222222,
             "#7201a8"
            ],
            [
             0.3333333333333333,
             "#9c179e"
            ],
            [
             0.4444444444444444,
             "#bd3786"
            ],
            [
             0.5555555555555556,
             "#d8576b"
            ],
            [
             0.6666666666666666,
             "#ed7953"
            ],
            [
             0.7777777777777778,
             "#fb9f3a"
            ],
            [
             0.8888888888888888,
             "#fdca26"
            ],
            [
             1,
             "#f0f921"
            ]
           ]
          },
          "colorway": [
           "#636efa",
           "#EF553B",
           "#00cc96",
           "#ab63fa",
           "#FFA15A",
           "#19d3f3",
           "#FF6692",
           "#B6E880",
           "#FF97FF",
           "#FECB52"
          ],
          "font": {
           "color": "#2a3f5f"
          },
          "geo": {
           "bgcolor": "white",
           "lakecolor": "white",
           "landcolor": "#E5ECF6",
           "showlakes": true,
           "showland": true,
           "subunitcolor": "white"
          },
          "hoverlabel": {
           "align": "left"
          },
          "hovermode": "closest",
          "mapbox": {
           "style": "light"
          },
          "paper_bgcolor": "white",
          "plot_bgcolor": "#E5ECF6",
          "polar": {
           "angularaxis": {
            "gridcolor": "white",
            "linecolor": "white",
            "ticks": ""
           },
           "bgcolor": "#E5ECF6",
           "radialaxis": {
            "gridcolor": "white",
            "linecolor": "white",
            "ticks": ""
           }
          },
          "scene": {
           "xaxis": {
            "backgroundcolor": "#E5ECF6",
            "gridcolor": "white",
            "gridwidth": 2,
            "linecolor": "white",
            "showbackground": true,
            "ticks": "",
            "zerolinecolor": "white"
           },
           "yaxis": {
            "backgroundcolor": "#E5ECF6",
            "gridcolor": "white",
            "gridwidth": 2,
            "linecolor": "white",
            "showbackground": true,
            "ticks": "",
            "zerolinecolor": "white"
           },
           "zaxis": {
            "backgroundcolor": "#E5ECF6",
            "gridcolor": "white",
            "gridwidth": 2,
            "linecolor": "white",
            "showbackground": true,
            "ticks": "",
            "zerolinecolor": "white"
           }
          },
          "shapedefaults": {
           "line": {
            "color": "#2a3f5f"
           }
          },
          "ternary": {
           "aaxis": {
            "gridcolor": "white",
            "linecolor": "white",
            "ticks": ""
           },
           "baxis": {
            "gridcolor": "white",
            "linecolor": "white",
            "ticks": ""
           },
           "bgcolor": "#E5ECF6",
           "caxis": {
            "gridcolor": "white",
            "linecolor": "white",
            "ticks": ""
           }
          },
          "title": {
           "x": 0.05
          },
          "xaxis": {
           "automargin": true,
           "gridcolor": "white",
           "linecolor": "white",
           "ticks": "",
           "title": {
            "standoff": 15
           },
           "zerolinecolor": "white",
           "zerolinewidth": 2
          },
          "yaxis": {
           "automargin": true,
           "gridcolor": "white",
           "linecolor": "white",
           "ticks": "",
           "title": {
            "standoff": 15
           },
           "zerolinecolor": "white",
           "zerolinewidth": 2
          }
         }
        },
        "xaxis": {
         "anchor": "y",
         "domain": [
          0,
          1
         ],
         "title": {
          "text": " old"
         }
        },
        "yaxis": {
         "anchor": "x",
         "domain": [
          0,
          1
         ],
         "title": {
          "text": " grandpa"
         }
        }
       }
      },
      "text/html": [
       "<div>                            <div id=\"b2424925-f564-4c13-9e00-4f03e15ea920\" class=\"plotly-graph-div\" style=\"height:525px; width:100%;\"></div>            <script type=\"text/javascript\">                require([\"plotly\"], function(Plotly) {                    window.PLOTLYENV=window.PLOTLYENV || {};                                    if (document.getElementById(\"b2424925-f564-4c13-9e00-4f03e15ea920\")) {                    Plotly.newPlot(                        \"b2424925-f564-4c13-9e00-4f03e15ea920\",                        [{\"hovertemplate\":\"\\u003cb\\u003e%{hovertext}\\u003c\\u002fb\\u003e\\u003cbr\\u003e\\u003cbr\\u003e old=%{x}\\u003cbr\\u003e grandpa=%{y}\\u003cbr\\u003eIndex=%{text}\\u003cextra\\u003e\\u003c\\u002fextra\\u003e\",\"hovertext\":[5.0,30.0,36.0,39.0,53.0,58.0,65.0,82.0,105.0,130.0,134.0,153.0,166.0,170.0,171.0,184.0,185.0,188.0,189.0,212.0,220.0,222.0,223.0,227.0,241.0,243.0,249.0,268.0,277.0,284.0,289.0,296.0,306.0,317.0,324.0,327.0,335.0,339.0,359.0,381.0,383.0,402.0,403.0,415.0,430.0,442.0,464.0,472.0,473.0,482.0,499.0,507.0],\"legendgroup\":\"\",\"marker\":{\"color\":\"#636efa\",\"symbol\":\"circle\"},\"mode\":\"markers+text\",\"name\":\"\",\"orientation\":\"v\",\"showlegend\":false,\"text\":[5.0,30.0,36.0,39.0,53.0,58.0,65.0,82.0,105.0,130.0,134.0,153.0,166.0,170.0,171.0,184.0,185.0,188.0,189.0,212.0,220.0,222.0,223.0,227.0,241.0,243.0,249.0,268.0,277.0,284.0,289.0,296.0,306.0,317.0,324.0,327.0,335.0,339.0,359.0,381.0,383.0,402.0,403.0,415.0,430.0,442.0,464.0,472.0,473.0,482.0,499.0,507.0],\"x\":[0.0,0.0,0.0,0.0,0.21531471610069275,0.0,0.0,0.0,0.19592246413230896,0.10713255405426025,0.0,0.0,0.0,0.0,0.0,0.0,0.0,0.0,0.11272571980953217,0.0,0.0,0.11791877448558807,0.0,0.0,0.0,0.0,0.0,0.0,0.0,0.0,0.0,0.0,0.0,0.2190222442150116,0.2390446662902832,0.09913526475429535,0.0,0.0,0.0,0.0,0.0,0.0,0.17670825123786926,0.0,0.0,0.0,0.32833394408226013,0.0,0.0,0.0,0.0,0.0],\"xaxis\":\"x\",\"y\":[0.0,0.24782606959342957,0.0,0.0,0.0,0.0,0.0,0.0,0.0,0.0,0.0,0.0,0.0,0.3025265038013458,0.1866948902606964,0.0,0.0,0.28122493624687195,0.0,0.2313230037689209,0.0,0.0,0.0,0.0,0.0,0.0,0.0,0.0,0.0,0.0,0.0,0.0,0.0,0.0,0.0,0.0,0.0,0.2179582417011261,0.0,0.0,0.0,0.0,0.0,0.19063390791416168,0.23101294040679932,0.0,0.3105761408805847,0.0,0.0,0.0,0.0,0.18630388379096985],\"yaxis\":\"y\",\"type\":\"scatter\"}],                        {\"template\":{\"data\":{\"histogram2dcontour\":[{\"type\":\"histogram2dcontour\",\"colorbar\":{\"outlinewidth\":0,\"ticks\":\"\"},\"colorscale\":[[0.0,\"#0d0887\"],[0.1111111111111111,\"#46039f\"],[0.2222222222222222,\"#7201a8\"],[0.3333333333333333,\"#9c179e\"],[0.4444444444444444,\"#bd3786\"],[0.5555555555555556,\"#d8576b\"],[0.6666666666666666,\"#ed7953\"],[0.7777777777777778,\"#fb9f3a\"],[0.8888888888888888,\"#fdca26\"],[1.0,\"#f0f921\"]]}],\"choropleth\":[{\"type\":\"choropleth\",\"colorbar\":{\"outlinewidth\":0,\"ticks\":\"\"}}],\"histogram2d\":[{\"type\":\"histogram2d\",\"colorbar\":{\"outlinewidth\":0,\"ticks\":\"\"},\"colorscale\":[[0.0,\"#0d0887\"],[0.1111111111111111,\"#46039f\"],[0.2222222222222222,\"#7201a8\"],[0.3333333333333333,\"#9c179e\"],[0.4444444444444444,\"#bd3786\"],[0.5555555555555556,\"#d8576b\"],[0.6666666666666666,\"#ed7953\"],[0.7777777777777778,\"#fb9f3a\"],[0.8888888888888888,\"#fdca26\"],[1.0,\"#f0f921\"]]}],\"heatmap\":[{\"type\":\"heatmap\",\"colorbar\":{\"outlinewidth\":0,\"ticks\":\"\"},\"colorscale\":[[0.0,\"#0d0887\"],[0.1111111111111111,\"#46039f\"],[0.2222222222222222,\"#7201a8\"],[0.3333333333333333,\"#9c179e\"],[0.4444444444444444,\"#bd3786\"],[0.5555555555555556,\"#d8576b\"],[0.6666666666666666,\"#ed7953\"],[0.7777777777777778,\"#fb9f3a\"],[0.8888888888888888,\"#fdca26\"],[1.0,\"#f0f921\"]]}],\"heatmapgl\":[{\"type\":\"heatmapgl\",\"colorbar\":{\"outlinewidth\":0,\"ticks\":\"\"},\"colorscale\":[[0.0,\"#0d0887\"],[0.1111111111111111,\"#46039f\"],[0.2222222222222222,\"#7201a8\"],[0.3333333333333333,\"#9c179e\"],[0.4444444444444444,\"#bd3786\"],[0.5555555555555556,\"#d8576b\"],[0.6666666666666666,\"#ed7953\"],[0.7777777777777778,\"#fb9f3a\"],[0.8888888888888888,\"#fdca26\"],[1.0,\"#f0f921\"]]}],\"contourcarpet\":[{\"type\":\"contourcarpet\",\"colorbar\":{\"outlinewidth\":0,\"ticks\":\"\"}}],\"contour\":[{\"type\":\"contour\",\"colorbar\":{\"outlinewidth\":0,\"ticks\":\"\"},\"colorscale\":[[0.0,\"#0d0887\"],[0.1111111111111111,\"#46039f\"],[0.2222222222222222,\"#7201a8\"],[0.3333333333333333,\"#9c179e\"],[0.4444444444444444,\"#bd3786\"],[0.5555555555555556,\"#d8576b\"],[0.6666666666666666,\"#ed7953\"],[0.7777777777777778,\"#fb9f3a\"],[0.8888888888888888,\"#fdca26\"],[1.0,\"#f0f921\"]]}],\"surface\":[{\"type\":\"surface\",\"colorbar\":{\"outlinewidth\":0,\"ticks\":\"\"},\"colorscale\":[[0.0,\"#0d0887\"],[0.1111111111111111,\"#46039f\"],[0.2222222222222222,\"#7201a8\"],[0.3333333333333333,\"#9c179e\"],[0.4444444444444444,\"#bd3786\"],[0.5555555555555556,\"#d8576b\"],[0.6666666666666666,\"#ed7953\"],[0.7777777777777778,\"#fb9f3a\"],[0.8888888888888888,\"#fdca26\"],[1.0,\"#f0f921\"]]}],\"mesh3d\":[{\"type\":\"mesh3d\",\"colorbar\":{\"outlinewidth\":0,\"ticks\":\"\"}}],\"scatter\":[{\"fillpattern\":{\"fillmode\":\"overlay\",\"size\":10,\"solidity\":0.2},\"type\":\"scatter\"}],\"parcoords\":[{\"type\":\"parcoords\",\"line\":{\"colorbar\":{\"outlinewidth\":0,\"ticks\":\"\"}}}],\"scatterpolargl\":[{\"type\":\"scatterpolargl\",\"marker\":{\"colorbar\":{\"outlinewidth\":0,\"ticks\":\"\"}}}],\"bar\":[{\"error_x\":{\"color\":\"#2a3f5f\"},\"error_y\":{\"color\":\"#2a3f5f\"},\"marker\":{\"line\":{\"color\":\"#E5ECF6\",\"width\":0.5},\"pattern\":{\"fillmode\":\"overlay\",\"size\":10,\"solidity\":0.2}},\"type\":\"bar\"}],\"scattergeo\":[{\"type\":\"scattergeo\",\"marker\":{\"colorbar\":{\"outlinewidth\":0,\"ticks\":\"\"}}}],\"scatterpolar\":[{\"type\":\"scatterpolar\",\"marker\":{\"colorbar\":{\"outlinewidth\":0,\"ticks\":\"\"}}}],\"histogram\":[{\"marker\":{\"pattern\":{\"fillmode\":\"overlay\",\"size\":10,\"solidity\":0.2}},\"type\":\"histogram\"}],\"scattergl\":[{\"type\":\"scattergl\",\"marker\":{\"colorbar\":{\"outlinewidth\":0,\"ticks\":\"\"}}}],\"scatter3d\":[{\"type\":\"scatter3d\",\"line\":{\"colorbar\":{\"outlinewidth\":0,\"ticks\":\"\"}},\"marker\":{\"colorbar\":{\"outlinewidth\":0,\"ticks\":\"\"}}}],\"scattermapbox\":[{\"type\":\"scattermapbox\",\"marker\":{\"colorbar\":{\"outlinewidth\":0,\"ticks\":\"\"}}}],\"scatterternary\":[{\"type\":\"scatterternary\",\"marker\":{\"colorbar\":{\"outlinewidth\":0,\"ticks\":\"\"}}}],\"scattercarpet\":[{\"type\":\"scattercarpet\",\"marker\":{\"colorbar\":{\"outlinewidth\":0,\"ticks\":\"\"}}}],\"carpet\":[{\"aaxis\":{\"endlinecolor\":\"#2a3f5f\",\"gridcolor\":\"white\",\"linecolor\":\"white\",\"minorgridcolor\":\"white\",\"startlinecolor\":\"#2a3f5f\"},\"baxis\":{\"endlinecolor\":\"#2a3f5f\",\"gridcolor\":\"white\",\"linecolor\":\"white\",\"minorgridcolor\":\"white\",\"startlinecolor\":\"#2a3f5f\"},\"type\":\"carpet\"}],\"table\":[{\"cells\":{\"fill\":{\"color\":\"#EBF0F8\"},\"line\":{\"color\":\"white\"}},\"header\":{\"fill\":{\"color\":\"#C8D4E3\"},\"line\":{\"color\":\"white\"}},\"type\":\"table\"}],\"barpolar\":[{\"marker\":{\"line\":{\"color\":\"#E5ECF6\",\"width\":0.5},\"pattern\":{\"fillmode\":\"overlay\",\"size\":10,\"solidity\":0.2}},\"type\":\"barpolar\"}],\"pie\":[{\"automargin\":true,\"type\":\"pie\"}]},\"layout\":{\"autotypenumbers\":\"strict\",\"colorway\":[\"#636efa\",\"#EF553B\",\"#00cc96\",\"#ab63fa\",\"#FFA15A\",\"#19d3f3\",\"#FF6692\",\"#B6E880\",\"#FF97FF\",\"#FECB52\"],\"font\":{\"color\":\"#2a3f5f\"},\"hovermode\":\"closest\",\"hoverlabel\":{\"align\":\"left\"},\"paper_bgcolor\":\"white\",\"plot_bgcolor\":\"#E5ECF6\",\"polar\":{\"bgcolor\":\"#E5ECF6\",\"angularaxis\":{\"gridcolor\":\"white\",\"linecolor\":\"white\",\"ticks\":\"\"},\"radialaxis\":{\"gridcolor\":\"white\",\"linecolor\":\"white\",\"ticks\":\"\"}},\"ternary\":{\"bgcolor\":\"#E5ECF6\",\"aaxis\":{\"gridcolor\":\"white\",\"linecolor\":\"white\",\"ticks\":\"\"},\"baxis\":{\"gridcolor\":\"white\",\"linecolor\":\"white\",\"ticks\":\"\"},\"caxis\":{\"gridcolor\":\"white\",\"linecolor\":\"white\",\"ticks\":\"\"}},\"coloraxis\":{\"colorbar\":{\"outlinewidth\":0,\"ticks\":\"\"}},\"colorscale\":{\"sequential\":[[0.0,\"#0d0887\"],[0.1111111111111111,\"#46039f\"],[0.2222222222222222,\"#7201a8\"],[0.3333333333333333,\"#9c179e\"],[0.4444444444444444,\"#bd3786\"],[0.5555555555555556,\"#d8576b\"],[0.6666666666666666,\"#ed7953\"],[0.7777777777777778,\"#fb9f3a\"],[0.8888888888888888,\"#fdca26\"],[1.0,\"#f0f921\"]],\"sequentialminus\":[[0.0,\"#0d0887\"],[0.1111111111111111,\"#46039f\"],[0.2222222222222222,\"#7201a8\"],[0.3333333333333333,\"#9c179e\"],[0.4444444444444444,\"#bd3786\"],[0.5555555555555556,\"#d8576b\"],[0.6666666666666666,\"#ed7953\"],[0.7777777777777778,\"#fb9f3a\"],[0.8888888888888888,\"#fdca26\"],[1.0,\"#f0f921\"]],\"diverging\":[[0,\"#8e0152\"],[0.1,\"#c51b7d\"],[0.2,\"#de77ae\"],[0.3,\"#f1b6da\"],[0.4,\"#fde0ef\"],[0.5,\"#f7f7f7\"],[0.6,\"#e6f5d0\"],[0.7,\"#b8e186\"],[0.8,\"#7fbc41\"],[0.9,\"#4d9221\"],[1,\"#276419\"]]},\"xaxis\":{\"gridcolor\":\"white\",\"linecolor\":\"white\",\"ticks\":\"\",\"title\":{\"standoff\":15},\"zerolinecolor\":\"white\",\"automargin\":true,\"zerolinewidth\":2},\"yaxis\":{\"gridcolor\":\"white\",\"linecolor\":\"white\",\"ticks\":\"\",\"title\":{\"standoff\":15},\"zerolinecolor\":\"white\",\"automargin\":true,\"zerolinewidth\":2},\"scene\":{\"xaxis\":{\"backgroundcolor\":\"#E5ECF6\",\"gridcolor\":\"white\",\"linecolor\":\"white\",\"showbackground\":true,\"ticks\":\"\",\"zerolinecolor\":\"white\",\"gridwidth\":2},\"yaxis\":{\"backgroundcolor\":\"#E5ECF6\",\"gridcolor\":\"white\",\"linecolor\":\"white\",\"showbackground\":true,\"ticks\":\"\",\"zerolinecolor\":\"white\",\"gridwidth\":2},\"zaxis\":{\"backgroundcolor\":\"#E5ECF6\",\"gridcolor\":\"white\",\"linecolor\":\"white\",\"showbackground\":true,\"ticks\":\"\",\"zerolinecolor\":\"white\",\"gridwidth\":2}},\"shapedefaults\":{\"line\":{\"color\":\"#2a3f5f\"}},\"annotationdefaults\":{\"arrowcolor\":\"#2a3f5f\",\"arrowhead\":0,\"arrowwidth\":1},\"geo\":{\"bgcolor\":\"white\",\"landcolor\":\"#E5ECF6\",\"subunitcolor\":\"white\",\"showland\":true,\"showlakes\":true,\"lakecolor\":\"white\"},\"title\":{\"x\":0.05},\"mapbox\":{\"style\":\"light\"}}},\"xaxis\":{\"anchor\":\"y\",\"domain\":[0.0,1.0],\"title\":{\"text\":\" old\"}},\"yaxis\":{\"anchor\":\"x\",\"domain\":[0.0,1.0],\"title\":{\"text\":\" grandpa\"}},\"legend\":{\"tracegroupgap\":0},\"margin\":{\"t\":60}},                        {\"responsive\": true}                    ).then(function(){\n",
       "                            \n",
       "var gd = document.getElementById('b2424925-f564-4c13-9e00-4f03e15ea920');\n",
       "var x = new MutationObserver(function (mutations, observer) {{\n",
       "        var display = window.getComputedStyle(gd).display;\n",
       "        if (!display || display === 'none') {{\n",
       "            console.log([gd, 'removed!']);\n",
       "            Plotly.purge(gd);\n",
       "            observer.disconnect();\n",
       "        }}\n",
       "}});\n",
       "\n",
       "// Listen for the removal of the full notebook cells\n",
       "var notebookContainer = gd.closest('#notebook-container');\n",
       "if (notebookContainer) {{\n",
       "    x.observe(notebookContainer, {childList: true});\n",
       "}}\n",
       "\n",
       "// Listen for the clearing of the current output cell\n",
       "var outputEl = gd.closest('.output');\n",
       "if (outputEl) {{\n",
       "    x.observe(outputEl, {childList: true});\n",
       "}}\n",
       "\n",
       "                        })                };                });            </script>        </div>"
      ]
     },
     "metadata": {},
     "output_type": "display_data"
    }
   ],
   "source": [
    "fig = px.scatter(wide_df, x=\" old\", y=\" grandpa\", hover_name=wide_df.index, text=wide_df.index)\n",
    "fig.show()"
   ]
  },
  {
   "cell_type": "code",
   "execution_count": 254,
   "metadata": {},
   "outputs": [
    {
     "data": {
      "application/vnd.plotly.v1+json": {
       "config": {
        "plotlyServerURL": "https://plot.ly"
       },
       "data": [
        {
         "hovertemplate": "<b>%{hovertext}</b><br><br> old=%{x}<br> young=%{y}<br>Index=%{text}<extra></extra>",
         "hovertext": [
          5,
          30,
          36,
          39,
          53,
          58,
          65,
          82,
          105,
          130,
          134,
          153,
          166,
          170,
          171,
          184,
          185,
          188,
          189,
          212,
          220,
          222,
          223,
          227,
          241,
          243,
          249,
          268,
          277,
          284,
          289,
          296,
          306,
          317,
          324,
          327,
          335,
          339,
          359,
          381,
          383,
          402,
          403,
          415,
          430,
          442,
          464,
          472,
          473,
          482,
          499,
          507
         ],
         "legendgroup": "",
         "marker": {
          "color": "#636efa",
          "symbol": "circle"
         },
         "mode": "markers+text",
         "name": "",
         "orientation": "v",
         "showlegend": false,
         "text": [
          5,
          30,
          36,
          39,
          53,
          58,
          65,
          82,
          105,
          130,
          134,
          153,
          166,
          170,
          171,
          184,
          185,
          188,
          189,
          212,
          220,
          222,
          223,
          227,
          241,
          243,
          249,
          268,
          277,
          284,
          289,
          296,
          306,
          317,
          324,
          327,
          335,
          339,
          359,
          381,
          383,
          402,
          403,
          415,
          430,
          442,
          464,
          472,
          473,
          482,
          499,
          507
         ],
         "type": "scatter",
         "x": [
          0,
          0,
          0,
          0,
          0.21531471610069275,
          0,
          0,
          0,
          0.19592246413230896,
          0.10713255405426025,
          0,
          0,
          0,
          0,
          0,
          0,
          0,
          0,
          0.11272571980953217,
          0,
          0,
          0.11791877448558807,
          0,
          0,
          0,
          0,
          0,
          0,
          0,
          0,
          0,
          0,
          0,
          0.2190222442150116,
          0.2390446662902832,
          0.09913526475429535,
          0,
          0,
          0,
          0,
          0,
          0,
          0.17670825123786926,
          0,
          0,
          0,
          0.32833394408226013,
          0,
          0,
          0,
          0,
          0
         ],
         "xaxis": "x",
         "y": [
          0,
          0,
          0,
          0,
          0.1478169858455658,
          0,
          0.11235501617193222,
          0,
          0.08908138424158096,
          0.1379072070121765,
          0,
          0,
          0,
          0,
          0,
          0,
          0,
          0,
          0,
          0,
          0.08502906560897827,
          0,
          0,
          0,
          0,
          0.32045045495033264,
          0,
          0,
          0,
          0,
          0,
          0,
          0,
          0.19799181818962097,
          0,
          0,
          0,
          0,
          0,
          0,
          0,
          0,
          0.08118301630020142,
          0,
          0,
          0,
          0.31095966696739197,
          0,
          0,
          0,
          0.16999106109142303,
          0
         ],
         "yaxis": "y"
        }
       ],
       "layout": {
        "legend": {
         "tracegroupgap": 0
        },
        "margin": {
         "t": 60
        },
        "template": {
         "data": {
          "bar": [
           {
            "error_x": {
             "color": "#2a3f5f"
            },
            "error_y": {
             "color": "#2a3f5f"
            },
            "marker": {
             "line": {
              "color": "#E5ECF6",
              "width": 0.5
             },
             "pattern": {
              "fillmode": "overlay",
              "size": 10,
              "solidity": 0.2
             }
            },
            "type": "bar"
           }
          ],
          "barpolar": [
           {
            "marker": {
             "line": {
              "color": "#E5ECF6",
              "width": 0.5
             },
             "pattern": {
              "fillmode": "overlay",
              "size": 10,
              "solidity": 0.2
             }
            },
            "type": "barpolar"
           }
          ],
          "carpet": [
           {
            "aaxis": {
             "endlinecolor": "#2a3f5f",
             "gridcolor": "white",
             "linecolor": "white",
             "minorgridcolor": "white",
             "startlinecolor": "#2a3f5f"
            },
            "baxis": {
             "endlinecolor": "#2a3f5f",
             "gridcolor": "white",
             "linecolor": "white",
             "minorgridcolor": "white",
             "startlinecolor": "#2a3f5f"
            },
            "type": "carpet"
           }
          ],
          "choropleth": [
           {
            "colorbar": {
             "outlinewidth": 0,
             "ticks": ""
            },
            "type": "choropleth"
           }
          ],
          "contour": [
           {
            "colorbar": {
             "outlinewidth": 0,
             "ticks": ""
            },
            "colorscale": [
             [
              0,
              "#0d0887"
             ],
             [
              0.1111111111111111,
              "#46039f"
             ],
             [
              0.2222222222222222,
              "#7201a8"
             ],
             [
              0.3333333333333333,
              "#9c179e"
             ],
             [
              0.4444444444444444,
              "#bd3786"
             ],
             [
              0.5555555555555556,
              "#d8576b"
             ],
             [
              0.6666666666666666,
              "#ed7953"
             ],
             [
              0.7777777777777778,
              "#fb9f3a"
             ],
             [
              0.8888888888888888,
              "#fdca26"
             ],
             [
              1,
              "#f0f921"
             ]
            ],
            "type": "contour"
           }
          ],
          "contourcarpet": [
           {
            "colorbar": {
             "outlinewidth": 0,
             "ticks": ""
            },
            "type": "contourcarpet"
           }
          ],
          "heatmap": [
           {
            "colorbar": {
             "outlinewidth": 0,
             "ticks": ""
            },
            "colorscale": [
             [
              0,
              "#0d0887"
             ],
             [
              0.1111111111111111,
              "#46039f"
             ],
             [
              0.2222222222222222,
              "#7201a8"
             ],
             [
              0.3333333333333333,
              "#9c179e"
             ],
             [
              0.4444444444444444,
              "#bd3786"
             ],
             [
              0.5555555555555556,
              "#d8576b"
             ],
             [
              0.6666666666666666,
              "#ed7953"
             ],
             [
              0.7777777777777778,
              "#fb9f3a"
             ],
             [
              0.8888888888888888,
              "#fdca26"
             ],
             [
              1,
              "#f0f921"
             ]
            ],
            "type": "heatmap"
           }
          ],
          "heatmapgl": [
           {
            "colorbar": {
             "outlinewidth": 0,
             "ticks": ""
            },
            "colorscale": [
             [
              0,
              "#0d0887"
             ],
             [
              0.1111111111111111,
              "#46039f"
             ],
             [
              0.2222222222222222,
              "#7201a8"
             ],
             [
              0.3333333333333333,
              "#9c179e"
             ],
             [
              0.4444444444444444,
              "#bd3786"
             ],
             [
              0.5555555555555556,
              "#d8576b"
             ],
             [
              0.6666666666666666,
              "#ed7953"
             ],
             [
              0.7777777777777778,
              "#fb9f3a"
             ],
             [
              0.8888888888888888,
              "#fdca26"
             ],
             [
              1,
              "#f0f921"
             ]
            ],
            "type": "heatmapgl"
           }
          ],
          "histogram": [
           {
            "marker": {
             "pattern": {
              "fillmode": "overlay",
              "size": 10,
              "solidity": 0.2
             }
            },
            "type": "histogram"
           }
          ],
          "histogram2d": [
           {
            "colorbar": {
             "outlinewidth": 0,
             "ticks": ""
            },
            "colorscale": [
             [
              0,
              "#0d0887"
             ],
             [
              0.1111111111111111,
              "#46039f"
             ],
             [
              0.2222222222222222,
              "#7201a8"
             ],
             [
              0.3333333333333333,
              "#9c179e"
             ],
             [
              0.4444444444444444,
              "#bd3786"
             ],
             [
              0.5555555555555556,
              "#d8576b"
             ],
             [
              0.6666666666666666,
              "#ed7953"
             ],
             [
              0.7777777777777778,
              "#fb9f3a"
             ],
             [
              0.8888888888888888,
              "#fdca26"
             ],
             [
              1,
              "#f0f921"
             ]
            ],
            "type": "histogram2d"
           }
          ],
          "histogram2dcontour": [
           {
            "colorbar": {
             "outlinewidth": 0,
             "ticks": ""
            },
            "colorscale": [
             [
              0,
              "#0d0887"
             ],
             [
              0.1111111111111111,
              "#46039f"
             ],
             [
              0.2222222222222222,
              "#7201a8"
             ],
             [
              0.3333333333333333,
              "#9c179e"
             ],
             [
              0.4444444444444444,
              "#bd3786"
             ],
             [
              0.5555555555555556,
              "#d8576b"
             ],
             [
              0.6666666666666666,
              "#ed7953"
             ],
             [
              0.7777777777777778,
              "#fb9f3a"
             ],
             [
              0.8888888888888888,
              "#fdca26"
             ],
             [
              1,
              "#f0f921"
             ]
            ],
            "type": "histogram2dcontour"
           }
          ],
          "mesh3d": [
           {
            "colorbar": {
             "outlinewidth": 0,
             "ticks": ""
            },
            "type": "mesh3d"
           }
          ],
          "parcoords": [
           {
            "line": {
             "colorbar": {
              "outlinewidth": 0,
              "ticks": ""
             }
            },
            "type": "parcoords"
           }
          ],
          "pie": [
           {
            "automargin": true,
            "type": "pie"
           }
          ],
          "scatter": [
           {
            "fillpattern": {
             "fillmode": "overlay",
             "size": 10,
             "solidity": 0.2
            },
            "type": "scatter"
           }
          ],
          "scatter3d": [
           {
            "line": {
             "colorbar": {
              "outlinewidth": 0,
              "ticks": ""
             }
            },
            "marker": {
             "colorbar": {
              "outlinewidth": 0,
              "ticks": ""
             }
            },
            "type": "scatter3d"
           }
          ],
          "scattercarpet": [
           {
            "marker": {
             "colorbar": {
              "outlinewidth": 0,
              "ticks": ""
             }
            },
            "type": "scattercarpet"
           }
          ],
          "scattergeo": [
           {
            "marker": {
             "colorbar": {
              "outlinewidth": 0,
              "ticks": ""
             }
            },
            "type": "scattergeo"
           }
          ],
          "scattergl": [
           {
            "marker": {
             "colorbar": {
              "outlinewidth": 0,
              "ticks": ""
             }
            },
            "type": "scattergl"
           }
          ],
          "scattermapbox": [
           {
            "marker": {
             "colorbar": {
              "outlinewidth": 0,
              "ticks": ""
             }
            },
            "type": "scattermapbox"
           }
          ],
          "scatterpolar": [
           {
            "marker": {
             "colorbar": {
              "outlinewidth": 0,
              "ticks": ""
             }
            },
            "type": "scatterpolar"
           }
          ],
          "scatterpolargl": [
           {
            "marker": {
             "colorbar": {
              "outlinewidth": 0,
              "ticks": ""
             }
            },
            "type": "scatterpolargl"
           }
          ],
          "scatterternary": [
           {
            "marker": {
             "colorbar": {
              "outlinewidth": 0,
              "ticks": ""
             }
            },
            "type": "scatterternary"
           }
          ],
          "surface": [
           {
            "colorbar": {
             "outlinewidth": 0,
             "ticks": ""
            },
            "colorscale": [
             [
              0,
              "#0d0887"
             ],
             [
              0.1111111111111111,
              "#46039f"
             ],
             [
              0.2222222222222222,
              "#7201a8"
             ],
             [
              0.3333333333333333,
              "#9c179e"
             ],
             [
              0.4444444444444444,
              "#bd3786"
             ],
             [
              0.5555555555555556,
              "#d8576b"
             ],
             [
              0.6666666666666666,
              "#ed7953"
             ],
             [
              0.7777777777777778,
              "#fb9f3a"
             ],
             [
              0.8888888888888888,
              "#fdca26"
             ],
             [
              1,
              "#f0f921"
             ]
            ],
            "type": "surface"
           }
          ],
          "table": [
           {
            "cells": {
             "fill": {
              "color": "#EBF0F8"
             },
             "line": {
              "color": "white"
             }
            },
            "header": {
             "fill": {
              "color": "#C8D4E3"
             },
             "line": {
              "color": "white"
             }
            },
            "type": "table"
           }
          ]
         },
         "layout": {
          "annotationdefaults": {
           "arrowcolor": "#2a3f5f",
           "arrowhead": 0,
           "arrowwidth": 1
          },
          "autotypenumbers": "strict",
          "coloraxis": {
           "colorbar": {
            "outlinewidth": 0,
            "ticks": ""
           }
          },
          "colorscale": {
           "diverging": [
            [
             0,
             "#8e0152"
            ],
            [
             0.1,
             "#c51b7d"
            ],
            [
             0.2,
             "#de77ae"
            ],
            [
             0.3,
             "#f1b6da"
            ],
            [
             0.4,
             "#fde0ef"
            ],
            [
             0.5,
             "#f7f7f7"
            ],
            [
             0.6,
             "#e6f5d0"
            ],
            [
             0.7,
             "#b8e186"
            ],
            [
             0.8,
             "#7fbc41"
            ],
            [
             0.9,
             "#4d9221"
            ],
            [
             1,
             "#276419"
            ]
           ],
           "sequential": [
            [
             0,
             "#0d0887"
            ],
            [
             0.1111111111111111,
             "#46039f"
            ],
            [
             0.2222222222222222,
             "#7201a8"
            ],
            [
             0.3333333333333333,
             "#9c179e"
            ],
            [
             0.4444444444444444,
             "#bd3786"
            ],
            [
             0.5555555555555556,
             "#d8576b"
            ],
            [
             0.6666666666666666,
             "#ed7953"
            ],
            [
             0.7777777777777778,
             "#fb9f3a"
            ],
            [
             0.8888888888888888,
             "#fdca26"
            ],
            [
             1,
             "#f0f921"
            ]
           ],
           "sequentialminus": [
            [
             0,
             "#0d0887"
            ],
            [
             0.1111111111111111,
             "#46039f"
            ],
            [
             0.2222222222222222,
             "#7201a8"
            ],
            [
             0.3333333333333333,
             "#9c179e"
            ],
            [
             0.4444444444444444,
             "#bd3786"
            ],
            [
             0.5555555555555556,
             "#d8576b"
            ],
            [
             0.6666666666666666,
             "#ed7953"
            ],
            [
             0.7777777777777778,
             "#fb9f3a"
            ],
            [
             0.8888888888888888,
             "#fdca26"
            ],
            [
             1,
             "#f0f921"
            ]
           ]
          },
          "colorway": [
           "#636efa",
           "#EF553B",
           "#00cc96",
           "#ab63fa",
           "#FFA15A",
           "#19d3f3",
           "#FF6692",
           "#B6E880",
           "#FF97FF",
           "#FECB52"
          ],
          "font": {
           "color": "#2a3f5f"
          },
          "geo": {
           "bgcolor": "white",
           "lakecolor": "white",
           "landcolor": "#E5ECF6",
           "showlakes": true,
           "showland": true,
           "subunitcolor": "white"
          },
          "hoverlabel": {
           "align": "left"
          },
          "hovermode": "closest",
          "mapbox": {
           "style": "light"
          },
          "paper_bgcolor": "white",
          "plot_bgcolor": "#E5ECF6",
          "polar": {
           "angularaxis": {
            "gridcolor": "white",
            "linecolor": "white",
            "ticks": ""
           },
           "bgcolor": "#E5ECF6",
           "radialaxis": {
            "gridcolor": "white",
            "linecolor": "white",
            "ticks": ""
           }
          },
          "scene": {
           "xaxis": {
            "backgroundcolor": "#E5ECF6",
            "gridcolor": "white",
            "gridwidth": 2,
            "linecolor": "white",
            "showbackground": true,
            "ticks": "",
            "zerolinecolor": "white"
           },
           "yaxis": {
            "backgroundcolor": "#E5ECF6",
            "gridcolor": "white",
            "gridwidth": 2,
            "linecolor": "white",
            "showbackground": true,
            "ticks": "",
            "zerolinecolor": "white"
           },
           "zaxis": {
            "backgroundcolor": "#E5ECF6",
            "gridcolor": "white",
            "gridwidth": 2,
            "linecolor": "white",
            "showbackground": true,
            "ticks": "",
            "zerolinecolor": "white"
           }
          },
          "shapedefaults": {
           "line": {
            "color": "#2a3f5f"
           }
          },
          "ternary": {
           "aaxis": {
            "gridcolor": "white",
            "linecolor": "white",
            "ticks": ""
           },
           "baxis": {
            "gridcolor": "white",
            "linecolor": "white",
            "ticks": ""
           },
           "bgcolor": "#E5ECF6",
           "caxis": {
            "gridcolor": "white",
            "linecolor": "white",
            "ticks": ""
           }
          },
          "title": {
           "x": 0.05
          },
          "xaxis": {
           "automargin": true,
           "gridcolor": "white",
           "linecolor": "white",
           "ticks": "",
           "title": {
            "standoff": 15
           },
           "zerolinecolor": "white",
           "zerolinewidth": 2
          },
          "yaxis": {
           "automargin": true,
           "gridcolor": "white",
           "linecolor": "white",
           "ticks": "",
           "title": {
            "standoff": 15
           },
           "zerolinecolor": "white",
           "zerolinewidth": 2
          }
         }
        },
        "xaxis": {
         "anchor": "y",
         "domain": [
          0,
          1
         ],
         "title": {
          "text": " old"
         }
        },
        "yaxis": {
         "anchor": "x",
         "domain": [
          0,
          1
         ],
         "title": {
          "text": " young"
         }
        }
       }
      },
      "text/html": [
       "<div>                            <div id=\"09e84685-2565-4a02-91a2-f86e6c72e2f1\" class=\"plotly-graph-div\" style=\"height:525px; width:100%;\"></div>            <script type=\"text/javascript\">                require([\"plotly\"], function(Plotly) {                    window.PLOTLYENV=window.PLOTLYENV || {};                                    if (document.getElementById(\"09e84685-2565-4a02-91a2-f86e6c72e2f1\")) {                    Plotly.newPlot(                        \"09e84685-2565-4a02-91a2-f86e6c72e2f1\",                        [{\"hovertemplate\":\"\\u003cb\\u003e%{hovertext}\\u003c\\u002fb\\u003e\\u003cbr\\u003e\\u003cbr\\u003e old=%{x}\\u003cbr\\u003e young=%{y}\\u003cbr\\u003eIndex=%{text}\\u003cextra\\u003e\\u003c\\u002fextra\\u003e\",\"hovertext\":[5.0,30.0,36.0,39.0,53.0,58.0,65.0,82.0,105.0,130.0,134.0,153.0,166.0,170.0,171.0,184.0,185.0,188.0,189.0,212.0,220.0,222.0,223.0,227.0,241.0,243.0,249.0,268.0,277.0,284.0,289.0,296.0,306.0,317.0,324.0,327.0,335.0,339.0,359.0,381.0,383.0,402.0,403.0,415.0,430.0,442.0,464.0,472.0,473.0,482.0,499.0,507.0],\"legendgroup\":\"\",\"marker\":{\"color\":\"#636efa\",\"symbol\":\"circle\"},\"mode\":\"markers+text\",\"name\":\"\",\"orientation\":\"v\",\"showlegend\":false,\"text\":[5.0,30.0,36.0,39.0,53.0,58.0,65.0,82.0,105.0,130.0,134.0,153.0,166.0,170.0,171.0,184.0,185.0,188.0,189.0,212.0,220.0,222.0,223.0,227.0,241.0,243.0,249.0,268.0,277.0,284.0,289.0,296.0,306.0,317.0,324.0,327.0,335.0,339.0,359.0,381.0,383.0,402.0,403.0,415.0,430.0,442.0,464.0,472.0,473.0,482.0,499.0,507.0],\"x\":[0.0,0.0,0.0,0.0,0.21531471610069275,0.0,0.0,0.0,0.19592246413230896,0.10713255405426025,0.0,0.0,0.0,0.0,0.0,0.0,0.0,0.0,0.11272571980953217,0.0,0.0,0.11791877448558807,0.0,0.0,0.0,0.0,0.0,0.0,0.0,0.0,0.0,0.0,0.0,0.2190222442150116,0.2390446662902832,0.09913526475429535,0.0,0.0,0.0,0.0,0.0,0.0,0.17670825123786926,0.0,0.0,0.0,0.32833394408226013,0.0,0.0,0.0,0.0,0.0],\"xaxis\":\"x\",\"y\":[0.0,0.0,0.0,0.0,0.1478169858455658,0.0,0.11235501617193222,0.0,0.08908138424158096,0.1379072070121765,0.0,0.0,0.0,0.0,0.0,0.0,0.0,0.0,0.0,0.0,0.08502906560897827,0.0,0.0,0.0,0.0,0.32045045495033264,0.0,0.0,0.0,0.0,0.0,0.0,0.0,0.19799181818962097,0.0,0.0,0.0,0.0,0.0,0.0,0.0,0.0,0.08118301630020142,0.0,0.0,0.0,0.31095966696739197,0.0,0.0,0.0,0.16999106109142303,0.0],\"yaxis\":\"y\",\"type\":\"scatter\"}],                        {\"template\":{\"data\":{\"histogram2dcontour\":[{\"type\":\"histogram2dcontour\",\"colorbar\":{\"outlinewidth\":0,\"ticks\":\"\"},\"colorscale\":[[0.0,\"#0d0887\"],[0.1111111111111111,\"#46039f\"],[0.2222222222222222,\"#7201a8\"],[0.3333333333333333,\"#9c179e\"],[0.4444444444444444,\"#bd3786\"],[0.5555555555555556,\"#d8576b\"],[0.6666666666666666,\"#ed7953\"],[0.7777777777777778,\"#fb9f3a\"],[0.8888888888888888,\"#fdca26\"],[1.0,\"#f0f921\"]]}],\"choropleth\":[{\"type\":\"choropleth\",\"colorbar\":{\"outlinewidth\":0,\"ticks\":\"\"}}],\"histogram2d\":[{\"type\":\"histogram2d\",\"colorbar\":{\"outlinewidth\":0,\"ticks\":\"\"},\"colorscale\":[[0.0,\"#0d0887\"],[0.1111111111111111,\"#46039f\"],[0.2222222222222222,\"#7201a8\"],[0.3333333333333333,\"#9c179e\"],[0.4444444444444444,\"#bd3786\"],[0.5555555555555556,\"#d8576b\"],[0.6666666666666666,\"#ed7953\"],[0.7777777777777778,\"#fb9f3a\"],[0.8888888888888888,\"#fdca26\"],[1.0,\"#f0f921\"]]}],\"heatmap\":[{\"type\":\"heatmap\",\"colorbar\":{\"outlinewidth\":0,\"ticks\":\"\"},\"colorscale\":[[0.0,\"#0d0887\"],[0.1111111111111111,\"#46039f\"],[0.2222222222222222,\"#7201a8\"],[0.3333333333333333,\"#9c179e\"],[0.4444444444444444,\"#bd3786\"],[0.5555555555555556,\"#d8576b\"],[0.6666666666666666,\"#ed7953\"],[0.7777777777777778,\"#fb9f3a\"],[0.8888888888888888,\"#fdca26\"],[1.0,\"#f0f921\"]]}],\"heatmapgl\":[{\"type\":\"heatmapgl\",\"colorbar\":{\"outlinewidth\":0,\"ticks\":\"\"},\"colorscale\":[[0.0,\"#0d0887\"],[0.1111111111111111,\"#46039f\"],[0.2222222222222222,\"#7201a8\"],[0.3333333333333333,\"#9c179e\"],[0.4444444444444444,\"#bd3786\"],[0.5555555555555556,\"#d8576b\"],[0.6666666666666666,\"#ed7953\"],[0.7777777777777778,\"#fb9f3a\"],[0.8888888888888888,\"#fdca26\"],[1.0,\"#f0f921\"]]}],\"contourcarpet\":[{\"type\":\"contourcarpet\",\"colorbar\":{\"outlinewidth\":0,\"ticks\":\"\"}}],\"contour\":[{\"type\":\"contour\",\"colorbar\":{\"outlinewidth\":0,\"ticks\":\"\"},\"colorscale\":[[0.0,\"#0d0887\"],[0.1111111111111111,\"#46039f\"],[0.2222222222222222,\"#7201a8\"],[0.3333333333333333,\"#9c179e\"],[0.4444444444444444,\"#bd3786\"],[0.5555555555555556,\"#d8576b\"],[0.6666666666666666,\"#ed7953\"],[0.7777777777777778,\"#fb9f3a\"],[0.8888888888888888,\"#fdca26\"],[1.0,\"#f0f921\"]]}],\"surface\":[{\"type\":\"surface\",\"colorbar\":{\"outlinewidth\":0,\"ticks\":\"\"},\"colorscale\":[[0.0,\"#0d0887\"],[0.1111111111111111,\"#46039f\"],[0.2222222222222222,\"#7201a8\"],[0.3333333333333333,\"#9c179e\"],[0.4444444444444444,\"#bd3786\"],[0.5555555555555556,\"#d8576b\"],[0.6666666666666666,\"#ed7953\"],[0.7777777777777778,\"#fb9f3a\"],[0.8888888888888888,\"#fdca26\"],[1.0,\"#f0f921\"]]}],\"mesh3d\":[{\"type\":\"mesh3d\",\"colorbar\":{\"outlinewidth\":0,\"ticks\":\"\"}}],\"scatter\":[{\"fillpattern\":{\"fillmode\":\"overlay\",\"size\":10,\"solidity\":0.2},\"type\":\"scatter\"}],\"parcoords\":[{\"type\":\"parcoords\",\"line\":{\"colorbar\":{\"outlinewidth\":0,\"ticks\":\"\"}}}],\"scatterpolargl\":[{\"type\":\"scatterpolargl\",\"marker\":{\"colorbar\":{\"outlinewidth\":0,\"ticks\":\"\"}}}],\"bar\":[{\"error_x\":{\"color\":\"#2a3f5f\"},\"error_y\":{\"color\":\"#2a3f5f\"},\"marker\":{\"line\":{\"color\":\"#E5ECF6\",\"width\":0.5},\"pattern\":{\"fillmode\":\"overlay\",\"size\":10,\"solidity\":0.2}},\"type\":\"bar\"}],\"scattergeo\":[{\"type\":\"scattergeo\",\"marker\":{\"colorbar\":{\"outlinewidth\":0,\"ticks\":\"\"}}}],\"scatterpolar\":[{\"type\":\"scatterpolar\",\"marker\":{\"colorbar\":{\"outlinewidth\":0,\"ticks\":\"\"}}}],\"histogram\":[{\"marker\":{\"pattern\":{\"fillmode\":\"overlay\",\"size\":10,\"solidity\":0.2}},\"type\":\"histogram\"}],\"scattergl\":[{\"type\":\"scattergl\",\"marker\":{\"colorbar\":{\"outlinewidth\":0,\"ticks\":\"\"}}}],\"scatter3d\":[{\"type\":\"scatter3d\",\"line\":{\"colorbar\":{\"outlinewidth\":0,\"ticks\":\"\"}},\"marker\":{\"colorbar\":{\"outlinewidth\":0,\"ticks\":\"\"}}}],\"scattermapbox\":[{\"type\":\"scattermapbox\",\"marker\":{\"colorbar\":{\"outlinewidth\":0,\"ticks\":\"\"}}}],\"scatterternary\":[{\"type\":\"scatterternary\",\"marker\":{\"colorbar\":{\"outlinewidth\":0,\"ticks\":\"\"}}}],\"scattercarpet\":[{\"type\":\"scattercarpet\",\"marker\":{\"colorbar\":{\"outlinewidth\":0,\"ticks\":\"\"}}}],\"carpet\":[{\"aaxis\":{\"endlinecolor\":\"#2a3f5f\",\"gridcolor\":\"white\",\"linecolor\":\"white\",\"minorgridcolor\":\"white\",\"startlinecolor\":\"#2a3f5f\"},\"baxis\":{\"endlinecolor\":\"#2a3f5f\",\"gridcolor\":\"white\",\"linecolor\":\"white\",\"minorgridcolor\":\"white\",\"startlinecolor\":\"#2a3f5f\"},\"type\":\"carpet\"}],\"table\":[{\"cells\":{\"fill\":{\"color\":\"#EBF0F8\"},\"line\":{\"color\":\"white\"}},\"header\":{\"fill\":{\"color\":\"#C8D4E3\"},\"line\":{\"color\":\"white\"}},\"type\":\"table\"}],\"barpolar\":[{\"marker\":{\"line\":{\"color\":\"#E5ECF6\",\"width\":0.5},\"pattern\":{\"fillmode\":\"overlay\",\"size\":10,\"solidity\":0.2}},\"type\":\"barpolar\"}],\"pie\":[{\"automargin\":true,\"type\":\"pie\"}]},\"layout\":{\"autotypenumbers\":\"strict\",\"colorway\":[\"#636efa\",\"#EF553B\",\"#00cc96\",\"#ab63fa\",\"#FFA15A\",\"#19d3f3\",\"#FF6692\",\"#B6E880\",\"#FF97FF\",\"#FECB52\"],\"font\":{\"color\":\"#2a3f5f\"},\"hovermode\":\"closest\",\"hoverlabel\":{\"align\":\"left\"},\"paper_bgcolor\":\"white\",\"plot_bgcolor\":\"#E5ECF6\",\"polar\":{\"bgcolor\":\"#E5ECF6\",\"angularaxis\":{\"gridcolor\":\"white\",\"linecolor\":\"white\",\"ticks\":\"\"},\"radialaxis\":{\"gridcolor\":\"white\",\"linecolor\":\"white\",\"ticks\":\"\"}},\"ternary\":{\"bgcolor\":\"#E5ECF6\",\"aaxis\":{\"gridcolor\":\"white\",\"linecolor\":\"white\",\"ticks\":\"\"},\"baxis\":{\"gridcolor\":\"white\",\"linecolor\":\"white\",\"ticks\":\"\"},\"caxis\":{\"gridcolor\":\"white\",\"linecolor\":\"white\",\"ticks\":\"\"}},\"coloraxis\":{\"colorbar\":{\"outlinewidth\":0,\"ticks\":\"\"}},\"colorscale\":{\"sequential\":[[0.0,\"#0d0887\"],[0.1111111111111111,\"#46039f\"],[0.2222222222222222,\"#7201a8\"],[0.3333333333333333,\"#9c179e\"],[0.4444444444444444,\"#bd3786\"],[0.5555555555555556,\"#d8576b\"],[0.6666666666666666,\"#ed7953\"],[0.7777777777777778,\"#fb9f3a\"],[0.8888888888888888,\"#fdca26\"],[1.0,\"#f0f921\"]],\"sequentialminus\":[[0.0,\"#0d0887\"],[0.1111111111111111,\"#46039f\"],[0.2222222222222222,\"#7201a8\"],[0.3333333333333333,\"#9c179e\"],[0.4444444444444444,\"#bd3786\"],[0.5555555555555556,\"#d8576b\"],[0.6666666666666666,\"#ed7953\"],[0.7777777777777778,\"#fb9f3a\"],[0.8888888888888888,\"#fdca26\"],[1.0,\"#f0f921\"]],\"diverging\":[[0,\"#8e0152\"],[0.1,\"#c51b7d\"],[0.2,\"#de77ae\"],[0.3,\"#f1b6da\"],[0.4,\"#fde0ef\"],[0.5,\"#f7f7f7\"],[0.6,\"#e6f5d0\"],[0.7,\"#b8e186\"],[0.8,\"#7fbc41\"],[0.9,\"#4d9221\"],[1,\"#276419\"]]},\"xaxis\":{\"gridcolor\":\"white\",\"linecolor\":\"white\",\"ticks\":\"\",\"title\":{\"standoff\":15},\"zerolinecolor\":\"white\",\"automargin\":true,\"zerolinewidth\":2},\"yaxis\":{\"gridcolor\":\"white\",\"linecolor\":\"white\",\"ticks\":\"\",\"title\":{\"standoff\":15},\"zerolinecolor\":\"white\",\"automargin\":true,\"zerolinewidth\":2},\"scene\":{\"xaxis\":{\"backgroundcolor\":\"#E5ECF6\",\"gridcolor\":\"white\",\"linecolor\":\"white\",\"showbackground\":true,\"ticks\":\"\",\"zerolinecolor\":\"white\",\"gridwidth\":2},\"yaxis\":{\"backgroundcolor\":\"#E5ECF6\",\"gridcolor\":\"white\",\"linecolor\":\"white\",\"showbackground\":true,\"ticks\":\"\",\"zerolinecolor\":\"white\",\"gridwidth\":2},\"zaxis\":{\"backgroundcolor\":\"#E5ECF6\",\"gridcolor\":\"white\",\"linecolor\":\"white\",\"showbackground\":true,\"ticks\":\"\",\"zerolinecolor\":\"white\",\"gridwidth\":2}},\"shapedefaults\":{\"line\":{\"color\":\"#2a3f5f\"}},\"annotationdefaults\":{\"arrowcolor\":\"#2a3f5f\",\"arrowhead\":0,\"arrowwidth\":1},\"geo\":{\"bgcolor\":\"white\",\"landcolor\":\"#E5ECF6\",\"subunitcolor\":\"white\",\"showland\":true,\"showlakes\":true,\"lakecolor\":\"white\"},\"title\":{\"x\":0.05},\"mapbox\":{\"style\":\"light\"}}},\"xaxis\":{\"anchor\":\"y\",\"domain\":[0.0,1.0],\"title\":{\"text\":\" old\"}},\"yaxis\":{\"anchor\":\"x\",\"domain\":[0.0,1.0],\"title\":{\"text\":\" young\"}},\"legend\":{\"tracegroupgap\":0},\"margin\":{\"t\":60}},                        {\"responsive\": true}                    ).then(function(){\n",
       "                            \n",
       "var gd = document.getElementById('09e84685-2565-4a02-91a2-f86e6c72e2f1');\n",
       "var x = new MutationObserver(function (mutations, observer) {{\n",
       "        var display = window.getComputedStyle(gd).display;\n",
       "        if (!display || display === 'none') {{\n",
       "            console.log([gd, 'removed!']);\n",
       "            Plotly.purge(gd);\n",
       "            observer.disconnect();\n",
       "        }}\n",
       "}});\n",
       "\n",
       "// Listen for the removal of the full notebook cells\n",
       "var notebookContainer = gd.closest('#notebook-container');\n",
       "if (notebookContainer) {{\n",
       "    x.observe(notebookContainer, {childList: true});\n",
       "}}\n",
       "\n",
       "// Listen for the clearing of the current output cell\n",
       "var outputEl = gd.closest('.output');\n",
       "if (outputEl) {{\n",
       "    x.observe(outputEl, {childList: true});\n",
       "}}\n",
       "\n",
       "                        })                };                });            </script>        </div>"
      ]
     },
     "metadata": {},
     "output_type": "display_data"
    }
   ],
   "source": [
    "fig = px.scatter(wide_df, x=\" old\", y=\" young\", hover_name=wide_df.index, text=wide_df.index)\n",
    "fig.show()"
   ]
  },
  {
   "cell_type": "code",
   "execution_count": 264,
   "metadata": {},
   "outputs": [
    {
     "data": {
      "application/vnd.plotly.v1+json": {
       "config": {
        "plotlyServerURL": "https://plot.ly"
       },
       "data": [
        {
         "coloraxis": "coloraxis",
         "hovertemplate": "x: %{x}<br>y: %{y}<br>color: %{z}<extra></extra>",
         "name": "0",
         "type": "heatmap",
         "xaxis": "x",
         "yaxis": "y",
         "z": [
          [
           1,
           0,
           0,
           0,
           0,
           0,
           0,
           0,
           0,
           0,
           0,
           0,
           0,
           0,
           0,
           0,
           0,
           0.13623993073732338,
           0,
           0,
           0,
           0,
           0,
           0,
           0.22217253309528837,
           0.2945438503719076,
           0,
           0,
           0,
           0,
           0,
           0.2798719179659316,
           0,
           0.3548682711871535,
           0.26118326655039836,
           0,
           0,
           0,
           0,
           0.0965841191131344,
           0,
           0.14752534935411474,
           0,
           0.3895311752599627,
           0,
           0,
           0,
           0,
           0,
           0,
           0,
           0
          ],
          [
           0,
           1,
           0.8893346010322577,
           0.787358534588401,
           0.8474168235561828,
           0.6878995524378559,
           0.8095865961928315,
           0.7923239562303653,
           0.3051653259066141,
           0.3681001817309949,
           0.20069580358723485,
           0,
           0,
           0,
           0,
           0,
           0,
           0.5948688946124183,
           0,
           0,
           0,
           0,
           0.3388679286916484,
           0,
           0.40613646954369675,
           0.05259579828751847,
           0,
           0,
           0.21035784263042084,
           0,
           0,
           0.06608942762961266,
           0.134341910221988,
           0.13171478096881398,
           0,
           0,
           0.1913862456930615,
           0,
           0,
           0.27790900968865956,
           0,
           0,
           0,
           0,
           0,
           0,
           0,
           0,
           0,
           0.12153441172763166,
           0.1323925032429064,
           0
          ],
          [
           0,
           0.8893346010322577,
           0.9999999999999998,
           0.8871445403418875,
           0.9540415536622309,
           0.7721078158497895,
           0.9086910091923374,
           0.8893151872573098,
           0.3460937361893042,
           0.41746933996763325,
           0.2276128858829679,
           0,
           0,
           0,
           0,
           0,
           0,
           0.6693453678817514,
           0,
           0,
           0,
           0,
           0.38034997312676305,
           0,
           0.34195200502956147,
           0.05964988415085118,
           0,
           0,
           0,
           0,
           0,
           0,
           0,
           0,
           0,
           0,
           0,
           0,
           0,
           0,
           0,
           0,
           0,
           0,
           0,
           0,
           0,
           0,
           0,
           0,
           0,
           0
          ],
          [
           0,
           0.787358534588401,
           0.8871445403418875,
           1,
           0.9846699711577945,
           0.5212706706235078,
           0.6134816434022385,
           0.6004005069513179,
           0.6546907886385627,
           0.7897089800733487,
           0.43056560746742767,
           0,
           0,
           0,
           0,
           0,
           0,
           0.6471358261068094,
           0,
           0,
           0,
           0,
           0.2567844561257397,
           0,
           0.35698572923362304,
           0.11283714674211587,
           0,
           0,
           0,
           0,
           0,
           0,
           0,
           0,
           0,
           0,
           0,
           0,
           0,
           0,
           0,
           0,
           0,
           0,
           0,
           0,
           0,
           0,
           0,
           0,
           0,
           0
          ],
          [
           0,
           0.8474168235561828,
           0.9540415536622309,
           0.9846699711577945,
           1.0000000000000002,
           0.6303223025645984,
           0.7418241306150598,
           0.7260063750562374,
           0.5559415447083613,
           0.6705944819614987,
           0.36562192880627975,
           0,
           0,
           0,
           0,
           0,
           0,
           0.6732135060856344,
           0,
           0,
           0,
           0,
           0.31050465481660855,
           0,
           0.3610582841073872,
           0.09581753516151573,
           0,
           0,
           0,
           0,
           0,
           0,
           0,
           0,
           0,
           0,
           0,
           0,
           0,
           0,
           0,
           0,
           0,
           0,
           0,
           0,
           0,
           0,
           0,
           0,
           0,
           0
          ],
          [
           0,
           0.6878995524378559,
           0.7721078158497895,
           0.5212706706235078,
           0.6303223025645984,
           1,
           0.8496923685159538,
           0.9398798585185486,
           0.2948580844070919,
           0,
           0,
           0,
           0.3318739856682976,
           0.430190687009119,
           0.5272787487522598,
           0,
           0,
           0.4758154724139826,
           0,
           0,
           0,
           0,
           0.35565496550726067,
           0,
           0.3415133258763977,
           0.16701474641464648,
           0,
           0,
           0,
           0,
           0,
           0,
           0,
           0.09884790985176725,
           0,
           0,
           0,
           0,
           0,
           0,
           0,
           0,
           0,
           0,
           0,
           0,
           0,
           0.1779941162943509,
           0,
           0,
           0,
           0
          ],
          [
           0,
           0.8095865961928315,
           0.9086910091923374,
           0.6134816434022385,
           0.7418241306150598,
           0.8496923685159538,
           1,
           0.9786772161944806,
           0,
           0,
           0,
           0,
           0,
           0,
           0,
           0,
           0,
           0.5599855783629398,
           0,
           0,
           0,
           0,
           0.4185690947518295,
           0,
           0.26221918912412706,
           0,
           0,
           0,
           0,
           0,
           0,
           0,
           0,
           0,
           0,
           0,
           0,
           0,
           0,
           0,
           0,
           0,
           0,
           0,
           0,
           0,
           0,
           0,
           0,
           0,
           0,
           0
          ],
          [
           0,
           0.7923239562303653,
           0.8893151872573098,
           0.6004005069513179,
           0.7260063750562374,
           0.9398798585185486,
           0.9786772161944806,
           1,
           0.11486354086218925,
           0,
           0,
           0,
           0.12928328280556128,
           0.16758307867042743,
           0.2054042514210016,
           0,
           0,
           0.5480451269412981,
           0,
           0,
           0,
           0,
           0.4096440364367643,
           0,
           0.302871157281079,
           0.06506148606358346,
           0,
           0,
           0,
           0,
           0,
           0,
           0,
           0.03850673097612847,
           0,
           0,
           0,
           0,
           0,
           0,
           0,
           0,
           0,
           0,
           0,
           0,
           0,
           0.06933855821290041,
           0,
           0,
           0,
           0
          ],
          [
           0,
           0.3051653259066141,
           0.3460937361893042,
           0.6546907886385627,
           0.5559415447083613,
           0.2948580844070919,
           0,
           0.11486354086218925,
           0.9999999999999998,
           0.8290279142802132,
           0.4520031005426337,
           0,
           0.35197005394262515,
           0.45624015695990866,
           0.5592072221853,
           0,
           0,
           0.31871068608498027,
           0,
           0,
           0,
           0,
           0,
           0,
           0.33177949584816685,
           0.29558325379950096,
           0,
           0,
           0,
           0,
           0,
           0,
           0,
           0.10483347796177005,
           0,
           0,
           0,
           0,
           0,
           0,
           0,
           0,
           0,
           0,
           0,
           0,
           0,
           0.1887722491639004,
           0,
           0,
           0,
           0
          ],
          [
           0,
           0.3681001817309949,
           0.41746933996763325,
           0.7897089800733487,
           0.6705944819614987,
           0,
           0,
           0,
           0.8290279142802132,
           1,
           0.5452206044655038,
           0,
           0,
           0,
           0,
           0,
           0,
           0.38443902864440266,
           0,
           0,
           0,
           0,
           0,
           0,
           0.24834347222433192,
           0.14288446704966618,
           0,
           0,
           0,
           0,
           0,
           0,
           0,
           0,
           0,
           0,
           0,
           0,
           0,
           0,
           0,
           0,
           0,
           0,
           0,
           0,
           0,
           0,
           0,
           0,
           0,
           0
          ],
          [
           0,
           0.20069580358723485,
           0.2276128858829679,
           0.43056560746742767,
           0.36562192880627975,
           0,
           0,
           0,
           0.4520031005426337,
           0.5452206044655038,
           1,
           0.5699883778610497,
           0.2595319920479643,
           0.18156756229144502,
           0,
           0.3803656680571488,
           0.3021926536622391,
           0.6257846513364401,
           0.4488443247715419,
           0.31296940023454045,
           0.369694842412053,
           0.369694842412053,
           0.4816789211560601,
           0.5286271258631654,
           0.5926949555849373,
           0.6265942559580029,
           0,
           0.2668049063547424,
           0,
           0,
           0,
           0.27843042609071283,
           0.0946848357951047,
           0,
           0.12547434927134804,
           0,
           0.30442787669928384,
           0,
           0,
           0,
           0.16982401279050463,
           0.26807418603625166,
           0,
           0.06795005319407899,
           0,
           0.03916600057422917,
           0,
           0.22490127647359373,
           0,
           0.36195954185969703,
           0.26121884097952985,
           0.19331295812836732
          ],
          [
           0,
           0,
           0,
           0,
           0,
           0,
           0,
           0,
           0,
           0,
           0.5699883778610497,
           1,
           0.44281057387922673,
           0.32488660477638215,
           0,
           0,
           0,
           0.148601322446584,
           0,
           0,
           0,
           0,
           0,
           0,
           0.3545044886858655,
           0.5073988600440766,
           0,
           0.4679125702184742,
           0,
           0,
           0,
           0.2047278236850761,
           0,
           0,
           0,
           0,
           0.5284763003547337,
           0,
           0,
           0,
           0,
           0,
           0,
           0.0700744215723733,
           0,
           0,
           0,
           0,
           0,
           0.5186323917796302,
           0.18098275110233886,
           0
          ],
          [
           0,
           0,
           0,
           0,
           0,
           0.3318739856682976,
           0,
           0.12928328280556128,
           0.35197005394262515,
           0,
           0.2595319920479643,
           0.44281057387922673,
           1,
           0.5135156447098346,
           0.6294089918352229,
           0,
           0,
           0.16111781696720878,
           0,
           0,
           0,
           0,
           0,
           0,
           0.4074382977106938,
           0.44361069165524786,
           0,
           0.21118446893127182,
           0,
           0,
           0,
           0.2413827300422522,
           0.16392510335658086,
           0.23875355294273454,
           0.1607909003185318,
           0.35176184153720613,
           0.36149761349357995,
           0,
           0.25140699560562374,
           0.17507389855929617,
           0,
           0,
           0,
           0.17028149325192116,
           0,
           0,
           0,
           0.21247034429992984,
           0,
           0,
           0,
           0
          ],
          [
           0,
           0,
           0,
           0,
           0,
           0.430190687009119,
           0,
           0.16758307867042743,
           0.45624015695990866,
           0,
           0.18156756229144502,
           0.32488660477638215,
           0.5135156447098346,
           0.9999999999999998,
           0.8158695718860514,
           0,
           0,
           0.03548381664675739,
           0,
           0,
           0,
           0,
           0,
           0,
           0.3829621226478006,
           0.5357878934665505,
           0,
           0.14999863596076907,
           0,
           0,
           0,
           0.1817792520047057,
           0,
           0.1529494637958263,
           0.048110340824519635,
           0,
           0.1071232178946214,
           0,
           0,
           0.035943138697623715,
           0.12280013415857476,
           0.0738506825278138,
           0,
           0.16365447537486785,
           0,
           0,
           0,
           0.27541406476736136,
           0,
           0.28482041618648724,
           0.09939136719683804,
           0
          ],
          [
           0,
           0,
           0,
           0,
           0,
           0.5272787487522598,
           0,
           0.2054042514210016,
           0.5592072221853,
           0,
           0,
           0,
           0.6294089918352229,
           0.8158695718860514,
           1,
           0,
           0,
           0,
           0,
           0,
           0,
           0,
           0,
           0,
           0.22513268793800706,
           0.31674848798641386,
           0,
           0,
           0,
           0,
           0,
           0,
           0,
           0.18746803296297956,
           0,
           0,
           0,
           0,
           0,
           0,
           0,
           0,
           0,
           0,
           0,
           0,
           0,
           0.3375711930654366,
           0,
           0,
           0,
           0
          ],
          [
           0,
           0,
           0,
           0,
           0,
           0,
           0,
           0,
           0,
           0,
           0.3803656680571488,
           0,
           0,
           0,
           0,
           1,
           0.7944793104114632,
           0.49435854129613205,
           0.710138678222585,
           0,
           0,
           0,
           0.642397722963344,
           0.6573001373829008,
           0.19161421225960226,
           0.1880834960157445,
           0,
           0,
           0,
           0,
           0,
           0,
           0,
           0,
           0,
           0,
           0,
           0,
           0,
           0,
           0,
           0,
           0,
           0,
           0,
           0,
           0,
           0.5912764882865374,
           0,
           0,
           0,
           0
          ],
          [
           0,
           0,
           0,
           0,
           0,
           0,
           0,
           0,
           0,
           0,
           0.3021926536622391,
           0,
           0,
           0,
           0,
           0.7944793104114632,
           1,
           0.39275763298496785,
           0.5641904873707874,
           0.3232556562954534,
           0,
           0,
           0.5103716999498117,
           0.522211359881327,
           0.28902970725190846,
           0.25896116795688273,
           0,
           0,
           0,
           0,
           0,
           0,
           0,
           0,
           0.16355073854484165,
           0,
           0,
           0,
           0,
           0,
           0,
           0.17697284323420573,
           0,
           0.31380627582835063,
           0.6072912195381437,
           0.4532476921364867,
           0.45049486231615027,
           0.4697569366763999,
           0,
           0,
           0,
           0
          ],
          [
           0.13623993073732338,
           0.5948688946124183,
           0.6693453678817514,
           0.6471358261068094,
           0.6732135060856344,
           0.4758154724139826,
           0.5599855783629398,
           0.5480451269412981,
           0.31871068608498027,
           0.38443902864440266,
           0.6257846513364401,
           0.148601322446584,
           0.16111781696720878,
           0.03548381664675739,
           0,
           0.49435854129613205,
           0.39275763298496785,
           0.9999999999999999,
           0.535514791967603,
           0.32298494005955075,
           0.3815256904582327,
           0.3815256904582327,
           0.7968953857801236,
           0.6124707261852,
           0.5829862758412259,
           0.4113889923529773,
           0,
           0.07087069102357481,
           0,
           0,
           0,
           0.10409623792022957,
           0,
           0.1330325844180985,
           0.1288409807294053,
           0,
           0.12131377748238127,
           0,
           0,
           0.021337559021065308,
           0.02794345789778714,
           0.11226031092657487,
           0.2607025715240264,
           0.2475800196046735,
           0,
           0.1638337996070389,
           0.17482970371147513,
           0.29230258225203215,
           0,
           0,
           0,
           0
          ],
          [
           0,
           0,
           0,
           0,
           0,
           0,
           0,
           0,
           0,
           0,
           0.4488443247715419,
           0,
           0,
           0,
           0,
           0.710138678222585,
           0.5641904873707874,
           0.535514791967603,
           1,
           0.40927695580499024,
           0.4834580619249684,
           0.4834580619249684,
           0.7665568903528213,
           0.8311222215231462,
           0.3621728021932269,
           0.21780286666589874,
           0.42188413258609897,
           0.45232744023076754,
           0.4544498333871982,
           0.511831378534018,
           0.511831378534018,
           0.2589086957517115,
           0.3300074531158476,
           0,
           0,
           0,
           0,
           0,
           0,
           0.13949770869282166,
           0,
           0,
           0,
           0,
           0,
           0,
           0,
           0.4198883038558935,
           0,
           0,
           0,
           0
          ],
          [
           0,
           0,
           0,
           0,
           0,
           0,
           0,
           0,
           0,
           0,
           0.31296940023454045,
           0,
           0,
           0,
           0,
           0,
           0.3232556562954534,
           0.32298494005955075,
           0.40927695580499024,
           0.9999999999999998,
           0.8465614456306432,
           0.8465614456306432,
           0.5434667858975041,
           0.637993176939873,
           0.2935135931749051,
           0.24350993796738038,
           0,
           0,
           0,
           0,
           0,
           0,
           0,
           0,
           0.1433522911581264,
           0,
           0,
           0,
           0,
           0,
           0,
           0.15511677156649234,
           0,
           0.2750513328159584,
           0.5322910094786079,
           0.3972717928881999,
           0.39485893639226033,
           0,
           0,
           0,
           0,
           0
          ],
          [
           0,
           0,
           0,
           0,
           0,
           0,
           0,
           0,
           0,
           0,
           0.369694842412053,
           0,
           0,
           0,
           0,
           0,
           0,
           0.3815256904582327,
           0.4834580619249684,
           0.8465614456306432,
           1,
           1,
           0.6419696865508094,
           0.7536289069538267,
           0.20507865637974992,
           0.1742395215717151,
           0,
           0,
           0,
           0,
           0,
           0,
           0,
           0,
           0,
           0,
           0,
           0,
           0,
           0,
           0,
           0,
           0,
           0,
           0,
           0,
           0,
           0,
           0,
           0,
           0,
           0
          ],
          [
           0,
           0,
           0,
           0,
           0,
           0,
           0,
           0,
           0,
           0,
           0.369694842412053,
           0,
           0,
           0,
           0,
           0,
           0,
           0.3815256904582327,
           0.4834580619249684,
           0.8465614456306432,
           1,
           1,
           0.6419696865508094,
           0.7536289069538267,
           0.20507865637974992,
           0.1742395215717151,
           0,
           0,
           0,
           0,
           0,
           0,
           0,
           0,
           0,
           0,
           0,
           0,
           0,
           0,
           0,
           0,
           0,
           0,
           0,
           0,
           0,
           0,
           0,
           0,
           0,
           0
          ],
          [
           0,
           0.3388679286916484,
           0.38034997312676305,
           0.2567844561257397,
           0.31050465481660855,
           0.35565496550726067,
           0.4185690947518295,
           0.4096440364367643,
           0,
           0,
           0.4816789211560601,
           0,
           0,
           0,
           0,
           0.642397722963344,
           0.5103716999498117,
           0.7968953857801236,
           0.7665568903528213,
           0.5434667858975041,
           0.6419696865508094,
           0.6419696865508094,
           0.9999999999999998,
           0.9060550247310459,
           0.3645036630155972,
           0.23268090061565638,
           0,
           0,
           0,
           0,
           0,
           0,
           0,
           0,
           0,
           0,
           0,
           0,
           0,
           0,
           0,
           0,
           0,
           0,
           0,
           0,
           0,
           0.379834669717034,
           0,
           0,
           0,
           0
          ],
          [
           0,
           0,
           0,
           0,
           0,
           0,
           0,
           0,
           0,
           0,
           0.5286271258631654,
           0,
           0,
           0,
           0,
           0.6573001373829008,
           0.522211359881327,
           0.6124707261852,
           0.8311222215231462,
           0.637993176939873,
           0.7536289069538267,
           0.7536289069538267,
           0.9060550247310459,
           0.9999999999999998,
           0.28050125168978324,
           0.2549392479608545,
           0,
           0,
           0,
           0,
           0,
           0,
           0,
           0,
           0,
           0,
           0,
           0,
           0,
           0,
           0,
           0,
           0,
           0,
           0,
           0,
           0,
           0.38864611698202023,
           0,
           0,
           0,
           0
          ],
          [
           0.22217253309528837,
           0.40613646954369675,
           0.34195200502956147,
           0.35698572923362304,
           0.3610582841073872,
           0.3415133258763977,
           0.26221918912412706,
           0.302871157281079,
           0.33177949584816685,
           0.24834347222433192,
           0.5926949555849373,
           0.3545044886858655,
           0.4074382977106938,
           0.3829621226478006,
           0.22513268793800706,
           0.19161421225960226,
           0.28902970725190846,
           0.5829862758412259,
           0.3621728021932269,
           0.2935135931749051,
           0.20507865637974992,
           0.20507865637974992,
           0.3645036630155972,
           0.28050125168978324,
           0.9999999999999999,
           0.8335039359676047,
           0.35210317364091265,
           0.38537781437445306,
           0.323291796203068,
           0.2480371746230539,
           0.2480371746230539,
           0.7211742162976439,
           0.46924257494816557,
           0.5862795818217001,
           0.628232575028493,
           0.24852900255318128,
           0.4729194629713404,
           0.2607798831528407,
           0.36002110406117005,
           0.5114624274215653,
           0.303753643706829,
           0.5348580743404485,
           0.21479716104630053,
           0.5852815777252411,
           0.22525631135404856,
           0.3559190806196372,
           0.3111425294969121,
           0.34935432934256955,
           0.21853475818042845,
           0.43379843893544673,
           0.42814839847939457,
           0.3812555639709936
          ],
          [
           0.2945438503719076,
           0.05259579828751847,
           0.05964988415085118,
           0.11283714674211587,
           0.09581753516151573,
           0.16701474641464648,
           0,
           0.06506148606358346,
           0.29558325379950096,
           0.14288446704966618,
           0.6265942559580029,
           0.5073988600440766,
           0.44361069165524786,
           0.5357878934665505,
           0.31674848798641386,
           0.1880834960157445,
           0.25896116795688273,
           0.4113889923529773,
           0.21780286666589874,
           0.24350993796738038,
           0.1742395215717151,
           0.1742395215717151,
           0.23268090061565638,
           0.2549392479608545,
           0.8335039359676047,
           1.0000000000000002,
           0.08317661462661217,
           0.23769300091408269,
           0,
           0,
           0,
           0.5404384018571002,
           0.16142570614694052,
           0.445677672899097,
           0.4732818923097595,
           0,
           0.3795820600642969,
           0.146901735167038,
           0.10274644903628045,
           0.1359099999041854,
           0.3859381732790013,
           0.6026745932172733,
           0.18046814774801517,
           0.5787419386043247,
           0.1803627620794823,
           0.31479755161565715,
           0.25481866036175455,
           0.47109114384879697,
           0.34537140590045823,
           0.5409273626096002,
           0.49181645294063603,
           0.5129438651473053
          ],
          [
           0,
           0,
           0,
           0,
           0,
           0,
           0,
           0,
           0,
           0,
           0,
           0,
           0,
           0,
           0,
           0,
           0,
           0,
           0.42188413258609897,
           0,
           0,
           0,
           0,
           0,
           0.35210317364091265,
           0.08317661462661217,
           1,
           0.7284375274027851,
           0.7318554735310548,
           0.8242639085443627,
           0.8242639085443627,
           0.5888386073285483,
           0.5314508733972827,
           0.352244374422214,
           0.34492610408766533,
           0,
           0.39565457239135166,
           0.5662058009868589,
           0.3960173473035748,
           0.5300776278944109,
           0,
           0,
           0,
           0,
           0,
           0,
           0,
           0,
           0,
           0,
           0,
           0
          ],
          [
           0,
           0,
           0,
           0,
           0,
           0,
           0,
           0,
           0,
           0,
           0.2668049063547424,
           0.4679125702184742,
           0.21118446893127182,
           0.14999863596076907,
           0,
           0,
           0,
           0.07087069102357481,
           0.45232744023076754,
           0,
           0,
           0,
           0,
           0,
           0.38537781437445306,
           0.23769300091408269,
           0.7284375274027851,
           1,
           0.7846664223467076,
           0.8837430825877048,
           0.8837430825877048,
           0.5431241560955651,
           0.5698005556611906,
           0,
           0,
           0,
           0.24907060626185526,
           0,
           0,
           0.24086083867545113,
           0,
           0,
           0,
           0.033419774455214185,
           0,
           0,
           0,
           0,
           0,
           0.2394501656526007,
           0.08355889531506991,
           0
          ],
          [
           0,
           0.21035784263042084,
           0,
           0,
           0,
           0,
           0,
           0,
           0,
           0,
           0,
           0,
           0,
           0,
           0,
           0,
           0,
           0,
           0.4544498333871982,
           0,
           0,
           0,
           0,
           0,
           0.323291796203068,
           0,
           0.7318554735310548,
           0.7846664223467076,
           1,
           0.8878897473789679,
           0.8878897473789679,
           0.515632891892132,
           0.707642426215611,
           0.13252498537238486,
           0,
           0,
           0.19256350141108247,
           0,
           0,
           0.5216094810230992,
           0,
           0,
           0,
           0,
           0,
           0,
           0,
           0,
           0,
           0.12228199460969587,
           0.13320687645400844,
           0
          ],
          [
           0,
           0,
           0,
           0,
           0,
           0,
           0,
           0,
           0,
           0,
           0,
           0,
           0,
           0,
           0,
           0,
           0,
           0,
           0.511831378534018,
           0,
           0,
           0,
           0,
           0,
           0.2480371746230539,
           0,
           0.8242639085443627,
           0.8837430825877048,
           0.8878897473789679,
           1,
           1,
           0.5058476416457213,
           0.6447581507430268,
           0,
           0,
           0,
           0,
           0,
           0,
           0.2725462223366795,
           0,
           0,
           0,
           0,
           0,
           0,
           0,
           0,
           0,
           0,
           0,
           0
          ],
          [
           0,
           0,
           0,
           0,
           0,
           0,
           0,
           0,
           0,
           0,
           0,
           0,
           0,
           0,
           0,
           0,
           0,
           0,
           0.511831378534018,
           0,
           0,
           0,
           0,
           0,
           0.2480371746230539,
           0,
           0.8242639085443627,
           0.8837430825877048,
           0.8878897473789679,
           1,
           1,
           0.5058476416457213,
           0.6447581507430268,
           0,
           0,
           0,
           0,
           0,
           0,
           0.2725462223366795,
           0,
           0,
           0,
           0,
           0,
           0,
           0,
           0,
           0,
           0,
           0,
           0
          ],
          [
           0.2798719179659316,
           0.06608942762961266,
           0,
           0,
           0,
           0,
           0,
           0,
           0,
           0,
           0.27843042609071283,
           0.2047278236850761,
           0.2413827300422522,
           0.1817792520047057,
           0,
           0,
           0,
           0.10409623792022957,
           0.2589086957517115,
           0,
           0,
           0,
           0,
           0,
           0.7211742162976439,
           0.5404384018571002,
           0.5888386073285483,
           0.5431241560955651,
           0.515632891892132,
           0.5058476416457213,
           0.5058476416457213,
           1,
           0.7154560745172076,
           0.4567502677429138,
           0.6771583060151944,
           0.36975770309042993,
           0.39009963691680527,
           0.3035762840968972,
           0.47659701005995037,
           0.6295164611562314,
           0.41204234570210585,
           0.5482864580327581,
           0,
           0.4004511966519038,
           0,
           0.072193070673677,
           0,
           0,
           0,
           0.24254200188785968,
           0.32756645554339464,
           0.3220675775817828
          ],
          [
           0,
           0.134341910221988,
           0,
           0,
           0,
           0,
           0,
           0,
           0,
           0,
           0.0946848357951047,
           0,
           0.16392510335658086,
           0,
           0,
           0,
           0,
           0,
           0.3300074531158476,
           0,
           0,
           0,
           0,
           0,
           0.46924257494816557,
           0.16142570614694052,
           0.5314508733972827,
           0.5698005556611906,
           0.707642426215611,
           0.6447581507430268,
           0.6447581507430268,
           0.7154560745172076,
           1.0000000000000002,
           0.24461643197927901,
           0.3514844819003951,
           0.46601161354007287,
           0.12297781863093805,
           0,
           0.3330622194990038,
           0.5862372576644529,
           0.5036292746520229,
           0.24875100981435339,
           0,
           0.12493432917701702,
           0,
           0.11615050272397427,
           0,
           0,
           0,
           0.07809357871426331,
           0.0850705921574608,
           0.17237347898495092
          ],
          [
           0.3548682711871535,
           0.13171478096881398,
           0,
           0,
           0,
           0.09884790985176725,
           0,
           0.03850673097612847,
           0.10483347796177005,
           0,
           0,
           0,
           0.23875355294273454,
           0.1529494637958263,
           0.18746803296297956,
           0,
           0,
           0.1330325844180985,
           0,
           0,
           0,
           0,
           0,
           0,
           0.5862795818217001,
           0.445677672899097,
           0.352244374422214,
           0,
           0.13252498537238486,
           0,
           0,
           0.4567502677429138,
           0.24461643197927901,
           1,
           0.7311506090383424,
           0.34329899680548603,
           0.5552949270492563,
           0.6221136798815476,
           0.6804791353683908,
           0.7158045289493795,
           0,
           0.20951255526699952,
           0.3248351377419475,
           0.4870446027630365,
           0,
           0.2041367469105859,
           0.21783763218947394,
           0.3427060034340136,
           0.3815058601072034,
           0.3160084961348005,
           0.34295477586834083,
           0.29805001342245924
          ],
          [
           0.26118326655039836,
           0,
           0,
           0,
           0,
           0,
           0,
           0,
           0,
           0,
           0.12547434927134804,
           0,
           0.1607909003185318,
           0.048110340824519635,
           0,
           0,
           0.16355073854484165,
           0.1288409807294053,
           0,
           0.1433522911581264,
           0,
           0,
           0,
           0,
           0.628232575028493,
           0.4732818923097595,
           0.34492610408766533,
           0,
           0,
           0,
           0,
           0.6771583060151944,
           0.3514844819003951,
           0.7311506090383424,
           1,
           0.4571015992407602,
           0.42569017139674775,
           0.6091885732828631,
           0.7527746470588617,
           0.592431343201189,
           0.2862423510975067,
           0.5790958512867262,
           0.31572289242838614,
           0.6064099066794608,
           0.2693118775358304,
           0.45668690517664334,
           0.4115051870786142,
           0,
           0,
           0.08823531635536261,
           0.19585812287639248,
           0.25041238130377774
          ],
          [
           0,
           0,
           0,
           0,
           0,
           0,
           0,
           0,
           0,
           0,
           0,
           0,
           0.35176184153720613,
           0,
           0,
           0,
           0,
           0,
           0,
           0,
           0,
           0,
           0,
           0,
           0.24852900255318128,
           0,
           0,
           0,
           0,
           0,
           0,
           0.36975770309042993,
           0.46601161354007287,
           0.34329899680548603,
           0.4571015992407602,
           1,
           0,
           0,
           0.7147079811356748,
           0.49770577102456537,
           0,
           0,
           0,
           0.2680927374919891,
           0,
           0,
           0,
           0,
           0,
           0,
           0,
           0
          ],
          [
           0,
           0.1913862456930615,
           0,
           0,
           0,
           0,
           0,
           0,
           0,
           0,
           0.30442787669928384,
           0.5284763003547337,
           0.36149761349357995,
           0.1071232178946214,
           0,
           0,
           0,
           0.12131377748238127,
           0,
           0,
           0,
           0,
           0,
           0,
           0.4729194629713404,
           0.3795820600642969,
           0.39565457239135166,
           0.24907060626185526,
           0.19256350141108247,
           0,
           0,
           0.39009963691680527,
           0.12297781863093805,
           0.5552949270492563,
           0.42569017139674775,
           0,
           0.9999999999999999,
           0.6987822655680181,
           0.48874437293066747,
           0.6313436128758101,
           0,
           0,
           0,
           0.057206710181823765,
           0,
           0,
           0,
           0,
           0,
           0.2822597537247221,
           0.1808678412308878,
           0
          ],
          [
           0,
           0,
           0,
           0,
           0,
           0,
           0,
           0,
           0,
           0,
           0,
           0,
           0,
           0,
           0,
           0,
           0,
           0,
           0,
           0,
           0,
           0,
           0,
           0,
           0.2607798831528407,
           0.146901735167038,
           0.5662058009868589,
           0,
           0,
           0,
           0,
           0.3035762840968972,
           0,
           0.6221136798815476,
           0.6091885732828631,
           0,
           0.6987822655680181,
           1,
           0.6994229776758609,
           0.539428619204958,
           0,
           0,
           0,
           0,
           0,
           0,
           0,
           0,
           0,
           0,
           0,
           0
          ],
          [
           0,
           0,
           0,
           0,
           0,
           0,
           0,
           0,
           0,
           0,
           0,
           0,
           0.25140699560562374,
           0,
           0,
           0,
           0,
           0,
           0,
           0,
           0,
           0,
           0,
           0,
           0.36002110406117005,
           0.10274644903628045,
           0.3960173473035748,
           0,
           0,
           0,
           0,
           0.47659701005995037,
           0.3330622194990038,
           0.6804791353683908,
           0.7527746470588617,
           0.7147079811356748,
           0.48874437293066747,
           0.6994229776758609,
           0.9999999999999999,
           0.7330030578964514,
           0,
           0,
           0,
           0.19160801917003595,
           0,
           0,
           0,
           0,
           0,
           0,
           0,
           0
          ],
          [
           0.0965841191131344,
           0.27790900968865956,
           0,
           0,
           0,
           0,
           0,
           0,
           0,
           0,
           0,
           0,
           0.17507389855929617,
           0.035943138697623715,
           0,
           0,
           0,
           0.021337559021065308,
           0.13949770869282166,
           0,
           0,
           0,
           0,
           0,
           0.5114624274215653,
           0.1359099999041854,
           0.5300776278944109,
           0.24086083867545113,
           0.5216094810230992,
           0.2725462223366795,
           0.2725462223366795,
           0.6295164611562314,
           0.5862372576644529,
           0.7158045289493795,
           0.592431343201189,
           0.49770577102456537,
           0.6313436128758101,
           0.539428619204958,
           0.7330030578964514,
           0.9999999999999997,
           0.028305173395240014,
           0.031271033362123495,
           0,
           0.20877584141770023,
           0,
           0,
           0,
           0,
           0,
           0.16154980294430965,
           0.17598293772242538,
           0
          ],
          [
           0,
           0,
           0,
           0,
           0,
           0,
           0,
           0,
           0,
           0,
           0.16982401279050463,
           0,
           0,
           0.12280013415857476,
           0,
           0,
           0,
           0.02794345789778714,
           0,
           0,
           0,
           0,
           0,
           0,
           0.303753643706829,
           0.3859381732790013,
           0,
           0,
           0,
           0,
           0,
           0.41204234570210585,
           0.5036292746520229,
           0,
           0.2862423510975067,
           0,
           0,
           0,
           0,
           0.028305173395240014,
           1,
           0.5043100082622763,
           0,
           0.12887767930792648,
           0,
           0.2083242189161568,
           0,
           0,
           0,
           0,
           0,
           0.309164140741928
          ],
          [
           0.14752534935411474,
           0,
           0,
           0,
           0,
           0,
           0,
           0,
           0,
           0,
           0.26807418603625166,
           0,
           0,
           0.0738506825278138,
           0,
           0,
           0.17697284323420573,
           0.11226031092657487,
           0,
           0.15511677156649234,
           0,
           0,
           0,
           0,
           0.5348580743404485,
           0.6026745932172733,
           0,
           0,
           0,
           0,
           0,
           0.5482864580327581,
           0.24875100981435339,
           0.20951255526699952,
           0.5790958512867262,
           0,
           0,
           0,
           0,
           0.031271033362123495,
           0.5043100082622763,
           0.9999999999999998,
           0.2890518934186521,
           0.5487956614530218,
           0.29141347271379436,
           0.5020387420847712,
           0.4100145435626841,
           0.12145929608747602,
           0.16583304370325405,
           0.3103774844420533,
           0.5707423094305291,
           0.6689902455806223
          ],
          [
           0,
           0,
           0,
           0,
           0,
           0,
           0,
           0,
           0,
           0,
           0,
           0,
           0,
           0,
           0,
           0,
           0,
           0.2607025715240264,
           0,
           0,
           0,
           0,
           0,
           0,
           0.21479716104630053,
           0.18046814774801517,
           0,
           0,
           0,
           0,
           0,
           0,
           0,
           0.3248351377419475,
           0.31572289242838614,
           0,
           0,
           0,
           0,
           0,
           0,
           0.2890518934186521,
           1,
           0.5054556734835634,
           0,
           0.6284318510910427,
           0.6706098167327159,
           0,
           0,
           0,
           0,
           0
          ],
          [
           0.3895311752599627,
           0,
           0,
           0,
           0,
           0,
           0,
           0,
           0,
           0,
           0.06795005319407899,
           0.0700744215723733,
           0.17028149325192116,
           0.16365447537486785,
           0,
           0,
           0.31380627582835063,
           0.2475800196046735,
           0,
           0.2750513328159584,
           0,
           0,
           0,
           0,
           0.5852815777252411,
           0.5787419386043247,
           0,
           0.033419774455214185,
           0,
           0,
           0,
           0.4004511966519038,
           0.12493432917701702,
           0.4870446027630365,
           0.6064099066794608,
           0.2680927374919891,
           0.057206710181823765,
           0,
           0.19160801917003595,
           0.20877584141770023,
           0.12887767930792648,
           0.5487956614530218,
           0.5054556734835634,
           1,
           0.5167311262412227,
           0.7033032238601222,
           0.7222799917993001,
           0.17774880510062818,
           0.24268727313572067,
           0.18242082040808177,
           0.23192994127721533,
           0.2460337699494102
          ],
          [
           0,
           0,
           0,
           0,
           0,
           0,
           0,
           0,
           0,
           0,
           0,
           0,
           0,
           0,
           0,
           0,
           0.6072912195381437,
           0,
           0,
           0.5322910094786079,
           0,
           0,
           0,
           0,
           0.22525631135404856,
           0.1803627620794823,
           0,
           0,
           0,
           0,
           0,
           0,
           0,
           0,
           0.2693118775358304,
           0,
           0,
           0,
           0,
           0,
           0,
           0.29141347271379436,
           0,
           0.5167311262412227,
           1,
           0.7463432329569823,
           0.7418102679942582,
           0,
           0,
           0,
           0,
           0
          ],
          [
           0,
           0,
           0,
           0,
           0,
           0,
           0,
           0,
           0,
           0,
           0.03916600057422917,
           0,
           0,
           0,
           0,
           0,
           0.4532476921364867,
           0.1638337996070389,
           0,
           0.3972717928881999,
           0,
           0,
           0,
           0,
           0.3559190806196372,
           0.31479755161565715,
           0,
           0,
           0,
           0,
           0,
           0.072193070673677,
           0.11615050272397427,
           0.2041367469105859,
           0.45668690517664334,
           0,
           0,
           0,
           0,
           0,
           0.2083242189161568,
           0.5020387420847712,
           0.6284318510910427,
           0.7033032238601222,
           0.7463432329569823,
           1,
           0.9750776421446857,
           0,
           0,
           0,
           0,
           0.07130159460291856
          ],
          [
           0,
           0,
           0,
           0,
           0,
           0,
           0,
           0,
           0,
           0,
           0,
           0,
           0,
           0,
           0,
           0,
           0.45049486231615027,
           0.17482970371147513,
           0,
           0.39485893639226033,
           0,
           0,
           0,
           0,
           0.3111425294969121,
           0.25481866036175455,
           0,
           0,
           0,
           0,
           0,
           0,
           0,
           0.21783763218947394,
           0.4115051870786142,
           0,
           0,
           0,
           0,
           0,
           0,
           0.4100145435626841,
           0.6706098167327159,
           0.7222799917993001,
           0.7418102679942582,
           0.9750776421446857,
           1,
           0,
           0,
           0,
           0,
           0
          ],
          [
           0,
           0,
           0,
           0,
           0,
           0.1779941162943509,
           0,
           0.06933855821290041,
           0.1887722491639004,
           0,
           0.22490127647359373,
           0,
           0.21247034429992984,
           0.27541406476736136,
           0.3375711930654366,
           0.5912764882865374,
           0.4697569366763999,
           0.29230258225203215,
           0.4198883038558935,
           0,
           0,
           0,
           0.379834669717034,
           0.38864611698202023,
           0.34935432934256955,
           0.47109114384879697,
           0,
           0,
           0,
           0,
           0,
           0,
           0,
           0.3427060034340136,
           0,
           0,
           0,
           0,
           0,
           0,
           0,
           0.12145929608747602,
           0,
           0.17774880510062818,
           0,
           0,
           0,
           1,
           0.732419145033715,
           0.4596835377533516,
           0.4982826924143888,
           0.5721996929400327
          ],
          [
           0,
           0,
           0,
           0,
           0,
           0,
           0,
           0,
           0,
           0,
           0,
           0,
           0,
           0,
           0,
           0,
           0,
           0,
           0,
           0,
           0,
           0,
           0,
           0,
           0.21853475818042845,
           0.34537140590045823,
           0,
           0,
           0,
           0,
           0,
           0,
           0,
           0.3815058601072034,
           0,
           0,
           0,
           0,
           0,
           0,
           0,
           0.16583304370325405,
           0,
           0.24268727313572067,
           0,
           0,
           0,
           0.732419145033715,
           1,
           0.6276235962294394,
           0.6803245051594762,
           0.7812462260440953
          ],
          [
           0,
           0.12153441172763166,
           0,
           0,
           0,
           0,
           0,
           0,
           0,
           0,
           0.36195954185969703,
           0.5186323917796302,
           0,
           0.28482041618648724,
           0,
           0,
           0,
           0,
           0,
           0,
           0,
           0,
           0,
           0,
           0.43379843893544673,
           0.5409273626096002,
           0,
           0.2394501656526007,
           0.12228199460969587,
           0,
           0,
           0.24254200188785968,
           0.07809357871426331,
           0.3160084961348005,
           0.08823531635536261,
           0,
           0.2822597537247221,
           0,
           0,
           0.16154980294430965,
           0,
           0.3103774844420533,
           0,
           0.18242082040808177,
           0,
           0,
           0,
           0.4596835377533516,
           0.6276235962294394,
           1,
           0.8418926401937663,
           0.641738333787827
          ],
          [
           0,
           0.1323925032429064,
           0,
           0,
           0,
           0,
           0,
           0,
           0,
           0,
           0.26121884097952985,
           0.18098275110233886,
           0,
           0.09939136719683804,
           0,
           0,
           0,
           0,
           0,
           0,
           0,
           0,
           0,
           0,
           0.42814839847939457,
           0.49181645294063603,
           0,
           0.08355889531506991,
           0.13320687645400844,
           0,
           0,
           0.32756645554339464,
           0.0850705921574608,
           0.34295477586834083,
           0.19585812287639248,
           0,
           0.1808678412308878,
           0,
           0,
           0.17598293772242538,
           0,
           0.5707423094305291,
           0,
           0.23192994127721533,
           0,
           0,
           0,
           0.4982826924143888,
           0.6803245051594762,
           0.8418926401937663,
           0.9999999999999997,
           0.8675889738382594
          ],
          [
           0,
           0,
           0,
           0,
           0,
           0,
           0,
           0,
           0,
           0,
           0.19331295812836732,
           0,
           0,
           0,
           0,
           0,
           0,
           0,
           0,
           0,
           0,
           0,
           0,
           0,
           0.3812555639709936,
           0.5129438651473053,
           0,
           0,
           0,
           0,
           0,
           0.3220675775817828,
           0.17237347898495092,
           0.29805001342245924,
           0.25041238130377774,
           0,
           0,
           0,
           0,
           0,
           0.309164140741928,
           0.6689902455806223,
           0,
           0.2460337699494102,
           0,
           0.07130159460291856,
           0,
           0.5721996929400327,
           0.7812462260440953,
           0.641738333787827,
           0.8675889738382594,
           1
          ]
         ]
        }
       ],
       "layout": {
        "coloraxis": {
         "cmid": 0,
         "colorscale": [
          [
           0,
           "rgb(103,0,31)"
          ],
          [
           0.1,
           "rgb(178,24,43)"
          ],
          [
           0.2,
           "rgb(214,96,77)"
          ],
          [
           0.3,
           "rgb(244,165,130)"
          ],
          [
           0.4,
           "rgb(253,219,199)"
          ],
          [
           0.5,
           "rgb(247,247,247)"
          ],
          [
           0.6,
           "rgb(209,229,240)"
          ],
          [
           0.7,
           "rgb(146,197,222)"
          ],
          [
           0.8,
           "rgb(67,147,195)"
          ],
          [
           0.9,
           "rgb(33,102,172)"
          ],
          [
           1,
           "rgb(5,48,97)"
          ]
         ]
        },
        "margin": {
         "t": 60
        },
        "template": {
         "data": {
          "bar": [
           {
            "error_x": {
             "color": "#2a3f5f"
            },
            "error_y": {
             "color": "#2a3f5f"
            },
            "marker": {
             "line": {
              "color": "#E5ECF6",
              "width": 0.5
             },
             "pattern": {
              "fillmode": "overlay",
              "size": 10,
              "solidity": 0.2
             }
            },
            "type": "bar"
           }
          ],
          "barpolar": [
           {
            "marker": {
             "line": {
              "color": "#E5ECF6",
              "width": 0.5
             },
             "pattern": {
              "fillmode": "overlay",
              "size": 10,
              "solidity": 0.2
             }
            },
            "type": "barpolar"
           }
          ],
          "carpet": [
           {
            "aaxis": {
             "endlinecolor": "#2a3f5f",
             "gridcolor": "white",
             "linecolor": "white",
             "minorgridcolor": "white",
             "startlinecolor": "#2a3f5f"
            },
            "baxis": {
             "endlinecolor": "#2a3f5f",
             "gridcolor": "white",
             "linecolor": "white",
             "minorgridcolor": "white",
             "startlinecolor": "#2a3f5f"
            },
            "type": "carpet"
           }
          ],
          "choropleth": [
           {
            "colorbar": {
             "outlinewidth": 0,
             "ticks": ""
            },
            "type": "choropleth"
           }
          ],
          "contour": [
           {
            "colorbar": {
             "outlinewidth": 0,
             "ticks": ""
            },
            "colorscale": [
             [
              0,
              "#0d0887"
             ],
             [
              0.1111111111111111,
              "#46039f"
             ],
             [
              0.2222222222222222,
              "#7201a8"
             ],
             [
              0.3333333333333333,
              "#9c179e"
             ],
             [
              0.4444444444444444,
              "#bd3786"
             ],
             [
              0.5555555555555556,
              "#d8576b"
             ],
             [
              0.6666666666666666,
              "#ed7953"
             ],
             [
              0.7777777777777778,
              "#fb9f3a"
             ],
             [
              0.8888888888888888,
              "#fdca26"
             ],
             [
              1,
              "#f0f921"
             ]
            ],
            "type": "contour"
           }
          ],
          "contourcarpet": [
           {
            "colorbar": {
             "outlinewidth": 0,
             "ticks": ""
            },
            "type": "contourcarpet"
           }
          ],
          "heatmap": [
           {
            "colorbar": {
             "outlinewidth": 0,
             "ticks": ""
            },
            "colorscale": [
             [
              0,
              "#0d0887"
             ],
             [
              0.1111111111111111,
              "#46039f"
             ],
             [
              0.2222222222222222,
              "#7201a8"
             ],
             [
              0.3333333333333333,
              "#9c179e"
             ],
             [
              0.4444444444444444,
              "#bd3786"
             ],
             [
              0.5555555555555556,
              "#d8576b"
             ],
             [
              0.6666666666666666,
              "#ed7953"
             ],
             [
              0.7777777777777778,
              "#fb9f3a"
             ],
             [
              0.8888888888888888,
              "#fdca26"
             ],
             [
              1,
              "#f0f921"
             ]
            ],
            "type": "heatmap"
           }
          ],
          "heatmapgl": [
           {
            "colorbar": {
             "outlinewidth": 0,
             "ticks": ""
            },
            "colorscale": [
             [
              0,
              "#0d0887"
             ],
             [
              0.1111111111111111,
              "#46039f"
             ],
             [
              0.2222222222222222,
              "#7201a8"
             ],
             [
              0.3333333333333333,
              "#9c179e"
             ],
             [
              0.4444444444444444,
              "#bd3786"
             ],
             [
              0.5555555555555556,
              "#d8576b"
             ],
             [
              0.6666666666666666,
              "#ed7953"
             ],
             [
              0.7777777777777778,
              "#fb9f3a"
             ],
             [
              0.8888888888888888,
              "#fdca26"
             ],
             [
              1,
              "#f0f921"
             ]
            ],
            "type": "heatmapgl"
           }
          ],
          "histogram": [
           {
            "marker": {
             "pattern": {
              "fillmode": "overlay",
              "size": 10,
              "solidity": 0.2
             }
            },
            "type": "histogram"
           }
          ],
          "histogram2d": [
           {
            "colorbar": {
             "outlinewidth": 0,
             "ticks": ""
            },
            "colorscale": [
             [
              0,
              "#0d0887"
             ],
             [
              0.1111111111111111,
              "#46039f"
             ],
             [
              0.2222222222222222,
              "#7201a8"
             ],
             [
              0.3333333333333333,
              "#9c179e"
             ],
             [
              0.4444444444444444,
              "#bd3786"
             ],
             [
              0.5555555555555556,
              "#d8576b"
             ],
             [
              0.6666666666666666,
              "#ed7953"
             ],
             [
              0.7777777777777778,
              "#fb9f3a"
             ],
             [
              0.8888888888888888,
              "#fdca26"
             ],
             [
              1,
              "#f0f921"
             ]
            ],
            "type": "histogram2d"
           }
          ],
          "histogram2dcontour": [
           {
            "colorbar": {
             "outlinewidth": 0,
             "ticks": ""
            },
            "colorscale": [
             [
              0,
              "#0d0887"
             ],
             [
              0.1111111111111111,
              "#46039f"
             ],
             [
              0.2222222222222222,
              "#7201a8"
             ],
             [
              0.3333333333333333,
              "#9c179e"
             ],
             [
              0.4444444444444444,
              "#bd3786"
             ],
             [
              0.5555555555555556,
              "#d8576b"
             ],
             [
              0.6666666666666666,
              "#ed7953"
             ],
             [
              0.7777777777777778,
              "#fb9f3a"
             ],
             [
              0.8888888888888888,
              "#fdca26"
             ],
             [
              1,
              "#f0f921"
             ]
            ],
            "type": "histogram2dcontour"
           }
          ],
          "mesh3d": [
           {
            "colorbar": {
             "outlinewidth": 0,
             "ticks": ""
            },
            "type": "mesh3d"
           }
          ],
          "parcoords": [
           {
            "line": {
             "colorbar": {
              "outlinewidth": 0,
              "ticks": ""
             }
            },
            "type": "parcoords"
           }
          ],
          "pie": [
           {
            "automargin": true,
            "type": "pie"
           }
          ],
          "scatter": [
           {
            "fillpattern": {
             "fillmode": "overlay",
             "size": 10,
             "solidity": 0.2
            },
            "type": "scatter"
           }
          ],
          "scatter3d": [
           {
            "line": {
             "colorbar": {
              "outlinewidth": 0,
              "ticks": ""
             }
            },
            "marker": {
             "colorbar": {
              "outlinewidth": 0,
              "ticks": ""
             }
            },
            "type": "scatter3d"
           }
          ],
          "scattercarpet": [
           {
            "marker": {
             "colorbar": {
              "outlinewidth": 0,
              "ticks": ""
             }
            },
            "type": "scattercarpet"
           }
          ],
          "scattergeo": [
           {
            "marker": {
             "colorbar": {
              "outlinewidth": 0,
              "ticks": ""
             }
            },
            "type": "scattergeo"
           }
          ],
          "scattergl": [
           {
            "marker": {
             "colorbar": {
              "outlinewidth": 0,
              "ticks": ""
             }
            },
            "type": "scattergl"
           }
          ],
          "scattermapbox": [
           {
            "marker": {
             "colorbar": {
              "outlinewidth": 0,
              "ticks": ""
             }
            },
            "type": "scattermapbox"
           }
          ],
          "scatterpolar": [
           {
            "marker": {
             "colorbar": {
              "outlinewidth": 0,
              "ticks": ""
             }
            },
            "type": "scatterpolar"
           }
          ],
          "scatterpolargl": [
           {
            "marker": {
             "colorbar": {
              "outlinewidth": 0,
              "ticks": ""
             }
            },
            "type": "scatterpolargl"
           }
          ],
          "scatterternary": [
           {
            "marker": {
             "colorbar": {
              "outlinewidth": 0,
              "ticks": ""
             }
            },
            "type": "scatterternary"
           }
          ],
          "surface": [
           {
            "colorbar": {
             "outlinewidth": 0,
             "ticks": ""
            },
            "colorscale": [
             [
              0,
              "#0d0887"
             ],
             [
              0.1111111111111111,
              "#46039f"
             ],
             [
              0.2222222222222222,
              "#7201a8"
             ],
             [
              0.3333333333333333,
              "#9c179e"
             ],
             [
              0.4444444444444444,
              "#bd3786"
             ],
             [
              0.5555555555555556,
              "#d8576b"
             ],
             [
              0.6666666666666666,
              "#ed7953"
             ],
             [
              0.7777777777777778,
              "#fb9f3a"
             ],
             [
              0.8888888888888888,
              "#fdca26"
             ],
             [
              1,
              "#f0f921"
             ]
            ],
            "type": "surface"
           }
          ],
          "table": [
           {
            "cells": {
             "fill": {
              "color": "#EBF0F8"
             },
             "line": {
              "color": "white"
             }
            },
            "header": {
             "fill": {
              "color": "#C8D4E3"
             },
             "line": {
              "color": "white"
             }
            },
            "type": "table"
           }
          ]
         },
         "layout": {
          "annotationdefaults": {
           "arrowcolor": "#2a3f5f",
           "arrowhead": 0,
           "arrowwidth": 1
          },
          "autotypenumbers": "strict",
          "coloraxis": {
           "colorbar": {
            "outlinewidth": 0,
            "ticks": ""
           }
          },
          "colorscale": {
           "diverging": [
            [
             0,
             "#8e0152"
            ],
            [
             0.1,
             "#c51b7d"
            ],
            [
             0.2,
             "#de77ae"
            ],
            [
             0.3,
             "#f1b6da"
            ],
            [
             0.4,
             "#fde0ef"
            ],
            [
             0.5,
             "#f7f7f7"
            ],
            [
             0.6,
             "#e6f5d0"
            ],
            [
             0.7,
             "#b8e186"
            ],
            [
             0.8,
             "#7fbc41"
            ],
            [
             0.9,
             "#4d9221"
            ],
            [
             1,
             "#276419"
            ]
           ],
           "sequential": [
            [
             0,
             "#0d0887"
            ],
            [
             0.1111111111111111,
             "#46039f"
            ],
            [
             0.2222222222222222,
             "#7201a8"
            ],
            [
             0.3333333333333333,
             "#9c179e"
            ],
            [
             0.4444444444444444,
             "#bd3786"
            ],
            [
             0.5555555555555556,
             "#d8576b"
            ],
            [
             0.6666666666666666,
             "#ed7953"
            ],
            [
             0.7777777777777778,
             "#fb9f3a"
            ],
            [
             0.8888888888888888,
             "#fdca26"
            ],
            [
             1,
             "#f0f921"
            ]
           ],
           "sequentialminus": [
            [
             0,
             "#0d0887"
            ],
            [
             0.1111111111111111,
             "#46039f"
            ],
            [
             0.2222222222222222,
             "#7201a8"
            ],
            [
             0.3333333333333333,
             "#9c179e"
            ],
            [
             0.4444444444444444,
             "#bd3786"
            ],
            [
             0.5555555555555556,
             "#d8576b"
            ],
            [
             0.6666666666666666,
             "#ed7953"
            ],
            [
             0.7777777777777778,
             "#fb9f3a"
            ],
            [
             0.8888888888888888,
             "#fdca26"
            ],
            [
             1,
             "#f0f921"
            ]
           ]
          },
          "colorway": [
           "#636efa",
           "#EF553B",
           "#00cc96",
           "#ab63fa",
           "#FFA15A",
           "#19d3f3",
           "#FF6692",
           "#B6E880",
           "#FF97FF",
           "#FECB52"
          ],
          "font": {
           "color": "#2a3f5f"
          },
          "geo": {
           "bgcolor": "white",
           "lakecolor": "white",
           "landcolor": "#E5ECF6",
           "showlakes": true,
           "showland": true,
           "subunitcolor": "white"
          },
          "hoverlabel": {
           "align": "left"
          },
          "hovermode": "closest",
          "mapbox": {
           "style": "light"
          },
          "paper_bgcolor": "white",
          "plot_bgcolor": "#E5ECF6",
          "polar": {
           "angularaxis": {
            "gridcolor": "white",
            "linecolor": "white",
            "ticks": ""
           },
           "bgcolor": "#E5ECF6",
           "radialaxis": {
            "gridcolor": "white",
            "linecolor": "white",
            "ticks": ""
           }
          },
          "scene": {
           "xaxis": {
            "backgroundcolor": "#E5ECF6",
            "gridcolor": "white",
            "gridwidth": 2,
            "linecolor": "white",
            "showbackground": true,
            "ticks": "",
            "zerolinecolor": "white"
           },
           "yaxis": {
            "backgroundcolor": "#E5ECF6",
            "gridcolor": "white",
            "gridwidth": 2,
            "linecolor": "white",
            "showbackground": true,
            "ticks": "",
            "zerolinecolor": "white"
           },
           "zaxis": {
            "backgroundcolor": "#E5ECF6",
            "gridcolor": "white",
            "gridwidth": 2,
            "linecolor": "white",
            "showbackground": true,
            "ticks": "",
            "zerolinecolor": "white"
           }
          },
          "shapedefaults": {
           "line": {
            "color": "#2a3f5f"
           }
          },
          "ternary": {
           "aaxis": {
            "gridcolor": "white",
            "linecolor": "white",
            "ticks": ""
           },
           "baxis": {
            "gridcolor": "white",
            "linecolor": "white",
            "ticks": ""
           },
           "bgcolor": "#E5ECF6",
           "caxis": {
            "gridcolor": "white",
            "linecolor": "white",
            "ticks": ""
           }
          },
          "title": {
           "x": 0.05
          },
          "xaxis": {
           "automargin": true,
           "gridcolor": "white",
           "linecolor": "white",
           "ticks": "",
           "title": {
            "standoff": 15
           },
           "zerolinecolor": "white",
           "zerolinewidth": 2
          },
          "yaxis": {
           "automargin": true,
           "gridcolor": "white",
           "linecolor": "white",
           "ticks": "",
           "title": {
            "standoff": 15
           },
           "zerolinecolor": "white",
           "zerolinewidth": 2
          }
         }
        },
        "xaxis": {
         "anchor": "y",
         "constrain": "domain",
         "domain": [
          0,
          1
         ],
         "scaleanchor": "y"
        },
        "yaxis": {
         "anchor": "x",
         "autorange": "reversed",
         "constrain": "domain",
         "domain": [
          0,
          1
         ]
        }
       }
      },
      "text/html": [
       "<div>                            <div id=\"4066c2b7-746d-4255-9114-0cb5710dd4d4\" class=\"plotly-graph-div\" style=\"height:525px; width:100%;\"></div>            <script type=\"text/javascript\">                require([\"plotly\"], function(Plotly) {                    window.PLOTLYENV=window.PLOTLYENV || {};                                    if (document.getElementById(\"4066c2b7-746d-4255-9114-0cb5710dd4d4\")) {                    Plotly.newPlot(                        \"4066c2b7-746d-4255-9114-0cb5710dd4d4\",                        [{\"coloraxis\":\"coloraxis\",\"name\":\"0\",\"z\":[[1.0,0.0,0.0,0.0,0.0,0.0,0.0,0.0,0.0,0.0,0.0,0.0,0.0,0.0,0.0,0.0,0.0,0.13623993073732338,0.0,0.0,0.0,0.0,0.0,0.0,0.22217253309528837,0.2945438503719076,0.0,0.0,0.0,0.0,0.0,0.2798719179659316,0.0,0.3548682711871535,0.26118326655039836,0.0,0.0,0.0,0.0,0.0965841191131344,0.0,0.14752534935411474,0.0,0.3895311752599627,0.0,0.0,0.0,0.0,0.0,0.0,0.0,0.0],[0.0,1.0,0.8893346010322577,0.787358534588401,0.8474168235561828,0.6878995524378559,0.8095865961928315,0.7923239562303653,0.3051653259066141,0.3681001817309949,0.20069580358723485,0.0,0.0,0.0,0.0,0.0,0.0,0.5948688946124183,0.0,0.0,0.0,0.0,0.3388679286916484,0.0,0.40613646954369675,0.05259579828751847,0.0,0.0,0.21035784263042084,0.0,0.0,0.06608942762961266,0.134341910221988,0.13171478096881398,0.0,0.0,0.1913862456930615,0.0,0.0,0.27790900968865956,0.0,0.0,0.0,0.0,0.0,0.0,0.0,0.0,0.0,0.12153441172763166,0.1323925032429064,0.0],[0.0,0.8893346010322577,0.9999999999999998,0.8871445403418875,0.9540415536622309,0.7721078158497895,0.9086910091923374,0.8893151872573098,0.3460937361893042,0.41746933996763325,0.2276128858829679,0.0,0.0,0.0,0.0,0.0,0.0,0.6693453678817514,0.0,0.0,0.0,0.0,0.38034997312676305,0.0,0.34195200502956147,0.05964988415085118,0.0,0.0,0.0,0.0,0.0,0.0,0.0,0.0,0.0,0.0,0.0,0.0,0.0,0.0,0.0,0.0,0.0,0.0,0.0,0.0,0.0,0.0,0.0,0.0,0.0,0.0],[0.0,0.787358534588401,0.8871445403418875,1.0,0.9846699711577945,0.5212706706235078,0.6134816434022385,0.6004005069513179,0.6546907886385627,0.7897089800733487,0.43056560746742767,0.0,0.0,0.0,0.0,0.0,0.0,0.6471358261068094,0.0,0.0,0.0,0.0,0.2567844561257397,0.0,0.35698572923362304,0.11283714674211587,0.0,0.0,0.0,0.0,0.0,0.0,0.0,0.0,0.0,0.0,0.0,0.0,0.0,0.0,0.0,0.0,0.0,0.0,0.0,0.0,0.0,0.0,0.0,0.0,0.0,0.0],[0.0,0.8474168235561828,0.9540415536622309,0.9846699711577945,1.0000000000000002,0.6303223025645984,0.7418241306150598,0.7260063750562374,0.5559415447083613,0.6705944819614987,0.36562192880627975,0.0,0.0,0.0,0.0,0.0,0.0,0.6732135060856344,0.0,0.0,0.0,0.0,0.31050465481660855,0.0,0.3610582841073872,0.09581753516151573,0.0,0.0,0.0,0.0,0.0,0.0,0.0,0.0,0.0,0.0,0.0,0.0,0.0,0.0,0.0,0.0,0.0,0.0,0.0,0.0,0.0,0.0,0.0,0.0,0.0,0.0],[0.0,0.6878995524378559,0.7721078158497895,0.5212706706235078,0.6303223025645984,1.0,0.8496923685159538,0.9398798585185486,0.2948580844070919,0.0,0.0,0.0,0.3318739856682976,0.430190687009119,0.5272787487522598,0.0,0.0,0.4758154724139826,0.0,0.0,0.0,0.0,0.35565496550726067,0.0,0.3415133258763977,0.16701474641464648,0.0,0.0,0.0,0.0,0.0,0.0,0.0,0.09884790985176725,0.0,0.0,0.0,0.0,0.0,0.0,0.0,0.0,0.0,0.0,0.0,0.0,0.0,0.1779941162943509,0.0,0.0,0.0,0.0],[0.0,0.8095865961928315,0.9086910091923374,0.6134816434022385,0.7418241306150598,0.8496923685159538,1.0,0.9786772161944806,0.0,0.0,0.0,0.0,0.0,0.0,0.0,0.0,0.0,0.5599855783629398,0.0,0.0,0.0,0.0,0.4185690947518295,0.0,0.26221918912412706,0.0,0.0,0.0,0.0,0.0,0.0,0.0,0.0,0.0,0.0,0.0,0.0,0.0,0.0,0.0,0.0,0.0,0.0,0.0,0.0,0.0,0.0,0.0,0.0,0.0,0.0,0.0],[0.0,0.7923239562303653,0.8893151872573098,0.6004005069513179,0.7260063750562374,0.9398798585185486,0.9786772161944806,1.0,0.11486354086218925,0.0,0.0,0.0,0.12928328280556128,0.16758307867042743,0.2054042514210016,0.0,0.0,0.5480451269412981,0.0,0.0,0.0,0.0,0.4096440364367643,0.0,0.302871157281079,0.06506148606358346,0.0,0.0,0.0,0.0,0.0,0.0,0.0,0.03850673097612847,0.0,0.0,0.0,0.0,0.0,0.0,0.0,0.0,0.0,0.0,0.0,0.0,0.0,0.06933855821290041,0.0,0.0,0.0,0.0],[0.0,0.3051653259066141,0.3460937361893042,0.6546907886385627,0.5559415447083613,0.2948580844070919,0.0,0.11486354086218925,0.9999999999999998,0.8290279142802132,0.4520031005426337,0.0,0.35197005394262515,0.45624015695990866,0.5592072221853,0.0,0.0,0.31871068608498027,0.0,0.0,0.0,0.0,0.0,0.0,0.33177949584816685,0.29558325379950096,0.0,0.0,0.0,0.0,0.0,0.0,0.0,0.10483347796177005,0.0,0.0,0.0,0.0,0.0,0.0,0.0,0.0,0.0,0.0,0.0,0.0,0.0,0.1887722491639004,0.0,0.0,0.0,0.0],[0.0,0.3681001817309949,0.41746933996763325,0.7897089800733487,0.6705944819614987,0.0,0.0,0.0,0.8290279142802132,1.0,0.5452206044655038,0.0,0.0,0.0,0.0,0.0,0.0,0.38443902864440266,0.0,0.0,0.0,0.0,0.0,0.0,0.24834347222433192,0.14288446704966618,0.0,0.0,0.0,0.0,0.0,0.0,0.0,0.0,0.0,0.0,0.0,0.0,0.0,0.0,0.0,0.0,0.0,0.0,0.0,0.0,0.0,0.0,0.0,0.0,0.0,0.0],[0.0,0.20069580358723485,0.2276128858829679,0.43056560746742767,0.36562192880627975,0.0,0.0,0.0,0.4520031005426337,0.5452206044655038,1.0,0.5699883778610497,0.2595319920479643,0.18156756229144502,0.0,0.3803656680571488,0.3021926536622391,0.6257846513364401,0.4488443247715419,0.31296940023454045,0.369694842412053,0.369694842412053,0.4816789211560601,0.5286271258631654,0.5926949555849373,0.6265942559580029,0.0,0.2668049063547424,0.0,0.0,0.0,0.27843042609071283,0.0946848357951047,0.0,0.12547434927134804,0.0,0.30442787669928384,0.0,0.0,0.0,0.16982401279050463,0.26807418603625166,0.0,0.06795005319407899,0.0,0.03916600057422917,0.0,0.22490127647359373,0.0,0.36195954185969703,0.26121884097952985,0.19331295812836732],[0.0,0.0,0.0,0.0,0.0,0.0,0.0,0.0,0.0,0.0,0.5699883778610497,1.0,0.44281057387922673,0.32488660477638215,0.0,0.0,0.0,0.148601322446584,0.0,0.0,0.0,0.0,0.0,0.0,0.3545044886858655,0.5073988600440766,0.0,0.4679125702184742,0.0,0.0,0.0,0.2047278236850761,0.0,0.0,0.0,0.0,0.5284763003547337,0.0,0.0,0.0,0.0,0.0,0.0,0.0700744215723733,0.0,0.0,0.0,0.0,0.0,0.5186323917796302,0.18098275110233886,0.0],[0.0,0.0,0.0,0.0,0.0,0.3318739856682976,0.0,0.12928328280556128,0.35197005394262515,0.0,0.2595319920479643,0.44281057387922673,1.0,0.5135156447098346,0.6294089918352229,0.0,0.0,0.16111781696720878,0.0,0.0,0.0,0.0,0.0,0.0,0.4074382977106938,0.44361069165524786,0.0,0.21118446893127182,0.0,0.0,0.0,0.2413827300422522,0.16392510335658086,0.23875355294273454,0.1607909003185318,0.35176184153720613,0.36149761349357995,0.0,0.25140699560562374,0.17507389855929617,0.0,0.0,0.0,0.17028149325192116,0.0,0.0,0.0,0.21247034429992984,0.0,0.0,0.0,0.0],[0.0,0.0,0.0,0.0,0.0,0.430190687009119,0.0,0.16758307867042743,0.45624015695990866,0.0,0.18156756229144502,0.32488660477638215,0.5135156447098346,0.9999999999999998,0.8158695718860514,0.0,0.0,0.03548381664675739,0.0,0.0,0.0,0.0,0.0,0.0,0.3829621226478006,0.5357878934665505,0.0,0.14999863596076907,0.0,0.0,0.0,0.1817792520047057,0.0,0.1529494637958263,0.048110340824519635,0.0,0.1071232178946214,0.0,0.0,0.035943138697623715,0.12280013415857476,0.0738506825278138,0.0,0.16365447537486785,0.0,0.0,0.0,0.27541406476736136,0.0,0.28482041618648724,0.09939136719683804,0.0],[0.0,0.0,0.0,0.0,0.0,0.5272787487522598,0.0,0.2054042514210016,0.5592072221853,0.0,0.0,0.0,0.6294089918352229,0.8158695718860514,1.0,0.0,0.0,0.0,0.0,0.0,0.0,0.0,0.0,0.0,0.22513268793800706,0.31674848798641386,0.0,0.0,0.0,0.0,0.0,0.0,0.0,0.18746803296297956,0.0,0.0,0.0,0.0,0.0,0.0,0.0,0.0,0.0,0.0,0.0,0.0,0.0,0.3375711930654366,0.0,0.0,0.0,0.0],[0.0,0.0,0.0,0.0,0.0,0.0,0.0,0.0,0.0,0.0,0.3803656680571488,0.0,0.0,0.0,0.0,1.0,0.7944793104114632,0.49435854129613205,0.710138678222585,0.0,0.0,0.0,0.642397722963344,0.6573001373829008,0.19161421225960226,0.1880834960157445,0.0,0.0,0.0,0.0,0.0,0.0,0.0,0.0,0.0,0.0,0.0,0.0,0.0,0.0,0.0,0.0,0.0,0.0,0.0,0.0,0.0,0.5912764882865374,0.0,0.0,0.0,0.0],[0.0,0.0,0.0,0.0,0.0,0.0,0.0,0.0,0.0,0.0,0.3021926536622391,0.0,0.0,0.0,0.0,0.7944793104114632,1.0,0.39275763298496785,0.5641904873707874,0.3232556562954534,0.0,0.0,0.5103716999498117,0.522211359881327,0.28902970725190846,0.25896116795688273,0.0,0.0,0.0,0.0,0.0,0.0,0.0,0.0,0.16355073854484165,0.0,0.0,0.0,0.0,0.0,0.0,0.17697284323420573,0.0,0.31380627582835063,0.6072912195381437,0.4532476921364867,0.45049486231615027,0.4697569366763999,0.0,0.0,0.0,0.0],[0.13623993073732338,0.5948688946124183,0.6693453678817514,0.6471358261068094,0.6732135060856344,0.4758154724139826,0.5599855783629398,0.5480451269412981,0.31871068608498027,0.38443902864440266,0.6257846513364401,0.148601322446584,0.16111781696720878,0.03548381664675739,0.0,0.49435854129613205,0.39275763298496785,0.9999999999999999,0.535514791967603,0.32298494005955075,0.3815256904582327,0.3815256904582327,0.7968953857801236,0.6124707261852,0.5829862758412259,0.4113889923529773,0.0,0.07087069102357481,0.0,0.0,0.0,0.10409623792022957,0.0,0.1330325844180985,0.1288409807294053,0.0,0.12131377748238127,0.0,0.0,0.021337559021065308,0.02794345789778714,0.11226031092657487,0.2607025715240264,0.2475800196046735,0.0,0.1638337996070389,0.17482970371147513,0.29230258225203215,0.0,0.0,0.0,0.0],[0.0,0.0,0.0,0.0,0.0,0.0,0.0,0.0,0.0,0.0,0.4488443247715419,0.0,0.0,0.0,0.0,0.710138678222585,0.5641904873707874,0.535514791967603,1.0,0.40927695580499024,0.4834580619249684,0.4834580619249684,0.7665568903528213,0.8311222215231462,0.3621728021932269,0.21780286666589874,0.42188413258609897,0.45232744023076754,0.4544498333871982,0.511831378534018,0.511831378534018,0.2589086957517115,0.3300074531158476,0.0,0.0,0.0,0.0,0.0,0.0,0.13949770869282166,0.0,0.0,0.0,0.0,0.0,0.0,0.0,0.4198883038558935,0.0,0.0,0.0,0.0],[0.0,0.0,0.0,0.0,0.0,0.0,0.0,0.0,0.0,0.0,0.31296940023454045,0.0,0.0,0.0,0.0,0.0,0.3232556562954534,0.32298494005955075,0.40927695580499024,0.9999999999999998,0.8465614456306432,0.8465614456306432,0.5434667858975041,0.637993176939873,0.2935135931749051,0.24350993796738038,0.0,0.0,0.0,0.0,0.0,0.0,0.0,0.0,0.1433522911581264,0.0,0.0,0.0,0.0,0.0,0.0,0.15511677156649234,0.0,0.2750513328159584,0.5322910094786079,0.3972717928881999,0.39485893639226033,0.0,0.0,0.0,0.0,0.0],[0.0,0.0,0.0,0.0,0.0,0.0,0.0,0.0,0.0,0.0,0.369694842412053,0.0,0.0,0.0,0.0,0.0,0.0,0.3815256904582327,0.4834580619249684,0.8465614456306432,1.0,1.0,0.6419696865508094,0.7536289069538267,0.20507865637974992,0.1742395215717151,0.0,0.0,0.0,0.0,0.0,0.0,0.0,0.0,0.0,0.0,0.0,0.0,0.0,0.0,0.0,0.0,0.0,0.0,0.0,0.0,0.0,0.0,0.0,0.0,0.0,0.0],[0.0,0.0,0.0,0.0,0.0,0.0,0.0,0.0,0.0,0.0,0.369694842412053,0.0,0.0,0.0,0.0,0.0,0.0,0.3815256904582327,0.4834580619249684,0.8465614456306432,1.0,1.0,0.6419696865508094,0.7536289069538267,0.20507865637974992,0.1742395215717151,0.0,0.0,0.0,0.0,0.0,0.0,0.0,0.0,0.0,0.0,0.0,0.0,0.0,0.0,0.0,0.0,0.0,0.0,0.0,0.0,0.0,0.0,0.0,0.0,0.0,0.0],[0.0,0.3388679286916484,0.38034997312676305,0.2567844561257397,0.31050465481660855,0.35565496550726067,0.4185690947518295,0.4096440364367643,0.0,0.0,0.4816789211560601,0.0,0.0,0.0,0.0,0.642397722963344,0.5103716999498117,0.7968953857801236,0.7665568903528213,0.5434667858975041,0.6419696865508094,0.6419696865508094,0.9999999999999998,0.9060550247310459,0.3645036630155972,0.23268090061565638,0.0,0.0,0.0,0.0,0.0,0.0,0.0,0.0,0.0,0.0,0.0,0.0,0.0,0.0,0.0,0.0,0.0,0.0,0.0,0.0,0.0,0.379834669717034,0.0,0.0,0.0,0.0],[0.0,0.0,0.0,0.0,0.0,0.0,0.0,0.0,0.0,0.0,0.5286271258631654,0.0,0.0,0.0,0.0,0.6573001373829008,0.522211359881327,0.6124707261852,0.8311222215231462,0.637993176939873,0.7536289069538267,0.7536289069538267,0.9060550247310459,0.9999999999999998,0.28050125168978324,0.2549392479608545,0.0,0.0,0.0,0.0,0.0,0.0,0.0,0.0,0.0,0.0,0.0,0.0,0.0,0.0,0.0,0.0,0.0,0.0,0.0,0.0,0.0,0.38864611698202023,0.0,0.0,0.0,0.0],[0.22217253309528837,0.40613646954369675,0.34195200502956147,0.35698572923362304,0.3610582841073872,0.3415133258763977,0.26221918912412706,0.302871157281079,0.33177949584816685,0.24834347222433192,0.5926949555849373,0.3545044886858655,0.4074382977106938,0.3829621226478006,0.22513268793800706,0.19161421225960226,0.28902970725190846,0.5829862758412259,0.3621728021932269,0.2935135931749051,0.20507865637974992,0.20507865637974992,0.3645036630155972,0.28050125168978324,0.9999999999999999,0.8335039359676047,0.35210317364091265,0.38537781437445306,0.323291796203068,0.2480371746230539,0.2480371746230539,0.7211742162976439,0.46924257494816557,0.5862795818217001,0.628232575028493,0.24852900255318128,0.4729194629713404,0.2607798831528407,0.36002110406117005,0.5114624274215653,0.303753643706829,0.5348580743404485,0.21479716104630053,0.5852815777252411,0.22525631135404856,0.3559190806196372,0.3111425294969121,0.34935432934256955,0.21853475818042845,0.43379843893544673,0.42814839847939457,0.3812555639709936],[0.2945438503719076,0.05259579828751847,0.05964988415085118,0.11283714674211587,0.09581753516151573,0.16701474641464648,0.0,0.06506148606358346,0.29558325379950096,0.14288446704966618,0.6265942559580029,0.5073988600440766,0.44361069165524786,0.5357878934665505,0.31674848798641386,0.1880834960157445,0.25896116795688273,0.4113889923529773,0.21780286666589874,0.24350993796738038,0.1742395215717151,0.1742395215717151,0.23268090061565638,0.2549392479608545,0.8335039359676047,1.0000000000000002,0.08317661462661217,0.23769300091408269,0.0,0.0,0.0,0.5404384018571002,0.16142570614694052,0.445677672899097,0.4732818923097595,0.0,0.3795820600642969,0.146901735167038,0.10274644903628045,0.1359099999041854,0.3859381732790013,0.6026745932172733,0.18046814774801517,0.5787419386043247,0.1803627620794823,0.31479755161565715,0.25481866036175455,0.47109114384879697,0.34537140590045823,0.5409273626096002,0.49181645294063603,0.5129438651473053],[0.0,0.0,0.0,0.0,0.0,0.0,0.0,0.0,0.0,0.0,0.0,0.0,0.0,0.0,0.0,0.0,0.0,0.0,0.42188413258609897,0.0,0.0,0.0,0.0,0.0,0.35210317364091265,0.08317661462661217,1.0,0.7284375274027851,0.7318554735310548,0.8242639085443627,0.8242639085443627,0.5888386073285483,0.5314508733972827,0.352244374422214,0.34492610408766533,0.0,0.39565457239135166,0.5662058009868589,0.3960173473035748,0.5300776278944109,0.0,0.0,0.0,0.0,0.0,0.0,0.0,0.0,0.0,0.0,0.0,0.0],[0.0,0.0,0.0,0.0,0.0,0.0,0.0,0.0,0.0,0.0,0.2668049063547424,0.4679125702184742,0.21118446893127182,0.14999863596076907,0.0,0.0,0.0,0.07087069102357481,0.45232744023076754,0.0,0.0,0.0,0.0,0.0,0.38537781437445306,0.23769300091408269,0.7284375274027851,1.0,0.7846664223467076,0.8837430825877048,0.8837430825877048,0.5431241560955651,0.5698005556611906,0.0,0.0,0.0,0.24907060626185526,0.0,0.0,0.24086083867545113,0.0,0.0,0.0,0.033419774455214185,0.0,0.0,0.0,0.0,0.0,0.2394501656526007,0.08355889531506991,0.0],[0.0,0.21035784263042084,0.0,0.0,0.0,0.0,0.0,0.0,0.0,0.0,0.0,0.0,0.0,0.0,0.0,0.0,0.0,0.0,0.4544498333871982,0.0,0.0,0.0,0.0,0.0,0.323291796203068,0.0,0.7318554735310548,0.7846664223467076,1.0,0.8878897473789679,0.8878897473789679,0.515632891892132,0.707642426215611,0.13252498537238486,0.0,0.0,0.19256350141108247,0.0,0.0,0.5216094810230992,0.0,0.0,0.0,0.0,0.0,0.0,0.0,0.0,0.0,0.12228199460969587,0.13320687645400844,0.0],[0.0,0.0,0.0,0.0,0.0,0.0,0.0,0.0,0.0,0.0,0.0,0.0,0.0,0.0,0.0,0.0,0.0,0.0,0.511831378534018,0.0,0.0,0.0,0.0,0.0,0.2480371746230539,0.0,0.8242639085443627,0.8837430825877048,0.8878897473789679,1.0,1.0,0.5058476416457213,0.6447581507430268,0.0,0.0,0.0,0.0,0.0,0.0,0.2725462223366795,0.0,0.0,0.0,0.0,0.0,0.0,0.0,0.0,0.0,0.0,0.0,0.0],[0.0,0.0,0.0,0.0,0.0,0.0,0.0,0.0,0.0,0.0,0.0,0.0,0.0,0.0,0.0,0.0,0.0,0.0,0.511831378534018,0.0,0.0,0.0,0.0,0.0,0.2480371746230539,0.0,0.8242639085443627,0.8837430825877048,0.8878897473789679,1.0,1.0,0.5058476416457213,0.6447581507430268,0.0,0.0,0.0,0.0,0.0,0.0,0.2725462223366795,0.0,0.0,0.0,0.0,0.0,0.0,0.0,0.0,0.0,0.0,0.0,0.0],[0.2798719179659316,0.06608942762961266,0.0,0.0,0.0,0.0,0.0,0.0,0.0,0.0,0.27843042609071283,0.2047278236850761,0.2413827300422522,0.1817792520047057,0.0,0.0,0.0,0.10409623792022957,0.2589086957517115,0.0,0.0,0.0,0.0,0.0,0.7211742162976439,0.5404384018571002,0.5888386073285483,0.5431241560955651,0.515632891892132,0.5058476416457213,0.5058476416457213,1.0,0.7154560745172076,0.4567502677429138,0.6771583060151944,0.36975770309042993,0.39009963691680527,0.3035762840968972,0.47659701005995037,0.6295164611562314,0.41204234570210585,0.5482864580327581,0.0,0.4004511966519038,0.0,0.072193070673677,0.0,0.0,0.0,0.24254200188785968,0.32756645554339464,0.3220675775817828],[0.0,0.134341910221988,0.0,0.0,0.0,0.0,0.0,0.0,0.0,0.0,0.0946848357951047,0.0,0.16392510335658086,0.0,0.0,0.0,0.0,0.0,0.3300074531158476,0.0,0.0,0.0,0.0,0.0,0.46924257494816557,0.16142570614694052,0.5314508733972827,0.5698005556611906,0.707642426215611,0.6447581507430268,0.6447581507430268,0.7154560745172076,1.0000000000000002,0.24461643197927901,0.3514844819003951,0.46601161354007287,0.12297781863093805,0.0,0.3330622194990038,0.5862372576644529,0.5036292746520229,0.24875100981435339,0.0,0.12493432917701702,0.0,0.11615050272397427,0.0,0.0,0.0,0.07809357871426331,0.0850705921574608,0.17237347898495092],[0.3548682711871535,0.13171478096881398,0.0,0.0,0.0,0.09884790985176725,0.0,0.03850673097612847,0.10483347796177005,0.0,0.0,0.0,0.23875355294273454,0.1529494637958263,0.18746803296297956,0.0,0.0,0.1330325844180985,0.0,0.0,0.0,0.0,0.0,0.0,0.5862795818217001,0.445677672899097,0.352244374422214,0.0,0.13252498537238486,0.0,0.0,0.4567502677429138,0.24461643197927901,1.0,0.7311506090383424,0.34329899680548603,0.5552949270492563,0.6221136798815476,0.6804791353683908,0.7158045289493795,0.0,0.20951255526699952,0.3248351377419475,0.4870446027630365,0.0,0.2041367469105859,0.21783763218947394,0.3427060034340136,0.3815058601072034,0.3160084961348005,0.34295477586834083,0.29805001342245924],[0.26118326655039836,0.0,0.0,0.0,0.0,0.0,0.0,0.0,0.0,0.0,0.12547434927134804,0.0,0.1607909003185318,0.048110340824519635,0.0,0.0,0.16355073854484165,0.1288409807294053,0.0,0.1433522911581264,0.0,0.0,0.0,0.0,0.628232575028493,0.4732818923097595,0.34492610408766533,0.0,0.0,0.0,0.0,0.6771583060151944,0.3514844819003951,0.7311506090383424,1.0,0.4571015992407602,0.42569017139674775,0.6091885732828631,0.7527746470588617,0.592431343201189,0.2862423510975067,0.5790958512867262,0.31572289242838614,0.6064099066794608,0.2693118775358304,0.45668690517664334,0.4115051870786142,0.0,0.0,0.08823531635536261,0.19585812287639248,0.25041238130377774],[0.0,0.0,0.0,0.0,0.0,0.0,0.0,0.0,0.0,0.0,0.0,0.0,0.35176184153720613,0.0,0.0,0.0,0.0,0.0,0.0,0.0,0.0,0.0,0.0,0.0,0.24852900255318128,0.0,0.0,0.0,0.0,0.0,0.0,0.36975770309042993,0.46601161354007287,0.34329899680548603,0.4571015992407602,1.0,0.0,0.0,0.7147079811356748,0.49770577102456537,0.0,0.0,0.0,0.2680927374919891,0.0,0.0,0.0,0.0,0.0,0.0,0.0,0.0],[0.0,0.1913862456930615,0.0,0.0,0.0,0.0,0.0,0.0,0.0,0.0,0.30442787669928384,0.5284763003547337,0.36149761349357995,0.1071232178946214,0.0,0.0,0.0,0.12131377748238127,0.0,0.0,0.0,0.0,0.0,0.0,0.4729194629713404,0.3795820600642969,0.39565457239135166,0.24907060626185526,0.19256350141108247,0.0,0.0,0.39009963691680527,0.12297781863093805,0.5552949270492563,0.42569017139674775,0.0,0.9999999999999999,0.6987822655680181,0.48874437293066747,0.6313436128758101,0.0,0.0,0.0,0.057206710181823765,0.0,0.0,0.0,0.0,0.0,0.2822597537247221,0.1808678412308878,0.0],[0.0,0.0,0.0,0.0,0.0,0.0,0.0,0.0,0.0,0.0,0.0,0.0,0.0,0.0,0.0,0.0,0.0,0.0,0.0,0.0,0.0,0.0,0.0,0.0,0.2607798831528407,0.146901735167038,0.5662058009868589,0.0,0.0,0.0,0.0,0.3035762840968972,0.0,0.6221136798815476,0.6091885732828631,0.0,0.6987822655680181,1.0,0.6994229776758609,0.539428619204958,0.0,0.0,0.0,0.0,0.0,0.0,0.0,0.0,0.0,0.0,0.0,0.0],[0.0,0.0,0.0,0.0,0.0,0.0,0.0,0.0,0.0,0.0,0.0,0.0,0.25140699560562374,0.0,0.0,0.0,0.0,0.0,0.0,0.0,0.0,0.0,0.0,0.0,0.36002110406117005,0.10274644903628045,0.3960173473035748,0.0,0.0,0.0,0.0,0.47659701005995037,0.3330622194990038,0.6804791353683908,0.7527746470588617,0.7147079811356748,0.48874437293066747,0.6994229776758609,0.9999999999999999,0.7330030578964514,0.0,0.0,0.0,0.19160801917003595,0.0,0.0,0.0,0.0,0.0,0.0,0.0,0.0],[0.0965841191131344,0.27790900968865956,0.0,0.0,0.0,0.0,0.0,0.0,0.0,0.0,0.0,0.0,0.17507389855929617,0.035943138697623715,0.0,0.0,0.0,0.021337559021065308,0.13949770869282166,0.0,0.0,0.0,0.0,0.0,0.5114624274215653,0.1359099999041854,0.5300776278944109,0.24086083867545113,0.5216094810230992,0.2725462223366795,0.2725462223366795,0.6295164611562314,0.5862372576644529,0.7158045289493795,0.592431343201189,0.49770577102456537,0.6313436128758101,0.539428619204958,0.7330030578964514,0.9999999999999997,0.028305173395240014,0.031271033362123495,0.0,0.20877584141770023,0.0,0.0,0.0,0.0,0.0,0.16154980294430965,0.17598293772242538,0.0],[0.0,0.0,0.0,0.0,0.0,0.0,0.0,0.0,0.0,0.0,0.16982401279050463,0.0,0.0,0.12280013415857476,0.0,0.0,0.0,0.02794345789778714,0.0,0.0,0.0,0.0,0.0,0.0,0.303753643706829,0.3859381732790013,0.0,0.0,0.0,0.0,0.0,0.41204234570210585,0.5036292746520229,0.0,0.2862423510975067,0.0,0.0,0.0,0.0,0.028305173395240014,1.0,0.5043100082622763,0.0,0.12887767930792648,0.0,0.2083242189161568,0.0,0.0,0.0,0.0,0.0,0.309164140741928],[0.14752534935411474,0.0,0.0,0.0,0.0,0.0,0.0,0.0,0.0,0.0,0.26807418603625166,0.0,0.0,0.0738506825278138,0.0,0.0,0.17697284323420573,0.11226031092657487,0.0,0.15511677156649234,0.0,0.0,0.0,0.0,0.5348580743404485,0.6026745932172733,0.0,0.0,0.0,0.0,0.0,0.5482864580327581,0.24875100981435339,0.20951255526699952,0.5790958512867262,0.0,0.0,0.0,0.0,0.031271033362123495,0.5043100082622763,0.9999999999999998,0.2890518934186521,0.5487956614530218,0.29141347271379436,0.5020387420847712,0.4100145435626841,0.12145929608747602,0.16583304370325405,0.3103774844420533,0.5707423094305291,0.6689902455806223],[0.0,0.0,0.0,0.0,0.0,0.0,0.0,0.0,0.0,0.0,0.0,0.0,0.0,0.0,0.0,0.0,0.0,0.2607025715240264,0.0,0.0,0.0,0.0,0.0,0.0,0.21479716104630053,0.18046814774801517,0.0,0.0,0.0,0.0,0.0,0.0,0.0,0.3248351377419475,0.31572289242838614,0.0,0.0,0.0,0.0,0.0,0.0,0.2890518934186521,1.0,0.5054556734835634,0.0,0.6284318510910427,0.6706098167327159,0.0,0.0,0.0,0.0,0.0],[0.3895311752599627,0.0,0.0,0.0,0.0,0.0,0.0,0.0,0.0,0.0,0.06795005319407899,0.0700744215723733,0.17028149325192116,0.16365447537486785,0.0,0.0,0.31380627582835063,0.2475800196046735,0.0,0.2750513328159584,0.0,0.0,0.0,0.0,0.5852815777252411,0.5787419386043247,0.0,0.033419774455214185,0.0,0.0,0.0,0.4004511966519038,0.12493432917701702,0.4870446027630365,0.6064099066794608,0.2680927374919891,0.057206710181823765,0.0,0.19160801917003595,0.20877584141770023,0.12887767930792648,0.5487956614530218,0.5054556734835634,1.0,0.5167311262412227,0.7033032238601222,0.7222799917993001,0.17774880510062818,0.24268727313572067,0.18242082040808177,0.23192994127721533,0.2460337699494102],[0.0,0.0,0.0,0.0,0.0,0.0,0.0,0.0,0.0,0.0,0.0,0.0,0.0,0.0,0.0,0.0,0.6072912195381437,0.0,0.0,0.5322910094786079,0.0,0.0,0.0,0.0,0.22525631135404856,0.1803627620794823,0.0,0.0,0.0,0.0,0.0,0.0,0.0,0.0,0.2693118775358304,0.0,0.0,0.0,0.0,0.0,0.0,0.29141347271379436,0.0,0.5167311262412227,1.0,0.7463432329569823,0.7418102679942582,0.0,0.0,0.0,0.0,0.0],[0.0,0.0,0.0,0.0,0.0,0.0,0.0,0.0,0.0,0.0,0.03916600057422917,0.0,0.0,0.0,0.0,0.0,0.4532476921364867,0.1638337996070389,0.0,0.3972717928881999,0.0,0.0,0.0,0.0,0.3559190806196372,0.31479755161565715,0.0,0.0,0.0,0.0,0.0,0.072193070673677,0.11615050272397427,0.2041367469105859,0.45668690517664334,0.0,0.0,0.0,0.0,0.0,0.2083242189161568,0.5020387420847712,0.6284318510910427,0.7033032238601222,0.7463432329569823,1.0,0.9750776421446857,0.0,0.0,0.0,0.0,0.07130159460291856],[0.0,0.0,0.0,0.0,0.0,0.0,0.0,0.0,0.0,0.0,0.0,0.0,0.0,0.0,0.0,0.0,0.45049486231615027,0.17482970371147513,0.0,0.39485893639226033,0.0,0.0,0.0,0.0,0.3111425294969121,0.25481866036175455,0.0,0.0,0.0,0.0,0.0,0.0,0.0,0.21783763218947394,0.4115051870786142,0.0,0.0,0.0,0.0,0.0,0.0,0.4100145435626841,0.6706098167327159,0.7222799917993001,0.7418102679942582,0.9750776421446857,1.0,0.0,0.0,0.0,0.0,0.0],[0.0,0.0,0.0,0.0,0.0,0.1779941162943509,0.0,0.06933855821290041,0.1887722491639004,0.0,0.22490127647359373,0.0,0.21247034429992984,0.27541406476736136,0.3375711930654366,0.5912764882865374,0.4697569366763999,0.29230258225203215,0.4198883038558935,0.0,0.0,0.0,0.379834669717034,0.38864611698202023,0.34935432934256955,0.47109114384879697,0.0,0.0,0.0,0.0,0.0,0.0,0.0,0.3427060034340136,0.0,0.0,0.0,0.0,0.0,0.0,0.0,0.12145929608747602,0.0,0.17774880510062818,0.0,0.0,0.0,1.0,0.732419145033715,0.4596835377533516,0.4982826924143888,0.5721996929400327],[0.0,0.0,0.0,0.0,0.0,0.0,0.0,0.0,0.0,0.0,0.0,0.0,0.0,0.0,0.0,0.0,0.0,0.0,0.0,0.0,0.0,0.0,0.0,0.0,0.21853475818042845,0.34537140590045823,0.0,0.0,0.0,0.0,0.0,0.0,0.0,0.3815058601072034,0.0,0.0,0.0,0.0,0.0,0.0,0.0,0.16583304370325405,0.0,0.24268727313572067,0.0,0.0,0.0,0.732419145033715,1.0,0.6276235962294394,0.6803245051594762,0.7812462260440953],[0.0,0.12153441172763166,0.0,0.0,0.0,0.0,0.0,0.0,0.0,0.0,0.36195954185969703,0.5186323917796302,0.0,0.28482041618648724,0.0,0.0,0.0,0.0,0.0,0.0,0.0,0.0,0.0,0.0,0.43379843893544673,0.5409273626096002,0.0,0.2394501656526007,0.12228199460969587,0.0,0.0,0.24254200188785968,0.07809357871426331,0.3160084961348005,0.08823531635536261,0.0,0.2822597537247221,0.0,0.0,0.16154980294430965,0.0,0.3103774844420533,0.0,0.18242082040808177,0.0,0.0,0.0,0.4596835377533516,0.6276235962294394,1.0,0.8418926401937663,0.641738333787827],[0.0,0.1323925032429064,0.0,0.0,0.0,0.0,0.0,0.0,0.0,0.0,0.26121884097952985,0.18098275110233886,0.0,0.09939136719683804,0.0,0.0,0.0,0.0,0.0,0.0,0.0,0.0,0.0,0.0,0.42814839847939457,0.49181645294063603,0.0,0.08355889531506991,0.13320687645400844,0.0,0.0,0.32756645554339464,0.0850705921574608,0.34295477586834083,0.19585812287639248,0.0,0.1808678412308878,0.0,0.0,0.17598293772242538,0.0,0.5707423094305291,0.0,0.23192994127721533,0.0,0.0,0.0,0.4982826924143888,0.6803245051594762,0.8418926401937663,0.9999999999999997,0.8675889738382594],[0.0,0.0,0.0,0.0,0.0,0.0,0.0,0.0,0.0,0.0,0.19331295812836732,0.0,0.0,0.0,0.0,0.0,0.0,0.0,0.0,0.0,0.0,0.0,0.0,0.0,0.3812555639709936,0.5129438651473053,0.0,0.0,0.0,0.0,0.0,0.3220675775817828,0.17237347898495092,0.29805001342245924,0.25041238130377774,0.0,0.0,0.0,0.0,0.0,0.309164140741928,0.6689902455806223,0.0,0.2460337699494102,0.0,0.07130159460291856,0.0,0.5721996929400327,0.7812462260440953,0.641738333787827,0.8675889738382594,1.0]],\"type\":\"heatmap\",\"xaxis\":\"x\",\"yaxis\":\"y\",\"hovertemplate\":\"x: %{x}\\u003cbr\\u003ey: %{y}\\u003cbr\\u003ecolor: %{z}\\u003cextra\\u003e\\u003c\\u002fextra\\u003e\"}],                        {\"template\":{\"data\":{\"histogram2dcontour\":[{\"type\":\"histogram2dcontour\",\"colorbar\":{\"outlinewidth\":0,\"ticks\":\"\"},\"colorscale\":[[0.0,\"#0d0887\"],[0.1111111111111111,\"#46039f\"],[0.2222222222222222,\"#7201a8\"],[0.3333333333333333,\"#9c179e\"],[0.4444444444444444,\"#bd3786\"],[0.5555555555555556,\"#d8576b\"],[0.6666666666666666,\"#ed7953\"],[0.7777777777777778,\"#fb9f3a\"],[0.8888888888888888,\"#fdca26\"],[1.0,\"#f0f921\"]]}],\"choropleth\":[{\"type\":\"choropleth\",\"colorbar\":{\"outlinewidth\":0,\"ticks\":\"\"}}],\"histogram2d\":[{\"type\":\"histogram2d\",\"colorbar\":{\"outlinewidth\":0,\"ticks\":\"\"},\"colorscale\":[[0.0,\"#0d0887\"],[0.1111111111111111,\"#46039f\"],[0.2222222222222222,\"#7201a8\"],[0.3333333333333333,\"#9c179e\"],[0.4444444444444444,\"#bd3786\"],[0.5555555555555556,\"#d8576b\"],[0.6666666666666666,\"#ed7953\"],[0.7777777777777778,\"#fb9f3a\"],[0.8888888888888888,\"#fdca26\"],[1.0,\"#f0f921\"]]}],\"heatmap\":[{\"type\":\"heatmap\",\"colorbar\":{\"outlinewidth\":0,\"ticks\":\"\"},\"colorscale\":[[0.0,\"#0d0887\"],[0.1111111111111111,\"#46039f\"],[0.2222222222222222,\"#7201a8\"],[0.3333333333333333,\"#9c179e\"],[0.4444444444444444,\"#bd3786\"],[0.5555555555555556,\"#d8576b\"],[0.6666666666666666,\"#ed7953\"],[0.7777777777777778,\"#fb9f3a\"],[0.8888888888888888,\"#fdca26\"],[1.0,\"#f0f921\"]]}],\"heatmapgl\":[{\"type\":\"heatmapgl\",\"colorbar\":{\"outlinewidth\":0,\"ticks\":\"\"},\"colorscale\":[[0.0,\"#0d0887\"],[0.1111111111111111,\"#46039f\"],[0.2222222222222222,\"#7201a8\"],[0.3333333333333333,\"#9c179e\"],[0.4444444444444444,\"#bd3786\"],[0.5555555555555556,\"#d8576b\"],[0.6666666666666666,\"#ed7953\"],[0.7777777777777778,\"#fb9f3a\"],[0.8888888888888888,\"#fdca26\"],[1.0,\"#f0f921\"]]}],\"contourcarpet\":[{\"type\":\"contourcarpet\",\"colorbar\":{\"outlinewidth\":0,\"ticks\":\"\"}}],\"contour\":[{\"type\":\"contour\",\"colorbar\":{\"outlinewidth\":0,\"ticks\":\"\"},\"colorscale\":[[0.0,\"#0d0887\"],[0.1111111111111111,\"#46039f\"],[0.2222222222222222,\"#7201a8\"],[0.3333333333333333,\"#9c179e\"],[0.4444444444444444,\"#bd3786\"],[0.5555555555555556,\"#d8576b\"],[0.6666666666666666,\"#ed7953\"],[0.7777777777777778,\"#fb9f3a\"],[0.8888888888888888,\"#fdca26\"],[1.0,\"#f0f921\"]]}],\"surface\":[{\"type\":\"surface\",\"colorbar\":{\"outlinewidth\":0,\"ticks\":\"\"},\"colorscale\":[[0.0,\"#0d0887\"],[0.1111111111111111,\"#46039f\"],[0.2222222222222222,\"#7201a8\"],[0.3333333333333333,\"#9c179e\"],[0.4444444444444444,\"#bd3786\"],[0.5555555555555556,\"#d8576b\"],[0.6666666666666666,\"#ed7953\"],[0.7777777777777778,\"#fb9f3a\"],[0.8888888888888888,\"#fdca26\"],[1.0,\"#f0f921\"]]}],\"mesh3d\":[{\"type\":\"mesh3d\",\"colorbar\":{\"outlinewidth\":0,\"ticks\":\"\"}}],\"scatter\":[{\"fillpattern\":{\"fillmode\":\"overlay\",\"size\":10,\"solidity\":0.2},\"type\":\"scatter\"}],\"parcoords\":[{\"type\":\"parcoords\",\"line\":{\"colorbar\":{\"outlinewidth\":0,\"ticks\":\"\"}}}],\"scatterpolargl\":[{\"type\":\"scatterpolargl\",\"marker\":{\"colorbar\":{\"outlinewidth\":0,\"ticks\":\"\"}}}],\"bar\":[{\"error_x\":{\"color\":\"#2a3f5f\"},\"error_y\":{\"color\":\"#2a3f5f\"},\"marker\":{\"line\":{\"color\":\"#E5ECF6\",\"width\":0.5},\"pattern\":{\"fillmode\":\"overlay\",\"size\":10,\"solidity\":0.2}},\"type\":\"bar\"}],\"scattergeo\":[{\"type\":\"scattergeo\",\"marker\":{\"colorbar\":{\"outlinewidth\":0,\"ticks\":\"\"}}}],\"scatterpolar\":[{\"type\":\"scatterpolar\",\"marker\":{\"colorbar\":{\"outlinewidth\":0,\"ticks\":\"\"}}}],\"histogram\":[{\"marker\":{\"pattern\":{\"fillmode\":\"overlay\",\"size\":10,\"solidity\":0.2}},\"type\":\"histogram\"}],\"scattergl\":[{\"type\":\"scattergl\",\"marker\":{\"colorbar\":{\"outlinewidth\":0,\"ticks\":\"\"}}}],\"scatter3d\":[{\"type\":\"scatter3d\",\"line\":{\"colorbar\":{\"outlinewidth\":0,\"ticks\":\"\"}},\"marker\":{\"colorbar\":{\"outlinewidth\":0,\"ticks\":\"\"}}}],\"scattermapbox\":[{\"type\":\"scattermapbox\",\"marker\":{\"colorbar\":{\"outlinewidth\":0,\"ticks\":\"\"}}}],\"scatterternary\":[{\"type\":\"scatterternary\",\"marker\":{\"colorbar\":{\"outlinewidth\":0,\"ticks\":\"\"}}}],\"scattercarpet\":[{\"type\":\"scattercarpet\",\"marker\":{\"colorbar\":{\"outlinewidth\":0,\"ticks\":\"\"}}}],\"carpet\":[{\"aaxis\":{\"endlinecolor\":\"#2a3f5f\",\"gridcolor\":\"white\",\"linecolor\":\"white\",\"minorgridcolor\":\"white\",\"startlinecolor\":\"#2a3f5f\"},\"baxis\":{\"endlinecolor\":\"#2a3f5f\",\"gridcolor\":\"white\",\"linecolor\":\"white\",\"minorgridcolor\":\"white\",\"startlinecolor\":\"#2a3f5f\"},\"type\":\"carpet\"}],\"table\":[{\"cells\":{\"fill\":{\"color\":\"#EBF0F8\"},\"line\":{\"color\":\"white\"}},\"header\":{\"fill\":{\"color\":\"#C8D4E3\"},\"line\":{\"color\":\"white\"}},\"type\":\"table\"}],\"barpolar\":[{\"marker\":{\"line\":{\"color\":\"#E5ECF6\",\"width\":0.5},\"pattern\":{\"fillmode\":\"overlay\",\"size\":10,\"solidity\":0.2}},\"type\":\"barpolar\"}],\"pie\":[{\"automargin\":true,\"type\":\"pie\"}]},\"layout\":{\"autotypenumbers\":\"strict\",\"colorway\":[\"#636efa\",\"#EF553B\",\"#00cc96\",\"#ab63fa\",\"#FFA15A\",\"#19d3f3\",\"#FF6692\",\"#B6E880\",\"#FF97FF\",\"#FECB52\"],\"font\":{\"color\":\"#2a3f5f\"},\"hovermode\":\"closest\",\"hoverlabel\":{\"align\":\"left\"},\"paper_bgcolor\":\"white\",\"plot_bgcolor\":\"#E5ECF6\",\"polar\":{\"bgcolor\":\"#E5ECF6\",\"angularaxis\":{\"gridcolor\":\"white\",\"linecolor\":\"white\",\"ticks\":\"\"},\"radialaxis\":{\"gridcolor\":\"white\",\"linecolor\":\"white\",\"ticks\":\"\"}},\"ternary\":{\"bgcolor\":\"#E5ECF6\",\"aaxis\":{\"gridcolor\":\"white\",\"linecolor\":\"white\",\"ticks\":\"\"},\"baxis\":{\"gridcolor\":\"white\",\"linecolor\":\"white\",\"ticks\":\"\"},\"caxis\":{\"gridcolor\":\"white\",\"linecolor\":\"white\",\"ticks\":\"\"}},\"coloraxis\":{\"colorbar\":{\"outlinewidth\":0,\"ticks\":\"\"}},\"colorscale\":{\"sequential\":[[0.0,\"#0d0887\"],[0.1111111111111111,\"#46039f\"],[0.2222222222222222,\"#7201a8\"],[0.3333333333333333,\"#9c179e\"],[0.4444444444444444,\"#bd3786\"],[0.5555555555555556,\"#d8576b\"],[0.6666666666666666,\"#ed7953\"],[0.7777777777777778,\"#fb9f3a\"],[0.8888888888888888,\"#fdca26\"],[1.0,\"#f0f921\"]],\"sequentialminus\":[[0.0,\"#0d0887\"],[0.1111111111111111,\"#46039f\"],[0.2222222222222222,\"#7201a8\"],[0.3333333333333333,\"#9c179e\"],[0.4444444444444444,\"#bd3786\"],[0.5555555555555556,\"#d8576b\"],[0.6666666666666666,\"#ed7953\"],[0.7777777777777778,\"#fb9f3a\"],[0.8888888888888888,\"#fdca26\"],[1.0,\"#f0f921\"]],\"diverging\":[[0,\"#8e0152\"],[0.1,\"#c51b7d\"],[0.2,\"#de77ae\"],[0.3,\"#f1b6da\"],[0.4,\"#fde0ef\"],[0.5,\"#f7f7f7\"],[0.6,\"#e6f5d0\"],[0.7,\"#b8e186\"],[0.8,\"#7fbc41\"],[0.9,\"#4d9221\"],[1,\"#276419\"]]},\"xaxis\":{\"gridcolor\":\"white\",\"linecolor\":\"white\",\"ticks\":\"\",\"title\":{\"standoff\":15},\"zerolinecolor\":\"white\",\"automargin\":true,\"zerolinewidth\":2},\"yaxis\":{\"gridcolor\":\"white\",\"linecolor\":\"white\",\"ticks\":\"\",\"title\":{\"standoff\":15},\"zerolinecolor\":\"white\",\"automargin\":true,\"zerolinewidth\":2},\"scene\":{\"xaxis\":{\"backgroundcolor\":\"#E5ECF6\",\"gridcolor\":\"white\",\"linecolor\":\"white\",\"showbackground\":true,\"ticks\":\"\",\"zerolinecolor\":\"white\",\"gridwidth\":2},\"yaxis\":{\"backgroundcolor\":\"#E5ECF6\",\"gridcolor\":\"white\",\"linecolor\":\"white\",\"showbackground\":true,\"ticks\":\"\",\"zerolinecolor\":\"white\",\"gridwidth\":2},\"zaxis\":{\"backgroundcolor\":\"#E5ECF6\",\"gridcolor\":\"white\",\"linecolor\":\"white\",\"showbackground\":true,\"ticks\":\"\",\"zerolinecolor\":\"white\",\"gridwidth\":2}},\"shapedefaults\":{\"line\":{\"color\":\"#2a3f5f\"}},\"annotationdefaults\":{\"arrowcolor\":\"#2a3f5f\",\"arrowhead\":0,\"arrowwidth\":1},\"geo\":{\"bgcolor\":\"white\",\"landcolor\":\"#E5ECF6\",\"subunitcolor\":\"white\",\"showland\":true,\"showlakes\":true,\"lakecolor\":\"white\"},\"title\":{\"x\":0.05},\"mapbox\":{\"style\":\"light\"}}},\"xaxis\":{\"anchor\":\"y\",\"domain\":[0.0,1.0],\"scaleanchor\":\"y\",\"constrain\":\"domain\"},\"yaxis\":{\"anchor\":\"x\",\"domain\":[0.0,1.0],\"autorange\":\"reversed\",\"constrain\":\"domain\"},\"coloraxis\":{\"colorscale\":[[0.0,\"rgb(103,0,31)\"],[0.1,\"rgb(178,24,43)\"],[0.2,\"rgb(214,96,77)\"],[0.3,\"rgb(244,165,130)\"],[0.4,\"rgb(253,219,199)\"],[0.5,\"rgb(247,247,247)\"],[0.6,\"rgb(209,229,240)\"],[0.7,\"rgb(146,197,222)\"],[0.8,\"rgb(67,147,195)\"],[0.9,\"rgb(33,102,172)\"],[1.0,\"rgb(5,48,97)\"]],\"cmid\":0},\"margin\":{\"t\":60}},                        {\"responsive\": true}                    ).then(function(){\n",
       "                            \n",
       "var gd = document.getElementById('4066c2b7-746d-4255-9114-0cb5710dd4d4');\n",
       "var x = new MutationObserver(function (mutations, observer) {{\n",
       "        var display = window.getComputedStyle(gd).display;\n",
       "        if (!display || display === 'none') {{\n",
       "            console.log([gd, 'removed!']);\n",
       "            Plotly.purge(gd);\n",
       "            observer.disconnect();\n",
       "        }}\n",
       "}});\n",
       "\n",
       "// Listen for the removal of the full notebook cells\n",
       "var notebookContainer = gd.closest('#notebook-container');\n",
       "if (notebookContainer) {{\n",
       "    x.observe(notebookContainer, {childList: true});\n",
       "}}\n",
       "\n",
       "// Listen for the clearing of the current output cell\n",
       "var outputEl = gd.closest('.output');\n",
       "if (outputEl) {{\n",
       "    x.observe(outputEl, {childList: true});\n",
       "}}\n",
       "\n",
       "                        })                };                });            </script>        </div>"
      ]
     },
     "metadata": {},
     "output_type": "display_data"
    }
   ],
   "source": [
    "# wide_df.T.sort_values(464)\n",
    "\n",
    "get_cosine_sim_heatmap(torch.tensor(wide_df.T.to_numpy()))"
   ]
  },
  {
   "cell_type": "code",
   "execution_count": 233,
   "metadata": {},
   "outputs": [
    {
     "data": {
      "application/vnd.plotly.v1+json": {
       "config": {
        "plotlyServerURL": "https://plot.ly"
       },
       "data": [
        {
         "hovertemplate": "<b>%{hovertext}</b><br><br> cat=%{x}<br> cats=%{y}<br>Index=%{text}<extra></extra>",
         "hovertext": [
          5,
          26,
          30,
          36,
          39,
          53,
          58,
          65,
          80,
          82,
          105,
          134,
          148,
          153,
          166,
          170,
          171,
          180,
          184,
          185,
          188,
          189,
          192,
          205,
          212,
          222,
          223,
          227,
          241,
          243,
          249,
          268,
          277,
          284,
          291,
          295,
          296,
          306,
          317,
          324,
          327,
          335,
          339,
          342,
          373,
          381,
          383,
          402,
          403,
          412,
          415,
          430,
          436,
          442,
          447,
          464,
          471,
          472,
          473,
          476,
          482,
          499,
          500,
          506,
          507
         ],
         "legendgroup": "",
         "marker": {
          "color": "#636efa",
          "symbol": "circle"
         },
         "mode": "markers+text",
         "name": "",
         "orientation": "v",
         "showlegend": false,
         "text": [
          5,
          26,
          30,
          36,
          39,
          53,
          58,
          65,
          80,
          82,
          105,
          134,
          148,
          153,
          166,
          170,
          171,
          180,
          184,
          185,
          188,
          189,
          192,
          205,
          212,
          222,
          223,
          227,
          241,
          243,
          249,
          268,
          277,
          284,
          291,
          295,
          296,
          306,
          317,
          324,
          327,
          335,
          339,
          342,
          373,
          381,
          383,
          402,
          403,
          412,
          415,
          430,
          436,
          442,
          447,
          464,
          471,
          472,
          473,
          476,
          482,
          499,
          500,
          506,
          507
         ],
         "type": "scatter",
         "x": [
          0,
          0,
          0,
          0,
          0,
          0.05238431692123413,
          0,
          0,
          0,
          0,
          0,
          0,
          0,
          0.21236854791641235,
          0,
          0,
          0,
          0,
          0,
          0.12865331768989563,
          0,
          0,
          0,
          0,
          0.12798480689525604,
          0,
          0,
          0,
          0,
          0,
          0,
          0,
          0,
          0,
          0,
          0,
          0,
          0.022607728838920593,
          0,
          0,
          0,
          0.10174765437841415,
          0,
          0,
          0,
          0.09309341758489609,
          0,
          0,
          0,
          0,
          0.06755627691745758,
          0,
          0,
          0,
          0,
          0.27819010615348816,
          0,
          0,
          0,
          0,
          0,
          0.3504217267036438,
          0,
          0,
          0
         ],
         "xaxis": "x",
         "y": [
          0,
          0,
          0,
          0,
          0,
          0.10024026036262512,
          0,
          0,
          0,
          0,
          0,
          0.06352975219488144,
          0,
          0.27556943893432617,
          0,
          0,
          0,
          0,
          0,
          0.1177651584148407,
          0,
          0,
          0,
          0,
          0,
          0,
          0,
          0,
          0,
          0,
          0,
          0,
          0,
          0,
          0,
          0,
          0,
          0,
          0,
          0,
          0,
          0.12299434095621109,
          0,
          0,
          0,
          0.1824013888835907,
          0,
          0.20273885130882263,
          0,
          0,
          0,
          0,
          0,
          0.3605279326438904,
          0,
          0.26895514130592346,
          0,
          0,
          0,
          0,
          0,
          0.2147047370672226,
          0,
          0,
          0
         ],
         "yaxis": "y"
        }
       ],
       "layout": {
        "legend": {
         "tracegroupgap": 0
        },
        "margin": {
         "t": 60
        },
        "template": {
         "data": {
          "bar": [
           {
            "error_x": {
             "color": "#2a3f5f"
            },
            "error_y": {
             "color": "#2a3f5f"
            },
            "marker": {
             "line": {
              "color": "#E5ECF6",
              "width": 0.5
             },
             "pattern": {
              "fillmode": "overlay",
              "size": 10,
              "solidity": 0.2
             }
            },
            "type": "bar"
           }
          ],
          "barpolar": [
           {
            "marker": {
             "line": {
              "color": "#E5ECF6",
              "width": 0.5
             },
             "pattern": {
              "fillmode": "overlay",
              "size": 10,
              "solidity": 0.2
             }
            },
            "type": "barpolar"
           }
          ],
          "carpet": [
           {
            "aaxis": {
             "endlinecolor": "#2a3f5f",
             "gridcolor": "white",
             "linecolor": "white",
             "minorgridcolor": "white",
             "startlinecolor": "#2a3f5f"
            },
            "baxis": {
             "endlinecolor": "#2a3f5f",
             "gridcolor": "white",
             "linecolor": "white",
             "minorgridcolor": "white",
             "startlinecolor": "#2a3f5f"
            },
            "type": "carpet"
           }
          ],
          "choropleth": [
           {
            "colorbar": {
             "outlinewidth": 0,
             "ticks": ""
            },
            "type": "choropleth"
           }
          ],
          "contour": [
           {
            "colorbar": {
             "outlinewidth": 0,
             "ticks": ""
            },
            "colorscale": [
             [
              0,
              "#0d0887"
             ],
             [
              0.1111111111111111,
              "#46039f"
             ],
             [
              0.2222222222222222,
              "#7201a8"
             ],
             [
              0.3333333333333333,
              "#9c179e"
             ],
             [
              0.4444444444444444,
              "#bd3786"
             ],
             [
              0.5555555555555556,
              "#d8576b"
             ],
             [
              0.6666666666666666,
              "#ed7953"
             ],
             [
              0.7777777777777778,
              "#fb9f3a"
             ],
             [
              0.8888888888888888,
              "#fdca26"
             ],
             [
              1,
              "#f0f921"
             ]
            ],
            "type": "contour"
           }
          ],
          "contourcarpet": [
           {
            "colorbar": {
             "outlinewidth": 0,
             "ticks": ""
            },
            "type": "contourcarpet"
           }
          ],
          "heatmap": [
           {
            "colorbar": {
             "outlinewidth": 0,
             "ticks": ""
            },
            "colorscale": [
             [
              0,
              "#0d0887"
             ],
             [
              0.1111111111111111,
              "#46039f"
             ],
             [
              0.2222222222222222,
              "#7201a8"
             ],
             [
              0.3333333333333333,
              "#9c179e"
             ],
             [
              0.4444444444444444,
              "#bd3786"
             ],
             [
              0.5555555555555556,
              "#d8576b"
             ],
             [
              0.6666666666666666,
              "#ed7953"
             ],
             [
              0.7777777777777778,
              "#fb9f3a"
             ],
             [
              0.8888888888888888,
              "#fdca26"
             ],
             [
              1,
              "#f0f921"
             ]
            ],
            "type": "heatmap"
           }
          ],
          "heatmapgl": [
           {
            "colorbar": {
             "outlinewidth": 0,
             "ticks": ""
            },
            "colorscale": [
             [
              0,
              "#0d0887"
             ],
             [
              0.1111111111111111,
              "#46039f"
             ],
             [
              0.2222222222222222,
              "#7201a8"
             ],
             [
              0.3333333333333333,
              "#9c179e"
             ],
             [
              0.4444444444444444,
              "#bd3786"
             ],
             [
              0.5555555555555556,
              "#d8576b"
             ],
             [
              0.6666666666666666,
              "#ed7953"
             ],
             [
              0.7777777777777778,
              "#fb9f3a"
             ],
             [
              0.8888888888888888,
              "#fdca26"
             ],
             [
              1,
              "#f0f921"
             ]
            ],
            "type": "heatmapgl"
           }
          ],
          "histogram": [
           {
            "marker": {
             "pattern": {
              "fillmode": "overlay",
              "size": 10,
              "solidity": 0.2
             }
            },
            "type": "histogram"
           }
          ],
          "histogram2d": [
           {
            "colorbar": {
             "outlinewidth": 0,
             "ticks": ""
            },
            "colorscale": [
             [
              0,
              "#0d0887"
             ],
             [
              0.1111111111111111,
              "#46039f"
             ],
             [
              0.2222222222222222,
              "#7201a8"
             ],
             [
              0.3333333333333333,
              "#9c179e"
             ],
             [
              0.4444444444444444,
              "#bd3786"
             ],
             [
              0.5555555555555556,
              "#d8576b"
             ],
             [
              0.6666666666666666,
              "#ed7953"
             ],
             [
              0.7777777777777778,
              "#fb9f3a"
             ],
             [
              0.8888888888888888,
              "#fdca26"
             ],
             [
              1,
              "#f0f921"
             ]
            ],
            "type": "histogram2d"
           }
          ],
          "histogram2dcontour": [
           {
            "colorbar": {
             "outlinewidth": 0,
             "ticks": ""
            },
            "colorscale": [
             [
              0,
              "#0d0887"
             ],
             [
              0.1111111111111111,
              "#46039f"
             ],
             [
              0.2222222222222222,
              "#7201a8"
             ],
             [
              0.3333333333333333,
              "#9c179e"
             ],
             [
              0.4444444444444444,
              "#bd3786"
             ],
             [
              0.5555555555555556,
              "#d8576b"
             ],
             [
              0.6666666666666666,
              "#ed7953"
             ],
             [
              0.7777777777777778,
              "#fb9f3a"
             ],
             [
              0.8888888888888888,
              "#fdca26"
             ],
             [
              1,
              "#f0f921"
             ]
            ],
            "type": "histogram2dcontour"
           }
          ],
          "mesh3d": [
           {
            "colorbar": {
             "outlinewidth": 0,
             "ticks": ""
            },
            "type": "mesh3d"
           }
          ],
          "parcoords": [
           {
            "line": {
             "colorbar": {
              "outlinewidth": 0,
              "ticks": ""
             }
            },
            "type": "parcoords"
           }
          ],
          "pie": [
           {
            "automargin": true,
            "type": "pie"
           }
          ],
          "scatter": [
           {
            "fillpattern": {
             "fillmode": "overlay",
             "size": 10,
             "solidity": 0.2
            },
            "type": "scatter"
           }
          ],
          "scatter3d": [
           {
            "line": {
             "colorbar": {
              "outlinewidth": 0,
              "ticks": ""
             }
            },
            "marker": {
             "colorbar": {
              "outlinewidth": 0,
              "ticks": ""
             }
            },
            "type": "scatter3d"
           }
          ],
          "scattercarpet": [
           {
            "marker": {
             "colorbar": {
              "outlinewidth": 0,
              "ticks": ""
             }
            },
            "type": "scattercarpet"
           }
          ],
          "scattergeo": [
           {
            "marker": {
             "colorbar": {
              "outlinewidth": 0,
              "ticks": ""
             }
            },
            "type": "scattergeo"
           }
          ],
          "scattergl": [
           {
            "marker": {
             "colorbar": {
              "outlinewidth": 0,
              "ticks": ""
             }
            },
            "type": "scattergl"
           }
          ],
          "scattermapbox": [
           {
            "marker": {
             "colorbar": {
              "outlinewidth": 0,
              "ticks": ""
             }
            },
            "type": "scattermapbox"
           }
          ],
          "scatterpolar": [
           {
            "marker": {
             "colorbar": {
              "outlinewidth": 0,
              "ticks": ""
             }
            },
            "type": "scatterpolar"
           }
          ],
          "scatterpolargl": [
           {
            "marker": {
             "colorbar": {
              "outlinewidth": 0,
              "ticks": ""
             }
            },
            "type": "scatterpolargl"
           }
          ],
          "scatterternary": [
           {
            "marker": {
             "colorbar": {
              "outlinewidth": 0,
              "ticks": ""
             }
            },
            "type": "scatterternary"
           }
          ],
          "surface": [
           {
            "colorbar": {
             "outlinewidth": 0,
             "ticks": ""
            },
            "colorscale": [
             [
              0,
              "#0d0887"
             ],
             [
              0.1111111111111111,
              "#46039f"
             ],
             [
              0.2222222222222222,
              "#7201a8"
             ],
             [
              0.3333333333333333,
              "#9c179e"
             ],
             [
              0.4444444444444444,
              "#bd3786"
             ],
             [
              0.5555555555555556,
              "#d8576b"
             ],
             [
              0.6666666666666666,
              "#ed7953"
             ],
             [
              0.7777777777777778,
              "#fb9f3a"
             ],
             [
              0.8888888888888888,
              "#fdca26"
             ],
             [
              1,
              "#f0f921"
             ]
            ],
            "type": "surface"
           }
          ],
          "table": [
           {
            "cells": {
             "fill": {
              "color": "#EBF0F8"
             },
             "line": {
              "color": "white"
             }
            },
            "header": {
             "fill": {
              "color": "#C8D4E3"
             },
             "line": {
              "color": "white"
             }
            },
            "type": "table"
           }
          ]
         },
         "layout": {
          "annotationdefaults": {
           "arrowcolor": "#2a3f5f",
           "arrowhead": 0,
           "arrowwidth": 1
          },
          "autotypenumbers": "strict",
          "coloraxis": {
           "colorbar": {
            "outlinewidth": 0,
            "ticks": ""
           }
          },
          "colorscale": {
           "diverging": [
            [
             0,
             "#8e0152"
            ],
            [
             0.1,
             "#c51b7d"
            ],
            [
             0.2,
             "#de77ae"
            ],
            [
             0.3,
             "#f1b6da"
            ],
            [
             0.4,
             "#fde0ef"
            ],
            [
             0.5,
             "#f7f7f7"
            ],
            [
             0.6,
             "#e6f5d0"
            ],
            [
             0.7,
             "#b8e186"
            ],
            [
             0.8,
             "#7fbc41"
            ],
            [
             0.9,
             "#4d9221"
            ],
            [
             1,
             "#276419"
            ]
           ],
           "sequential": [
            [
             0,
             "#0d0887"
            ],
            [
             0.1111111111111111,
             "#46039f"
            ],
            [
             0.2222222222222222,
             "#7201a8"
            ],
            [
             0.3333333333333333,
             "#9c179e"
            ],
            [
             0.4444444444444444,
             "#bd3786"
            ],
            [
             0.5555555555555556,
             "#d8576b"
            ],
            [
             0.6666666666666666,
             "#ed7953"
            ],
            [
             0.7777777777777778,
             "#fb9f3a"
            ],
            [
             0.8888888888888888,
             "#fdca26"
            ],
            [
             1,
             "#f0f921"
            ]
           ],
           "sequentialminus": [
            [
             0,
             "#0d0887"
            ],
            [
             0.1111111111111111,
             "#46039f"
            ],
            [
             0.2222222222222222,
             "#7201a8"
            ],
            [
             0.3333333333333333,
             "#9c179e"
            ],
            [
             0.4444444444444444,
             "#bd3786"
            ],
            [
             0.5555555555555556,
             "#d8576b"
            ],
            [
             0.6666666666666666,
             "#ed7953"
            ],
            [
             0.7777777777777778,
             "#fb9f3a"
            ],
            [
             0.8888888888888888,
             "#fdca26"
            ],
            [
             1,
             "#f0f921"
            ]
           ]
          },
          "colorway": [
           "#636efa",
           "#EF553B",
           "#00cc96",
           "#ab63fa",
           "#FFA15A",
           "#19d3f3",
           "#FF6692",
           "#B6E880",
           "#FF97FF",
           "#FECB52"
          ],
          "font": {
           "color": "#2a3f5f"
          },
          "geo": {
           "bgcolor": "white",
           "lakecolor": "white",
           "landcolor": "#E5ECF6",
           "showlakes": true,
           "showland": true,
           "subunitcolor": "white"
          },
          "hoverlabel": {
           "align": "left"
          },
          "hovermode": "closest",
          "mapbox": {
           "style": "light"
          },
          "paper_bgcolor": "white",
          "plot_bgcolor": "#E5ECF6",
          "polar": {
           "angularaxis": {
            "gridcolor": "white",
            "linecolor": "white",
            "ticks": ""
           },
           "bgcolor": "#E5ECF6",
           "radialaxis": {
            "gridcolor": "white",
            "linecolor": "white",
            "ticks": ""
           }
          },
          "scene": {
           "xaxis": {
            "backgroundcolor": "#E5ECF6",
            "gridcolor": "white",
            "gridwidth": 2,
            "linecolor": "white",
            "showbackground": true,
            "ticks": "",
            "zerolinecolor": "white"
           },
           "yaxis": {
            "backgroundcolor": "#E5ECF6",
            "gridcolor": "white",
            "gridwidth": 2,
            "linecolor": "white",
            "showbackground": true,
            "ticks": "",
            "zerolinecolor": "white"
           },
           "zaxis": {
            "backgroundcolor": "#E5ECF6",
            "gridcolor": "white",
            "gridwidth": 2,
            "linecolor": "white",
            "showbackground": true,
            "ticks": "",
            "zerolinecolor": "white"
           }
          },
          "shapedefaults": {
           "line": {
            "color": "#2a3f5f"
           }
          },
          "ternary": {
           "aaxis": {
            "gridcolor": "white",
            "linecolor": "white",
            "ticks": ""
           },
           "baxis": {
            "gridcolor": "white",
            "linecolor": "white",
            "ticks": ""
           },
           "bgcolor": "#E5ECF6",
           "caxis": {
            "gridcolor": "white",
            "linecolor": "white",
            "ticks": ""
           }
          },
          "title": {
           "x": 0.05
          },
          "xaxis": {
           "automargin": true,
           "gridcolor": "white",
           "linecolor": "white",
           "ticks": "",
           "title": {
            "standoff": 15
           },
           "zerolinecolor": "white",
           "zerolinewidth": 2
          },
          "yaxis": {
           "automargin": true,
           "gridcolor": "white",
           "linecolor": "white",
           "ticks": "",
           "title": {
            "standoff": 15
           },
           "zerolinecolor": "white",
           "zerolinewidth": 2
          }
         }
        },
        "xaxis": {
         "anchor": "y",
         "domain": [
          0,
          1
         ],
         "title": {
          "text": " cat"
         }
        },
        "yaxis": {
         "anchor": "x",
         "domain": [
          0,
          1
         ],
         "title": {
          "text": " cats"
         }
        }
       }
      },
      "text/html": [
       "<div>                            <div id=\"437e2a61-d83e-47ae-ae09-a53a3eb38f41\" class=\"plotly-graph-div\" style=\"height:525px; width:100%;\"></div>            <script type=\"text/javascript\">                require([\"plotly\"], function(Plotly) {                    window.PLOTLYENV=window.PLOTLYENV || {};                                    if (document.getElementById(\"437e2a61-d83e-47ae-ae09-a53a3eb38f41\")) {                    Plotly.newPlot(                        \"437e2a61-d83e-47ae-ae09-a53a3eb38f41\",                        [{\"hovertemplate\":\"\\u003cb\\u003e%{hovertext}\\u003c\\u002fb\\u003e\\u003cbr\\u003e\\u003cbr\\u003e cat=%{x}\\u003cbr\\u003e cats=%{y}\\u003cbr\\u003eIndex=%{text}\\u003cextra\\u003e\\u003c\\u002fextra\\u003e\",\"hovertext\":[5.0,26.0,30.0,36.0,39.0,53.0,58.0,65.0,80.0,82.0,105.0,134.0,148.0,153.0,166.0,170.0,171.0,180.0,184.0,185.0,188.0,189.0,192.0,205.0,212.0,222.0,223.0,227.0,241.0,243.0,249.0,268.0,277.0,284.0,291.0,295.0,296.0,306.0,317.0,324.0,327.0,335.0,339.0,342.0,373.0,381.0,383.0,402.0,403.0,412.0,415.0,430.0,436.0,442.0,447.0,464.0,471.0,472.0,473.0,476.0,482.0,499.0,500.0,506.0,507.0],\"legendgroup\":\"\",\"marker\":{\"color\":\"#636efa\",\"symbol\":\"circle\"},\"mode\":\"markers+text\",\"name\":\"\",\"orientation\":\"v\",\"showlegend\":false,\"text\":[5.0,26.0,30.0,36.0,39.0,53.0,58.0,65.0,80.0,82.0,105.0,134.0,148.0,153.0,166.0,170.0,171.0,180.0,184.0,185.0,188.0,189.0,192.0,205.0,212.0,222.0,223.0,227.0,241.0,243.0,249.0,268.0,277.0,284.0,291.0,295.0,296.0,306.0,317.0,324.0,327.0,335.0,339.0,342.0,373.0,381.0,383.0,402.0,403.0,412.0,415.0,430.0,436.0,442.0,447.0,464.0,471.0,472.0,473.0,476.0,482.0,499.0,500.0,506.0,507.0],\"x\":[0.0,0.0,0.0,0.0,0.0,0.05238431692123413,0.0,0.0,0.0,0.0,0.0,0.0,0.0,0.21236854791641235,0.0,0.0,0.0,0.0,0.0,0.12865331768989563,0.0,0.0,0.0,0.0,0.12798480689525604,0.0,0.0,0.0,0.0,0.0,0.0,0.0,0.0,0.0,0.0,0.0,0.0,0.022607728838920593,0.0,0.0,0.0,0.10174765437841415,0.0,0.0,0.0,0.09309341758489609,0.0,0.0,0.0,0.0,0.06755627691745758,0.0,0.0,0.0,0.0,0.27819010615348816,0.0,0.0,0.0,0.0,0.0,0.3504217267036438,0.0,0.0,0.0],\"xaxis\":\"x\",\"y\":[0.0,0.0,0.0,0.0,0.0,0.10024026036262512,0.0,0.0,0.0,0.0,0.0,0.06352975219488144,0.0,0.27556943893432617,0.0,0.0,0.0,0.0,0.0,0.1177651584148407,0.0,0.0,0.0,0.0,0.0,0.0,0.0,0.0,0.0,0.0,0.0,0.0,0.0,0.0,0.0,0.0,0.0,0.0,0.0,0.0,0.0,0.12299434095621109,0.0,0.0,0.0,0.1824013888835907,0.0,0.20273885130882263,0.0,0.0,0.0,0.0,0.0,0.3605279326438904,0.0,0.26895514130592346,0.0,0.0,0.0,0.0,0.0,0.2147047370672226,0.0,0.0,0.0],\"yaxis\":\"y\",\"type\":\"scatter\"}],                        {\"template\":{\"data\":{\"histogram2dcontour\":[{\"type\":\"histogram2dcontour\",\"colorbar\":{\"outlinewidth\":0,\"ticks\":\"\"},\"colorscale\":[[0.0,\"#0d0887\"],[0.1111111111111111,\"#46039f\"],[0.2222222222222222,\"#7201a8\"],[0.3333333333333333,\"#9c179e\"],[0.4444444444444444,\"#bd3786\"],[0.5555555555555556,\"#d8576b\"],[0.6666666666666666,\"#ed7953\"],[0.7777777777777778,\"#fb9f3a\"],[0.8888888888888888,\"#fdca26\"],[1.0,\"#f0f921\"]]}],\"choropleth\":[{\"type\":\"choropleth\",\"colorbar\":{\"outlinewidth\":0,\"ticks\":\"\"}}],\"histogram2d\":[{\"type\":\"histogram2d\",\"colorbar\":{\"outlinewidth\":0,\"ticks\":\"\"},\"colorscale\":[[0.0,\"#0d0887\"],[0.1111111111111111,\"#46039f\"],[0.2222222222222222,\"#7201a8\"],[0.3333333333333333,\"#9c179e\"],[0.4444444444444444,\"#bd3786\"],[0.5555555555555556,\"#d8576b\"],[0.6666666666666666,\"#ed7953\"],[0.7777777777777778,\"#fb9f3a\"],[0.8888888888888888,\"#fdca26\"],[1.0,\"#f0f921\"]]}],\"heatmap\":[{\"type\":\"heatmap\",\"colorbar\":{\"outlinewidth\":0,\"ticks\":\"\"},\"colorscale\":[[0.0,\"#0d0887\"],[0.1111111111111111,\"#46039f\"],[0.2222222222222222,\"#7201a8\"],[0.3333333333333333,\"#9c179e\"],[0.4444444444444444,\"#bd3786\"],[0.5555555555555556,\"#d8576b\"],[0.6666666666666666,\"#ed7953\"],[0.7777777777777778,\"#fb9f3a\"],[0.8888888888888888,\"#fdca26\"],[1.0,\"#f0f921\"]]}],\"heatmapgl\":[{\"type\":\"heatmapgl\",\"colorbar\":{\"outlinewidth\":0,\"ticks\":\"\"},\"colorscale\":[[0.0,\"#0d0887\"],[0.1111111111111111,\"#46039f\"],[0.2222222222222222,\"#7201a8\"],[0.3333333333333333,\"#9c179e\"],[0.4444444444444444,\"#bd3786\"],[0.5555555555555556,\"#d8576b\"],[0.6666666666666666,\"#ed7953\"],[0.7777777777777778,\"#fb9f3a\"],[0.8888888888888888,\"#fdca26\"],[1.0,\"#f0f921\"]]}],\"contourcarpet\":[{\"type\":\"contourcarpet\",\"colorbar\":{\"outlinewidth\":0,\"ticks\":\"\"}}],\"contour\":[{\"type\":\"contour\",\"colorbar\":{\"outlinewidth\":0,\"ticks\":\"\"},\"colorscale\":[[0.0,\"#0d0887\"],[0.1111111111111111,\"#46039f\"],[0.2222222222222222,\"#7201a8\"],[0.3333333333333333,\"#9c179e\"],[0.4444444444444444,\"#bd3786\"],[0.5555555555555556,\"#d8576b\"],[0.6666666666666666,\"#ed7953\"],[0.7777777777777778,\"#fb9f3a\"],[0.8888888888888888,\"#fdca26\"],[1.0,\"#f0f921\"]]}],\"surface\":[{\"type\":\"surface\",\"colorbar\":{\"outlinewidth\":0,\"ticks\":\"\"},\"colorscale\":[[0.0,\"#0d0887\"],[0.1111111111111111,\"#46039f\"],[0.2222222222222222,\"#7201a8\"],[0.3333333333333333,\"#9c179e\"],[0.4444444444444444,\"#bd3786\"],[0.5555555555555556,\"#d8576b\"],[0.6666666666666666,\"#ed7953\"],[0.7777777777777778,\"#fb9f3a\"],[0.8888888888888888,\"#fdca26\"],[1.0,\"#f0f921\"]]}],\"mesh3d\":[{\"type\":\"mesh3d\",\"colorbar\":{\"outlinewidth\":0,\"ticks\":\"\"}}],\"scatter\":[{\"fillpattern\":{\"fillmode\":\"overlay\",\"size\":10,\"solidity\":0.2},\"type\":\"scatter\"}],\"parcoords\":[{\"type\":\"parcoords\",\"line\":{\"colorbar\":{\"outlinewidth\":0,\"ticks\":\"\"}}}],\"scatterpolargl\":[{\"type\":\"scatterpolargl\",\"marker\":{\"colorbar\":{\"outlinewidth\":0,\"ticks\":\"\"}}}],\"bar\":[{\"error_x\":{\"color\":\"#2a3f5f\"},\"error_y\":{\"color\":\"#2a3f5f\"},\"marker\":{\"line\":{\"color\":\"#E5ECF6\",\"width\":0.5},\"pattern\":{\"fillmode\":\"overlay\",\"size\":10,\"solidity\":0.2}},\"type\":\"bar\"}],\"scattergeo\":[{\"type\":\"scattergeo\",\"marker\":{\"colorbar\":{\"outlinewidth\":0,\"ticks\":\"\"}}}],\"scatterpolar\":[{\"type\":\"scatterpolar\",\"marker\":{\"colorbar\":{\"outlinewidth\":0,\"ticks\":\"\"}}}],\"histogram\":[{\"marker\":{\"pattern\":{\"fillmode\":\"overlay\",\"size\":10,\"solidity\":0.2}},\"type\":\"histogram\"}],\"scattergl\":[{\"type\":\"scattergl\",\"marker\":{\"colorbar\":{\"outlinewidth\":0,\"ticks\":\"\"}}}],\"scatter3d\":[{\"type\":\"scatter3d\",\"line\":{\"colorbar\":{\"outlinewidth\":0,\"ticks\":\"\"}},\"marker\":{\"colorbar\":{\"outlinewidth\":0,\"ticks\":\"\"}}}],\"scattermapbox\":[{\"type\":\"scattermapbox\",\"marker\":{\"colorbar\":{\"outlinewidth\":0,\"ticks\":\"\"}}}],\"scatterternary\":[{\"type\":\"scatterternary\",\"marker\":{\"colorbar\":{\"outlinewidth\":0,\"ticks\":\"\"}}}],\"scattercarpet\":[{\"type\":\"scattercarpet\",\"marker\":{\"colorbar\":{\"outlinewidth\":0,\"ticks\":\"\"}}}],\"carpet\":[{\"aaxis\":{\"endlinecolor\":\"#2a3f5f\",\"gridcolor\":\"white\",\"linecolor\":\"white\",\"minorgridcolor\":\"white\",\"startlinecolor\":\"#2a3f5f\"},\"baxis\":{\"endlinecolor\":\"#2a3f5f\",\"gridcolor\":\"white\",\"linecolor\":\"white\",\"minorgridcolor\":\"white\",\"startlinecolor\":\"#2a3f5f\"},\"type\":\"carpet\"}],\"table\":[{\"cells\":{\"fill\":{\"color\":\"#EBF0F8\"},\"line\":{\"color\":\"white\"}},\"header\":{\"fill\":{\"color\":\"#C8D4E3\"},\"line\":{\"color\":\"white\"}},\"type\":\"table\"}],\"barpolar\":[{\"marker\":{\"line\":{\"color\":\"#E5ECF6\",\"width\":0.5},\"pattern\":{\"fillmode\":\"overlay\",\"size\":10,\"solidity\":0.2}},\"type\":\"barpolar\"}],\"pie\":[{\"automargin\":true,\"type\":\"pie\"}]},\"layout\":{\"autotypenumbers\":\"strict\",\"colorway\":[\"#636efa\",\"#EF553B\",\"#00cc96\",\"#ab63fa\",\"#FFA15A\",\"#19d3f3\",\"#FF6692\",\"#B6E880\",\"#FF97FF\",\"#FECB52\"],\"font\":{\"color\":\"#2a3f5f\"},\"hovermode\":\"closest\",\"hoverlabel\":{\"align\":\"left\"},\"paper_bgcolor\":\"white\",\"plot_bgcolor\":\"#E5ECF6\",\"polar\":{\"bgcolor\":\"#E5ECF6\",\"angularaxis\":{\"gridcolor\":\"white\",\"linecolor\":\"white\",\"ticks\":\"\"},\"radialaxis\":{\"gridcolor\":\"white\",\"linecolor\":\"white\",\"ticks\":\"\"}},\"ternary\":{\"bgcolor\":\"#E5ECF6\",\"aaxis\":{\"gridcolor\":\"white\",\"linecolor\":\"white\",\"ticks\":\"\"},\"baxis\":{\"gridcolor\":\"white\",\"linecolor\":\"white\",\"ticks\":\"\"},\"caxis\":{\"gridcolor\":\"white\",\"linecolor\":\"white\",\"ticks\":\"\"}},\"coloraxis\":{\"colorbar\":{\"outlinewidth\":0,\"ticks\":\"\"}},\"colorscale\":{\"sequential\":[[0.0,\"#0d0887\"],[0.1111111111111111,\"#46039f\"],[0.2222222222222222,\"#7201a8\"],[0.3333333333333333,\"#9c179e\"],[0.4444444444444444,\"#bd3786\"],[0.5555555555555556,\"#d8576b\"],[0.6666666666666666,\"#ed7953\"],[0.7777777777777778,\"#fb9f3a\"],[0.8888888888888888,\"#fdca26\"],[1.0,\"#f0f921\"]],\"sequentialminus\":[[0.0,\"#0d0887\"],[0.1111111111111111,\"#46039f\"],[0.2222222222222222,\"#7201a8\"],[0.3333333333333333,\"#9c179e\"],[0.4444444444444444,\"#bd3786\"],[0.5555555555555556,\"#d8576b\"],[0.6666666666666666,\"#ed7953\"],[0.7777777777777778,\"#fb9f3a\"],[0.8888888888888888,\"#fdca26\"],[1.0,\"#f0f921\"]],\"diverging\":[[0,\"#8e0152\"],[0.1,\"#c51b7d\"],[0.2,\"#de77ae\"],[0.3,\"#f1b6da\"],[0.4,\"#fde0ef\"],[0.5,\"#f7f7f7\"],[0.6,\"#e6f5d0\"],[0.7,\"#b8e186\"],[0.8,\"#7fbc41\"],[0.9,\"#4d9221\"],[1,\"#276419\"]]},\"xaxis\":{\"gridcolor\":\"white\",\"linecolor\":\"white\",\"ticks\":\"\",\"title\":{\"standoff\":15},\"zerolinecolor\":\"white\",\"automargin\":true,\"zerolinewidth\":2},\"yaxis\":{\"gridcolor\":\"white\",\"linecolor\":\"white\",\"ticks\":\"\",\"title\":{\"standoff\":15},\"zerolinecolor\":\"white\",\"automargin\":true,\"zerolinewidth\":2},\"scene\":{\"xaxis\":{\"backgroundcolor\":\"#E5ECF6\",\"gridcolor\":\"white\",\"linecolor\":\"white\",\"showbackground\":true,\"ticks\":\"\",\"zerolinecolor\":\"white\",\"gridwidth\":2},\"yaxis\":{\"backgroundcolor\":\"#E5ECF6\",\"gridcolor\":\"white\",\"linecolor\":\"white\",\"showbackground\":true,\"ticks\":\"\",\"zerolinecolor\":\"white\",\"gridwidth\":2},\"zaxis\":{\"backgroundcolor\":\"#E5ECF6\",\"gridcolor\":\"white\",\"linecolor\":\"white\",\"showbackground\":true,\"ticks\":\"\",\"zerolinecolor\":\"white\",\"gridwidth\":2}},\"shapedefaults\":{\"line\":{\"color\":\"#2a3f5f\"}},\"annotationdefaults\":{\"arrowcolor\":\"#2a3f5f\",\"arrowhead\":0,\"arrowwidth\":1},\"geo\":{\"bgcolor\":\"white\",\"landcolor\":\"#E5ECF6\",\"subunitcolor\":\"white\",\"showland\":true,\"showlakes\":true,\"lakecolor\":\"white\"},\"title\":{\"x\":0.05},\"mapbox\":{\"style\":\"light\"}}},\"xaxis\":{\"anchor\":\"y\",\"domain\":[0.0,1.0],\"title\":{\"text\":\" cat\"}},\"yaxis\":{\"anchor\":\"x\",\"domain\":[0.0,1.0],\"title\":{\"text\":\" cats\"}},\"legend\":{\"tracegroupgap\":0},\"margin\":{\"t\":60}},                        {\"responsive\": true}                    ).then(function(){\n",
       "                            \n",
       "var gd = document.getElementById('437e2a61-d83e-47ae-ae09-a53a3eb38f41');\n",
       "var x = new MutationObserver(function (mutations, observer) {{\n",
       "        var display = window.getComputedStyle(gd).display;\n",
       "        if (!display || display === 'none') {{\n",
       "            console.log([gd, 'removed!']);\n",
       "            Plotly.purge(gd);\n",
       "            observer.disconnect();\n",
       "        }}\n",
       "}});\n",
       "\n",
       "// Listen for the removal of the full notebook cells\n",
       "var notebookContainer = gd.closest('#notebook-container');\n",
       "if (notebookContainer) {{\n",
       "    x.observe(notebookContainer, {childList: true});\n",
       "}}\n",
       "\n",
       "// Listen for the clearing of the current output cell\n",
       "var outputEl = gd.closest('.output');\n",
       "if (outputEl) {{\n",
       "    x.observe(outputEl, {childList: true});\n",
       "}}\n",
       "\n",
       "                        })                };                });            </script>        </div>"
      ]
     },
     "metadata": {},
     "output_type": "display_data"
    },
    {
     "data": {
      "application/vnd.plotly.v1+json": {
       "config": {
        "plotlyServerURL": "https://plot.ly"
       },
       "data": [
        {
         "hovertemplate": "<b>%{hovertext}</b><br><br> dog=%{x}<br> dogs=%{y}<br>Index=%{text}<extra></extra>",
         "hovertext": [
          5,
          26,
          30,
          36,
          39,
          53,
          58,
          65,
          80,
          82,
          105,
          134,
          148,
          153,
          166,
          170,
          171,
          180,
          184,
          185,
          188,
          189,
          192,
          205,
          212,
          222,
          223,
          227,
          241,
          243,
          249,
          268,
          277,
          284,
          291,
          295,
          296,
          306,
          317,
          324,
          327,
          335,
          339,
          342,
          373,
          381,
          383,
          402,
          403,
          412,
          415,
          430,
          436,
          442,
          447,
          464,
          471,
          472,
          473,
          476,
          482,
          499,
          500,
          506,
          507
         ],
         "legendgroup": "",
         "marker": {
          "color": "#636efa",
          "symbol": "circle"
         },
         "mode": "markers+text",
         "name": "",
         "orientation": "v",
         "showlegend": false,
         "text": [
          5,
          26,
          30,
          36,
          39,
          53,
          58,
          65,
          80,
          82,
          105,
          134,
          148,
          153,
          166,
          170,
          171,
          180,
          184,
          185,
          188,
          189,
          192,
          205,
          212,
          222,
          223,
          227,
          241,
          243,
          249,
          268,
          277,
          284,
          291,
          295,
          296,
          306,
          317,
          324,
          327,
          335,
          339,
          342,
          373,
          381,
          383,
          402,
          403,
          412,
          415,
          430,
          436,
          442,
          447,
          464,
          471,
          472,
          473,
          476,
          482,
          499,
          500,
          506,
          507
         ],
         "type": "scatter",
         "x": [
          0,
          0,
          0,
          0,
          0,
          0.034550368785858154,
          0.03702762350440025,
          0,
          0,
          0,
          0,
          0,
          0,
          0.22594428062438965,
          0,
          0,
          0,
          0,
          0.04577039182186127,
          0,
          0,
          0,
          0,
          0,
          0.1456015259027481,
          0,
          0,
          0,
          0,
          0,
          0,
          0,
          0,
          0,
          0,
          0,
          0,
          0,
          0,
          0,
          0,
          0.04746166616678238,
          0,
          0,
          0,
          0.11801367253065109,
          0,
          0,
          0,
          0,
          0.06366510689258575,
          0,
          0,
          0,
          0,
          0.30096712708473206,
          0,
          0,
          0,
          0,
          0,
          0.3688393235206604,
          0,
          0,
          0
         ],
         "xaxis": "x",
         "y": [
          0,
          0,
          0,
          0,
          0,
          0,
          0,
          0,
          0,
          0,
          0,
          0,
          0,
          0.2817167043685913,
          0.07938514649868011,
          0,
          0,
          0,
          0,
          0,
          0,
          0,
          0,
          0,
          0,
          0,
          0,
          0,
          0,
          0,
          0,
          0,
          0,
          0,
          0,
          0,
          0,
          0,
          0,
          0,
          0,
          0.10491427034139633,
          0,
          0,
          0,
          0.18389162421226501,
          0.08735807240009308,
          0.24077832698822021,
          0,
          0,
          0,
          0,
          0,
          0.3988061547279358,
          0,
          0.2820514142513275,
          0,
          0,
          0,
          0,
          0.10569223761558533,
          0.21457935869693756,
          0,
          0,
          0
         ],
         "yaxis": "y"
        }
       ],
       "layout": {
        "legend": {
         "tracegroupgap": 0
        },
        "margin": {
         "t": 60
        },
        "template": {
         "data": {
          "bar": [
           {
            "error_x": {
             "color": "#2a3f5f"
            },
            "error_y": {
             "color": "#2a3f5f"
            },
            "marker": {
             "line": {
              "color": "#E5ECF6",
              "width": 0.5
             },
             "pattern": {
              "fillmode": "overlay",
              "size": 10,
              "solidity": 0.2
             }
            },
            "type": "bar"
           }
          ],
          "barpolar": [
           {
            "marker": {
             "line": {
              "color": "#E5ECF6",
              "width": 0.5
             },
             "pattern": {
              "fillmode": "overlay",
              "size": 10,
              "solidity": 0.2
             }
            },
            "type": "barpolar"
           }
          ],
          "carpet": [
           {
            "aaxis": {
             "endlinecolor": "#2a3f5f",
             "gridcolor": "white",
             "linecolor": "white",
             "minorgridcolor": "white",
             "startlinecolor": "#2a3f5f"
            },
            "baxis": {
             "endlinecolor": "#2a3f5f",
             "gridcolor": "white",
             "linecolor": "white",
             "minorgridcolor": "white",
             "startlinecolor": "#2a3f5f"
            },
            "type": "carpet"
           }
          ],
          "choropleth": [
           {
            "colorbar": {
             "outlinewidth": 0,
             "ticks": ""
            },
            "type": "choropleth"
           }
          ],
          "contour": [
           {
            "colorbar": {
             "outlinewidth": 0,
             "ticks": ""
            },
            "colorscale": [
             [
              0,
              "#0d0887"
             ],
             [
              0.1111111111111111,
              "#46039f"
             ],
             [
              0.2222222222222222,
              "#7201a8"
             ],
             [
              0.3333333333333333,
              "#9c179e"
             ],
             [
              0.4444444444444444,
              "#bd3786"
             ],
             [
              0.5555555555555556,
              "#d8576b"
             ],
             [
              0.6666666666666666,
              "#ed7953"
             ],
             [
              0.7777777777777778,
              "#fb9f3a"
             ],
             [
              0.8888888888888888,
              "#fdca26"
             ],
             [
              1,
              "#f0f921"
             ]
            ],
            "type": "contour"
           }
          ],
          "contourcarpet": [
           {
            "colorbar": {
             "outlinewidth": 0,
             "ticks": ""
            },
            "type": "contourcarpet"
           }
          ],
          "heatmap": [
           {
            "colorbar": {
             "outlinewidth": 0,
             "ticks": ""
            },
            "colorscale": [
             [
              0,
              "#0d0887"
             ],
             [
              0.1111111111111111,
              "#46039f"
             ],
             [
              0.2222222222222222,
              "#7201a8"
             ],
             [
              0.3333333333333333,
              "#9c179e"
             ],
             [
              0.4444444444444444,
              "#bd3786"
             ],
             [
              0.5555555555555556,
              "#d8576b"
             ],
             [
              0.6666666666666666,
              "#ed7953"
             ],
             [
              0.7777777777777778,
              "#fb9f3a"
             ],
             [
              0.8888888888888888,
              "#fdca26"
             ],
             [
              1,
              "#f0f921"
             ]
            ],
            "type": "heatmap"
           }
          ],
          "heatmapgl": [
           {
            "colorbar": {
             "outlinewidth": 0,
             "ticks": ""
            },
            "colorscale": [
             [
              0,
              "#0d0887"
             ],
             [
              0.1111111111111111,
              "#46039f"
             ],
             [
              0.2222222222222222,
              "#7201a8"
             ],
             [
              0.3333333333333333,
              "#9c179e"
             ],
             [
              0.4444444444444444,
              "#bd3786"
             ],
             [
              0.5555555555555556,
              "#d8576b"
             ],
             [
              0.6666666666666666,
              "#ed7953"
             ],
             [
              0.7777777777777778,
              "#fb9f3a"
             ],
             [
              0.8888888888888888,
              "#fdca26"
             ],
             [
              1,
              "#f0f921"
             ]
            ],
            "type": "heatmapgl"
           }
          ],
          "histogram": [
           {
            "marker": {
             "pattern": {
              "fillmode": "overlay",
              "size": 10,
              "solidity": 0.2
             }
            },
            "type": "histogram"
           }
          ],
          "histogram2d": [
           {
            "colorbar": {
             "outlinewidth": 0,
             "ticks": ""
            },
            "colorscale": [
             [
              0,
              "#0d0887"
             ],
             [
              0.1111111111111111,
              "#46039f"
             ],
             [
              0.2222222222222222,
              "#7201a8"
             ],
             [
              0.3333333333333333,
              "#9c179e"
             ],
             [
              0.4444444444444444,
              "#bd3786"
             ],
             [
              0.5555555555555556,
              "#d8576b"
             ],
             [
              0.6666666666666666,
              "#ed7953"
             ],
             [
              0.7777777777777778,
              "#fb9f3a"
             ],
             [
              0.8888888888888888,
              "#fdca26"
             ],
             [
              1,
              "#f0f921"
             ]
            ],
            "type": "histogram2d"
           }
          ],
          "histogram2dcontour": [
           {
            "colorbar": {
             "outlinewidth": 0,
             "ticks": ""
            },
            "colorscale": [
             [
              0,
              "#0d0887"
             ],
             [
              0.1111111111111111,
              "#46039f"
             ],
             [
              0.2222222222222222,
              "#7201a8"
             ],
             [
              0.3333333333333333,
              "#9c179e"
             ],
             [
              0.4444444444444444,
              "#bd3786"
             ],
             [
              0.5555555555555556,
              "#d8576b"
             ],
             [
              0.6666666666666666,
              "#ed7953"
             ],
             [
              0.7777777777777778,
              "#fb9f3a"
             ],
             [
              0.8888888888888888,
              "#fdca26"
             ],
             [
              1,
              "#f0f921"
             ]
            ],
            "type": "histogram2dcontour"
           }
          ],
          "mesh3d": [
           {
            "colorbar": {
             "outlinewidth": 0,
             "ticks": ""
            },
            "type": "mesh3d"
           }
          ],
          "parcoords": [
           {
            "line": {
             "colorbar": {
              "outlinewidth": 0,
              "ticks": ""
             }
            },
            "type": "parcoords"
           }
          ],
          "pie": [
           {
            "automargin": true,
            "type": "pie"
           }
          ],
          "scatter": [
           {
            "fillpattern": {
             "fillmode": "overlay",
             "size": 10,
             "solidity": 0.2
            },
            "type": "scatter"
           }
          ],
          "scatter3d": [
           {
            "line": {
             "colorbar": {
              "outlinewidth": 0,
              "ticks": ""
             }
            },
            "marker": {
             "colorbar": {
              "outlinewidth": 0,
              "ticks": ""
             }
            },
            "type": "scatter3d"
           }
          ],
          "scattercarpet": [
           {
            "marker": {
             "colorbar": {
              "outlinewidth": 0,
              "ticks": ""
             }
            },
            "type": "scattercarpet"
           }
          ],
          "scattergeo": [
           {
            "marker": {
             "colorbar": {
              "outlinewidth": 0,
              "ticks": ""
             }
            },
            "type": "scattergeo"
           }
          ],
          "scattergl": [
           {
            "marker": {
             "colorbar": {
              "outlinewidth": 0,
              "ticks": ""
             }
            },
            "type": "scattergl"
           }
          ],
          "scattermapbox": [
           {
            "marker": {
             "colorbar": {
              "outlinewidth": 0,
              "ticks": ""
             }
            },
            "type": "scattermapbox"
           }
          ],
          "scatterpolar": [
           {
            "marker": {
             "colorbar": {
              "outlinewidth": 0,
              "ticks": ""
             }
            },
            "type": "scatterpolar"
           }
          ],
          "scatterpolargl": [
           {
            "marker": {
             "colorbar": {
              "outlinewidth": 0,
              "ticks": ""
             }
            },
            "type": "scatterpolargl"
           }
          ],
          "scatterternary": [
           {
            "marker": {
             "colorbar": {
              "outlinewidth": 0,
              "ticks": ""
             }
            },
            "type": "scatterternary"
           }
          ],
          "surface": [
           {
            "colorbar": {
             "outlinewidth": 0,
             "ticks": ""
            },
            "colorscale": [
             [
              0,
              "#0d0887"
             ],
             [
              0.1111111111111111,
              "#46039f"
             ],
             [
              0.2222222222222222,
              "#7201a8"
             ],
             [
              0.3333333333333333,
              "#9c179e"
             ],
             [
              0.4444444444444444,
              "#bd3786"
             ],
             [
              0.5555555555555556,
              "#d8576b"
             ],
             [
              0.6666666666666666,
              "#ed7953"
             ],
             [
              0.7777777777777778,
              "#fb9f3a"
             ],
             [
              0.8888888888888888,
              "#fdca26"
             ],
             [
              1,
              "#f0f921"
             ]
            ],
            "type": "surface"
           }
          ],
          "table": [
           {
            "cells": {
             "fill": {
              "color": "#EBF0F8"
             },
             "line": {
              "color": "white"
             }
            },
            "header": {
             "fill": {
              "color": "#C8D4E3"
             },
             "line": {
              "color": "white"
             }
            },
            "type": "table"
           }
          ]
         },
         "layout": {
          "annotationdefaults": {
           "arrowcolor": "#2a3f5f",
           "arrowhead": 0,
           "arrowwidth": 1
          },
          "autotypenumbers": "strict",
          "coloraxis": {
           "colorbar": {
            "outlinewidth": 0,
            "ticks": ""
           }
          },
          "colorscale": {
           "diverging": [
            [
             0,
             "#8e0152"
            ],
            [
             0.1,
             "#c51b7d"
            ],
            [
             0.2,
             "#de77ae"
            ],
            [
             0.3,
             "#f1b6da"
            ],
            [
             0.4,
             "#fde0ef"
            ],
            [
             0.5,
             "#f7f7f7"
            ],
            [
             0.6,
             "#e6f5d0"
            ],
            [
             0.7,
             "#b8e186"
            ],
            [
             0.8,
             "#7fbc41"
            ],
            [
             0.9,
             "#4d9221"
            ],
            [
             1,
             "#276419"
            ]
           ],
           "sequential": [
            [
             0,
             "#0d0887"
            ],
            [
             0.1111111111111111,
             "#46039f"
            ],
            [
             0.2222222222222222,
             "#7201a8"
            ],
            [
             0.3333333333333333,
             "#9c179e"
            ],
            [
             0.4444444444444444,
             "#bd3786"
            ],
            [
             0.5555555555555556,
             "#d8576b"
            ],
            [
             0.6666666666666666,
             "#ed7953"
            ],
            [
             0.7777777777777778,
             "#fb9f3a"
            ],
            [
             0.8888888888888888,
             "#fdca26"
            ],
            [
             1,
             "#f0f921"
            ]
           ],
           "sequentialminus": [
            [
             0,
             "#0d0887"
            ],
            [
             0.1111111111111111,
             "#46039f"
            ],
            [
             0.2222222222222222,
             "#7201a8"
            ],
            [
             0.3333333333333333,
             "#9c179e"
            ],
            [
             0.4444444444444444,
             "#bd3786"
            ],
            [
             0.5555555555555556,
             "#d8576b"
            ],
            [
             0.6666666666666666,
             "#ed7953"
            ],
            [
             0.7777777777777778,
             "#fb9f3a"
            ],
            [
             0.8888888888888888,
             "#fdca26"
            ],
            [
             1,
             "#f0f921"
            ]
           ]
          },
          "colorway": [
           "#636efa",
           "#EF553B",
           "#00cc96",
           "#ab63fa",
           "#FFA15A",
           "#19d3f3",
           "#FF6692",
           "#B6E880",
           "#FF97FF",
           "#FECB52"
          ],
          "font": {
           "color": "#2a3f5f"
          },
          "geo": {
           "bgcolor": "white",
           "lakecolor": "white",
           "landcolor": "#E5ECF6",
           "showlakes": true,
           "showland": true,
           "subunitcolor": "white"
          },
          "hoverlabel": {
           "align": "left"
          },
          "hovermode": "closest",
          "mapbox": {
           "style": "light"
          },
          "paper_bgcolor": "white",
          "plot_bgcolor": "#E5ECF6",
          "polar": {
           "angularaxis": {
            "gridcolor": "white",
            "linecolor": "white",
            "ticks": ""
           },
           "bgcolor": "#E5ECF6",
           "radialaxis": {
            "gridcolor": "white",
            "linecolor": "white",
            "ticks": ""
           }
          },
          "scene": {
           "xaxis": {
            "backgroundcolor": "#E5ECF6",
            "gridcolor": "white",
            "gridwidth": 2,
            "linecolor": "white",
            "showbackground": true,
            "ticks": "",
            "zerolinecolor": "white"
           },
           "yaxis": {
            "backgroundcolor": "#E5ECF6",
            "gridcolor": "white",
            "gridwidth": 2,
            "linecolor": "white",
            "showbackground": true,
            "ticks": "",
            "zerolinecolor": "white"
           },
           "zaxis": {
            "backgroundcolor": "#E5ECF6",
            "gridcolor": "white",
            "gridwidth": 2,
            "linecolor": "white",
            "showbackground": true,
            "ticks": "",
            "zerolinecolor": "white"
           }
          },
          "shapedefaults": {
           "line": {
            "color": "#2a3f5f"
           }
          },
          "ternary": {
           "aaxis": {
            "gridcolor": "white",
            "linecolor": "white",
            "ticks": ""
           },
           "baxis": {
            "gridcolor": "white",
            "linecolor": "white",
            "ticks": ""
           },
           "bgcolor": "#E5ECF6",
           "caxis": {
            "gridcolor": "white",
            "linecolor": "white",
            "ticks": ""
           }
          },
          "title": {
           "x": 0.05
          },
          "xaxis": {
           "automargin": true,
           "gridcolor": "white",
           "linecolor": "white",
           "ticks": "",
           "title": {
            "standoff": 15
           },
           "zerolinecolor": "white",
           "zerolinewidth": 2
          },
          "yaxis": {
           "automargin": true,
           "gridcolor": "white",
           "linecolor": "white",
           "ticks": "",
           "title": {
            "standoff": 15
           },
           "zerolinecolor": "white",
           "zerolinewidth": 2
          }
         }
        },
        "xaxis": {
         "anchor": "y",
         "domain": [
          0,
          1
         ],
         "title": {
          "text": " dog"
         }
        },
        "yaxis": {
         "anchor": "x",
         "domain": [
          0,
          1
         ],
         "title": {
          "text": " dogs"
         }
        }
       }
      },
      "text/html": [
       "<div>                            <div id=\"7b422e25-f641-48f4-b650-7d187a3ab45e\" class=\"plotly-graph-div\" style=\"height:525px; width:100%;\"></div>            <script type=\"text/javascript\">                require([\"plotly\"], function(Plotly) {                    window.PLOTLYENV=window.PLOTLYENV || {};                                    if (document.getElementById(\"7b422e25-f641-48f4-b650-7d187a3ab45e\")) {                    Plotly.newPlot(                        \"7b422e25-f641-48f4-b650-7d187a3ab45e\",                        [{\"hovertemplate\":\"\\u003cb\\u003e%{hovertext}\\u003c\\u002fb\\u003e\\u003cbr\\u003e\\u003cbr\\u003e dog=%{x}\\u003cbr\\u003e dogs=%{y}\\u003cbr\\u003eIndex=%{text}\\u003cextra\\u003e\\u003c\\u002fextra\\u003e\",\"hovertext\":[5.0,26.0,30.0,36.0,39.0,53.0,58.0,65.0,80.0,82.0,105.0,134.0,148.0,153.0,166.0,170.0,171.0,180.0,184.0,185.0,188.0,189.0,192.0,205.0,212.0,222.0,223.0,227.0,241.0,243.0,249.0,268.0,277.0,284.0,291.0,295.0,296.0,306.0,317.0,324.0,327.0,335.0,339.0,342.0,373.0,381.0,383.0,402.0,403.0,412.0,415.0,430.0,436.0,442.0,447.0,464.0,471.0,472.0,473.0,476.0,482.0,499.0,500.0,506.0,507.0],\"legendgroup\":\"\",\"marker\":{\"color\":\"#636efa\",\"symbol\":\"circle\"},\"mode\":\"markers+text\",\"name\":\"\",\"orientation\":\"v\",\"showlegend\":false,\"text\":[5.0,26.0,30.0,36.0,39.0,53.0,58.0,65.0,80.0,82.0,105.0,134.0,148.0,153.0,166.0,170.0,171.0,180.0,184.0,185.0,188.0,189.0,192.0,205.0,212.0,222.0,223.0,227.0,241.0,243.0,249.0,268.0,277.0,284.0,291.0,295.0,296.0,306.0,317.0,324.0,327.0,335.0,339.0,342.0,373.0,381.0,383.0,402.0,403.0,412.0,415.0,430.0,436.0,442.0,447.0,464.0,471.0,472.0,473.0,476.0,482.0,499.0,500.0,506.0,507.0],\"x\":[0.0,0.0,0.0,0.0,0.0,0.034550368785858154,0.03702762350440025,0.0,0.0,0.0,0.0,0.0,0.0,0.22594428062438965,0.0,0.0,0.0,0.0,0.04577039182186127,0.0,0.0,0.0,0.0,0.0,0.1456015259027481,0.0,0.0,0.0,0.0,0.0,0.0,0.0,0.0,0.0,0.0,0.0,0.0,0.0,0.0,0.0,0.0,0.04746166616678238,0.0,0.0,0.0,0.11801367253065109,0.0,0.0,0.0,0.0,0.06366510689258575,0.0,0.0,0.0,0.0,0.30096712708473206,0.0,0.0,0.0,0.0,0.0,0.3688393235206604,0.0,0.0,0.0],\"xaxis\":\"x\",\"y\":[0.0,0.0,0.0,0.0,0.0,0.0,0.0,0.0,0.0,0.0,0.0,0.0,0.0,0.2817167043685913,0.07938514649868011,0.0,0.0,0.0,0.0,0.0,0.0,0.0,0.0,0.0,0.0,0.0,0.0,0.0,0.0,0.0,0.0,0.0,0.0,0.0,0.0,0.0,0.0,0.0,0.0,0.0,0.0,0.10491427034139633,0.0,0.0,0.0,0.18389162421226501,0.08735807240009308,0.24077832698822021,0.0,0.0,0.0,0.0,0.0,0.3988061547279358,0.0,0.2820514142513275,0.0,0.0,0.0,0.0,0.10569223761558533,0.21457935869693756,0.0,0.0,0.0],\"yaxis\":\"y\",\"type\":\"scatter\"}],                        {\"template\":{\"data\":{\"histogram2dcontour\":[{\"type\":\"histogram2dcontour\",\"colorbar\":{\"outlinewidth\":0,\"ticks\":\"\"},\"colorscale\":[[0.0,\"#0d0887\"],[0.1111111111111111,\"#46039f\"],[0.2222222222222222,\"#7201a8\"],[0.3333333333333333,\"#9c179e\"],[0.4444444444444444,\"#bd3786\"],[0.5555555555555556,\"#d8576b\"],[0.6666666666666666,\"#ed7953\"],[0.7777777777777778,\"#fb9f3a\"],[0.8888888888888888,\"#fdca26\"],[1.0,\"#f0f921\"]]}],\"choropleth\":[{\"type\":\"choropleth\",\"colorbar\":{\"outlinewidth\":0,\"ticks\":\"\"}}],\"histogram2d\":[{\"type\":\"histogram2d\",\"colorbar\":{\"outlinewidth\":0,\"ticks\":\"\"},\"colorscale\":[[0.0,\"#0d0887\"],[0.1111111111111111,\"#46039f\"],[0.2222222222222222,\"#7201a8\"],[0.3333333333333333,\"#9c179e\"],[0.4444444444444444,\"#bd3786\"],[0.5555555555555556,\"#d8576b\"],[0.6666666666666666,\"#ed7953\"],[0.7777777777777778,\"#fb9f3a\"],[0.8888888888888888,\"#fdca26\"],[1.0,\"#f0f921\"]]}],\"heatmap\":[{\"type\":\"heatmap\",\"colorbar\":{\"outlinewidth\":0,\"ticks\":\"\"},\"colorscale\":[[0.0,\"#0d0887\"],[0.1111111111111111,\"#46039f\"],[0.2222222222222222,\"#7201a8\"],[0.3333333333333333,\"#9c179e\"],[0.4444444444444444,\"#bd3786\"],[0.5555555555555556,\"#d8576b\"],[0.6666666666666666,\"#ed7953\"],[0.7777777777777778,\"#fb9f3a\"],[0.8888888888888888,\"#fdca26\"],[1.0,\"#f0f921\"]]}],\"heatmapgl\":[{\"type\":\"heatmapgl\",\"colorbar\":{\"outlinewidth\":0,\"ticks\":\"\"},\"colorscale\":[[0.0,\"#0d0887\"],[0.1111111111111111,\"#46039f\"],[0.2222222222222222,\"#7201a8\"],[0.3333333333333333,\"#9c179e\"],[0.4444444444444444,\"#bd3786\"],[0.5555555555555556,\"#d8576b\"],[0.6666666666666666,\"#ed7953\"],[0.7777777777777778,\"#fb9f3a\"],[0.8888888888888888,\"#fdca26\"],[1.0,\"#f0f921\"]]}],\"contourcarpet\":[{\"type\":\"contourcarpet\",\"colorbar\":{\"outlinewidth\":0,\"ticks\":\"\"}}],\"contour\":[{\"type\":\"contour\",\"colorbar\":{\"outlinewidth\":0,\"ticks\":\"\"},\"colorscale\":[[0.0,\"#0d0887\"],[0.1111111111111111,\"#46039f\"],[0.2222222222222222,\"#7201a8\"],[0.3333333333333333,\"#9c179e\"],[0.4444444444444444,\"#bd3786\"],[0.5555555555555556,\"#d8576b\"],[0.6666666666666666,\"#ed7953\"],[0.7777777777777778,\"#fb9f3a\"],[0.8888888888888888,\"#fdca26\"],[1.0,\"#f0f921\"]]}],\"surface\":[{\"type\":\"surface\",\"colorbar\":{\"outlinewidth\":0,\"ticks\":\"\"},\"colorscale\":[[0.0,\"#0d0887\"],[0.1111111111111111,\"#46039f\"],[0.2222222222222222,\"#7201a8\"],[0.3333333333333333,\"#9c179e\"],[0.4444444444444444,\"#bd3786\"],[0.5555555555555556,\"#d8576b\"],[0.6666666666666666,\"#ed7953\"],[0.7777777777777778,\"#fb9f3a\"],[0.8888888888888888,\"#fdca26\"],[1.0,\"#f0f921\"]]}],\"mesh3d\":[{\"type\":\"mesh3d\",\"colorbar\":{\"outlinewidth\":0,\"ticks\":\"\"}}],\"scatter\":[{\"fillpattern\":{\"fillmode\":\"overlay\",\"size\":10,\"solidity\":0.2},\"type\":\"scatter\"}],\"parcoords\":[{\"type\":\"parcoords\",\"line\":{\"colorbar\":{\"outlinewidth\":0,\"ticks\":\"\"}}}],\"scatterpolargl\":[{\"type\":\"scatterpolargl\",\"marker\":{\"colorbar\":{\"outlinewidth\":0,\"ticks\":\"\"}}}],\"bar\":[{\"error_x\":{\"color\":\"#2a3f5f\"},\"error_y\":{\"color\":\"#2a3f5f\"},\"marker\":{\"line\":{\"color\":\"#E5ECF6\",\"width\":0.5},\"pattern\":{\"fillmode\":\"overlay\",\"size\":10,\"solidity\":0.2}},\"type\":\"bar\"}],\"scattergeo\":[{\"type\":\"scattergeo\",\"marker\":{\"colorbar\":{\"outlinewidth\":0,\"ticks\":\"\"}}}],\"scatterpolar\":[{\"type\":\"scatterpolar\",\"marker\":{\"colorbar\":{\"outlinewidth\":0,\"ticks\":\"\"}}}],\"histogram\":[{\"marker\":{\"pattern\":{\"fillmode\":\"overlay\",\"size\":10,\"solidity\":0.2}},\"type\":\"histogram\"}],\"scattergl\":[{\"type\":\"scattergl\",\"marker\":{\"colorbar\":{\"outlinewidth\":0,\"ticks\":\"\"}}}],\"scatter3d\":[{\"type\":\"scatter3d\",\"line\":{\"colorbar\":{\"outlinewidth\":0,\"ticks\":\"\"}},\"marker\":{\"colorbar\":{\"outlinewidth\":0,\"ticks\":\"\"}}}],\"scattermapbox\":[{\"type\":\"scattermapbox\",\"marker\":{\"colorbar\":{\"outlinewidth\":0,\"ticks\":\"\"}}}],\"scatterternary\":[{\"type\":\"scatterternary\",\"marker\":{\"colorbar\":{\"outlinewidth\":0,\"ticks\":\"\"}}}],\"scattercarpet\":[{\"type\":\"scattercarpet\",\"marker\":{\"colorbar\":{\"outlinewidth\":0,\"ticks\":\"\"}}}],\"carpet\":[{\"aaxis\":{\"endlinecolor\":\"#2a3f5f\",\"gridcolor\":\"white\",\"linecolor\":\"white\",\"minorgridcolor\":\"white\",\"startlinecolor\":\"#2a3f5f\"},\"baxis\":{\"endlinecolor\":\"#2a3f5f\",\"gridcolor\":\"white\",\"linecolor\":\"white\",\"minorgridcolor\":\"white\",\"startlinecolor\":\"#2a3f5f\"},\"type\":\"carpet\"}],\"table\":[{\"cells\":{\"fill\":{\"color\":\"#EBF0F8\"},\"line\":{\"color\":\"white\"}},\"header\":{\"fill\":{\"color\":\"#C8D4E3\"},\"line\":{\"color\":\"white\"}},\"type\":\"table\"}],\"barpolar\":[{\"marker\":{\"line\":{\"color\":\"#E5ECF6\",\"width\":0.5},\"pattern\":{\"fillmode\":\"overlay\",\"size\":10,\"solidity\":0.2}},\"type\":\"barpolar\"}],\"pie\":[{\"automargin\":true,\"type\":\"pie\"}]},\"layout\":{\"autotypenumbers\":\"strict\",\"colorway\":[\"#636efa\",\"#EF553B\",\"#00cc96\",\"#ab63fa\",\"#FFA15A\",\"#19d3f3\",\"#FF6692\",\"#B6E880\",\"#FF97FF\",\"#FECB52\"],\"font\":{\"color\":\"#2a3f5f\"},\"hovermode\":\"closest\",\"hoverlabel\":{\"align\":\"left\"},\"paper_bgcolor\":\"white\",\"plot_bgcolor\":\"#E5ECF6\",\"polar\":{\"bgcolor\":\"#E5ECF6\",\"angularaxis\":{\"gridcolor\":\"white\",\"linecolor\":\"white\",\"ticks\":\"\"},\"radialaxis\":{\"gridcolor\":\"white\",\"linecolor\":\"white\",\"ticks\":\"\"}},\"ternary\":{\"bgcolor\":\"#E5ECF6\",\"aaxis\":{\"gridcolor\":\"white\",\"linecolor\":\"white\",\"ticks\":\"\"},\"baxis\":{\"gridcolor\":\"white\",\"linecolor\":\"white\",\"ticks\":\"\"},\"caxis\":{\"gridcolor\":\"white\",\"linecolor\":\"white\",\"ticks\":\"\"}},\"coloraxis\":{\"colorbar\":{\"outlinewidth\":0,\"ticks\":\"\"}},\"colorscale\":{\"sequential\":[[0.0,\"#0d0887\"],[0.1111111111111111,\"#46039f\"],[0.2222222222222222,\"#7201a8\"],[0.3333333333333333,\"#9c179e\"],[0.4444444444444444,\"#bd3786\"],[0.5555555555555556,\"#d8576b\"],[0.6666666666666666,\"#ed7953\"],[0.7777777777777778,\"#fb9f3a\"],[0.8888888888888888,\"#fdca26\"],[1.0,\"#f0f921\"]],\"sequentialminus\":[[0.0,\"#0d0887\"],[0.1111111111111111,\"#46039f\"],[0.2222222222222222,\"#7201a8\"],[0.3333333333333333,\"#9c179e\"],[0.4444444444444444,\"#bd3786\"],[0.5555555555555556,\"#d8576b\"],[0.6666666666666666,\"#ed7953\"],[0.7777777777777778,\"#fb9f3a\"],[0.8888888888888888,\"#fdca26\"],[1.0,\"#f0f921\"]],\"diverging\":[[0,\"#8e0152\"],[0.1,\"#c51b7d\"],[0.2,\"#de77ae\"],[0.3,\"#f1b6da\"],[0.4,\"#fde0ef\"],[0.5,\"#f7f7f7\"],[0.6,\"#e6f5d0\"],[0.7,\"#b8e186\"],[0.8,\"#7fbc41\"],[0.9,\"#4d9221\"],[1,\"#276419\"]]},\"xaxis\":{\"gridcolor\":\"white\",\"linecolor\":\"white\",\"ticks\":\"\",\"title\":{\"standoff\":15},\"zerolinecolor\":\"white\",\"automargin\":true,\"zerolinewidth\":2},\"yaxis\":{\"gridcolor\":\"white\",\"linecolor\":\"white\",\"ticks\":\"\",\"title\":{\"standoff\":15},\"zerolinecolor\":\"white\",\"automargin\":true,\"zerolinewidth\":2},\"scene\":{\"xaxis\":{\"backgroundcolor\":\"#E5ECF6\",\"gridcolor\":\"white\",\"linecolor\":\"white\",\"showbackground\":true,\"ticks\":\"\",\"zerolinecolor\":\"white\",\"gridwidth\":2},\"yaxis\":{\"backgroundcolor\":\"#E5ECF6\",\"gridcolor\":\"white\",\"linecolor\":\"white\",\"showbackground\":true,\"ticks\":\"\",\"zerolinecolor\":\"white\",\"gridwidth\":2},\"zaxis\":{\"backgroundcolor\":\"#E5ECF6\",\"gridcolor\":\"white\",\"linecolor\":\"white\",\"showbackground\":true,\"ticks\":\"\",\"zerolinecolor\":\"white\",\"gridwidth\":2}},\"shapedefaults\":{\"line\":{\"color\":\"#2a3f5f\"}},\"annotationdefaults\":{\"arrowcolor\":\"#2a3f5f\",\"arrowhead\":0,\"arrowwidth\":1},\"geo\":{\"bgcolor\":\"white\",\"landcolor\":\"#E5ECF6\",\"subunitcolor\":\"white\",\"showland\":true,\"showlakes\":true,\"lakecolor\":\"white\"},\"title\":{\"x\":0.05},\"mapbox\":{\"style\":\"light\"}}},\"xaxis\":{\"anchor\":\"y\",\"domain\":[0.0,1.0],\"title\":{\"text\":\" dog\"}},\"yaxis\":{\"anchor\":\"x\",\"domain\":[0.0,1.0],\"title\":{\"text\":\" dogs\"}},\"legend\":{\"tracegroupgap\":0},\"margin\":{\"t\":60}},                        {\"responsive\": true}                    ).then(function(){\n",
       "                            \n",
       "var gd = document.getElementById('7b422e25-f641-48f4-b650-7d187a3ab45e');\n",
       "var x = new MutationObserver(function (mutations, observer) {{\n",
       "        var display = window.getComputedStyle(gd).display;\n",
       "        if (!display || display === 'none') {{\n",
       "            console.log([gd, 'removed!']);\n",
       "            Plotly.purge(gd);\n",
       "            observer.disconnect();\n",
       "        }}\n",
       "}});\n",
       "\n",
       "// Listen for the removal of the full notebook cells\n",
       "var notebookContainer = gd.closest('#notebook-container');\n",
       "if (notebookContainer) {{\n",
       "    x.observe(notebookContainer, {childList: true});\n",
       "}}\n",
       "\n",
       "// Listen for the clearing of the current output cell\n",
       "var outputEl = gd.closest('.output');\n",
       "if (outputEl) {{\n",
       "    x.observe(outputEl, {childList: true});\n",
       "}}\n",
       "\n",
       "                        })                };                });            </script>        </div>"
      ]
     },
     "metadata": {},
     "output_type": "display_data"
    }
   ],
   "source": [
    "# fig = px.scatter(wide_df, x=\" cat\", y=\" cats\", hover_name=wide_df.index, text=wide_df.index)\n",
    "# fig.show()\n",
    "\n",
    "# fig = px.scatter(wide_df, x=\" dog\", y=\" dogs\", hover_name=wide_df.index, text=wide_df.index)\n",
    "# fig.show()\n",
    "\n",
    "# fig = px.scatter(wide_df, x=\" cat\", y=\" cats\", hover_name=wide_df.index, text=wide_df.index)\n",
    "# fig.show()\n",
    "\n",
    "# fig = px.scatter(wide_df, x=\" dog\", y=\" dogs\", hover_name=wide_df.index, text=wide_df.index)\n",
    "# fig.show()"
   ]
  },
  {
   "cell_type": "code",
   "execution_count": 234,
   "metadata": {},
   "outputs": [
    {
     "data": {
      "text/html": [
       "<div>\n",
       "<style scoped>\n",
       "    .dataframe tbody tr th:only-of-type {\n",
       "        vertical-align: middle;\n",
       "    }\n",
       "\n",
       "    .dataframe tbody tr th {\n",
       "        vertical-align: top;\n",
       "    }\n",
       "\n",
       "    .dataframe thead th {\n",
       "        text-align: right;\n",
       "    }\n",
       "</style>\n",
       "<table border=\"1\" class=\"dataframe\">\n",
       "  <thead>\n",
       "    <tr style=\"text-align: right;\">\n",
       "      <th>Prompt</th>\n",
       "      <th>Index</th>\n",
       "      <th>apple</th>\n",
       "      <th>baby</th>\n",
       "      <th>ball</th>\n",
       "      <th>bear</th>\n",
       "      <th>boy</th>\n",
       "      <th>car</th>\n",
       "      <th>cat</th>\n",
       "      <th>cats</th>\n",
       "      <th>cub</th>\n",
       "      <th>...</th>\n",
       "      <th>nest</th>\n",
       "      <th>owl</th>\n",
       "      <th>puppy</th>\n",
       "      <th>queen</th>\n",
       "      <th>rabbit</th>\n",
       "      <th>snake</th>\n",
       "      <th>tree</th>\n",
       "      <th>umbrella</th>\n",
       "      <th>violin</th>\n",
       "      <th>whale</th>\n",
       "    </tr>\n",
       "  </thead>\n",
       "  <tbody>\n",
       "    <tr>\n",
       "      <th>0</th>\n",
       "      <td>5</td>\n",
       "      <td>0.0</td>\n",
       "      <td>0.000000</td>\n",
       "      <td>0.000000</td>\n",
       "      <td>0.000000</td>\n",
       "      <td>0.000000</td>\n",
       "      <td>0.0</td>\n",
       "      <td>0.0</td>\n",
       "      <td>0.0</td>\n",
       "      <td>0.000000</td>\n",
       "      <td>...</td>\n",
       "      <td>0.000000</td>\n",
       "      <td>0.0</td>\n",
       "      <td>0.0</td>\n",
       "      <td>0.000000</td>\n",
       "      <td>0.0</td>\n",
       "      <td>0.0</td>\n",
       "      <td>0.000000</td>\n",
       "      <td>0.0</td>\n",
       "      <td>0.0</td>\n",
       "      <td>0.0</td>\n",
       "    </tr>\n",
       "    <tr>\n",
       "      <th>1</th>\n",
       "      <td>26</td>\n",
       "      <td>0.0</td>\n",
       "      <td>0.000000</td>\n",
       "      <td>0.000000</td>\n",
       "      <td>0.000000</td>\n",
       "      <td>0.000000</td>\n",
       "      <td>0.0</td>\n",
       "      <td>0.0</td>\n",
       "      <td>0.0</td>\n",
       "      <td>0.000000</td>\n",
       "      <td>...</td>\n",
       "      <td>0.000000</td>\n",
       "      <td>0.0</td>\n",
       "      <td>0.0</td>\n",
       "      <td>0.000000</td>\n",
       "      <td>0.0</td>\n",
       "      <td>0.0</td>\n",
       "      <td>0.074598</td>\n",
       "      <td>0.0</td>\n",
       "      <td>0.0</td>\n",
       "      <td>0.0</td>\n",
       "    </tr>\n",
       "    <tr>\n",
       "      <th>2</th>\n",
       "      <td>30</td>\n",
       "      <td>0.0</td>\n",
       "      <td>0.000000</td>\n",
       "      <td>0.069887</td>\n",
       "      <td>0.000000</td>\n",
       "      <td>0.000000</td>\n",
       "      <td>0.0</td>\n",
       "      <td>0.0</td>\n",
       "      <td>0.0</td>\n",
       "      <td>0.000000</td>\n",
       "      <td>...</td>\n",
       "      <td>0.000000</td>\n",
       "      <td>0.0</td>\n",
       "      <td>0.0</td>\n",
       "      <td>0.000000</td>\n",
       "      <td>0.0</td>\n",
       "      <td>0.0</td>\n",
       "      <td>0.000000</td>\n",
       "      <td>0.0</td>\n",
       "      <td>0.0</td>\n",
       "      <td>0.0</td>\n",
       "    </tr>\n",
       "    <tr>\n",
       "      <th>3</th>\n",
       "      <td>36</td>\n",
       "      <td>0.0</td>\n",
       "      <td>0.097327</td>\n",
       "      <td>0.000000</td>\n",
       "      <td>0.066217</td>\n",
       "      <td>0.000000</td>\n",
       "      <td>0.0</td>\n",
       "      <td>0.0</td>\n",
       "      <td>0.0</td>\n",
       "      <td>0.126138</td>\n",
       "      <td>...</td>\n",
       "      <td>0.097607</td>\n",
       "      <td>0.0</td>\n",
       "      <td>0.0</td>\n",
       "      <td>0.202236</td>\n",
       "      <td>0.0</td>\n",
       "      <td>0.0</td>\n",
       "      <td>0.000000</td>\n",
       "      <td>0.0</td>\n",
       "      <td>0.0</td>\n",
       "      <td>0.0</td>\n",
       "    </tr>\n",
       "    <tr>\n",
       "      <th>4</th>\n",
       "      <td>39</td>\n",
       "      <td>0.0</td>\n",
       "      <td>0.054950</td>\n",
       "      <td>0.000000</td>\n",
       "      <td>0.000000</td>\n",
       "      <td>0.092238</td>\n",
       "      <td>0.0</td>\n",
       "      <td>0.0</td>\n",
       "      <td>0.0</td>\n",
       "      <td>0.000000</td>\n",
       "      <td>...</td>\n",
       "      <td>0.000000</td>\n",
       "      <td>0.0</td>\n",
       "      <td>0.0</td>\n",
       "      <td>0.000000</td>\n",
       "      <td>0.0</td>\n",
       "      <td>0.0</td>\n",
       "      <td>0.000000</td>\n",
       "      <td>0.0</td>\n",
       "      <td>0.0</td>\n",
       "      <td>0.0</td>\n",
       "    </tr>\n",
       "  </tbody>\n",
       "</table>\n",
       "<p>5 rows × 34 columns</p>\n",
       "</div>"
      ],
      "text/plain": [
       "Prompt  Index   apple      baby      ball      bear       boy   car   cat  \\\n",
       "0           5     0.0  0.000000  0.000000  0.000000  0.000000   0.0   0.0   \n",
       "1          26     0.0  0.000000  0.000000  0.000000  0.000000   0.0   0.0   \n",
       "2          30     0.0  0.000000  0.069887  0.000000  0.000000   0.0   0.0   \n",
       "3          36     0.0  0.097327  0.000000  0.066217  0.000000   0.0   0.0   \n",
       "4          39     0.0  0.054950  0.000000  0.000000  0.092238   0.0   0.0   \n",
       "\n",
       "Prompt   cats       cub  ...      nest   owl   puppy     queen   rabbit  \\\n",
       "0         0.0  0.000000  ...  0.000000   0.0     0.0  0.000000      0.0   \n",
       "1         0.0  0.000000  ...  0.000000   0.0     0.0  0.000000      0.0   \n",
       "2         0.0  0.000000  ...  0.000000   0.0     0.0  0.000000      0.0   \n",
       "3         0.0  0.126138  ...  0.097607   0.0     0.0  0.202236      0.0   \n",
       "4         0.0  0.000000  ...  0.000000   0.0     0.0  0.000000      0.0   \n",
       "\n",
       "Prompt   snake      tree   umbrella   violin   whale  \n",
       "0          0.0  0.000000        0.0      0.0     0.0  \n",
       "1          0.0  0.074598        0.0      0.0     0.0  \n",
       "2          0.0  0.000000        0.0      0.0     0.0  \n",
       "3          0.0  0.000000        0.0      0.0     0.0  \n",
       "4          0.0  0.000000        0.0      0.0     0.0  \n",
       "\n",
       "[5 rows x 34 columns]"
      ]
     },
     "execution_count": 234,
     "metadata": {},
     "output_type": "execute_result"
    }
   ],
   "source": [
    "reference_column = \" cat\"\n",
    "df = wide_df\n",
    "# Calculate the difference\n",
    "diff_df = df.sub(df[reference_column], axis=0).reset_index()\n",
    "diff_df.head()"
   ]
  },
  {
   "cell_type": "code",
   "execution_count": 235,
   "metadata": {},
   "outputs": [
    {
     "data": {
      "text/html": [
       "<div>\n",
       "<style scoped>\n",
       "    .dataframe tbody tr th:only-of-type {\n",
       "        vertical-align: middle;\n",
       "    }\n",
       "\n",
       "    .dataframe tbody tr th {\n",
       "        vertical-align: top;\n",
       "    }\n",
       "\n",
       "    .dataframe thead th {\n",
       "        text-align: right;\n",
       "    }\n",
       "</style>\n",
       "<table border=\"1\" class=\"dataframe\">\n",
       "  <thead>\n",
       "    <tr style=\"text-align: right;\">\n",
       "      <th></th>\n",
       "      <th>Index</th>\n",
       "      <th>Prompt</th>\n",
       "      <th>value</th>\n",
       "    </tr>\n",
       "  </thead>\n",
       "  <tbody>\n",
       "    <tr>\n",
       "      <th>70</th>\n",
       "      <td>53</td>\n",
       "      <td>kitten</td>\n",
       "      <td>0.052384</td>\n",
       "    </tr>\n",
       "    <tr>\n",
       "      <th>78</th>\n",
       "      <td>153</td>\n",
       "      <td>kitten</td>\n",
       "      <td>0.154617</td>\n",
       "    </tr>\n",
       "    <tr>\n",
       "      <th>84</th>\n",
       "      <td>185</td>\n",
       "      <td>kitten</td>\n",
       "      <td>0.128653</td>\n",
       "    </tr>\n",
       "    <tr>\n",
       "      <th>102</th>\n",
       "      <td>306</td>\n",
       "      <td>kitten</td>\n",
       "      <td>0.022608</td>\n",
       "    </tr>\n",
       "    <tr>\n",
       "      <th>115</th>\n",
       "      <td>415</td>\n",
       "      <td>kitten</td>\n",
       "      <td>0.067556</td>\n",
       "    </tr>\n",
       "  </tbody>\n",
       "</table>\n",
       "</div>"
      ],
      "text/plain": [
       "     Index   Prompt     value\n",
       "70      53   kitten  0.052384\n",
       "78     153   kitten  0.154617\n",
       "84     185   kitten  0.128653\n",
       "102    306   kitten  0.022608\n",
       "115    415   kitten  0.067556"
      ]
     },
     "execution_count": 235,
     "metadata": {},
     "output_type": "execute_result"
    }
   ],
   "source": [
    "long_diff_df = diff_df.melt(id_vars = \"Index\", value_vars = example_prompts)\n",
    "long_diff_df[\"value\"] = long_diff_df[\"value\"]*-1\n",
    "long_diff_df = long_diff_df[long_diff_df.value > 0 ]\n",
    "long_diff_df.head()\n",
    "#"
   ]
  },
  {
   "cell_type": "code",
   "execution_count": 218,
   "metadata": {},
   "outputs": [
    {
     "data": {
      "application/vnd.plotly.v1+json": {
       "config": {
        "plotlyServerURL": "https://plot.ly"
       },
       "data": [
        {
         "alignmentgroup": "True",
         "boxpoints": "all",
         "fillcolor": "rgba(255,255,255,0)",
         "hoveron": "points",
         "hovertemplate": "Index=53<br>Prompt=%{x}<br>value=%{y}<extra></extra>",
         "legendgroup": "53",
         "line": {
          "color": "rgba(255,255,255,0)"
         },
         "marker": {
          "color": "#636efa"
         },
         "name": "53",
         "offsetgroup": "53",
         "orientation": "v",
         "pointpos": 0,
         "showlegend": true,
         "type": "box",
         "x": [
          " puppy",
          " man",
          " moon",
          " whale",
          " nest",
          " queen",
          " lion",
          " hat",
          " jelly",
          " apple",
          " ice cream",
          " ball",
          " kite",
          " snake",
          " rabbit",
          " tree",
          " umbrella",
          " duck",
          " elephant",
          " flower",
          " dog",
          " bear",
          " cub",
          " kitten",
          " violin",
          " giraffe",
          " car"
         ],
         "x0": " ",
         "xaxis": "x",
         "y": [
          0.05238431692123413,
          0.05238431692123413,
          0.05238431692123413,
          0.05238431692123413,
          0.05238431692123413,
          0.05238431692123413,
          0.05238431692123413,
          0.05238431692123413,
          0.05238431692123413,
          0.05238431692123413,
          0.05238431692123413,
          0.05238431692123413,
          0.05238431692123413,
          0.004558578133583069,
          0.05238431692123413,
          0.05238431692123413,
          0.05238431692123413,
          0.05238431692123413,
          0.05238431692123413,
          0.05238431692123413,
          0.017833948135375977,
          0.05238431692123413,
          0.05238431692123413,
          0.05238431692123413,
          0.05238431692123413,
          0.05238431692123413,
          0.05238431692123413
         ],
         "y0": " ",
         "yaxis": "y"
        },
        {
         "alignmentgroup": "True",
         "boxpoints": "all",
         "fillcolor": "rgba(255,255,255,0)",
         "hoveron": "points",
         "hovertemplate": "Index=153<br>Prompt=%{x}<br>value=%{y}<extra></extra>",
         "legendgroup": "153",
         "line": {
          "color": "rgba(255,255,255,0)"
         },
         "marker": {
          "color": "#EF553B"
         },
         "name": "153",
         "offsetgroup": "153",
         "orientation": "v",
         "pointpos": 0,
         "showlegend": true,
         "type": "box",
         "x": [
          " whale",
          " moon",
          " nest",
          " boy",
          " cub",
          " hat",
          " apple",
          " jelly",
          " ice cream",
          " lion",
          " rabbit",
          " kite",
          " puppy",
          " queen",
          " baby",
          " owl",
          " man",
          " giraffe",
          " ball",
          " tree",
          " flower",
          " duck",
          " car",
          " umbrella",
          " violin",
          " bear",
          " elephant",
          " kitten"
         ],
         "x0": " ",
         "xaxis": "x",
         "y": [
          0.21236854791641235,
          0.21236854791641235,
          0.21236854791641235,
          0.1525881290435791,
          0.21236854791641235,
          0.21236854791641235,
          0.12509766221046448,
          0.21236854791641235,
          0.21236854791641235,
          0.11445876955986023,
          0.21236854791641235,
          0.21236854791641235,
          0.21236854791641235,
          0.21236854791641235,
          0.21236854791641235,
          0.21236854791641235,
          0.21236854791641235,
          0.21236854791641235,
          0.1700497269630432,
          0.21236854791641235,
          0.21236854791641235,
          0.13758644461631775,
          0.21236854791641235,
          0.0015944242477416992,
          0.08766123652458191,
          0.21236854791641235,
          0.21236854791641235,
          0.15461716055870056
         ],
         "y0": " ",
         "yaxis": "y"
        },
        {
         "alignmentgroup": "True",
         "boxpoints": "all",
         "fillcolor": "rgba(255,255,255,0)",
         "hoveron": "points",
         "hovertemplate": "Index=185<br>Prompt=%{x}<br>value=%{y}<extra></extra>",
         "legendgroup": "185",
         "line": {
          "color": "rgba(255,255,255,0)"
         },
         "marker": {
          "color": "#00cc96"
         },
         "name": "185",
         "offsetgroup": "185",
         "orientation": "v",
         "pointpos": 0,
         "showlegend": true,
         "type": "box",
         "x": [
          " kitten",
          " duck",
          " nest",
          " car",
          " umbrella",
          " rabbit",
          " boy",
          " whale",
          " ice cream",
          " jelly",
          " tree",
          " hat",
          " kite",
          " snake",
          " ball",
          " apple",
          " dog",
          " man",
          " puppy",
          " baby",
          " cats",
          " bear"
         ],
         "x0": " ",
         "xaxis": "x",
         "y": [
          0.12865331768989563,
          0.12865331768989563,
          0.03222225606441498,
          0.12865331768989563,
          0.12865331768989563,
          0.12865331768989563,
          0.12865331768989563,
          0.12865331768989563,
          0.12865331768989563,
          0.12865331768989563,
          0.05124014616012573,
          0.12865331768989563,
          0.12865331768989563,
          0.12865331768989563,
          0.12865331768989563,
          0.12865331768989563,
          0.12865331768989563,
          0.060688987374305725,
          0.12865331768989563,
          0.12865331768989563,
          0.010888159275054932,
          0.12865331768989563
         ],
         "y0": " ",
         "yaxis": "y"
        },
        {
         "alignmentgroup": "True",
         "boxpoints": "all",
         "fillcolor": "rgba(255,255,255,0)",
         "hoveron": "points",
         "hovertemplate": "Index=212<br>Prompt=%{x}<br>value=%{y}<extra></extra>",
         "legendgroup": "212",
         "line": {
          "color": "rgba(255,255,255,0)"
         },
         "marker": {
          "color": "#ab63fa"
         },
         "name": "212",
         "offsetgroup": "212",
         "orientation": "v",
         "pointpos": 0,
         "showlegend": true,
         "type": "box",
         "x": [
          " lion",
          " owl",
          " whale",
          " umbrella",
          " elephant",
          " flower",
          " man",
          " cub",
          " queen",
          " duck",
          " tree",
          " giraffe",
          " kite",
          " jelly",
          " rabbit",
          " moon",
          " boy",
          " apple",
          " baby",
          " cats"
         ],
         "x0": " ",
         "xaxis": "x",
         "y": [
          0.12798480689525604,
          0.12798480689525604,
          0.12798480689525604,
          0.010301828384399414,
          0.12798480689525604,
          0.03830237686634064,
          0.12798480689525604,
          0.12798480689525604,
          0.12798480689525604,
          0.07310738041996956,
          0.12798480689525604,
          0.12798480689525604,
          0.12798480689525604,
          0.049208492040634155,
          0.09452258422970772,
          0.12798480689525604,
          0.05451861023902893,
          0.03475414216518402,
          0.03705991804599762,
          0.12798480689525604
         ],
         "y0": " ",
         "yaxis": "y"
        },
        {
         "alignmentgroup": "True",
         "boxpoints": "all",
         "fillcolor": "rgba(255,255,255,0)",
         "hoveron": "points",
         "hovertemplate": "Index=306<br>Prompt=%{x}<br>value=%{y}<extra></extra>",
         "legendgroup": "306",
         "line": {
          "color": "rgba(255,255,255,0)"
         },
         "marker": {
          "color": "#FFA15A"
         },
         "name": "306",
         "offsetgroup": "306",
         "orientation": "v",
         "pointpos": 0,
         "showlegend": true,
         "type": "box",
         "x": [
          " owl",
          " baby",
          " apple",
          " tree",
          " man",
          " queen",
          " nest",
          " rabbit",
          " car",
          " elephant",
          " moon",
          " ice cream",
          " jelly",
          " snake",
          " flower",
          " ball",
          " lion",
          " whale",
          " boy",
          " umbrella",
          " cats",
          " puppy",
          " kitten",
          " dog",
          " bear",
          " hat",
          " duck",
          " violin",
          " cub"
         ],
         "x0": " ",
         "xaxis": "x",
         "y": [
          0.022607728838920593,
          0.022607728838920593,
          0.022607728838920593,
          0.022607728838920593,
          0.022607728838920593,
          0.022607728838920593,
          0.022607728838920593,
          0.022607728838920593,
          0.022607728838920593,
          0.022607728838920593,
          0.022607728838920593,
          0.022607728838920593,
          0.022607728838920593,
          0.022607728838920593,
          0.022607728838920593,
          0.022607728838920593,
          0.022607728838920593,
          0.022607728838920593,
          0.022607728838920593,
          0.022607728838920593,
          0.022607728838920593,
          0.022607728838920593,
          0.022607728838920593,
          0.022607728838920593,
          0.022607728838920593,
          0.022607728838920593,
          0.022607728838920593,
          0.022607728838920593,
          0.022607728838920593
         ],
         "y0": " ",
         "yaxis": "y"
        },
        {
         "alignmentgroup": "True",
         "boxpoints": "all",
         "fillcolor": "rgba(255,255,255,0)",
         "hoveron": "points",
         "hovertemplate": "Index=335<br>Prompt=%{x}<br>value=%{y}<extra></extra>",
         "legendgroup": "335",
         "line": {
          "color": "rgba(255,255,255,0)"
         },
         "marker": {
          "color": "#19d3f3"
         },
         "name": "335",
         "offsetgroup": "335",
         "orientation": "v",
         "pointpos": 0,
         "showlegend": true,
         "type": "box",
         "x": [
          " nest",
          " violin",
          " dog",
          " cub",
          " snake",
          " ball",
          " whale",
          " kite",
          " flower",
          " moon",
          " lion",
          " car",
          " rabbit",
          " ice cream",
          " apple",
          " boy",
          " queen",
          " hat",
          " baby",
          " man",
          " elephant",
          " bear",
          " owl",
          " giraffe",
          " tree"
         ],
         "x0": " ",
         "xaxis": "x",
         "y": [
          0.10174765437841415,
          0.10174765437841415,
          0.054285988211631775,
          0.10174765437841415,
          0.10174765437841415,
          0.10174765437841415,
          0.10174765437841415,
          0.10174765437841415,
          0.10174765437841415,
          0.10174765437841415,
          0.10174765437841415,
          0.08571687340736389,
          0.10174765437841415,
          0.10174765437841415,
          0.10174765437841415,
          0.10174765437841415,
          0.10174765437841415,
          0.10174765437841415,
          0.10174765437841415,
          0.10174765437841415,
          0.10174765437841415,
          0.10174765437841415,
          0.10174765437841415,
          0.10174765437841415,
          0.10174765437841415
         ],
         "y0": " ",
         "yaxis": "y"
        },
        {
         "alignmentgroup": "True",
         "boxpoints": "all",
         "fillcolor": "rgba(255,255,255,0)",
         "hoveron": "points",
         "hovertemplate": "Index=381<br>Prompt=%{x}<br>value=%{y}<extra></extra>",
         "legendgroup": "381",
         "line": {
          "color": "rgba(255,255,255,0)"
         },
         "marker": {
          "color": "#FF6692"
         },
         "name": "381",
         "offsetgroup": "381",
         "orientation": "v",
         "pointpos": 0,
         "showlegend": true,
         "type": "box",
         "x": [
          " flower",
          " kite",
          " whale",
          " ball",
          " violin",
          " tree",
          " car",
          " queen",
          " man",
          " ice cream",
          " jelly",
          " umbrella",
          " boy",
          " hat"
         ],
         "x0": " ",
         "xaxis": "x",
         "y": [
          0.032996416091918945,
          0.09309341758489609,
          0.007982760667800903,
          0.09309341758489609,
          0.09309341758489609,
          0.027643397450447083,
          0.09309341758489609,
          0.09309341758489609,
          0.09309341758489609,
          0.09309341758489609,
          0.04434291273355484,
          0.09309341758489609,
          0.09309341758489609,
          0.09309341758489609
         ],
         "y0": " ",
         "yaxis": "y"
        },
        {
         "alignmentgroup": "True",
         "boxpoints": "all",
         "fillcolor": "rgba(255,255,255,0)",
         "hoveron": "points",
         "hovertemplate": "Index=415<br>Prompt=%{x}<br>value=%{y}<extra></extra>",
         "legendgroup": "415",
         "line": {
          "color": "rgba(255,255,255,0)"
         },
         "marker": {
          "color": "#B6E880"
         },
         "name": "415",
         "offsetgroup": "415",
         "orientation": "v",
         "pointpos": 0,
         "showlegend": true,
         "type": "box",
         "x": [
          " moon",
          " queen",
          " violin",
          " ball",
          " apple",
          " elephant",
          " duck",
          " car",
          " lion",
          " kite",
          " rabbit",
          " snake",
          " giraffe",
          " flower",
          " tree",
          " jelly",
          " ice cream",
          " hat",
          " cats",
          " cub",
          " kitten",
          " owl",
          " nest",
          " boy",
          " man",
          " dog",
          " puppy",
          " whale",
          " bear"
         ],
         "x0": " ",
         "xaxis": "x",
         "y": [
          0.06755627691745758,
          0.06755627691745758,
          0.06755627691745758,
          0.06755627691745758,
          0.06755627691745758,
          0.06755627691745758,
          0.06755627691745758,
          0.06363999098539352,
          0.06755627691745758,
          0.06755627691745758,
          0.06755627691745758,
          0.06755627691745758,
          0.06755627691745758,
          0.06755627691745758,
          0.06755627691745758,
          0.06755627691745758,
          0.06755627691745758,
          0.06755627691745758,
          0.06755627691745758,
          0.06755627691745758,
          0.06755627691745758,
          0.06755627691745758,
          0.06755627691745758,
          0.06755627691745758,
          0.06755627691745758,
          0.003891170024871826,
          0.06755627691745758,
          0.06755627691745758,
          0.06755627691745758
         ],
         "y0": " ",
         "yaxis": "y"
        },
        {
         "alignmentgroup": "True",
         "boxpoints": "all",
         "fillcolor": "rgba(255,255,255,0)",
         "hoveron": "points",
         "hovertemplate": "Index=464<br>Prompt=%{x}<br>value=%{y}<extra></extra>",
         "legendgroup": "464",
         "line": {
          "color": "rgba(255,255,255,0)"
         },
         "marker": {
          "color": "#FF97FF"
         },
         "name": "464",
         "offsetgroup": "464",
         "orientation": "v",
         "pointpos": 0,
         "showlegend": true,
         "type": "box",
         "x": [
          " snake",
          " ice cream",
          " nest",
          " giraffe",
          " flower",
          " lion",
          " tree",
          " kite",
          " ball",
          " apple",
          " moon",
          " queen",
          " cats"
         ],
         "x0": " ",
         "xaxis": "x",
         "y": [
          0.019424647092819214,
          0.027315855026245117,
          0.002239912748336792,
          0.0264359712600708,
          0.059931665658950806,
          0.007779479026794434,
          0.034184977412223816,
          0.0006662607192993164,
          0.010432153940200806,
          0.06293605268001556,
          0.02104237675666809,
          0.02016007900238037,
          0.009234964847564697
         ],
         "y0": " ",
         "yaxis": "y"
        },
        {
         "alignmentgroup": "True",
         "boxpoints": "all",
         "fillcolor": "rgba(255,255,255,0)",
         "hoveron": "points",
         "hovertemplate": "Index=499<br>Prompt=%{x}<br>value=%{y}<extra></extra>",
         "legendgroup": "499",
         "line": {
          "color": "rgba(255,255,255,0)"
         },
         "marker": {
          "color": "#FECB52"
         },
         "name": "499",
         "offsetgroup": "499",
         "orientation": "v",
         "pointpos": 0,
         "showlegend": true,
         "type": "box",
         "x": [
          " whale",
          " jelly",
          " cub",
          " flower",
          " giraffe",
          " hat",
          " snake",
          " ice cream",
          " tree",
          " lion",
          " kite",
          " car",
          " duck",
          " elephant",
          " umbrella",
          " ball",
          " apple",
          " kitten",
          " violin",
          " baby",
          " nest",
          " moon",
          " queen",
          " cats",
          " bear"
         ],
         "x0": " ",
         "xaxis": "x",
         "y": [
          0.16449226438999176,
          0.2751140221953392,
          0.27534444630146027,
          0.07254695892333984,
          0.0744439959526062,
          0.3504217267036438,
          0.0986396074295044,
          0.3504217267036438,
          0.0878039002418518,
          0.035784244537353516,
          0.18583720922470093,
          0.1834169179201126,
          0.048959970474243164,
          0.07029980421066284,
          0.3504217267036438,
          0.13435716927051544,
          0.18359360098838806,
          0.028792977333068848,
          0.3504217267036438,
          0.1434321254491806,
          0.3504217267036438,
          0.2155579775571823,
          0.12154211103916168,
          0.1357169896364212,
          0.0926898717880249
         ],
         "y0": " ",
         "yaxis": "y"
        }
       ],
       "layout": {
        "boxmode": "group",
        "legend": {
         "title": {
          "text": "Index"
         },
         "tracegroupgap": 0
        },
        "margin": {
         "t": 60
        },
        "template": {
         "data": {
          "bar": [
           {
            "error_x": {
             "color": "#2a3f5f"
            },
            "error_y": {
             "color": "#2a3f5f"
            },
            "marker": {
             "line": {
              "color": "#E5ECF6",
              "width": 0.5
             },
             "pattern": {
              "fillmode": "overlay",
              "size": 10,
              "solidity": 0.2
             }
            },
            "type": "bar"
           }
          ],
          "barpolar": [
           {
            "marker": {
             "line": {
              "color": "#E5ECF6",
              "width": 0.5
             },
             "pattern": {
              "fillmode": "overlay",
              "size": 10,
              "solidity": 0.2
             }
            },
            "type": "barpolar"
           }
          ],
          "carpet": [
           {
            "aaxis": {
             "endlinecolor": "#2a3f5f",
             "gridcolor": "white",
             "linecolor": "white",
             "minorgridcolor": "white",
             "startlinecolor": "#2a3f5f"
            },
            "baxis": {
             "endlinecolor": "#2a3f5f",
             "gridcolor": "white",
             "linecolor": "white",
             "minorgridcolor": "white",
             "startlinecolor": "#2a3f5f"
            },
            "type": "carpet"
           }
          ],
          "choropleth": [
           {
            "colorbar": {
             "outlinewidth": 0,
             "ticks": ""
            },
            "type": "choropleth"
           }
          ],
          "contour": [
           {
            "colorbar": {
             "outlinewidth": 0,
             "ticks": ""
            },
            "colorscale": [
             [
              0,
              "#0d0887"
             ],
             [
              0.1111111111111111,
              "#46039f"
             ],
             [
              0.2222222222222222,
              "#7201a8"
             ],
             [
              0.3333333333333333,
              "#9c179e"
             ],
             [
              0.4444444444444444,
              "#bd3786"
             ],
             [
              0.5555555555555556,
              "#d8576b"
             ],
             [
              0.6666666666666666,
              "#ed7953"
             ],
             [
              0.7777777777777778,
              "#fb9f3a"
             ],
             [
              0.8888888888888888,
              "#fdca26"
             ],
             [
              1,
              "#f0f921"
             ]
            ],
            "type": "contour"
           }
          ],
          "contourcarpet": [
           {
            "colorbar": {
             "outlinewidth": 0,
             "ticks": ""
            },
            "type": "contourcarpet"
           }
          ],
          "heatmap": [
           {
            "colorbar": {
             "outlinewidth": 0,
             "ticks": ""
            },
            "colorscale": [
             [
              0,
              "#0d0887"
             ],
             [
              0.1111111111111111,
              "#46039f"
             ],
             [
              0.2222222222222222,
              "#7201a8"
             ],
             [
              0.3333333333333333,
              "#9c179e"
             ],
             [
              0.4444444444444444,
              "#bd3786"
             ],
             [
              0.5555555555555556,
              "#d8576b"
             ],
             [
              0.6666666666666666,
              "#ed7953"
             ],
             [
              0.7777777777777778,
              "#fb9f3a"
             ],
             [
              0.8888888888888888,
              "#fdca26"
             ],
             [
              1,
              "#f0f921"
             ]
            ],
            "type": "heatmap"
           }
          ],
          "heatmapgl": [
           {
            "colorbar": {
             "outlinewidth": 0,
             "ticks": ""
            },
            "colorscale": [
             [
              0,
              "#0d0887"
             ],
             [
              0.1111111111111111,
              "#46039f"
             ],
             [
              0.2222222222222222,
              "#7201a8"
             ],
             [
              0.3333333333333333,
              "#9c179e"
             ],
             [
              0.4444444444444444,
              "#bd3786"
             ],
             [
              0.5555555555555556,
              "#d8576b"
             ],
             [
              0.6666666666666666,
              "#ed7953"
             ],
             [
              0.7777777777777778,
              "#fb9f3a"
             ],
             [
              0.8888888888888888,
              "#fdca26"
             ],
             [
              1,
              "#f0f921"
             ]
            ],
            "type": "heatmapgl"
           }
          ],
          "histogram": [
           {
            "marker": {
             "pattern": {
              "fillmode": "overlay",
              "size": 10,
              "solidity": 0.2
             }
            },
            "type": "histogram"
           }
          ],
          "histogram2d": [
           {
            "colorbar": {
             "outlinewidth": 0,
             "ticks": ""
            },
            "colorscale": [
             [
              0,
              "#0d0887"
             ],
             [
              0.1111111111111111,
              "#46039f"
             ],
             [
              0.2222222222222222,
              "#7201a8"
             ],
             [
              0.3333333333333333,
              "#9c179e"
             ],
             [
              0.4444444444444444,
              "#bd3786"
             ],
             [
              0.5555555555555556,
              "#d8576b"
             ],
             [
              0.6666666666666666,
              "#ed7953"
             ],
             [
              0.7777777777777778,
              "#fb9f3a"
             ],
             [
              0.8888888888888888,
              "#fdca26"
             ],
             [
              1,
              "#f0f921"
             ]
            ],
            "type": "histogram2d"
           }
          ],
          "histogram2dcontour": [
           {
            "colorbar": {
             "outlinewidth": 0,
             "ticks": ""
            },
            "colorscale": [
             [
              0,
              "#0d0887"
             ],
             [
              0.1111111111111111,
              "#46039f"
             ],
             [
              0.2222222222222222,
              "#7201a8"
             ],
             [
              0.3333333333333333,
              "#9c179e"
             ],
             [
              0.4444444444444444,
              "#bd3786"
             ],
             [
              0.5555555555555556,
              "#d8576b"
             ],
             [
              0.6666666666666666,
              "#ed7953"
             ],
             [
              0.7777777777777778,
              "#fb9f3a"
             ],
             [
              0.8888888888888888,
              "#fdca26"
             ],
             [
              1,
              "#f0f921"
             ]
            ],
            "type": "histogram2dcontour"
           }
          ],
          "mesh3d": [
           {
            "colorbar": {
             "outlinewidth": 0,
             "ticks": ""
            },
            "type": "mesh3d"
           }
          ],
          "parcoords": [
           {
            "line": {
             "colorbar": {
              "outlinewidth": 0,
              "ticks": ""
             }
            },
            "type": "parcoords"
           }
          ],
          "pie": [
           {
            "automargin": true,
            "type": "pie"
           }
          ],
          "scatter": [
           {
            "fillpattern": {
             "fillmode": "overlay",
             "size": 10,
             "solidity": 0.2
            },
            "type": "scatter"
           }
          ],
          "scatter3d": [
           {
            "line": {
             "colorbar": {
              "outlinewidth": 0,
              "ticks": ""
             }
            },
            "marker": {
             "colorbar": {
              "outlinewidth": 0,
              "ticks": ""
             }
            },
            "type": "scatter3d"
           }
          ],
          "scattercarpet": [
           {
            "marker": {
             "colorbar": {
              "outlinewidth": 0,
              "ticks": ""
             }
            },
            "type": "scattercarpet"
           }
          ],
          "scattergeo": [
           {
            "marker": {
             "colorbar": {
              "outlinewidth": 0,
              "ticks": ""
             }
            },
            "type": "scattergeo"
           }
          ],
          "scattergl": [
           {
            "marker": {
             "colorbar": {
              "outlinewidth": 0,
              "ticks": ""
             }
            },
            "type": "scattergl"
           }
          ],
          "scattermapbox": [
           {
            "marker": {
             "colorbar": {
              "outlinewidth": 0,
              "ticks": ""
             }
            },
            "type": "scattermapbox"
           }
          ],
          "scatterpolar": [
           {
            "marker": {
             "colorbar": {
              "outlinewidth": 0,
              "ticks": ""
             }
            },
            "type": "scatterpolar"
           }
          ],
          "scatterpolargl": [
           {
            "marker": {
             "colorbar": {
              "outlinewidth": 0,
              "ticks": ""
             }
            },
            "type": "scatterpolargl"
           }
          ],
          "scatterternary": [
           {
            "marker": {
             "colorbar": {
              "outlinewidth": 0,
              "ticks": ""
             }
            },
            "type": "scatterternary"
           }
          ],
          "surface": [
           {
            "colorbar": {
             "outlinewidth": 0,
             "ticks": ""
            },
            "colorscale": [
             [
              0,
              "#0d0887"
             ],
             [
              0.1111111111111111,
              "#46039f"
             ],
             [
              0.2222222222222222,
              "#7201a8"
             ],
             [
              0.3333333333333333,
              "#9c179e"
             ],
             [
              0.4444444444444444,
              "#bd3786"
             ],
             [
              0.5555555555555556,
              "#d8576b"
             ],
             [
              0.6666666666666666,
              "#ed7953"
             ],
             [
              0.7777777777777778,
              "#fb9f3a"
             ],
             [
              0.8888888888888888,
              "#fdca26"
             ],
             [
              1,
              "#f0f921"
             ]
            ],
            "type": "surface"
           }
          ],
          "table": [
           {
            "cells": {
             "fill": {
              "color": "#EBF0F8"
             },
             "line": {
              "color": "white"
             }
            },
            "header": {
             "fill": {
              "color": "#C8D4E3"
             },
             "line": {
              "color": "white"
             }
            },
            "type": "table"
           }
          ]
         },
         "layout": {
          "annotationdefaults": {
           "arrowcolor": "#2a3f5f",
           "arrowhead": 0,
           "arrowwidth": 1
          },
          "autotypenumbers": "strict",
          "coloraxis": {
           "colorbar": {
            "outlinewidth": 0,
            "ticks": ""
           }
          },
          "colorscale": {
           "diverging": [
            [
             0,
             "#8e0152"
            ],
            [
             0.1,
             "#c51b7d"
            ],
            [
             0.2,
             "#de77ae"
            ],
            [
             0.3,
             "#f1b6da"
            ],
            [
             0.4,
             "#fde0ef"
            ],
            [
             0.5,
             "#f7f7f7"
            ],
            [
             0.6,
             "#e6f5d0"
            ],
            [
             0.7,
             "#b8e186"
            ],
            [
             0.8,
             "#7fbc41"
            ],
            [
             0.9,
             "#4d9221"
            ],
            [
             1,
             "#276419"
            ]
           ],
           "sequential": [
            [
             0,
             "#0d0887"
            ],
            [
             0.1111111111111111,
             "#46039f"
            ],
            [
             0.2222222222222222,
             "#7201a8"
            ],
            [
             0.3333333333333333,
             "#9c179e"
            ],
            [
             0.4444444444444444,
             "#bd3786"
            ],
            [
             0.5555555555555556,
             "#d8576b"
            ],
            [
             0.6666666666666666,
             "#ed7953"
            ],
            [
             0.7777777777777778,
             "#fb9f3a"
            ],
            [
             0.8888888888888888,
             "#fdca26"
            ],
            [
             1,
             "#f0f921"
            ]
           ],
           "sequentialminus": [
            [
             0,
             "#0d0887"
            ],
            [
             0.1111111111111111,
             "#46039f"
            ],
            [
             0.2222222222222222,
             "#7201a8"
            ],
            [
             0.3333333333333333,
             "#9c179e"
            ],
            [
             0.4444444444444444,
             "#bd3786"
            ],
            [
             0.5555555555555556,
             "#d8576b"
            ],
            [
             0.6666666666666666,
             "#ed7953"
            ],
            [
             0.7777777777777778,
             "#fb9f3a"
            ],
            [
             0.8888888888888888,
             "#fdca26"
            ],
            [
             1,
             "#f0f921"
            ]
           ]
          },
          "colorway": [
           "#636efa",
           "#EF553B",
           "#00cc96",
           "#ab63fa",
           "#FFA15A",
           "#19d3f3",
           "#FF6692",
           "#B6E880",
           "#FF97FF",
           "#FECB52"
          ],
          "font": {
           "color": "#2a3f5f"
          },
          "geo": {
           "bgcolor": "white",
           "lakecolor": "white",
           "landcolor": "#E5ECF6",
           "showlakes": true,
           "showland": true,
           "subunitcolor": "white"
          },
          "hoverlabel": {
           "align": "left"
          },
          "hovermode": "closest",
          "mapbox": {
           "style": "light"
          },
          "paper_bgcolor": "white",
          "plot_bgcolor": "#E5ECF6",
          "polar": {
           "angularaxis": {
            "gridcolor": "white",
            "linecolor": "white",
            "ticks": ""
           },
           "bgcolor": "#E5ECF6",
           "radialaxis": {
            "gridcolor": "white",
            "linecolor": "white",
            "ticks": ""
           }
          },
          "scene": {
           "xaxis": {
            "backgroundcolor": "#E5ECF6",
            "gridcolor": "white",
            "gridwidth": 2,
            "linecolor": "white",
            "showbackground": true,
            "ticks": "",
            "zerolinecolor": "white"
           },
           "yaxis": {
            "backgroundcolor": "#E5ECF6",
            "gridcolor": "white",
            "gridwidth": 2,
            "linecolor": "white",
            "showbackground": true,
            "ticks": "",
            "zerolinecolor": "white"
           },
           "zaxis": {
            "backgroundcolor": "#E5ECF6",
            "gridcolor": "white",
            "gridwidth": 2,
            "linecolor": "white",
            "showbackground": true,
            "ticks": "",
            "zerolinecolor": "white"
           }
          },
          "shapedefaults": {
           "line": {
            "color": "#2a3f5f"
           }
          },
          "ternary": {
           "aaxis": {
            "gridcolor": "white",
            "linecolor": "white",
            "ticks": ""
           },
           "baxis": {
            "gridcolor": "white",
            "linecolor": "white",
            "ticks": ""
           },
           "bgcolor": "#E5ECF6",
           "caxis": {
            "gridcolor": "white",
            "linecolor": "white",
            "ticks": ""
           }
          },
          "title": {
           "x": 0.05
          },
          "xaxis": {
           "automargin": true,
           "gridcolor": "white",
           "linecolor": "white",
           "ticks": "",
           "title": {
            "standoff": 15
           },
           "zerolinecolor": "white",
           "zerolinewidth": 2
          },
          "yaxis": {
           "automargin": true,
           "gridcolor": "white",
           "linecolor": "white",
           "ticks": "",
           "title": {
            "standoff": 15
           },
           "zerolinecolor": "white",
           "zerolinewidth": 2
          }
         }
        },
        "xaxis": {
         "anchor": "y",
         "domain": [
          0,
          1
         ],
         "title": {
          "text": "Prompt"
         }
        },
        "yaxis": {
         "anchor": "x",
         "domain": [
          0,
          1
         ],
         "title": {
          "text": "value"
         }
        }
       }
      },
      "text/html": [
       "<div>                            <div id=\"ac2a4310-3522-4433-9d2b-d5d830d6a0cb\" class=\"plotly-graph-div\" style=\"height:525px; width:100%;\"></div>            <script type=\"text/javascript\">                require([\"plotly\"], function(Plotly) {                    window.PLOTLYENV=window.PLOTLYENV || {};                                    if (document.getElementById(\"ac2a4310-3522-4433-9d2b-d5d830d6a0cb\")) {                    Plotly.newPlot(                        \"ac2a4310-3522-4433-9d2b-d5d830d6a0cb\",                        [{\"alignmentgroup\":\"True\",\"boxpoints\":\"all\",\"fillcolor\":\"rgba(255,255,255,0)\",\"hoveron\":\"points\",\"hovertemplate\":\"Index=53\\u003cbr\\u003ePrompt=%{x}\\u003cbr\\u003evalue=%{y}\\u003cextra\\u003e\\u003c\\u002fextra\\u003e\",\"legendgroup\":\"53\",\"line\":{\"color\":\"rgba(255,255,255,0)\"},\"marker\":{\"color\":\"#636efa\"},\"name\":\"53\",\"offsetgroup\":\"53\",\"orientation\":\"v\",\"pointpos\":0,\"showlegend\":true,\"x\":[\" puppy\",\" man\",\" moon\",\" whale\",\" nest\",\" queen\",\" lion\",\" hat\",\" jelly\",\" apple\",\" ice cream\",\" ball\",\" kite\",\" snake\",\" rabbit\",\" tree\",\" umbrella\",\" duck\",\" elephant\",\" flower\",\" dog\",\" bear\",\" cub\",\" kitten\",\" violin\",\" giraffe\",\" car\"],\"x0\":\" \",\"xaxis\":\"x\",\"y\":[0.05238431692123413,0.05238431692123413,0.05238431692123413,0.05238431692123413,0.05238431692123413,0.05238431692123413,0.05238431692123413,0.05238431692123413,0.05238431692123413,0.05238431692123413,0.05238431692123413,0.05238431692123413,0.05238431692123413,0.004558578133583069,0.05238431692123413,0.05238431692123413,0.05238431692123413,0.05238431692123413,0.05238431692123413,0.05238431692123413,0.017833948135375977,0.05238431692123413,0.05238431692123413,0.05238431692123413,0.05238431692123413,0.05238431692123413,0.05238431692123413],\"y0\":\" \",\"yaxis\":\"y\",\"type\":\"box\"},{\"alignmentgroup\":\"True\",\"boxpoints\":\"all\",\"fillcolor\":\"rgba(255,255,255,0)\",\"hoveron\":\"points\",\"hovertemplate\":\"Index=153\\u003cbr\\u003ePrompt=%{x}\\u003cbr\\u003evalue=%{y}\\u003cextra\\u003e\\u003c\\u002fextra\\u003e\",\"legendgroup\":\"153\",\"line\":{\"color\":\"rgba(255,255,255,0)\"},\"marker\":{\"color\":\"#EF553B\"},\"name\":\"153\",\"offsetgroup\":\"153\",\"orientation\":\"v\",\"pointpos\":0,\"showlegend\":true,\"x\":[\" whale\",\" moon\",\" nest\",\" boy\",\" cub\",\" hat\",\" apple\",\" jelly\",\" ice cream\",\" lion\",\" rabbit\",\" kite\",\" puppy\",\" queen\",\" baby\",\" owl\",\" man\",\" giraffe\",\" ball\",\" tree\",\" flower\",\" duck\",\" car\",\" umbrella\",\" violin\",\" bear\",\" elephant\",\" kitten\"],\"x0\":\" \",\"xaxis\":\"x\",\"y\":[0.21236854791641235,0.21236854791641235,0.21236854791641235,0.1525881290435791,0.21236854791641235,0.21236854791641235,0.12509766221046448,0.21236854791641235,0.21236854791641235,0.11445876955986023,0.21236854791641235,0.21236854791641235,0.21236854791641235,0.21236854791641235,0.21236854791641235,0.21236854791641235,0.21236854791641235,0.21236854791641235,0.1700497269630432,0.21236854791641235,0.21236854791641235,0.13758644461631775,0.21236854791641235,0.0015944242477416992,0.08766123652458191,0.21236854791641235,0.21236854791641235,0.15461716055870056],\"y0\":\" \",\"yaxis\":\"y\",\"type\":\"box\"},{\"alignmentgroup\":\"True\",\"boxpoints\":\"all\",\"fillcolor\":\"rgba(255,255,255,0)\",\"hoveron\":\"points\",\"hovertemplate\":\"Index=185\\u003cbr\\u003ePrompt=%{x}\\u003cbr\\u003evalue=%{y}\\u003cextra\\u003e\\u003c\\u002fextra\\u003e\",\"legendgroup\":\"185\",\"line\":{\"color\":\"rgba(255,255,255,0)\"},\"marker\":{\"color\":\"#00cc96\"},\"name\":\"185\",\"offsetgroup\":\"185\",\"orientation\":\"v\",\"pointpos\":0,\"showlegend\":true,\"x\":[\" kitten\",\" duck\",\" nest\",\" car\",\" umbrella\",\" rabbit\",\" boy\",\" whale\",\" ice cream\",\" jelly\",\" tree\",\" hat\",\" kite\",\" snake\",\" ball\",\" apple\",\" dog\",\" man\",\" puppy\",\" baby\",\" cats\",\" bear\"],\"x0\":\" \",\"xaxis\":\"x\",\"y\":[0.12865331768989563,0.12865331768989563,0.03222225606441498,0.12865331768989563,0.12865331768989563,0.12865331768989563,0.12865331768989563,0.12865331768989563,0.12865331768989563,0.12865331768989563,0.05124014616012573,0.12865331768989563,0.12865331768989563,0.12865331768989563,0.12865331768989563,0.12865331768989563,0.12865331768989563,0.060688987374305725,0.12865331768989563,0.12865331768989563,0.010888159275054932,0.12865331768989563],\"y0\":\" \",\"yaxis\":\"y\",\"type\":\"box\"},{\"alignmentgroup\":\"True\",\"boxpoints\":\"all\",\"fillcolor\":\"rgba(255,255,255,0)\",\"hoveron\":\"points\",\"hovertemplate\":\"Index=212\\u003cbr\\u003ePrompt=%{x}\\u003cbr\\u003evalue=%{y}\\u003cextra\\u003e\\u003c\\u002fextra\\u003e\",\"legendgroup\":\"212\",\"line\":{\"color\":\"rgba(255,255,255,0)\"},\"marker\":{\"color\":\"#ab63fa\"},\"name\":\"212\",\"offsetgroup\":\"212\",\"orientation\":\"v\",\"pointpos\":0,\"showlegend\":true,\"x\":[\" lion\",\" owl\",\" whale\",\" umbrella\",\" elephant\",\" flower\",\" man\",\" cub\",\" queen\",\" duck\",\" tree\",\" giraffe\",\" kite\",\" jelly\",\" rabbit\",\" moon\",\" boy\",\" apple\",\" baby\",\" cats\"],\"x0\":\" \",\"xaxis\":\"x\",\"y\":[0.12798480689525604,0.12798480689525604,0.12798480689525604,0.010301828384399414,0.12798480689525604,0.03830237686634064,0.12798480689525604,0.12798480689525604,0.12798480689525604,0.07310738041996956,0.12798480689525604,0.12798480689525604,0.12798480689525604,0.049208492040634155,0.09452258422970772,0.12798480689525604,0.05451861023902893,0.03475414216518402,0.03705991804599762,0.12798480689525604],\"y0\":\" \",\"yaxis\":\"y\",\"type\":\"box\"},{\"alignmentgroup\":\"True\",\"boxpoints\":\"all\",\"fillcolor\":\"rgba(255,255,255,0)\",\"hoveron\":\"points\",\"hovertemplate\":\"Index=306\\u003cbr\\u003ePrompt=%{x}\\u003cbr\\u003evalue=%{y}\\u003cextra\\u003e\\u003c\\u002fextra\\u003e\",\"legendgroup\":\"306\",\"line\":{\"color\":\"rgba(255,255,255,0)\"},\"marker\":{\"color\":\"#FFA15A\"},\"name\":\"306\",\"offsetgroup\":\"306\",\"orientation\":\"v\",\"pointpos\":0,\"showlegend\":true,\"x\":[\" owl\",\" baby\",\" apple\",\" tree\",\" man\",\" queen\",\" nest\",\" rabbit\",\" car\",\" elephant\",\" moon\",\" ice cream\",\" jelly\",\" snake\",\" flower\",\" ball\",\" lion\",\" whale\",\" boy\",\" umbrella\",\" cats\",\" puppy\",\" kitten\",\" dog\",\" bear\",\" hat\",\" duck\",\" violin\",\" cub\"],\"x0\":\" \",\"xaxis\":\"x\",\"y\":[0.022607728838920593,0.022607728838920593,0.022607728838920593,0.022607728838920593,0.022607728838920593,0.022607728838920593,0.022607728838920593,0.022607728838920593,0.022607728838920593,0.022607728838920593,0.022607728838920593,0.022607728838920593,0.022607728838920593,0.022607728838920593,0.022607728838920593,0.022607728838920593,0.022607728838920593,0.022607728838920593,0.022607728838920593,0.022607728838920593,0.022607728838920593,0.022607728838920593,0.022607728838920593,0.022607728838920593,0.022607728838920593,0.022607728838920593,0.022607728838920593,0.022607728838920593,0.022607728838920593],\"y0\":\" \",\"yaxis\":\"y\",\"type\":\"box\"},{\"alignmentgroup\":\"True\",\"boxpoints\":\"all\",\"fillcolor\":\"rgba(255,255,255,0)\",\"hoveron\":\"points\",\"hovertemplate\":\"Index=335\\u003cbr\\u003ePrompt=%{x}\\u003cbr\\u003evalue=%{y}\\u003cextra\\u003e\\u003c\\u002fextra\\u003e\",\"legendgroup\":\"335\",\"line\":{\"color\":\"rgba(255,255,255,0)\"},\"marker\":{\"color\":\"#19d3f3\"},\"name\":\"335\",\"offsetgroup\":\"335\",\"orientation\":\"v\",\"pointpos\":0,\"showlegend\":true,\"x\":[\" nest\",\" violin\",\" dog\",\" cub\",\" snake\",\" ball\",\" whale\",\" kite\",\" flower\",\" moon\",\" lion\",\" car\",\" rabbit\",\" ice cream\",\" apple\",\" boy\",\" queen\",\" hat\",\" baby\",\" man\",\" elephant\",\" bear\",\" owl\",\" giraffe\",\" tree\"],\"x0\":\" \",\"xaxis\":\"x\",\"y\":[0.10174765437841415,0.10174765437841415,0.054285988211631775,0.10174765437841415,0.10174765437841415,0.10174765437841415,0.10174765437841415,0.10174765437841415,0.10174765437841415,0.10174765437841415,0.10174765437841415,0.08571687340736389,0.10174765437841415,0.10174765437841415,0.10174765437841415,0.10174765437841415,0.10174765437841415,0.10174765437841415,0.10174765437841415,0.10174765437841415,0.10174765437841415,0.10174765437841415,0.10174765437841415,0.10174765437841415,0.10174765437841415],\"y0\":\" \",\"yaxis\":\"y\",\"type\":\"box\"},{\"alignmentgroup\":\"True\",\"boxpoints\":\"all\",\"fillcolor\":\"rgba(255,255,255,0)\",\"hoveron\":\"points\",\"hovertemplate\":\"Index=381\\u003cbr\\u003ePrompt=%{x}\\u003cbr\\u003evalue=%{y}\\u003cextra\\u003e\\u003c\\u002fextra\\u003e\",\"legendgroup\":\"381\",\"line\":{\"color\":\"rgba(255,255,255,0)\"},\"marker\":{\"color\":\"#FF6692\"},\"name\":\"381\",\"offsetgroup\":\"381\",\"orientation\":\"v\",\"pointpos\":0,\"showlegend\":true,\"x\":[\" flower\",\" kite\",\" whale\",\" ball\",\" violin\",\" tree\",\" car\",\" queen\",\" man\",\" ice cream\",\" jelly\",\" umbrella\",\" boy\",\" hat\"],\"x0\":\" \",\"xaxis\":\"x\",\"y\":[0.032996416091918945,0.09309341758489609,0.007982760667800903,0.09309341758489609,0.09309341758489609,0.027643397450447083,0.09309341758489609,0.09309341758489609,0.09309341758489609,0.09309341758489609,0.04434291273355484,0.09309341758489609,0.09309341758489609,0.09309341758489609],\"y0\":\" \",\"yaxis\":\"y\",\"type\":\"box\"},{\"alignmentgroup\":\"True\",\"boxpoints\":\"all\",\"fillcolor\":\"rgba(255,255,255,0)\",\"hoveron\":\"points\",\"hovertemplate\":\"Index=415\\u003cbr\\u003ePrompt=%{x}\\u003cbr\\u003evalue=%{y}\\u003cextra\\u003e\\u003c\\u002fextra\\u003e\",\"legendgroup\":\"415\",\"line\":{\"color\":\"rgba(255,255,255,0)\"},\"marker\":{\"color\":\"#B6E880\"},\"name\":\"415\",\"offsetgroup\":\"415\",\"orientation\":\"v\",\"pointpos\":0,\"showlegend\":true,\"x\":[\" moon\",\" queen\",\" violin\",\" ball\",\" apple\",\" elephant\",\" duck\",\" car\",\" lion\",\" kite\",\" rabbit\",\" snake\",\" giraffe\",\" flower\",\" tree\",\" jelly\",\" ice cream\",\" hat\",\" cats\",\" cub\",\" kitten\",\" owl\",\" nest\",\" boy\",\" man\",\" dog\",\" puppy\",\" whale\",\" bear\"],\"x0\":\" \",\"xaxis\":\"x\",\"y\":[0.06755627691745758,0.06755627691745758,0.06755627691745758,0.06755627691745758,0.06755627691745758,0.06755627691745758,0.06755627691745758,0.06363999098539352,0.06755627691745758,0.06755627691745758,0.06755627691745758,0.06755627691745758,0.06755627691745758,0.06755627691745758,0.06755627691745758,0.06755627691745758,0.06755627691745758,0.06755627691745758,0.06755627691745758,0.06755627691745758,0.06755627691745758,0.06755627691745758,0.06755627691745758,0.06755627691745758,0.06755627691745758,0.003891170024871826,0.06755627691745758,0.06755627691745758,0.06755627691745758],\"y0\":\" \",\"yaxis\":\"y\",\"type\":\"box\"},{\"alignmentgroup\":\"True\",\"boxpoints\":\"all\",\"fillcolor\":\"rgba(255,255,255,0)\",\"hoveron\":\"points\",\"hovertemplate\":\"Index=464\\u003cbr\\u003ePrompt=%{x}\\u003cbr\\u003evalue=%{y}\\u003cextra\\u003e\\u003c\\u002fextra\\u003e\",\"legendgroup\":\"464\",\"line\":{\"color\":\"rgba(255,255,255,0)\"},\"marker\":{\"color\":\"#FF97FF\"},\"name\":\"464\",\"offsetgroup\":\"464\",\"orientation\":\"v\",\"pointpos\":0,\"showlegend\":true,\"x\":[\" snake\",\" ice cream\",\" nest\",\" giraffe\",\" flower\",\" lion\",\" tree\",\" kite\",\" ball\",\" apple\",\" moon\",\" queen\",\" cats\"],\"x0\":\" \",\"xaxis\":\"x\",\"y\":[0.019424647092819214,0.027315855026245117,0.002239912748336792,0.0264359712600708,0.059931665658950806,0.007779479026794434,0.034184977412223816,0.0006662607192993164,0.010432153940200806,0.06293605268001556,0.02104237675666809,0.02016007900238037,0.009234964847564697],\"y0\":\" \",\"yaxis\":\"y\",\"type\":\"box\"},{\"alignmentgroup\":\"True\",\"boxpoints\":\"all\",\"fillcolor\":\"rgba(255,255,255,0)\",\"hoveron\":\"points\",\"hovertemplate\":\"Index=499\\u003cbr\\u003ePrompt=%{x}\\u003cbr\\u003evalue=%{y}\\u003cextra\\u003e\\u003c\\u002fextra\\u003e\",\"legendgroup\":\"499\",\"line\":{\"color\":\"rgba(255,255,255,0)\"},\"marker\":{\"color\":\"#FECB52\"},\"name\":\"499\",\"offsetgroup\":\"499\",\"orientation\":\"v\",\"pointpos\":0,\"showlegend\":true,\"x\":[\" whale\",\" jelly\",\" cub\",\" flower\",\" giraffe\",\" hat\",\" snake\",\" ice cream\",\" tree\",\" lion\",\" kite\",\" car\",\" duck\",\" elephant\",\" umbrella\",\" ball\",\" apple\",\" kitten\",\" violin\",\" baby\",\" nest\",\" moon\",\" queen\",\" cats\",\" bear\"],\"x0\":\" \",\"xaxis\":\"x\",\"y\":[0.16449226438999176,0.2751140221953392,0.27534444630146027,0.07254695892333984,0.0744439959526062,0.3504217267036438,0.0986396074295044,0.3504217267036438,0.0878039002418518,0.035784244537353516,0.18583720922470093,0.1834169179201126,0.048959970474243164,0.07029980421066284,0.3504217267036438,0.13435716927051544,0.18359360098838806,0.028792977333068848,0.3504217267036438,0.1434321254491806,0.3504217267036438,0.2155579775571823,0.12154211103916168,0.1357169896364212,0.0926898717880249],\"y0\":\" \",\"yaxis\":\"y\",\"type\":\"box\"}],                        {\"template\":{\"data\":{\"histogram2dcontour\":[{\"type\":\"histogram2dcontour\",\"colorbar\":{\"outlinewidth\":0,\"ticks\":\"\"},\"colorscale\":[[0.0,\"#0d0887\"],[0.1111111111111111,\"#46039f\"],[0.2222222222222222,\"#7201a8\"],[0.3333333333333333,\"#9c179e\"],[0.4444444444444444,\"#bd3786\"],[0.5555555555555556,\"#d8576b\"],[0.6666666666666666,\"#ed7953\"],[0.7777777777777778,\"#fb9f3a\"],[0.8888888888888888,\"#fdca26\"],[1.0,\"#f0f921\"]]}],\"choropleth\":[{\"type\":\"choropleth\",\"colorbar\":{\"outlinewidth\":0,\"ticks\":\"\"}}],\"histogram2d\":[{\"type\":\"histogram2d\",\"colorbar\":{\"outlinewidth\":0,\"ticks\":\"\"},\"colorscale\":[[0.0,\"#0d0887\"],[0.1111111111111111,\"#46039f\"],[0.2222222222222222,\"#7201a8\"],[0.3333333333333333,\"#9c179e\"],[0.4444444444444444,\"#bd3786\"],[0.5555555555555556,\"#d8576b\"],[0.6666666666666666,\"#ed7953\"],[0.7777777777777778,\"#fb9f3a\"],[0.8888888888888888,\"#fdca26\"],[1.0,\"#f0f921\"]]}],\"heatmap\":[{\"type\":\"heatmap\",\"colorbar\":{\"outlinewidth\":0,\"ticks\":\"\"},\"colorscale\":[[0.0,\"#0d0887\"],[0.1111111111111111,\"#46039f\"],[0.2222222222222222,\"#7201a8\"],[0.3333333333333333,\"#9c179e\"],[0.4444444444444444,\"#bd3786\"],[0.5555555555555556,\"#d8576b\"],[0.6666666666666666,\"#ed7953\"],[0.7777777777777778,\"#fb9f3a\"],[0.8888888888888888,\"#fdca26\"],[1.0,\"#f0f921\"]]}],\"heatmapgl\":[{\"type\":\"heatmapgl\",\"colorbar\":{\"outlinewidth\":0,\"ticks\":\"\"},\"colorscale\":[[0.0,\"#0d0887\"],[0.1111111111111111,\"#46039f\"],[0.2222222222222222,\"#7201a8\"],[0.3333333333333333,\"#9c179e\"],[0.4444444444444444,\"#bd3786\"],[0.5555555555555556,\"#d8576b\"],[0.6666666666666666,\"#ed7953\"],[0.7777777777777778,\"#fb9f3a\"],[0.8888888888888888,\"#fdca26\"],[1.0,\"#f0f921\"]]}],\"contourcarpet\":[{\"type\":\"contourcarpet\",\"colorbar\":{\"outlinewidth\":0,\"ticks\":\"\"}}],\"contour\":[{\"type\":\"contour\",\"colorbar\":{\"outlinewidth\":0,\"ticks\":\"\"},\"colorscale\":[[0.0,\"#0d0887\"],[0.1111111111111111,\"#46039f\"],[0.2222222222222222,\"#7201a8\"],[0.3333333333333333,\"#9c179e\"],[0.4444444444444444,\"#bd3786\"],[0.5555555555555556,\"#d8576b\"],[0.6666666666666666,\"#ed7953\"],[0.7777777777777778,\"#fb9f3a\"],[0.8888888888888888,\"#fdca26\"],[1.0,\"#f0f921\"]]}],\"surface\":[{\"type\":\"surface\",\"colorbar\":{\"outlinewidth\":0,\"ticks\":\"\"},\"colorscale\":[[0.0,\"#0d0887\"],[0.1111111111111111,\"#46039f\"],[0.2222222222222222,\"#7201a8\"],[0.3333333333333333,\"#9c179e\"],[0.4444444444444444,\"#bd3786\"],[0.5555555555555556,\"#d8576b\"],[0.6666666666666666,\"#ed7953\"],[0.7777777777777778,\"#fb9f3a\"],[0.8888888888888888,\"#fdca26\"],[1.0,\"#f0f921\"]]}],\"mesh3d\":[{\"type\":\"mesh3d\",\"colorbar\":{\"outlinewidth\":0,\"ticks\":\"\"}}],\"scatter\":[{\"fillpattern\":{\"fillmode\":\"overlay\",\"size\":10,\"solidity\":0.2},\"type\":\"scatter\"}],\"parcoords\":[{\"type\":\"parcoords\",\"line\":{\"colorbar\":{\"outlinewidth\":0,\"ticks\":\"\"}}}],\"scatterpolargl\":[{\"type\":\"scatterpolargl\",\"marker\":{\"colorbar\":{\"outlinewidth\":0,\"ticks\":\"\"}}}],\"bar\":[{\"error_x\":{\"color\":\"#2a3f5f\"},\"error_y\":{\"color\":\"#2a3f5f\"},\"marker\":{\"line\":{\"color\":\"#E5ECF6\",\"width\":0.5},\"pattern\":{\"fillmode\":\"overlay\",\"size\":10,\"solidity\":0.2}},\"type\":\"bar\"}],\"scattergeo\":[{\"type\":\"scattergeo\",\"marker\":{\"colorbar\":{\"outlinewidth\":0,\"ticks\":\"\"}}}],\"scatterpolar\":[{\"type\":\"scatterpolar\",\"marker\":{\"colorbar\":{\"outlinewidth\":0,\"ticks\":\"\"}}}],\"histogram\":[{\"marker\":{\"pattern\":{\"fillmode\":\"overlay\",\"size\":10,\"solidity\":0.2}},\"type\":\"histogram\"}],\"scattergl\":[{\"type\":\"scattergl\",\"marker\":{\"colorbar\":{\"outlinewidth\":0,\"ticks\":\"\"}}}],\"scatter3d\":[{\"type\":\"scatter3d\",\"line\":{\"colorbar\":{\"outlinewidth\":0,\"ticks\":\"\"}},\"marker\":{\"colorbar\":{\"outlinewidth\":0,\"ticks\":\"\"}}}],\"scattermapbox\":[{\"type\":\"scattermapbox\",\"marker\":{\"colorbar\":{\"outlinewidth\":0,\"ticks\":\"\"}}}],\"scatterternary\":[{\"type\":\"scatterternary\",\"marker\":{\"colorbar\":{\"outlinewidth\":0,\"ticks\":\"\"}}}],\"scattercarpet\":[{\"type\":\"scattercarpet\",\"marker\":{\"colorbar\":{\"outlinewidth\":0,\"ticks\":\"\"}}}],\"carpet\":[{\"aaxis\":{\"endlinecolor\":\"#2a3f5f\",\"gridcolor\":\"white\",\"linecolor\":\"white\",\"minorgridcolor\":\"white\",\"startlinecolor\":\"#2a3f5f\"},\"baxis\":{\"endlinecolor\":\"#2a3f5f\",\"gridcolor\":\"white\",\"linecolor\":\"white\",\"minorgridcolor\":\"white\",\"startlinecolor\":\"#2a3f5f\"},\"type\":\"carpet\"}],\"table\":[{\"cells\":{\"fill\":{\"color\":\"#EBF0F8\"},\"line\":{\"color\":\"white\"}},\"header\":{\"fill\":{\"color\":\"#C8D4E3\"},\"line\":{\"color\":\"white\"}},\"type\":\"table\"}],\"barpolar\":[{\"marker\":{\"line\":{\"color\":\"#E5ECF6\",\"width\":0.5},\"pattern\":{\"fillmode\":\"overlay\",\"size\":10,\"solidity\":0.2}},\"type\":\"barpolar\"}],\"pie\":[{\"automargin\":true,\"type\":\"pie\"}]},\"layout\":{\"autotypenumbers\":\"strict\",\"colorway\":[\"#636efa\",\"#EF553B\",\"#00cc96\",\"#ab63fa\",\"#FFA15A\",\"#19d3f3\",\"#FF6692\",\"#B6E880\",\"#FF97FF\",\"#FECB52\"],\"font\":{\"color\":\"#2a3f5f\"},\"hovermode\":\"closest\",\"hoverlabel\":{\"align\":\"left\"},\"paper_bgcolor\":\"white\",\"plot_bgcolor\":\"#E5ECF6\",\"polar\":{\"bgcolor\":\"#E5ECF6\",\"angularaxis\":{\"gridcolor\":\"white\",\"linecolor\":\"white\",\"ticks\":\"\"},\"radialaxis\":{\"gridcolor\":\"white\",\"linecolor\":\"white\",\"ticks\":\"\"}},\"ternary\":{\"bgcolor\":\"#E5ECF6\",\"aaxis\":{\"gridcolor\":\"white\",\"linecolor\":\"white\",\"ticks\":\"\"},\"baxis\":{\"gridcolor\":\"white\",\"linecolor\":\"white\",\"ticks\":\"\"},\"caxis\":{\"gridcolor\":\"white\",\"linecolor\":\"white\",\"ticks\":\"\"}},\"coloraxis\":{\"colorbar\":{\"outlinewidth\":0,\"ticks\":\"\"}},\"colorscale\":{\"sequential\":[[0.0,\"#0d0887\"],[0.1111111111111111,\"#46039f\"],[0.2222222222222222,\"#7201a8\"],[0.3333333333333333,\"#9c179e\"],[0.4444444444444444,\"#bd3786\"],[0.5555555555555556,\"#d8576b\"],[0.6666666666666666,\"#ed7953\"],[0.7777777777777778,\"#fb9f3a\"],[0.8888888888888888,\"#fdca26\"],[1.0,\"#f0f921\"]],\"sequentialminus\":[[0.0,\"#0d0887\"],[0.1111111111111111,\"#46039f\"],[0.2222222222222222,\"#7201a8\"],[0.3333333333333333,\"#9c179e\"],[0.4444444444444444,\"#bd3786\"],[0.5555555555555556,\"#d8576b\"],[0.6666666666666666,\"#ed7953\"],[0.7777777777777778,\"#fb9f3a\"],[0.8888888888888888,\"#fdca26\"],[1.0,\"#f0f921\"]],\"diverging\":[[0,\"#8e0152\"],[0.1,\"#c51b7d\"],[0.2,\"#de77ae\"],[0.3,\"#f1b6da\"],[0.4,\"#fde0ef\"],[0.5,\"#f7f7f7\"],[0.6,\"#e6f5d0\"],[0.7,\"#b8e186\"],[0.8,\"#7fbc41\"],[0.9,\"#4d9221\"],[1,\"#276419\"]]},\"xaxis\":{\"gridcolor\":\"white\",\"linecolor\":\"white\",\"ticks\":\"\",\"title\":{\"standoff\":15},\"zerolinecolor\":\"white\",\"automargin\":true,\"zerolinewidth\":2},\"yaxis\":{\"gridcolor\":\"white\",\"linecolor\":\"white\",\"ticks\":\"\",\"title\":{\"standoff\":15},\"zerolinecolor\":\"white\",\"automargin\":true,\"zerolinewidth\":2},\"scene\":{\"xaxis\":{\"backgroundcolor\":\"#E5ECF6\",\"gridcolor\":\"white\",\"linecolor\":\"white\",\"showbackground\":true,\"ticks\":\"\",\"zerolinecolor\":\"white\",\"gridwidth\":2},\"yaxis\":{\"backgroundcolor\":\"#E5ECF6\",\"gridcolor\":\"white\",\"linecolor\":\"white\",\"showbackground\":true,\"ticks\":\"\",\"zerolinecolor\":\"white\",\"gridwidth\":2},\"zaxis\":{\"backgroundcolor\":\"#E5ECF6\",\"gridcolor\":\"white\",\"linecolor\":\"white\",\"showbackground\":true,\"ticks\":\"\",\"zerolinecolor\":\"white\",\"gridwidth\":2}},\"shapedefaults\":{\"line\":{\"color\":\"#2a3f5f\"}},\"annotationdefaults\":{\"arrowcolor\":\"#2a3f5f\",\"arrowhead\":0,\"arrowwidth\":1},\"geo\":{\"bgcolor\":\"white\",\"landcolor\":\"#E5ECF6\",\"subunitcolor\":\"white\",\"showland\":true,\"showlakes\":true,\"lakecolor\":\"white\"},\"title\":{\"x\":0.05},\"mapbox\":{\"style\":\"light\"}}},\"xaxis\":{\"anchor\":\"y\",\"domain\":[0.0,1.0],\"title\":{\"text\":\"Prompt\"}},\"yaxis\":{\"anchor\":\"x\",\"domain\":[0.0,1.0],\"title\":{\"text\":\"value\"}},\"legend\":{\"title\":{\"text\":\"Index\"},\"tracegroupgap\":0},\"margin\":{\"t\":60},\"boxmode\":\"group\"},                        {\"responsive\": true}                    ).then(function(){\n",
       "                            \n",
       "var gd = document.getElementById('ac2a4310-3522-4433-9d2b-d5d830d6a0cb');\n",
       "var x = new MutationObserver(function (mutations, observer) {{\n",
       "        var display = window.getComputedStyle(gd).display;\n",
       "        if (!display || display === 'none') {{\n",
       "            console.log([gd, 'removed!']);\n",
       "            Plotly.purge(gd);\n",
       "            observer.disconnect();\n",
       "        }}\n",
       "}});\n",
       "\n",
       "// Listen for the removal of the full notebook cells\n",
       "var notebookContainer = gd.closest('#notebook-container');\n",
       "if (notebookContainer) {{\n",
       "    x.observe(notebookContainer, {childList: true});\n",
       "}}\n",
       "\n",
       "// Listen for the clearing of the current output cell\n",
       "var outputEl = gd.closest('.output');\n",
       "if (outputEl) {{\n",
       "    x.observe(outputEl, {childList: true});\n",
       "}}\n",
       "\n",
       "                        })                };                });            </script>        </div>"
      ]
     },
     "metadata": {},
     "output_type": "display_data"
    }
   ],
   "source": [
    "px.strip(long_diff_df.sort_values(\"Index\"), x = \"Prompt\", y=\"value\", color=\"Index\")"
   ]
  },
  {
   "cell_type": "code",
   "execution_count": 209,
   "metadata": {},
   "outputs": [
    {
     "data": {
      "application/vnd.plotly.v1+json": {
       "config": {
        "plotlyServerURL": "https://plot.ly"
       },
       "data": [
        {
         "alignmentgroup": "True",
         "boxpoints": "all",
         "fillcolor": "rgba(255,255,255,0)",
         "hoveron": "points",
         "hovertemplate": "Prompt= apple<br>Index=%{x}<br>value=%{y}<extra></extra>",
         "legendgroup": " apple",
         "line": {
          "color": "rgba(255,255,255,0)"
         },
         "marker": {
          "color": "#636efa"
         },
         "name": " apple",
         "offsetgroup": " apple",
         "orientation": "v",
         "pointpos": 0,
         "showlegend": true,
         "type": "box",
         "x": [
          335,
          53,
          82,
          153,
          166,
          171,
          185,
          212,
          306,
          381,
          412,
          415,
          464,
          472,
          499
         ],
         "x0": " ",
         "xaxis": "x",
         "y": [
          -0.10174765437841415,
          -0.05238431692123413,
          0.08149142563343048,
          -0.12509766221046448,
          0.452420711517334,
          0.060993097722530365,
          -0.12865331768989563,
          -0.03475414216518402,
          -0.022607728838920593,
          0.020645499229431152,
          0.0879800021648407,
          -0.06755627691745758,
          -0.06293605268001556,
          0.14251859486103058,
          -0.18359360098838806
         ],
         "y0": " ",
         "yaxis": "y"
        },
        {
         "alignmentgroup": "True",
         "boxpoints": "all",
         "fillcolor": "rgba(255,255,255,0)",
         "hoveron": "points",
         "hovertemplate": "Prompt= ball<br>Index=%{x}<br>value=%{y}<extra></extra>",
         "legendgroup": " ball",
         "line": {
          "color": "rgba(255,255,255,0)"
         },
         "marker": {
          "color": "#EF553B"
         },
         "name": " ball",
         "offsetgroup": " ball",
         "orientation": "v",
         "pointpos": 0,
         "showlegend": true,
         "type": "box",
         "x": [
          153,
          53,
          30,
          464,
          415,
          381,
          335,
          327,
          306,
          499,
          192,
          185,
          134,
          82,
          58,
          212
         ],
         "x0": " ",
         "xaxis": "x",
         "y": [
          -0.1700497269630432,
          -0.05238431692123413,
          0.06988666206598282,
          -0.010432153940200806,
          -0.06755627691745758,
          -0.09309341758489609,
          -0.10174765437841415,
          0.059332653880119324,
          -0.022607728838920593,
          -0.13435716927051544,
          0.04818875715136528,
          -0.12865331768989563,
          0.29599490761756897,
          0.10181604325771332,
          0.04344794526696205,
          0.11785085499286652
         ],
         "y0": " ",
         "yaxis": "y"
        },
        {
         "alignmentgroup": "True",
         "boxpoints": "all",
         "fillcolor": "rgba(255,255,255,0)",
         "hoveron": "points",
         "hovertemplate": "Prompt= boy<br>Index=%{x}<br>value=%{y}<extra></extra>",
         "legendgroup": " boy",
         "line": {
          "color": "rgba(255,255,255,0)"
         },
         "marker": {
          "color": "#00cc96"
         },
         "name": " boy",
         "offsetgroup": " boy",
         "orientation": "v",
         "pointpos": 0,
         "showlegend": true,
         "type": "box",
         "x": [
          53,
          153,
          170,
          185,
          212,
          243,
          381,
          306,
          335,
          464,
          473,
          499,
          268,
          39,
          415
         ],
         "x0": " ",
         "xaxis": "x",
         "y": [
          0.03702257573604584,
          -0.1525881290435791,
          0.10433498024940491,
          -0.12865331768989563,
          -0.05451861023902893,
          0.22014564275741577,
          -0.09309341758489609,
          -0.022607728838920593,
          -0.10174765437841415,
          0.044042229652404785,
          0.13761809468269348,
          0.06895053386688232,
          0.22065530717372894,
          0.09223811328411102,
          -0.06755627691745758
         ],
         "y0": " ",
         "yaxis": "y"
        },
        {
         "alignmentgroup": "True",
         "boxpoints": "all",
         "fillcolor": "rgba(255,255,255,0)",
         "hoveron": "points",
         "hovertemplate": "Prompt= car<br>Index=%{x}<br>value=%{y}<extra></extra>",
         "legendgroup": " car",
         "line": {
          "color": "rgba(255,255,255,0)"
         },
         "marker": {
          "color": "#ab63fa"
         },
         "name": " car",
         "offsetgroup": " car",
         "orientation": "v",
         "pointpos": 0,
         "showlegend": true,
         "type": "box",
         "x": [
          471,
          464,
          499,
          53,
          58,
          153,
          185,
          82,
          212,
          306,
          335,
          339,
          381,
          415,
          188
         ],
         "x0": " ",
         "xaxis": "x",
         "y": [
          0.030199401080608368,
          0.012875348329544067,
          -0.1834169179201126,
          -0.05238431692123413,
          0.013487432152032852,
          -0.21236854791641235,
          -0.12865331768989563,
          0.06502024829387665,
          0.12002350389957428,
          -0.022607728838920593,
          -0.08571687340736389,
          0.024106234312057495,
          -0.09309341758489609,
          -0.06363999098539352,
          0.3542935252189636
         ],
         "y0": " ",
         "yaxis": "y"
        },
        {
         "alignmentgroup": "True",
         "boxpoints": "all",
         "fillcolor": "rgba(255,255,255,0)",
         "hoveron": "points",
         "hovertemplate": "Prompt= cats<br>Index=%{x}<br>value=%{y}<extra></extra>",
         "legendgroup": " cats",
         "line": {
          "color": "rgba(255,255,255,0)"
         },
         "marker": {
          "color": "#FFA15A"
         },
         "name": " cats",
         "offsetgroup": " cats",
         "orientation": "v",
         "pointpos": 0,
         "showlegend": true,
         "type": "box",
         "x": [
          402,
          499,
          464,
          442,
          415,
          381,
          185,
          306,
          212,
          153,
          134,
          53,
          335
         ],
         "x0": " ",
         "xaxis": "x",
         "y": [
          0.20273885130882263,
          -0.1357169896364212,
          -0.009234964847564697,
          0.3605279326438904,
          -0.06755627691745758,
          0.08930797129869461,
          -0.010888159275054932,
          -0.022607728838920593,
          -0.12798480689525604,
          0.06320089101791382,
          0.06352975219488144,
          0.04785594344139099,
          0.021246686577796936
         ],
         "y0": " ",
         "yaxis": "y"
        },
        {
         "alignmentgroup": "True",
         "boxpoints": "all",
         "fillcolor": "rgba(255,255,255,0)",
         "hoveron": "points",
         "hovertemplate": "Prompt= dog<br>Index=%{x}<br>value=%{y}<extra></extra>",
         "legendgroup": " dog",
         "line": {
          "color": "rgba(255,255,255,0)"
         },
         "marker": {
          "color": "#19d3f3"
         },
         "name": " dog",
         "offsetgroup": " dog",
         "orientation": "v",
         "pointpos": 0,
         "showlegend": true,
         "type": "box",
         "x": [
          306,
          53,
          153,
          184,
          185,
          212,
          335,
          58,
          415,
          464,
          499,
          381
         ],
         "x0": " ",
         "xaxis": "x",
         "y": [
          -0.022607728838920593,
          -0.017833948135375977,
          0.013575732707977295,
          0.04577039182186127,
          -0.12865331768989563,
          0.017616719007492065,
          -0.054285988211631775,
          0.03702762350440025,
          -0.003891170024871826,
          0.022777020931243896,
          0.0184175968170166,
          0.024920254945755005
         ],
         "y0": " ",
         "yaxis": "y"
        },
        {
         "alignmentgroup": "True",
         "boxpoints": "all",
         "fillcolor": "rgba(255,255,255,0)",
         "hoveron": "points",
         "hovertemplate": "Prompt= duck<br>Index=%{x}<br>value=%{y}<extra></extra>",
         "legendgroup": " duck",
         "line": {
          "color": "rgba(255,255,255,0)"
         },
         "marker": {
          "color": "#FF6692"
         },
         "name": " duck",
         "offsetgroup": " duck",
         "orientation": "v",
         "pointpos": 0,
         "showlegend": true,
         "type": "box",
         "x": [
          166,
          335,
          306,
          291,
          243,
          212,
          188,
          415,
          381,
          153,
          53,
          499,
          464,
          185
         ],
         "x0": " ",
         "xaxis": "x",
         "y": [
          0.16411550343036652,
          0.07713628560304642,
          -0.022607728838920593,
          0.32898589968681335,
          0.10469800978899002,
          -0.07310738041996956,
          0.20920181274414062,
          -0.06755627691745758,
          0.058495260775089264,
          -0.13758644461631775,
          -0.05238431692123413,
          -0.048959970474243164,
          0.04444894194602966,
          -0.12865331768989563
         ],
         "y0": " ",
         "yaxis": "y"
        },
        {
         "alignmentgroup": "True",
         "boxpoints": "all",
         "fillcolor": "rgba(255,255,255,0)",
         "hoveron": "points",
         "hovertemplate": "Prompt= elephant<br>Index=%{x}<br>value=%{y}<extra></extra>",
         "legendgroup": " elephant",
         "line": {
          "color": "rgba(255,255,255,0)"
         },
         "marker": {
          "color": "#B6E880"
         },
         "name": " elephant",
         "offsetgroup": " elephant",
         "orientation": "v",
         "pointpos": 0,
         "showlegend": true,
         "type": "box",
         "x": [
          188,
          335,
          295,
          306,
          212,
          381,
          415,
          430,
          464,
          476,
          499,
          166,
          153,
          53,
          36,
          185
         ],
         "x0": " ",
         "xaxis": "x",
         "y": [
          0.3520438075065613,
          -0.10174765437841415,
          0.06735089421272278,
          -0.022607728838920593,
          -0.12798480689525604,
          0.08476761728525162,
          -0.06755627691745758,
          0.15154045820236206,
          0.018860965967178345,
          0.10037654638290405,
          -0.07029980421066284,
          0.09124939143657684,
          -0.21236854791641235,
          -0.05238431692123413,
          0.16223685443401337,
          0.0025688856840133667
         ],
         "y0": " ",
         "yaxis": "y"
        },
        {
         "alignmentgroup": "True",
         "boxpoints": "all",
         "fillcolor": "rgba(255,255,255,0)",
         "hoveron": "points",
         "hovertemplate": "Prompt= flower<br>Index=%{x}<br>value=%{y}<extra></extra>",
         "legendgroup": " flower",
         "line": {
          "color": "rgba(255,255,255,0)"
         },
         "marker": {
          "color": "#FF97FF"
         },
         "name": " flower",
         "offsetgroup": " flower",
         "orientation": "v",
         "pointpos": 0,
         "showlegend": true,
         "type": "box",
         "x": [
          26,
          53,
          153,
          170,
          464,
          415,
          381,
          335,
          306,
          291,
          284,
          212,
          185,
          499,
          166
         ],
         "x0": " ",
         "xaxis": "x",
         "y": [
          0.06810307502746582,
          -0.05238431692123413,
          -0.21236854791641235,
          0.10020995140075684,
          -0.059931665658950806,
          -0.06755627691745758,
          -0.032996416091918945,
          -0.10174765437841415,
          -0.022607728838920593,
          0.1804070919752121,
          0.07146711647510529,
          -0.03830237686634064,
          0.08059589564800262,
          -0.07254695892333984,
          0.09925346076488495
         ],
         "y0": " ",
         "yaxis": "y"
        },
        {
         "alignmentgroup": "True",
         "boxpoints": "all",
         "fillcolor": "rgba(255,255,255,0)",
         "hoveron": "points",
         "hovertemplate": "Prompt= giraffe<br>Index=%{x}<br>value=%{y}<extra></extra>",
         "legendgroup": " giraffe",
         "line": {
          "color": "rgba(255,255,255,0)"
         },
         "marker": {
          "color": "#FECB52"
         },
         "name": " giraffe",
         "offsetgroup": " giraffe",
         "orientation": "v",
         "pointpos": 0,
         "showlegend": true,
         "type": "box",
         "x": [
          499,
          464,
          430,
          415,
          381,
          335,
          317,
          306,
          241,
          212,
          185,
          170,
          166,
          153,
          53
         ],
         "x0": " ",
         "xaxis": "x",
         "y": [
          -0.0744439959526062,
          -0.0264359712600708,
          0.3153485059738159,
          -0.06755627691745758,
          0.08797255903482437,
          -0.10174765437841415,
          0.166208416223526,
          0.10181374847888947,
          0.13999372720718384,
          -0.12798480689525604,
          0.15155676007270813,
          0.28384846448898315,
          0.13212189078330994,
          -0.21236854791641235,
          -0.05238431692123413
         ],
         "y0": " ",
         "yaxis": "y"
        },
        {
         "alignmentgroup": "True",
         "boxpoints": "all",
         "fillcolor": "rgba(255,255,255,0)",
         "hoveron": "points",
         "hovertemplate": "Prompt= hat<br>Index=%{x}<br>value=%{y}<extra></extra>",
         "legendgroup": " hat",
         "line": {
          "color": "rgba(255,255,255,0)"
         },
         "marker": {
          "color": "#636efa"
         },
         "name": " hat",
         "offsetgroup": " hat",
         "orientation": "v",
         "pointpos": 0,
         "showlegend": true,
         "type": "box",
         "x": [
          153,
          82,
          277,
          171,
          499,
          472,
          464,
          415,
          381,
          335,
          306,
          53,
          268,
          227,
          212,
          189,
          185,
          291
         ],
         "x0": " ",
         "xaxis": "x",
         "y": [
          -0.21236854791641235,
          0.16656918823719025,
          0.08695384860038757,
          0.1082005575299263,
          -0.3504217267036438,
          0.09363976120948792,
          0.009927183389663696,
          -0.06755627691745758,
          -0.09309341758489609,
          -0.10174765437841415,
          -0.022607728838920593,
          -0.05238431692123413,
          0.12115460634231567,
          0.09904265403747559,
          0.14023388922214508,
          0.08203038573265076,
          -0.12865331768989563,
          0.1321764588356018
         ],
         "y0": " ",
         "yaxis": "y"
        },
        {
         "alignmentgroup": "True",
         "boxpoints": "all",
         "fillcolor": "rgba(255,255,255,0)",
         "hoveron": "points",
         "hovertemplate": "Prompt= ice cream<br>Index=%{x}<br>value=%{y}<extra></extra>",
         "legendgroup": " ice cream",
         "line": {
          "color": "rgba(255,255,255,0)"
         },
         "marker": {
          "color": "#EF553B"
         },
         "name": " ice cream",
         "offsetgroup": " ice cream",
         "orientation": "v",
         "pointpos": 0,
         "showlegend": true,
         "type": "box",
         "x": [
          58,
          53,
          472,
          185,
          153,
          500,
          499,
          464,
          447,
          415,
          166,
          335,
          306,
          277,
          249,
          212,
          381,
          188
         ],
         "x0": " ",
         "xaxis": "x",
         "y": [
          0.10187742114067078,
          -0.05238431692123413,
          0.16196970641613007,
          -0.12865331768989563,
          -0.21236854791641235,
          0.12944625318050385,
          -0.3504217267036438,
          -0.027315855026245117,
          0.12276067584753036,
          -0.06755627691745758,
          0.4859190583229065,
          -0.10174765437841415,
          -0.022607728838920593,
          0.17363080382347107,
          0.08668544888496399,
          0.01909370720386505,
          -0.09309341758489609,
          0.13409066200256348
         ],
         "y0": " ",
         "yaxis": "y"
        },
        {
         "alignmentgroup": "True",
         "boxpoints": "all",
         "fillcolor": "rgba(255,255,255,0)",
         "hoveron": "points",
         "hovertemplate": "Prompt= jelly<br>Index=%{x}<br>value=%{y}<extra></extra>",
         "legendgroup": " jelly",
         "line": {
          "color": "rgba(255,255,255,0)"
         },
         "marker": {
          "color": "#00cc96"
         },
         "name": " jelly",
         "offsetgroup": " jelly",
         "orientation": "v",
         "pointpos": 0,
         "showlegend": true,
         "type": "box",
         "x": [
          472,
          464,
          430,
          381,
          335,
          499,
          291,
          306,
          53,
          153,
          415,
          185,
          212,
          284,
          166
         ],
         "x0": " ",
         "xaxis": "x",
         "y": [
          0.07482288777828217,
          0.03873950242996216,
          0.07968679815530777,
          -0.04434291273355484,
          0.017028138041496277,
          -0.2751140221953392,
          0.4976986348628998,
          -0.022607728838920593,
          -0.05238431692123413,
          -0.21236854791641235,
          -0.06755627691745758,
          -0.12865331768989563,
          -0.049208492040634155,
          0.06915466487407684,
          0.5720442533493042
         ],
         "y0": " ",
         "yaxis": "y"
        },
        {
         "alignmentgroup": "True",
         "boxpoints": "all",
         "fillcolor": "rgba(255,255,255,0)",
         "hoveron": "points",
         "hovertemplate": "Prompt= kite<br>Index=%{x}<br>value=%{y}<extra></extra>",
         "legendgroup": " kite",
         "line": {
          "color": "rgba(255,255,255,0)"
         },
         "marker": {
          "color": "#ab63fa"
         },
         "name": " kite",
         "offsetgroup": " kite",
         "orientation": "v",
         "pointpos": 0,
         "showlegend": true,
         "type": "box",
         "x": [
          506,
          499,
          464,
          415,
          381,
          335,
          306,
          212,
          185,
          170,
          134,
          82,
          58,
          53,
          5,
          291,
          153
         ],
         "x0": " ",
         "xaxis": "x",
         "y": [
          0.17620468139648438,
          -0.18583720922470093,
          -0.0006662607192993164,
          -0.06755627691745758,
          -0.09309341758489609,
          -0.10174765437841415,
          0.1990855634212494,
          -0.12798480689525604,
          -0.12865331768989563,
          0.16789031028747559,
          0.18640726804733276,
          0.30872124433517456,
          0.15698020160198212,
          -0.05238431692123413,
          0.21513783931732178,
          0.26219239830970764,
          -0.21236854791641235
         ],
         "y0": " ",
         "yaxis": "y"
        },
        {
         "alignmentgroup": "True",
         "boxpoints": "all",
         "fillcolor": "rgba(255,255,255,0)",
         "hoveron": "points",
         "hovertemplate": "Prompt= kitten<br>Index=%{x}<br>value=%{y}<extra></extra>",
         "legendgroup": " kitten",
         "line": {
          "color": "rgba(255,255,255,0)"
         },
         "marker": {
          "color": "#FFA15A"
         },
         "name": " kitten",
         "offsetgroup": " kitten",
         "orientation": "v",
         "pointpos": 0,
         "showlegend": true,
         "type": "box",
         "x": [
          36,
          499,
          464,
          415,
          381,
          335,
          306,
          284,
          243,
          212,
          185,
          153,
          53,
          472
         ],
         "x0": " ",
         "xaxis": "x",
         "y": [
          0.1744152158498764,
          -0.028792977333068848,
          0.032385945320129395,
          -0.06755627691745758,
          0.3649713173508644,
          0.019201725721359253,
          -0.022607728838920593,
          0.057413991540670395,
          0.1491394340991974,
          0.056499138474464417,
          -0.12865331768989563,
          -0.15461716055870056,
          -0.05238431692123413,
          0.0823897272348404
         ],
         "y0": " ",
         "yaxis": "y"
        },
        {
         "alignmentgroup": "True",
         "boxpoints": "all",
         "fillcolor": "rgba(255,255,255,0)",
         "hoveron": "points",
         "hovertemplate": "Prompt= lion<br>Index=%{x}<br>value=%{y}<extra></extra>",
         "legendgroup": " lion",
         "line": {
          "color": "rgba(255,255,255,0)"
         },
         "marker": {
          "color": "#19d3f3"
         },
         "name": " lion",
         "offsetgroup": " lion",
         "orientation": "v",
         "pointpos": 0,
         "showlegend": true,
         "type": "box",
         "x": [
          53,
          306,
          185,
          188,
          205,
          212,
          268,
          335,
          381,
          415,
          430,
          464,
          499,
          153,
          58
         ],
         "x0": " ",
         "xaxis": "x",
         "y": [
          -0.05238431692123413,
          -0.022607728838920593,
          0.24728211760520935,
          0.073280468583107,
          0.05351603031158447,
          -0.12798480689525604,
          0.08202621340751648,
          -0.10174765437841415,
          0.1449858918786049,
          -0.06755627691745758,
          0.17394417524337769,
          -0.007779479026794434,
          -0.035784244537353516,
          -0.11445876955986023,
          0.06675875186920166
         ],
         "y0": " ",
         "yaxis": "y"
        },
        {
         "alignmentgroup": "True",
         "boxpoints": "all",
         "fillcolor": "rgba(255,255,255,0)",
         "hoveron": "points",
         "hovertemplate": "Prompt= man<br>Index=%{x}<br>value=%{y}<extra></extra>",
         "legendgroup": " man",
         "line": {
          "color": "rgba(255,255,255,0)"
         },
         "marker": {
          "color": "#FF6692"
         },
         "name": " man",
         "offsetgroup": " man",
         "orientation": "v",
         "pointpos": 0,
         "showlegend": true,
         "type": "box",
         "x": [
          464,
          65,
          335,
          327,
          324,
          306,
          268,
          249,
          241,
          212,
          185,
          184,
          153,
          381,
          53,
          415,
          499
         ],
         "x0": " ",
         "xaxis": "x",
         "y": [
          0.003706514835357666,
          0.07578723877668381,
          -0.10174765437841415,
          0.06151863932609558,
          0.05017056688666344,
          -0.022607728838920593,
          0.20043699443340302,
          0.07871219515800476,
          0.0682201012969017,
          -0.12798480689525604,
          -0.060688987374305725,
          0.09456509351730347,
          -0.21236854791641235,
          -0.09309341758489609,
          -0.05238431692123413,
          -0.06755627691745758,
          0.026417076587677002
         ],
         "y0": " ",
         "yaxis": "y"
        },
        {
         "alignmentgroup": "True",
         "boxpoints": "all",
         "fillcolor": "rgba(255,255,255,0)",
         "hoveron": "points",
         "hovertemplate": "Prompt= moon<br>Index=%{x}<br>value=%{y}<extra></extra>",
         "legendgroup": " moon",
         "line": {
          "color": "rgba(255,255,255,0)"
         },
         "marker": {
          "color": "#B6E880"
         },
         "name": " moon",
         "offsetgroup": " moon",
         "orientation": "v",
         "pointpos": 0,
         "showlegend": true,
         "type": "box",
         "x": [
          185,
          212,
          243,
          291,
          335,
          82,
          381,
          412,
          53,
          415,
          464,
          499,
          507,
          153,
          306,
          26
         ],
         "x0": " ",
         "xaxis": "x",
         "y": [
          0.059801504015922546,
          -0.12798480689525604,
          0.1742684543132782,
          0.11353407800197601,
          -0.10174765437841415,
          0.14014044404029846,
          0.04239407926797867,
          0.14841601252555847,
          -0.05238431692123413,
          -0.06755627691745758,
          -0.02104237675666809,
          -0.2155579775571823,
          0.13720554113388062,
          -0.21236854791641235,
          -0.022607728838920593,
          0.13224922120571136
         ],
         "y0": " ",
         "yaxis": "y"
        },
        {
         "alignmentgroup": "True",
         "boxpoints": "all",
         "fillcolor": "rgba(255,255,255,0)",
         "hoveron": "points",
         "hovertemplate": "Prompt= nest<br>Index=%{x}<br>value=%{y}<extra></extra>",
         "legendgroup": " nest",
         "line": {
          "color": "rgba(255,255,255,0)"
         },
         "marker": {
          "color": "#FF97FF"
         },
         "name": " nest",
         "offsetgroup": " nest",
         "orientation": "v",
         "pointpos": 0,
         "showlegend": true,
         "type": "box",
         "x": [
          36,
          464,
          436,
          415,
          381,
          335,
          306,
          291,
          223,
          212,
          185,
          153,
          148,
          53,
          472,
          499
         ],
         "x0": " ",
         "xaxis": "x",
         "y": [
          0.09760716557502747,
          -0.002239912748336792,
          0.08228962123394012,
          -0.06755627691745758,
          0.04270709306001663,
          -0.10174765437841415,
          -0.022607728838920593,
          0.258257657289505,
          0.26445990800857544,
          0.030131950974464417,
          -0.03222225606441498,
          -0.21236854791641235,
          0.12377867102622986,
          -0.05238431692123413,
          0.07861882448196411,
          -0.3504217267036438
         ],
         "y0": " ",
         "yaxis": "y"
        },
        {
         "alignmentgroup": "True",
         "boxpoints": "all",
         "fillcolor": "rgba(255,255,255,0)",
         "hoveron": "points",
         "hovertemplate": "Prompt= owl<br>Index=%{x}<br>value=%{y}<extra></extra>",
         "legendgroup": " owl",
         "line": {
          "color": "rgba(255,255,255,0)"
         },
         "marker": {
          "color": "#FECB52"
         },
         "name": " owl",
         "offsetgroup": " owl",
         "orientation": "v",
         "pointpos": 0,
         "showlegend": true,
         "type": "box",
         "x": [
          415,
          412,
          381,
          342,
          335,
          306,
          53,
          291,
          268,
          241,
          212,
          185,
          153,
          464,
          499
         ],
         "x0": " ",
         "xaxis": "x",
         "y": [
          -0.06755627691745758,
          0.06805448234081268,
          0.2724606469273567,
          0.15756474435329437,
          -0.10174765437841415,
          -0.022607728838920593,
          0.04048404097557068,
          0.08702792227268219,
          0.17278806865215302,
          0.09846391528844833,
          -0.12798480689525604,
          0.1421760618686676,
          -0.21236854791641235,
          0.018532752990722656,
          0.013572096824645996
         ],
         "y0": " ",
         "yaxis": "y"
        },
        {
         "alignmentgroup": "True",
         "boxpoints": "all",
         "fillcolor": "rgba(255,255,255,0)",
         "hoveron": "points",
         "hovertemplate": "Prompt= penguin<br>Index=%{x}<br>value=%{y}<extra></extra>",
         "legendgroup": " penguin",
         "line": {
          "color": "rgba(255,255,255,0)"
         },
         "marker": {
          "color": "#636efa"
         },
         "name": " penguin",
         "offsetgroup": " penguin",
         "orientation": "v",
         "pointpos": 0,
         "showlegend": true,
         "type": "box",
         "x": [
          185,
          499,
          476,
          464,
          415,
          381,
          342,
          335,
          291,
          249,
          241,
          227,
          166,
          170,
          212,
          153,
          306,
          53,
          130
         ],
         "x0": " ",
         "xaxis": "x",
         "y": [
          -0.12865331768989563,
          -0.3504217267036438,
          0.17866629362106323,
          -0.07833880186080933,
          -0.06755627691745758,
          -0.09309341758489609,
          0.1302252560853958,
          -0.10174765437841415,
          0.2017442286014557,
          0.1425626128911972,
          0.20575207471847534,
          0.17664873600006104,
          0.17369821667671204,
          0.4928135871887207,
          -0.12798480689525604,
          -0.21236854791641235,
          -0.022607728838920593,
          -0.05238431692123413,
          0.16386905312538147
         ],
         "y0": " ",
         "yaxis": "y"
        },
        {
         "alignmentgroup": "True",
         "boxpoints": "all",
         "fillcolor": "rgba(255,255,255,0)",
         "hoveron": "points",
         "hovertemplate": "Prompt= puppy<br>Index=%{x}<br>value=%{y}<extra></extra>",
         "legendgroup": " puppy",
         "line": {
          "color": "rgba(255,255,255,0)"
         },
         "marker": {
          "color": "#EF553B"
         },
         "name": " puppy",
         "offsetgroup": " puppy",
         "orientation": "v",
         "pointpos": 0,
         "showlegend": true,
         "type": "box",
         "x": [
          507,
          499,
          472,
          415,
          402,
          381,
          464,
          306,
          243,
          212,
          185,
          153,
          58,
          53,
          335
         ],
         "x0": " ",
         "xaxis": "x",
         "y": [
          0.15311622619628906,
          0.012002825736999512,
          0.050305020064115524,
          -0.06755627691745758,
          0.07071372866630554,
          0.20313111692667007,
          0.023516714572906494,
          -0.022607728838920593,
          0.10502021759748459,
          0.022630691528320312,
          -0.12865331768989563,
          -0.21236854791641235,
          0.11316609382629395,
          -0.05238431692123413,
          0.000050067901611328125
         ],
         "y0": " ",
         "yaxis": "y"
        },
        {
         "alignmentgroup": "True",
         "boxpoints": "all",
         "fillcolor": "rgba(255,255,255,0)",
         "hoveron": "points",
         "hovertemplate": "Prompt= queen<br>Index=%{x}<br>value=%{y}<extra></extra>",
         "legendgroup": " queen",
         "line": {
          "color": "rgba(255,255,255,0)"
         },
         "marker": {
          "color": "#00cc96"
         },
         "name": " queen",
         "offsetgroup": " queen",
         "orientation": "v",
         "pointpos": 0,
         "showlegend": true,
         "type": "box",
         "x": [
          306,
          499,
          464,
          430,
          415,
          381,
          373,
          291,
          335,
          188,
          185,
          184,
          153,
          105,
          53,
          36,
          212
         ],
         "x0": " ",
         "xaxis": "x",
         "y": [
          -0.022607728838920593,
          -0.12154211103916168,
          -0.02016007900238037,
          0.19801941514015198,
          -0.06755627691745758,
          -0.09309341758489609,
          0.12079430371522903,
          0.20541700720787048,
          -0.10174765437841415,
          0.1339937001466751,
          0.017923057079315186,
          0.10324715077877045,
          -0.21236854791641235,
          0.082913838326931,
          -0.05238431692123413,
          0.20223568379878998,
          -0.12798480689525604
         ],
         "y0": " ",
         "yaxis": "y"
        },
        {
         "alignmentgroup": "True",
         "boxpoints": "all",
         "fillcolor": "rgba(255,255,255,0)",
         "hoveron": "points",
         "hovertemplate": "Prompt= rabbit<br>Index=%{x}<br>value=%{y}<extra></extra>",
         "legendgroup": " rabbit",
         "line": {
          "color": "rgba(255,255,255,0)"
         },
         "marker": {
          "color": "#ab63fa"
         },
         "name": " rabbit",
         "offsetgroup": " rabbit",
         "orientation": "v",
         "pointpos": 0,
         "showlegend": true,
         "type": "box",
         "x": [
          499,
          464,
          430,
          415,
          381,
          335,
          306,
          296,
          291,
          268,
          243,
          212,
          185,
          153,
          53,
          295
         ],
         "x0": " ",
         "xaxis": "x",
         "y": [
          0.0732349157333374,
          0.011868774890899658,
          0.11481399089097977,
          -0.06755627691745758,
          0.23241186887025833,
          -0.10174765437841415,
          -0.022607728838920593,
          0.035624369978904724,
          0.1071212887763977,
          0.18183209002017975,
          0.13463464379310608,
          -0.09452258422970772,
          -0.12865331768989563,
          -0.21236854791641235,
          -0.05238431692123413,
          0.07023578882217407
         ],
         "y0": " ",
         "yaxis": "y"
        },
        {
         "alignmentgroup": "True",
         "boxpoints": "all",
         "fillcolor": "rgba(255,255,255,0)",
         "hoveron": "points",
         "hovertemplate": "Prompt= snake<br>Index=%{x}<br>value=%{y}<extra></extra>",
         "legendgroup": " snake",
         "line": {
          "color": "rgba(255,255,255,0)"
         },
         "marker": {
          "color": "#FFA15A"
         },
         "name": " snake",
         "offsetgroup": " snake",
         "orientation": "v",
         "pointpos": 0,
         "showlegend": true,
         "type": "box",
         "x": [
          335,
          464,
          430,
          415,
          381,
          306,
          499,
          212,
          188,
          185,
          166,
          153,
          53,
          241
         ],
         "x0": " ",
         "xaxis": "x",
         "y": [
          -0.10174765437841415,
          -0.019424647092819214,
          0.14863935112953186,
          -0.06755627691745758,
          0.10040537267923355,
          -0.022607728838920593,
          -0.0986396074295044,
          0.03454349935054779,
          0.1367238610982895,
          -0.12865331768989563,
          0.04882587492465973,
          0.03472822904586792,
          -0.004558578133583069,
          0.057424478232860565
         ],
         "y0": " ",
         "yaxis": "y"
        },
        {
         "alignmentgroup": "True",
         "boxpoints": "all",
         "fillcolor": "rgba(255,255,255,0)",
         "hoveron": "points",
         "hovertemplate": "Prompt= tree<br>Index=%{x}<br>value=%{y}<extra></extra>",
         "legendgroup": " tree",
         "line": {
          "color": "rgba(255,255,255,0)"
         },
         "marker": {
          "color": "#19d3f3"
         },
         "name": " tree",
         "offsetgroup": " tree",
         "orientation": "v",
         "pointpos": 0,
         "showlegend": true,
         "type": "box",
         "x": [
          499,
          464,
          415,
          403,
          381,
          335,
          306,
          291,
          223,
          212,
          185,
          153,
          134,
          82,
          53,
          26
         ],
         "x0": " ",
         "xaxis": "x",
         "y": [
          -0.0878039002418518,
          -0.034184977412223816,
          -0.06755627691745758,
          0.06741353869438171,
          -0.027643397450447083,
          -0.10174765437841415,
          -0.022607728838920593,
          0.06558912992477417,
          0.27104711532592773,
          -0.12798480689525604,
          -0.05124014616012573,
          -0.21236854791641235,
          0.12091953307390213,
          0.05663968622684479,
          -0.05238431692123413,
          0.07459765672683716
         ],
         "y0": " ",
         "yaxis": "y"
        },
        {
         "alignmentgroup": "True",
         "boxpoints": "all",
         "fillcolor": "rgba(255,255,255,0)",
         "hoveron": "points",
         "hovertemplate": "Prompt= umbrella<br>Index=%{x}<br>value=%{y}<extra></extra>",
         "legendgroup": " umbrella",
         "line": {
          "color": "rgba(255,255,255,0)"
         },
         "marker": {
          "color": "#FF6692"
         },
         "name": " umbrella",
         "offsetgroup": " umbrella",
         "orientation": "v",
         "pointpos": 0,
         "showlegend": true,
         "type": "box",
         "x": [
          472,
          499,
          415,
          381,
          335,
          306,
          291,
          464,
          222,
          212,
          185,
          153,
          58,
          53,
          223
         ],
         "x0": " ",
         "xaxis": "x",
         "y": [
          0.27545592188835144,
          -0.3504217267036438,
          0.039957910776138306,
          -0.09309341758489609,
          0.045351482927799225,
          -0.022607728838920593,
          0.28479495644569397,
          0.04501938819885254,
          0.1287473887205124,
          -0.010301828384399414,
          -0.12865331768989563,
          -0.0015944242477416992,
          0.1681767702102661,
          -0.05238431692123413,
          0.15001675486564636
         ],
         "y0": " ",
         "yaxis": "y"
        },
        {
         "alignmentgroup": "True",
         "boxpoints": "all",
         "fillcolor": "rgba(255,255,255,0)",
         "hoveron": "points",
         "hovertemplate": "Prompt= violin<br>Index=%{x}<br>value=%{y}<extra></extra>",
         "legendgroup": " violin",
         "line": {
          "color": "rgba(255,255,255,0)"
         },
         "marker": {
          "color": "#B6E880"
         },
         "name": " violin",
         "offsetgroup": " violin",
         "orientation": "v",
         "pointpos": 0,
         "showlegend": true,
         "type": "box",
         "x": [
          507,
          499,
          464,
          381,
          373,
          335,
          317,
          415,
          284,
          212,
          189,
          185,
          153,
          134,
          53,
          306
         ],
         "x0": " ",
         "xaxis": "x",
         "y": [
          0.17974483966827393,
          -0.3504217267036438,
          0.01963484287261963,
          -0.09309341758489609,
          0.1256175935268402,
          -0.10174765437841415,
          0.12832459807395935,
          -0.06755627691745758,
          0.12227402627468109,
          0.1270042210817337,
          0.11439484357833862,
          0.2535618841648102,
          -0.08766123652458191,
          0.1247529610991478,
          -0.05238431692123413,
          -0.022607728838920593
         ],
         "y0": " ",
         "yaxis": "y"
        },
        {
         "alignmentgroup": "True",
         "boxpoints": "all",
         "fillcolor": "rgba(255,255,255,0)",
         "hoveron": "points",
         "hovertemplate": "Prompt= whale<br>Index=%{x}<br>value=%{y}<extra></extra>",
         "legendgroup": " whale",
         "line": {
          "color": "rgba(255,255,255,0)"
         },
         "marker": {
          "color": "#FF97FF"
         },
         "name": " whale",
         "offsetgroup": " whale",
         "orientation": "v",
         "pointpos": 0,
         "showlegend": true,
         "type": "box",
         "x": [
          464,
          415,
          381,
          335,
          306,
          291,
          212,
          153,
          185,
          166,
          105,
          80,
          58,
          53,
          499,
          188,
          507
         ],
         "x0": " ",
         "xaxis": "x",
         "y": [
          0.01604825258255005,
          -0.06755627691745758,
          -0.007982760667800903,
          -0.10174765437841415,
          -0.022607728838920593,
          0.5031560659408569,
          -0.12798480689525604,
          -0.21236854791641235,
          -0.12865331768989563,
          0.269855797290802,
          0.061932168900966644,
          0.057103440165519714,
          0.13339953124523163,
          -0.05238431692123413,
          -0.16449226438999176,
          0.3358510732650757,
          0.1681501865386963
         ],
         "y0": " ",
         "yaxis": "y"
        }
       ],
       "layout": {
        "boxmode": "group",
        "legend": {
         "title": {
          "text": "Prompt"
         },
         "tracegroupgap": 0
        },
        "margin": {
         "t": 60
        },
        "template": {
         "data": {
          "bar": [
           {
            "error_x": {
             "color": "#2a3f5f"
            },
            "error_y": {
             "color": "#2a3f5f"
            },
            "marker": {
             "line": {
              "color": "#E5ECF6",
              "width": 0.5
             },
             "pattern": {
              "fillmode": "overlay",
              "size": 10,
              "solidity": 0.2
             }
            },
            "type": "bar"
           }
          ],
          "barpolar": [
           {
            "marker": {
             "line": {
              "color": "#E5ECF6",
              "width": 0.5
             },
             "pattern": {
              "fillmode": "overlay",
              "size": 10,
              "solidity": 0.2
             }
            },
            "type": "barpolar"
           }
          ],
          "carpet": [
           {
            "aaxis": {
             "endlinecolor": "#2a3f5f",
             "gridcolor": "white",
             "linecolor": "white",
             "minorgridcolor": "white",
             "startlinecolor": "#2a3f5f"
            },
            "baxis": {
             "endlinecolor": "#2a3f5f",
             "gridcolor": "white",
             "linecolor": "white",
             "minorgridcolor": "white",
             "startlinecolor": "#2a3f5f"
            },
            "type": "carpet"
           }
          ],
          "choropleth": [
           {
            "colorbar": {
             "outlinewidth": 0,
             "ticks": ""
            },
            "type": "choropleth"
           }
          ],
          "contour": [
           {
            "colorbar": {
             "outlinewidth": 0,
             "ticks": ""
            },
            "colorscale": [
             [
              0,
              "#0d0887"
             ],
             [
              0.1111111111111111,
              "#46039f"
             ],
             [
              0.2222222222222222,
              "#7201a8"
             ],
             [
              0.3333333333333333,
              "#9c179e"
             ],
             [
              0.4444444444444444,
              "#bd3786"
             ],
             [
              0.5555555555555556,
              "#d8576b"
             ],
             [
              0.6666666666666666,
              "#ed7953"
             ],
             [
              0.7777777777777778,
              "#fb9f3a"
             ],
             [
              0.8888888888888888,
              "#fdca26"
             ],
             [
              1,
              "#f0f921"
             ]
            ],
            "type": "contour"
           }
          ],
          "contourcarpet": [
           {
            "colorbar": {
             "outlinewidth": 0,
             "ticks": ""
            },
            "type": "contourcarpet"
           }
          ],
          "heatmap": [
           {
            "colorbar": {
             "outlinewidth": 0,
             "ticks": ""
            },
            "colorscale": [
             [
              0,
              "#0d0887"
             ],
             [
              0.1111111111111111,
              "#46039f"
             ],
             [
              0.2222222222222222,
              "#7201a8"
             ],
             [
              0.3333333333333333,
              "#9c179e"
             ],
             [
              0.4444444444444444,
              "#bd3786"
             ],
             [
              0.5555555555555556,
              "#d8576b"
             ],
             [
              0.6666666666666666,
              "#ed7953"
             ],
             [
              0.7777777777777778,
              "#fb9f3a"
             ],
             [
              0.8888888888888888,
              "#fdca26"
             ],
             [
              1,
              "#f0f921"
             ]
            ],
            "type": "heatmap"
           }
          ],
          "heatmapgl": [
           {
            "colorbar": {
             "outlinewidth": 0,
             "ticks": ""
            },
            "colorscale": [
             [
              0,
              "#0d0887"
             ],
             [
              0.1111111111111111,
              "#46039f"
             ],
             [
              0.2222222222222222,
              "#7201a8"
             ],
             [
              0.3333333333333333,
              "#9c179e"
             ],
             [
              0.4444444444444444,
              "#bd3786"
             ],
             [
              0.5555555555555556,
              "#d8576b"
             ],
             [
              0.6666666666666666,
              "#ed7953"
             ],
             [
              0.7777777777777778,
              "#fb9f3a"
             ],
             [
              0.8888888888888888,
              "#fdca26"
             ],
             [
              1,
              "#f0f921"
             ]
            ],
            "type": "heatmapgl"
           }
          ],
          "histogram": [
           {
            "marker": {
             "pattern": {
              "fillmode": "overlay",
              "size": 10,
              "solidity": 0.2
             }
            },
            "type": "histogram"
           }
          ],
          "histogram2d": [
           {
            "colorbar": {
             "outlinewidth": 0,
             "ticks": ""
            },
            "colorscale": [
             [
              0,
              "#0d0887"
             ],
             [
              0.1111111111111111,
              "#46039f"
             ],
             [
              0.2222222222222222,
              "#7201a8"
             ],
             [
              0.3333333333333333,
              "#9c179e"
             ],
             [
              0.4444444444444444,
              "#bd3786"
             ],
             [
              0.5555555555555556,
              "#d8576b"
             ],
             [
              0.6666666666666666,
              "#ed7953"
             ],
             [
              0.7777777777777778,
              "#fb9f3a"
             ],
             [
              0.8888888888888888,
              "#fdca26"
             ],
             [
              1,
              "#f0f921"
             ]
            ],
            "type": "histogram2d"
           }
          ],
          "histogram2dcontour": [
           {
            "colorbar": {
             "outlinewidth": 0,
             "ticks": ""
            },
            "colorscale": [
             [
              0,
              "#0d0887"
             ],
             [
              0.1111111111111111,
              "#46039f"
             ],
             [
              0.2222222222222222,
              "#7201a8"
             ],
             [
              0.3333333333333333,
              "#9c179e"
             ],
             [
              0.4444444444444444,
              "#bd3786"
             ],
             [
              0.5555555555555556,
              "#d8576b"
             ],
             [
              0.6666666666666666,
              "#ed7953"
             ],
             [
              0.7777777777777778,
              "#fb9f3a"
             ],
             [
              0.8888888888888888,
              "#fdca26"
             ],
             [
              1,
              "#f0f921"
             ]
            ],
            "type": "histogram2dcontour"
           }
          ],
          "mesh3d": [
           {
            "colorbar": {
             "outlinewidth": 0,
             "ticks": ""
            },
            "type": "mesh3d"
           }
          ],
          "parcoords": [
           {
            "line": {
             "colorbar": {
              "outlinewidth": 0,
              "ticks": ""
             }
            },
            "type": "parcoords"
           }
          ],
          "pie": [
           {
            "automargin": true,
            "type": "pie"
           }
          ],
          "scatter": [
           {
            "fillpattern": {
             "fillmode": "overlay",
             "size": 10,
             "solidity": 0.2
            },
            "type": "scatter"
           }
          ],
          "scatter3d": [
           {
            "line": {
             "colorbar": {
              "outlinewidth": 0,
              "ticks": ""
             }
            },
            "marker": {
             "colorbar": {
              "outlinewidth": 0,
              "ticks": ""
             }
            },
            "type": "scatter3d"
           }
          ],
          "scattercarpet": [
           {
            "marker": {
             "colorbar": {
              "outlinewidth": 0,
              "ticks": ""
             }
            },
            "type": "scattercarpet"
           }
          ],
          "scattergeo": [
           {
            "marker": {
             "colorbar": {
              "outlinewidth": 0,
              "ticks": ""
             }
            },
            "type": "scattergeo"
           }
          ],
          "scattergl": [
           {
            "marker": {
             "colorbar": {
              "outlinewidth": 0,
              "ticks": ""
             }
            },
            "type": "scattergl"
           }
          ],
          "scattermapbox": [
           {
            "marker": {
             "colorbar": {
              "outlinewidth": 0,
              "ticks": ""
             }
            },
            "type": "scattermapbox"
           }
          ],
          "scatterpolar": [
           {
            "marker": {
             "colorbar": {
              "outlinewidth": 0,
              "ticks": ""
             }
            },
            "type": "scatterpolar"
           }
          ],
          "scatterpolargl": [
           {
            "marker": {
             "colorbar": {
              "outlinewidth": 0,
              "ticks": ""
             }
            },
            "type": "scatterpolargl"
           }
          ],
          "scatterternary": [
           {
            "marker": {
             "colorbar": {
              "outlinewidth": 0,
              "ticks": ""
             }
            },
            "type": "scatterternary"
           }
          ],
          "surface": [
           {
            "colorbar": {
             "outlinewidth": 0,
             "ticks": ""
            },
            "colorscale": [
             [
              0,
              "#0d0887"
             ],
             [
              0.1111111111111111,
              "#46039f"
             ],
             [
              0.2222222222222222,
              "#7201a8"
             ],
             [
              0.3333333333333333,
              "#9c179e"
             ],
             [
              0.4444444444444444,
              "#bd3786"
             ],
             [
              0.5555555555555556,
              "#d8576b"
             ],
             [
              0.6666666666666666,
              "#ed7953"
             ],
             [
              0.7777777777777778,
              "#fb9f3a"
             ],
             [
              0.8888888888888888,
              "#fdca26"
             ],
             [
              1,
              "#f0f921"
             ]
            ],
            "type": "surface"
           }
          ],
          "table": [
           {
            "cells": {
             "fill": {
              "color": "#EBF0F8"
             },
             "line": {
              "color": "white"
             }
            },
            "header": {
             "fill": {
              "color": "#C8D4E3"
             },
             "line": {
              "color": "white"
             }
            },
            "type": "table"
           }
          ]
         },
         "layout": {
          "annotationdefaults": {
           "arrowcolor": "#2a3f5f",
           "arrowhead": 0,
           "arrowwidth": 1
          },
          "autotypenumbers": "strict",
          "coloraxis": {
           "colorbar": {
            "outlinewidth": 0,
            "ticks": ""
           }
          },
          "colorscale": {
           "diverging": [
            [
             0,
             "#8e0152"
            ],
            [
             0.1,
             "#c51b7d"
            ],
            [
             0.2,
             "#de77ae"
            ],
            [
             0.3,
             "#f1b6da"
            ],
            [
             0.4,
             "#fde0ef"
            ],
            [
             0.5,
             "#f7f7f7"
            ],
            [
             0.6,
             "#e6f5d0"
            ],
            [
             0.7,
             "#b8e186"
            ],
            [
             0.8,
             "#7fbc41"
            ],
            [
             0.9,
             "#4d9221"
            ],
            [
             1,
             "#276419"
            ]
           ],
           "sequential": [
            [
             0,
             "#0d0887"
            ],
            [
             0.1111111111111111,
             "#46039f"
            ],
            [
             0.2222222222222222,
             "#7201a8"
            ],
            [
             0.3333333333333333,
             "#9c179e"
            ],
            [
             0.4444444444444444,
             "#bd3786"
            ],
            [
             0.5555555555555556,
             "#d8576b"
            ],
            [
             0.6666666666666666,
             "#ed7953"
            ],
            [
             0.7777777777777778,
             "#fb9f3a"
            ],
            [
             0.8888888888888888,
             "#fdca26"
            ],
            [
             1,
             "#f0f921"
            ]
           ],
           "sequentialminus": [
            [
             0,
             "#0d0887"
            ],
            [
             0.1111111111111111,
             "#46039f"
            ],
            [
             0.2222222222222222,
             "#7201a8"
            ],
            [
             0.3333333333333333,
             "#9c179e"
            ],
            [
             0.4444444444444444,
             "#bd3786"
            ],
            [
             0.5555555555555556,
             "#d8576b"
            ],
            [
             0.6666666666666666,
             "#ed7953"
            ],
            [
             0.7777777777777778,
             "#fb9f3a"
            ],
            [
             0.8888888888888888,
             "#fdca26"
            ],
            [
             1,
             "#f0f921"
            ]
           ]
          },
          "colorway": [
           "#636efa",
           "#EF553B",
           "#00cc96",
           "#ab63fa",
           "#FFA15A",
           "#19d3f3",
           "#FF6692",
           "#B6E880",
           "#FF97FF",
           "#FECB52"
          ],
          "font": {
           "color": "#2a3f5f"
          },
          "geo": {
           "bgcolor": "white",
           "lakecolor": "white",
           "landcolor": "#E5ECF6",
           "showlakes": true,
           "showland": true,
           "subunitcolor": "white"
          },
          "hoverlabel": {
           "align": "left"
          },
          "hovermode": "closest",
          "mapbox": {
           "style": "light"
          },
          "paper_bgcolor": "white",
          "plot_bgcolor": "#E5ECF6",
          "polar": {
           "angularaxis": {
            "gridcolor": "white",
            "linecolor": "white",
            "ticks": ""
           },
           "bgcolor": "#E5ECF6",
           "radialaxis": {
            "gridcolor": "white",
            "linecolor": "white",
            "ticks": ""
           }
          },
          "scene": {
           "xaxis": {
            "backgroundcolor": "#E5ECF6",
            "gridcolor": "white",
            "gridwidth": 2,
            "linecolor": "white",
            "showbackground": true,
            "ticks": "",
            "zerolinecolor": "white"
           },
           "yaxis": {
            "backgroundcolor": "#E5ECF6",
            "gridcolor": "white",
            "gridwidth": 2,
            "linecolor": "white",
            "showbackground": true,
            "ticks": "",
            "zerolinecolor": "white"
           },
           "zaxis": {
            "backgroundcolor": "#E5ECF6",
            "gridcolor": "white",
            "gridwidth": 2,
            "linecolor": "white",
            "showbackground": true,
            "ticks": "",
            "zerolinecolor": "white"
           }
          },
          "shapedefaults": {
           "line": {
            "color": "#2a3f5f"
           }
          },
          "ternary": {
           "aaxis": {
            "gridcolor": "white",
            "linecolor": "white",
            "ticks": ""
           },
           "baxis": {
            "gridcolor": "white",
            "linecolor": "white",
            "ticks": ""
           },
           "bgcolor": "#E5ECF6",
           "caxis": {
            "gridcolor": "white",
            "linecolor": "white",
            "ticks": ""
           }
          },
          "title": {
           "x": 0.05
          },
          "xaxis": {
           "automargin": true,
           "gridcolor": "white",
           "linecolor": "white",
           "ticks": "",
           "title": {
            "standoff": 15
           },
           "zerolinecolor": "white",
           "zerolinewidth": 2
          },
          "yaxis": {
           "automargin": true,
           "gridcolor": "white",
           "linecolor": "white",
           "ticks": "",
           "title": {
            "standoff": 15
           },
           "zerolinecolor": "white",
           "zerolinewidth": 2
          }
         }
        },
        "xaxis": {
         "anchor": "y",
         "domain": [
          0,
          1
         ],
         "title": {
          "text": "Index"
         }
        },
        "yaxis": {
         "anchor": "x",
         "domain": [
          0,
          1
         ],
         "title": {
          "text": "value"
         }
        }
       }
      },
      "text/html": [
       "<div>                            <div id=\"f509957f-e724-48a6-addc-7f5bb7aab701\" class=\"plotly-graph-div\" style=\"height:525px; width:100%;\"></div>            <script type=\"text/javascript\">                require([\"plotly\"], function(Plotly) {                    window.PLOTLYENV=window.PLOTLYENV || {};                                    if (document.getElementById(\"f509957f-e724-48a6-addc-7f5bb7aab701\")) {                    Plotly.newPlot(                        \"f509957f-e724-48a6-addc-7f5bb7aab701\",                        [{\"alignmentgroup\":\"True\",\"boxpoints\":\"all\",\"fillcolor\":\"rgba(255,255,255,0)\",\"hoveron\":\"points\",\"hovertemplate\":\"Prompt= apple\\u003cbr\\u003eIndex=%{x}\\u003cbr\\u003evalue=%{y}\\u003cextra\\u003e\\u003c\\u002fextra\\u003e\",\"legendgroup\":\" apple\",\"line\":{\"color\":\"rgba(255,255,255,0)\"},\"marker\":{\"color\":\"#636efa\"},\"name\":\" apple\",\"offsetgroup\":\" apple\",\"orientation\":\"v\",\"pointpos\":0,\"showlegend\":true,\"x\":[335,53,82,153,166,171,185,212,306,381,412,415,464,472,499],\"x0\":\" \",\"xaxis\":\"x\",\"y\":[-0.10174765437841415,-0.05238431692123413,0.08149142563343048,-0.12509766221046448,0.452420711517334,0.060993097722530365,-0.12865331768989563,-0.03475414216518402,-0.022607728838920593,0.020645499229431152,0.0879800021648407,-0.06755627691745758,-0.06293605268001556,0.14251859486103058,-0.18359360098838806],\"y0\":\" \",\"yaxis\":\"y\",\"type\":\"box\"},{\"alignmentgroup\":\"True\",\"boxpoints\":\"all\",\"fillcolor\":\"rgba(255,255,255,0)\",\"hoveron\":\"points\",\"hovertemplate\":\"Prompt= ball\\u003cbr\\u003eIndex=%{x}\\u003cbr\\u003evalue=%{y}\\u003cextra\\u003e\\u003c\\u002fextra\\u003e\",\"legendgroup\":\" ball\",\"line\":{\"color\":\"rgba(255,255,255,0)\"},\"marker\":{\"color\":\"#EF553B\"},\"name\":\" ball\",\"offsetgroup\":\" ball\",\"orientation\":\"v\",\"pointpos\":0,\"showlegend\":true,\"x\":[153,53,30,464,415,381,335,327,306,499,192,185,134,82,58,212],\"x0\":\" \",\"xaxis\":\"x\",\"y\":[-0.1700497269630432,-0.05238431692123413,0.06988666206598282,-0.010432153940200806,-0.06755627691745758,-0.09309341758489609,-0.10174765437841415,0.059332653880119324,-0.022607728838920593,-0.13435716927051544,0.04818875715136528,-0.12865331768989563,0.29599490761756897,0.10181604325771332,0.04344794526696205,0.11785085499286652],\"y0\":\" \",\"yaxis\":\"y\",\"type\":\"box\"},{\"alignmentgroup\":\"True\",\"boxpoints\":\"all\",\"fillcolor\":\"rgba(255,255,255,0)\",\"hoveron\":\"points\",\"hovertemplate\":\"Prompt= boy\\u003cbr\\u003eIndex=%{x}\\u003cbr\\u003evalue=%{y}\\u003cextra\\u003e\\u003c\\u002fextra\\u003e\",\"legendgroup\":\" boy\",\"line\":{\"color\":\"rgba(255,255,255,0)\"},\"marker\":{\"color\":\"#00cc96\"},\"name\":\" boy\",\"offsetgroup\":\" boy\",\"orientation\":\"v\",\"pointpos\":0,\"showlegend\":true,\"x\":[53,153,170,185,212,243,381,306,335,464,473,499,268,39,415],\"x0\":\" \",\"xaxis\":\"x\",\"y\":[0.03702257573604584,-0.1525881290435791,0.10433498024940491,-0.12865331768989563,-0.05451861023902893,0.22014564275741577,-0.09309341758489609,-0.022607728838920593,-0.10174765437841415,0.044042229652404785,0.13761809468269348,0.06895053386688232,0.22065530717372894,0.09223811328411102,-0.06755627691745758],\"y0\":\" \",\"yaxis\":\"y\",\"type\":\"box\"},{\"alignmentgroup\":\"True\",\"boxpoints\":\"all\",\"fillcolor\":\"rgba(255,255,255,0)\",\"hoveron\":\"points\",\"hovertemplate\":\"Prompt= car\\u003cbr\\u003eIndex=%{x}\\u003cbr\\u003evalue=%{y}\\u003cextra\\u003e\\u003c\\u002fextra\\u003e\",\"legendgroup\":\" car\",\"line\":{\"color\":\"rgba(255,255,255,0)\"},\"marker\":{\"color\":\"#ab63fa\"},\"name\":\" car\",\"offsetgroup\":\" car\",\"orientation\":\"v\",\"pointpos\":0,\"showlegend\":true,\"x\":[471,464,499,53,58,153,185,82,212,306,335,339,381,415,188],\"x0\":\" \",\"xaxis\":\"x\",\"y\":[0.030199401080608368,0.012875348329544067,-0.1834169179201126,-0.05238431692123413,0.013487432152032852,-0.21236854791641235,-0.12865331768989563,0.06502024829387665,0.12002350389957428,-0.022607728838920593,-0.08571687340736389,0.024106234312057495,-0.09309341758489609,-0.06363999098539352,0.3542935252189636],\"y0\":\" \",\"yaxis\":\"y\",\"type\":\"box\"},{\"alignmentgroup\":\"True\",\"boxpoints\":\"all\",\"fillcolor\":\"rgba(255,255,255,0)\",\"hoveron\":\"points\",\"hovertemplate\":\"Prompt= cats\\u003cbr\\u003eIndex=%{x}\\u003cbr\\u003evalue=%{y}\\u003cextra\\u003e\\u003c\\u002fextra\\u003e\",\"legendgroup\":\" cats\",\"line\":{\"color\":\"rgba(255,255,255,0)\"},\"marker\":{\"color\":\"#FFA15A\"},\"name\":\" cats\",\"offsetgroup\":\" cats\",\"orientation\":\"v\",\"pointpos\":0,\"showlegend\":true,\"x\":[402,499,464,442,415,381,185,306,212,153,134,53,335],\"x0\":\" \",\"xaxis\":\"x\",\"y\":[0.20273885130882263,-0.1357169896364212,-0.009234964847564697,0.3605279326438904,-0.06755627691745758,0.08930797129869461,-0.010888159275054932,-0.022607728838920593,-0.12798480689525604,0.06320089101791382,0.06352975219488144,0.04785594344139099,0.021246686577796936],\"y0\":\" \",\"yaxis\":\"y\",\"type\":\"box\"},{\"alignmentgroup\":\"True\",\"boxpoints\":\"all\",\"fillcolor\":\"rgba(255,255,255,0)\",\"hoveron\":\"points\",\"hovertemplate\":\"Prompt= dog\\u003cbr\\u003eIndex=%{x}\\u003cbr\\u003evalue=%{y}\\u003cextra\\u003e\\u003c\\u002fextra\\u003e\",\"legendgroup\":\" dog\",\"line\":{\"color\":\"rgba(255,255,255,0)\"},\"marker\":{\"color\":\"#19d3f3\"},\"name\":\" dog\",\"offsetgroup\":\" dog\",\"orientation\":\"v\",\"pointpos\":0,\"showlegend\":true,\"x\":[306,53,153,184,185,212,335,58,415,464,499,381],\"x0\":\" \",\"xaxis\":\"x\",\"y\":[-0.022607728838920593,-0.017833948135375977,0.013575732707977295,0.04577039182186127,-0.12865331768989563,0.017616719007492065,-0.054285988211631775,0.03702762350440025,-0.003891170024871826,0.022777020931243896,0.0184175968170166,0.024920254945755005],\"y0\":\" \",\"yaxis\":\"y\",\"type\":\"box\"},{\"alignmentgroup\":\"True\",\"boxpoints\":\"all\",\"fillcolor\":\"rgba(255,255,255,0)\",\"hoveron\":\"points\",\"hovertemplate\":\"Prompt= duck\\u003cbr\\u003eIndex=%{x}\\u003cbr\\u003evalue=%{y}\\u003cextra\\u003e\\u003c\\u002fextra\\u003e\",\"legendgroup\":\" duck\",\"line\":{\"color\":\"rgba(255,255,255,0)\"},\"marker\":{\"color\":\"#FF6692\"},\"name\":\" duck\",\"offsetgroup\":\" duck\",\"orientation\":\"v\",\"pointpos\":0,\"showlegend\":true,\"x\":[166,335,306,291,243,212,188,415,381,153,53,499,464,185],\"x0\":\" \",\"xaxis\":\"x\",\"y\":[0.16411550343036652,0.07713628560304642,-0.022607728838920593,0.32898589968681335,0.10469800978899002,-0.07310738041996956,0.20920181274414062,-0.06755627691745758,0.058495260775089264,-0.13758644461631775,-0.05238431692123413,-0.048959970474243164,0.04444894194602966,-0.12865331768989563],\"y0\":\" \",\"yaxis\":\"y\",\"type\":\"box\"},{\"alignmentgroup\":\"True\",\"boxpoints\":\"all\",\"fillcolor\":\"rgba(255,255,255,0)\",\"hoveron\":\"points\",\"hovertemplate\":\"Prompt= elephant\\u003cbr\\u003eIndex=%{x}\\u003cbr\\u003evalue=%{y}\\u003cextra\\u003e\\u003c\\u002fextra\\u003e\",\"legendgroup\":\" elephant\",\"line\":{\"color\":\"rgba(255,255,255,0)\"},\"marker\":{\"color\":\"#B6E880\"},\"name\":\" elephant\",\"offsetgroup\":\" elephant\",\"orientation\":\"v\",\"pointpos\":0,\"showlegend\":true,\"x\":[188,335,295,306,212,381,415,430,464,476,499,166,153,53,36,185],\"x0\":\" \",\"xaxis\":\"x\",\"y\":[0.3520438075065613,-0.10174765437841415,0.06735089421272278,-0.022607728838920593,-0.12798480689525604,0.08476761728525162,-0.06755627691745758,0.15154045820236206,0.018860965967178345,0.10037654638290405,-0.07029980421066284,0.09124939143657684,-0.21236854791641235,-0.05238431692123413,0.16223685443401337,0.0025688856840133667],\"y0\":\" \",\"yaxis\":\"y\",\"type\":\"box\"},{\"alignmentgroup\":\"True\",\"boxpoints\":\"all\",\"fillcolor\":\"rgba(255,255,255,0)\",\"hoveron\":\"points\",\"hovertemplate\":\"Prompt= flower\\u003cbr\\u003eIndex=%{x}\\u003cbr\\u003evalue=%{y}\\u003cextra\\u003e\\u003c\\u002fextra\\u003e\",\"legendgroup\":\" flower\",\"line\":{\"color\":\"rgba(255,255,255,0)\"},\"marker\":{\"color\":\"#FF97FF\"},\"name\":\" flower\",\"offsetgroup\":\" flower\",\"orientation\":\"v\",\"pointpos\":0,\"showlegend\":true,\"x\":[26,53,153,170,464,415,381,335,306,291,284,212,185,499,166],\"x0\":\" \",\"xaxis\":\"x\",\"y\":[0.06810307502746582,-0.05238431692123413,-0.21236854791641235,0.10020995140075684,-0.059931665658950806,-0.06755627691745758,-0.032996416091918945,-0.10174765437841415,-0.022607728838920593,0.1804070919752121,0.07146711647510529,-0.03830237686634064,0.08059589564800262,-0.07254695892333984,0.09925346076488495],\"y0\":\" \",\"yaxis\":\"y\",\"type\":\"box\"},{\"alignmentgroup\":\"True\",\"boxpoints\":\"all\",\"fillcolor\":\"rgba(255,255,255,0)\",\"hoveron\":\"points\",\"hovertemplate\":\"Prompt= giraffe\\u003cbr\\u003eIndex=%{x}\\u003cbr\\u003evalue=%{y}\\u003cextra\\u003e\\u003c\\u002fextra\\u003e\",\"legendgroup\":\" giraffe\",\"line\":{\"color\":\"rgba(255,255,255,0)\"},\"marker\":{\"color\":\"#FECB52\"},\"name\":\" giraffe\",\"offsetgroup\":\" giraffe\",\"orientation\":\"v\",\"pointpos\":0,\"showlegend\":true,\"x\":[499,464,430,415,381,335,317,306,241,212,185,170,166,153,53],\"x0\":\" \",\"xaxis\":\"x\",\"y\":[-0.0744439959526062,-0.0264359712600708,0.3153485059738159,-0.06755627691745758,0.08797255903482437,-0.10174765437841415,0.166208416223526,0.10181374847888947,0.13999372720718384,-0.12798480689525604,0.15155676007270813,0.28384846448898315,0.13212189078330994,-0.21236854791641235,-0.05238431692123413],\"y0\":\" \",\"yaxis\":\"y\",\"type\":\"box\"},{\"alignmentgroup\":\"True\",\"boxpoints\":\"all\",\"fillcolor\":\"rgba(255,255,255,0)\",\"hoveron\":\"points\",\"hovertemplate\":\"Prompt= hat\\u003cbr\\u003eIndex=%{x}\\u003cbr\\u003evalue=%{y}\\u003cextra\\u003e\\u003c\\u002fextra\\u003e\",\"legendgroup\":\" hat\",\"line\":{\"color\":\"rgba(255,255,255,0)\"},\"marker\":{\"color\":\"#636efa\"},\"name\":\" hat\",\"offsetgroup\":\" hat\",\"orientation\":\"v\",\"pointpos\":0,\"showlegend\":true,\"x\":[153,82,277,171,499,472,464,415,381,335,306,53,268,227,212,189,185,291],\"x0\":\" \",\"xaxis\":\"x\",\"y\":[-0.21236854791641235,0.16656918823719025,0.08695384860038757,0.1082005575299263,-0.3504217267036438,0.09363976120948792,0.009927183389663696,-0.06755627691745758,-0.09309341758489609,-0.10174765437841415,-0.022607728838920593,-0.05238431692123413,0.12115460634231567,0.09904265403747559,0.14023388922214508,0.08203038573265076,-0.12865331768989563,0.1321764588356018],\"y0\":\" \",\"yaxis\":\"y\",\"type\":\"box\"},{\"alignmentgroup\":\"True\",\"boxpoints\":\"all\",\"fillcolor\":\"rgba(255,255,255,0)\",\"hoveron\":\"points\",\"hovertemplate\":\"Prompt= ice cream\\u003cbr\\u003eIndex=%{x}\\u003cbr\\u003evalue=%{y}\\u003cextra\\u003e\\u003c\\u002fextra\\u003e\",\"legendgroup\":\" ice cream\",\"line\":{\"color\":\"rgba(255,255,255,0)\"},\"marker\":{\"color\":\"#EF553B\"},\"name\":\" ice cream\",\"offsetgroup\":\" ice cream\",\"orientation\":\"v\",\"pointpos\":0,\"showlegend\":true,\"x\":[58,53,472,185,153,500,499,464,447,415,166,335,306,277,249,212,381,188],\"x0\":\" \",\"xaxis\":\"x\",\"y\":[0.10187742114067078,-0.05238431692123413,0.16196970641613007,-0.12865331768989563,-0.21236854791641235,0.12944625318050385,-0.3504217267036438,-0.027315855026245117,0.12276067584753036,-0.06755627691745758,0.4859190583229065,-0.10174765437841415,-0.022607728838920593,0.17363080382347107,0.08668544888496399,0.01909370720386505,-0.09309341758489609,0.13409066200256348],\"y0\":\" \",\"yaxis\":\"y\",\"type\":\"box\"},{\"alignmentgroup\":\"True\",\"boxpoints\":\"all\",\"fillcolor\":\"rgba(255,255,255,0)\",\"hoveron\":\"points\",\"hovertemplate\":\"Prompt= jelly\\u003cbr\\u003eIndex=%{x}\\u003cbr\\u003evalue=%{y}\\u003cextra\\u003e\\u003c\\u002fextra\\u003e\",\"legendgroup\":\" jelly\",\"line\":{\"color\":\"rgba(255,255,255,0)\"},\"marker\":{\"color\":\"#00cc96\"},\"name\":\" jelly\",\"offsetgroup\":\" jelly\",\"orientation\":\"v\",\"pointpos\":0,\"showlegend\":true,\"x\":[472,464,430,381,335,499,291,306,53,153,415,185,212,284,166],\"x0\":\" \",\"xaxis\":\"x\",\"y\":[0.07482288777828217,0.03873950242996216,0.07968679815530777,-0.04434291273355484,0.017028138041496277,-0.2751140221953392,0.4976986348628998,-0.022607728838920593,-0.05238431692123413,-0.21236854791641235,-0.06755627691745758,-0.12865331768989563,-0.049208492040634155,0.06915466487407684,0.5720442533493042],\"y0\":\" \",\"yaxis\":\"y\",\"type\":\"box\"},{\"alignmentgroup\":\"True\",\"boxpoints\":\"all\",\"fillcolor\":\"rgba(255,255,255,0)\",\"hoveron\":\"points\",\"hovertemplate\":\"Prompt= kite\\u003cbr\\u003eIndex=%{x}\\u003cbr\\u003evalue=%{y}\\u003cextra\\u003e\\u003c\\u002fextra\\u003e\",\"legendgroup\":\" kite\",\"line\":{\"color\":\"rgba(255,255,255,0)\"},\"marker\":{\"color\":\"#ab63fa\"},\"name\":\" kite\",\"offsetgroup\":\" kite\",\"orientation\":\"v\",\"pointpos\":0,\"showlegend\":true,\"x\":[506,499,464,415,381,335,306,212,185,170,134,82,58,53,5,291,153],\"x0\":\" \",\"xaxis\":\"x\",\"y\":[0.17620468139648438,-0.18583720922470093,-0.0006662607192993164,-0.06755627691745758,-0.09309341758489609,-0.10174765437841415,0.1990855634212494,-0.12798480689525604,-0.12865331768989563,0.16789031028747559,0.18640726804733276,0.30872124433517456,0.15698020160198212,-0.05238431692123413,0.21513783931732178,0.26219239830970764,-0.21236854791641235],\"y0\":\" \",\"yaxis\":\"y\",\"type\":\"box\"},{\"alignmentgroup\":\"True\",\"boxpoints\":\"all\",\"fillcolor\":\"rgba(255,255,255,0)\",\"hoveron\":\"points\",\"hovertemplate\":\"Prompt= kitten\\u003cbr\\u003eIndex=%{x}\\u003cbr\\u003evalue=%{y}\\u003cextra\\u003e\\u003c\\u002fextra\\u003e\",\"legendgroup\":\" kitten\",\"line\":{\"color\":\"rgba(255,255,255,0)\"},\"marker\":{\"color\":\"#FFA15A\"},\"name\":\" kitten\",\"offsetgroup\":\" kitten\",\"orientation\":\"v\",\"pointpos\":0,\"showlegend\":true,\"x\":[36,499,464,415,381,335,306,284,243,212,185,153,53,472],\"x0\":\" \",\"xaxis\":\"x\",\"y\":[0.1744152158498764,-0.028792977333068848,0.032385945320129395,-0.06755627691745758,0.3649713173508644,0.019201725721359253,-0.022607728838920593,0.057413991540670395,0.1491394340991974,0.056499138474464417,-0.12865331768989563,-0.15461716055870056,-0.05238431692123413,0.0823897272348404],\"y0\":\" \",\"yaxis\":\"y\",\"type\":\"box\"},{\"alignmentgroup\":\"True\",\"boxpoints\":\"all\",\"fillcolor\":\"rgba(255,255,255,0)\",\"hoveron\":\"points\",\"hovertemplate\":\"Prompt= lion\\u003cbr\\u003eIndex=%{x}\\u003cbr\\u003evalue=%{y}\\u003cextra\\u003e\\u003c\\u002fextra\\u003e\",\"legendgroup\":\" lion\",\"line\":{\"color\":\"rgba(255,255,255,0)\"},\"marker\":{\"color\":\"#19d3f3\"},\"name\":\" lion\",\"offsetgroup\":\" lion\",\"orientation\":\"v\",\"pointpos\":0,\"showlegend\":true,\"x\":[53,306,185,188,205,212,268,335,381,415,430,464,499,153,58],\"x0\":\" \",\"xaxis\":\"x\",\"y\":[-0.05238431692123413,-0.022607728838920593,0.24728211760520935,0.073280468583107,0.05351603031158447,-0.12798480689525604,0.08202621340751648,-0.10174765437841415,0.1449858918786049,-0.06755627691745758,0.17394417524337769,-0.007779479026794434,-0.035784244537353516,-0.11445876955986023,0.06675875186920166],\"y0\":\" \",\"yaxis\":\"y\",\"type\":\"box\"},{\"alignmentgroup\":\"True\",\"boxpoints\":\"all\",\"fillcolor\":\"rgba(255,255,255,0)\",\"hoveron\":\"points\",\"hovertemplate\":\"Prompt= man\\u003cbr\\u003eIndex=%{x}\\u003cbr\\u003evalue=%{y}\\u003cextra\\u003e\\u003c\\u002fextra\\u003e\",\"legendgroup\":\" man\",\"line\":{\"color\":\"rgba(255,255,255,0)\"},\"marker\":{\"color\":\"#FF6692\"},\"name\":\" man\",\"offsetgroup\":\" man\",\"orientation\":\"v\",\"pointpos\":0,\"showlegend\":true,\"x\":[464,65,335,327,324,306,268,249,241,212,185,184,153,381,53,415,499],\"x0\":\" \",\"xaxis\":\"x\",\"y\":[0.003706514835357666,0.07578723877668381,-0.10174765437841415,0.06151863932609558,0.05017056688666344,-0.022607728838920593,0.20043699443340302,0.07871219515800476,0.0682201012969017,-0.12798480689525604,-0.060688987374305725,0.09456509351730347,-0.21236854791641235,-0.09309341758489609,-0.05238431692123413,-0.06755627691745758,0.026417076587677002],\"y0\":\" \",\"yaxis\":\"y\",\"type\":\"box\"},{\"alignmentgroup\":\"True\",\"boxpoints\":\"all\",\"fillcolor\":\"rgba(255,255,255,0)\",\"hoveron\":\"points\",\"hovertemplate\":\"Prompt= moon\\u003cbr\\u003eIndex=%{x}\\u003cbr\\u003evalue=%{y}\\u003cextra\\u003e\\u003c\\u002fextra\\u003e\",\"legendgroup\":\" moon\",\"line\":{\"color\":\"rgba(255,255,255,0)\"},\"marker\":{\"color\":\"#B6E880\"},\"name\":\" moon\",\"offsetgroup\":\" moon\",\"orientation\":\"v\",\"pointpos\":0,\"showlegend\":true,\"x\":[185,212,243,291,335,82,381,412,53,415,464,499,507,153,306,26],\"x0\":\" \",\"xaxis\":\"x\",\"y\":[0.059801504015922546,-0.12798480689525604,0.1742684543132782,0.11353407800197601,-0.10174765437841415,0.14014044404029846,0.04239407926797867,0.14841601252555847,-0.05238431692123413,-0.06755627691745758,-0.02104237675666809,-0.2155579775571823,0.13720554113388062,-0.21236854791641235,-0.022607728838920593,0.13224922120571136],\"y0\":\" \",\"yaxis\":\"y\",\"type\":\"box\"},{\"alignmentgroup\":\"True\",\"boxpoints\":\"all\",\"fillcolor\":\"rgba(255,255,255,0)\",\"hoveron\":\"points\",\"hovertemplate\":\"Prompt= nest\\u003cbr\\u003eIndex=%{x}\\u003cbr\\u003evalue=%{y}\\u003cextra\\u003e\\u003c\\u002fextra\\u003e\",\"legendgroup\":\" nest\",\"line\":{\"color\":\"rgba(255,255,255,0)\"},\"marker\":{\"color\":\"#FF97FF\"},\"name\":\" nest\",\"offsetgroup\":\" nest\",\"orientation\":\"v\",\"pointpos\":0,\"showlegend\":true,\"x\":[36,464,436,415,381,335,306,291,223,212,185,153,148,53,472,499],\"x0\":\" \",\"xaxis\":\"x\",\"y\":[0.09760716557502747,-0.002239912748336792,0.08228962123394012,-0.06755627691745758,0.04270709306001663,-0.10174765437841415,-0.022607728838920593,0.258257657289505,0.26445990800857544,0.030131950974464417,-0.03222225606441498,-0.21236854791641235,0.12377867102622986,-0.05238431692123413,0.07861882448196411,-0.3504217267036438],\"y0\":\" \",\"yaxis\":\"y\",\"type\":\"box\"},{\"alignmentgroup\":\"True\",\"boxpoints\":\"all\",\"fillcolor\":\"rgba(255,255,255,0)\",\"hoveron\":\"points\",\"hovertemplate\":\"Prompt= owl\\u003cbr\\u003eIndex=%{x}\\u003cbr\\u003evalue=%{y}\\u003cextra\\u003e\\u003c\\u002fextra\\u003e\",\"legendgroup\":\" owl\",\"line\":{\"color\":\"rgba(255,255,255,0)\"},\"marker\":{\"color\":\"#FECB52\"},\"name\":\" owl\",\"offsetgroup\":\" owl\",\"orientation\":\"v\",\"pointpos\":0,\"showlegend\":true,\"x\":[415,412,381,342,335,306,53,291,268,241,212,185,153,464,499],\"x0\":\" \",\"xaxis\":\"x\",\"y\":[-0.06755627691745758,0.06805448234081268,0.2724606469273567,0.15756474435329437,-0.10174765437841415,-0.022607728838920593,0.04048404097557068,0.08702792227268219,0.17278806865215302,0.09846391528844833,-0.12798480689525604,0.1421760618686676,-0.21236854791641235,0.018532752990722656,0.013572096824645996],\"y0\":\" \",\"yaxis\":\"y\",\"type\":\"box\"},{\"alignmentgroup\":\"True\",\"boxpoints\":\"all\",\"fillcolor\":\"rgba(255,255,255,0)\",\"hoveron\":\"points\",\"hovertemplate\":\"Prompt= penguin\\u003cbr\\u003eIndex=%{x}\\u003cbr\\u003evalue=%{y}\\u003cextra\\u003e\\u003c\\u002fextra\\u003e\",\"legendgroup\":\" penguin\",\"line\":{\"color\":\"rgba(255,255,255,0)\"},\"marker\":{\"color\":\"#636efa\"},\"name\":\" penguin\",\"offsetgroup\":\" penguin\",\"orientation\":\"v\",\"pointpos\":0,\"showlegend\":true,\"x\":[185,499,476,464,415,381,342,335,291,249,241,227,166,170,212,153,306,53,130],\"x0\":\" \",\"xaxis\":\"x\",\"y\":[-0.12865331768989563,-0.3504217267036438,0.17866629362106323,-0.07833880186080933,-0.06755627691745758,-0.09309341758489609,0.1302252560853958,-0.10174765437841415,0.2017442286014557,0.1425626128911972,0.20575207471847534,0.17664873600006104,0.17369821667671204,0.4928135871887207,-0.12798480689525604,-0.21236854791641235,-0.022607728838920593,-0.05238431692123413,0.16386905312538147],\"y0\":\" \",\"yaxis\":\"y\",\"type\":\"box\"},{\"alignmentgroup\":\"True\",\"boxpoints\":\"all\",\"fillcolor\":\"rgba(255,255,255,0)\",\"hoveron\":\"points\",\"hovertemplate\":\"Prompt= puppy\\u003cbr\\u003eIndex=%{x}\\u003cbr\\u003evalue=%{y}\\u003cextra\\u003e\\u003c\\u002fextra\\u003e\",\"legendgroup\":\" puppy\",\"line\":{\"color\":\"rgba(255,255,255,0)\"},\"marker\":{\"color\":\"#EF553B\"},\"name\":\" puppy\",\"offsetgroup\":\" puppy\",\"orientation\":\"v\",\"pointpos\":0,\"showlegend\":true,\"x\":[507,499,472,415,402,381,464,306,243,212,185,153,58,53,335],\"x0\":\" \",\"xaxis\":\"x\",\"y\":[0.15311622619628906,0.012002825736999512,0.050305020064115524,-0.06755627691745758,0.07071372866630554,0.20313111692667007,0.023516714572906494,-0.022607728838920593,0.10502021759748459,0.022630691528320312,-0.12865331768989563,-0.21236854791641235,0.11316609382629395,-0.05238431692123413,5.0067901611328125e-05],\"y0\":\" \",\"yaxis\":\"y\",\"type\":\"box\"},{\"alignmentgroup\":\"True\",\"boxpoints\":\"all\",\"fillcolor\":\"rgba(255,255,255,0)\",\"hoveron\":\"points\",\"hovertemplate\":\"Prompt= queen\\u003cbr\\u003eIndex=%{x}\\u003cbr\\u003evalue=%{y}\\u003cextra\\u003e\\u003c\\u002fextra\\u003e\",\"legendgroup\":\" queen\",\"line\":{\"color\":\"rgba(255,255,255,0)\"},\"marker\":{\"color\":\"#00cc96\"},\"name\":\" queen\",\"offsetgroup\":\" queen\",\"orientation\":\"v\",\"pointpos\":0,\"showlegend\":true,\"x\":[306,499,464,430,415,381,373,291,335,188,185,184,153,105,53,36,212],\"x0\":\" \",\"xaxis\":\"x\",\"y\":[-0.022607728838920593,-0.12154211103916168,-0.02016007900238037,0.19801941514015198,-0.06755627691745758,-0.09309341758489609,0.12079430371522903,0.20541700720787048,-0.10174765437841415,0.1339937001466751,0.017923057079315186,0.10324715077877045,-0.21236854791641235,0.082913838326931,-0.05238431692123413,0.20223568379878998,-0.12798480689525604],\"y0\":\" \",\"yaxis\":\"y\",\"type\":\"box\"},{\"alignmentgroup\":\"True\",\"boxpoints\":\"all\",\"fillcolor\":\"rgba(255,255,255,0)\",\"hoveron\":\"points\",\"hovertemplate\":\"Prompt= rabbit\\u003cbr\\u003eIndex=%{x}\\u003cbr\\u003evalue=%{y}\\u003cextra\\u003e\\u003c\\u002fextra\\u003e\",\"legendgroup\":\" rabbit\",\"line\":{\"color\":\"rgba(255,255,255,0)\"},\"marker\":{\"color\":\"#ab63fa\"},\"name\":\" rabbit\",\"offsetgroup\":\" rabbit\",\"orientation\":\"v\",\"pointpos\":0,\"showlegend\":true,\"x\":[499,464,430,415,381,335,306,296,291,268,243,212,185,153,53,295],\"x0\":\" \",\"xaxis\":\"x\",\"y\":[0.0732349157333374,0.011868774890899658,0.11481399089097977,-0.06755627691745758,0.23241186887025833,-0.10174765437841415,-0.022607728838920593,0.035624369978904724,0.1071212887763977,0.18183209002017975,0.13463464379310608,-0.09452258422970772,-0.12865331768989563,-0.21236854791641235,-0.05238431692123413,0.07023578882217407],\"y0\":\" \",\"yaxis\":\"y\",\"type\":\"box\"},{\"alignmentgroup\":\"True\",\"boxpoints\":\"all\",\"fillcolor\":\"rgba(255,255,255,0)\",\"hoveron\":\"points\",\"hovertemplate\":\"Prompt= snake\\u003cbr\\u003eIndex=%{x}\\u003cbr\\u003evalue=%{y}\\u003cextra\\u003e\\u003c\\u002fextra\\u003e\",\"legendgroup\":\" snake\",\"line\":{\"color\":\"rgba(255,255,255,0)\"},\"marker\":{\"color\":\"#FFA15A\"},\"name\":\" snake\",\"offsetgroup\":\" snake\",\"orientation\":\"v\",\"pointpos\":0,\"showlegend\":true,\"x\":[335,464,430,415,381,306,499,212,188,185,166,153,53,241],\"x0\":\" \",\"xaxis\":\"x\",\"y\":[-0.10174765437841415,-0.019424647092819214,0.14863935112953186,-0.06755627691745758,0.10040537267923355,-0.022607728838920593,-0.0986396074295044,0.03454349935054779,0.1367238610982895,-0.12865331768989563,0.04882587492465973,0.03472822904586792,-0.004558578133583069,0.057424478232860565],\"y0\":\" \",\"yaxis\":\"y\",\"type\":\"box\"},{\"alignmentgroup\":\"True\",\"boxpoints\":\"all\",\"fillcolor\":\"rgba(255,255,255,0)\",\"hoveron\":\"points\",\"hovertemplate\":\"Prompt= tree\\u003cbr\\u003eIndex=%{x}\\u003cbr\\u003evalue=%{y}\\u003cextra\\u003e\\u003c\\u002fextra\\u003e\",\"legendgroup\":\" tree\",\"line\":{\"color\":\"rgba(255,255,255,0)\"},\"marker\":{\"color\":\"#19d3f3\"},\"name\":\" tree\",\"offsetgroup\":\" tree\",\"orientation\":\"v\",\"pointpos\":0,\"showlegend\":true,\"x\":[499,464,415,403,381,335,306,291,223,212,185,153,134,82,53,26],\"x0\":\" \",\"xaxis\":\"x\",\"y\":[-0.0878039002418518,-0.034184977412223816,-0.06755627691745758,0.06741353869438171,-0.027643397450447083,-0.10174765437841415,-0.022607728838920593,0.06558912992477417,0.27104711532592773,-0.12798480689525604,-0.05124014616012573,-0.21236854791641235,0.12091953307390213,0.05663968622684479,-0.05238431692123413,0.07459765672683716],\"y0\":\" \",\"yaxis\":\"y\",\"type\":\"box\"},{\"alignmentgroup\":\"True\",\"boxpoints\":\"all\",\"fillcolor\":\"rgba(255,255,255,0)\",\"hoveron\":\"points\",\"hovertemplate\":\"Prompt= umbrella\\u003cbr\\u003eIndex=%{x}\\u003cbr\\u003evalue=%{y}\\u003cextra\\u003e\\u003c\\u002fextra\\u003e\",\"legendgroup\":\" umbrella\",\"line\":{\"color\":\"rgba(255,255,255,0)\"},\"marker\":{\"color\":\"#FF6692\"},\"name\":\" umbrella\",\"offsetgroup\":\" umbrella\",\"orientation\":\"v\",\"pointpos\":0,\"showlegend\":true,\"x\":[472,499,415,381,335,306,291,464,222,212,185,153,58,53,223],\"x0\":\" \",\"xaxis\":\"x\",\"y\":[0.27545592188835144,-0.3504217267036438,0.039957910776138306,-0.09309341758489609,0.045351482927799225,-0.022607728838920593,0.28479495644569397,0.04501938819885254,0.1287473887205124,-0.010301828384399414,-0.12865331768989563,-0.0015944242477416992,0.1681767702102661,-0.05238431692123413,0.15001675486564636],\"y0\":\" \",\"yaxis\":\"y\",\"type\":\"box\"},{\"alignmentgroup\":\"True\",\"boxpoints\":\"all\",\"fillcolor\":\"rgba(255,255,255,0)\",\"hoveron\":\"points\",\"hovertemplate\":\"Prompt= violin\\u003cbr\\u003eIndex=%{x}\\u003cbr\\u003evalue=%{y}\\u003cextra\\u003e\\u003c\\u002fextra\\u003e\",\"legendgroup\":\" violin\",\"line\":{\"color\":\"rgba(255,255,255,0)\"},\"marker\":{\"color\":\"#B6E880\"},\"name\":\" violin\",\"offsetgroup\":\" violin\",\"orientation\":\"v\",\"pointpos\":0,\"showlegend\":true,\"x\":[507,499,464,381,373,335,317,415,284,212,189,185,153,134,53,306],\"x0\":\" \",\"xaxis\":\"x\",\"y\":[0.17974483966827393,-0.3504217267036438,0.01963484287261963,-0.09309341758489609,0.1256175935268402,-0.10174765437841415,0.12832459807395935,-0.06755627691745758,0.12227402627468109,0.1270042210817337,0.11439484357833862,0.2535618841648102,-0.08766123652458191,0.1247529610991478,-0.05238431692123413,-0.022607728838920593],\"y0\":\" \",\"yaxis\":\"y\",\"type\":\"box\"},{\"alignmentgroup\":\"True\",\"boxpoints\":\"all\",\"fillcolor\":\"rgba(255,255,255,0)\",\"hoveron\":\"points\",\"hovertemplate\":\"Prompt= whale\\u003cbr\\u003eIndex=%{x}\\u003cbr\\u003evalue=%{y}\\u003cextra\\u003e\\u003c\\u002fextra\\u003e\",\"legendgroup\":\" whale\",\"line\":{\"color\":\"rgba(255,255,255,0)\"},\"marker\":{\"color\":\"#FF97FF\"},\"name\":\" whale\",\"offsetgroup\":\" whale\",\"orientation\":\"v\",\"pointpos\":0,\"showlegend\":true,\"x\":[464,415,381,335,306,291,212,153,185,166,105,80,58,53,499,188,507],\"x0\":\" \",\"xaxis\":\"x\",\"y\":[0.01604825258255005,-0.06755627691745758,-0.007982760667800903,-0.10174765437841415,-0.022607728838920593,0.5031560659408569,-0.12798480689525604,-0.21236854791641235,-0.12865331768989563,0.269855797290802,0.061932168900966644,0.057103440165519714,0.13339953124523163,-0.05238431692123413,-0.16449226438999176,0.3358510732650757,0.1681501865386963],\"y0\":\" \",\"yaxis\":\"y\",\"type\":\"box\"}],                        {\"template\":{\"data\":{\"histogram2dcontour\":[{\"type\":\"histogram2dcontour\",\"colorbar\":{\"outlinewidth\":0,\"ticks\":\"\"},\"colorscale\":[[0.0,\"#0d0887\"],[0.1111111111111111,\"#46039f\"],[0.2222222222222222,\"#7201a8\"],[0.3333333333333333,\"#9c179e\"],[0.4444444444444444,\"#bd3786\"],[0.5555555555555556,\"#d8576b\"],[0.6666666666666666,\"#ed7953\"],[0.7777777777777778,\"#fb9f3a\"],[0.8888888888888888,\"#fdca26\"],[1.0,\"#f0f921\"]]}],\"choropleth\":[{\"type\":\"choropleth\",\"colorbar\":{\"outlinewidth\":0,\"ticks\":\"\"}}],\"histogram2d\":[{\"type\":\"histogram2d\",\"colorbar\":{\"outlinewidth\":0,\"ticks\":\"\"},\"colorscale\":[[0.0,\"#0d0887\"],[0.1111111111111111,\"#46039f\"],[0.2222222222222222,\"#7201a8\"],[0.3333333333333333,\"#9c179e\"],[0.4444444444444444,\"#bd3786\"],[0.5555555555555556,\"#d8576b\"],[0.6666666666666666,\"#ed7953\"],[0.7777777777777778,\"#fb9f3a\"],[0.8888888888888888,\"#fdca26\"],[1.0,\"#f0f921\"]]}],\"heatmap\":[{\"type\":\"heatmap\",\"colorbar\":{\"outlinewidth\":0,\"ticks\":\"\"},\"colorscale\":[[0.0,\"#0d0887\"],[0.1111111111111111,\"#46039f\"],[0.2222222222222222,\"#7201a8\"],[0.3333333333333333,\"#9c179e\"],[0.4444444444444444,\"#bd3786\"],[0.5555555555555556,\"#d8576b\"],[0.6666666666666666,\"#ed7953\"],[0.7777777777777778,\"#fb9f3a\"],[0.8888888888888888,\"#fdca26\"],[1.0,\"#f0f921\"]]}],\"heatmapgl\":[{\"type\":\"heatmapgl\",\"colorbar\":{\"outlinewidth\":0,\"ticks\":\"\"},\"colorscale\":[[0.0,\"#0d0887\"],[0.1111111111111111,\"#46039f\"],[0.2222222222222222,\"#7201a8\"],[0.3333333333333333,\"#9c179e\"],[0.4444444444444444,\"#bd3786\"],[0.5555555555555556,\"#d8576b\"],[0.6666666666666666,\"#ed7953\"],[0.7777777777777778,\"#fb9f3a\"],[0.8888888888888888,\"#fdca26\"],[1.0,\"#f0f921\"]]}],\"contourcarpet\":[{\"type\":\"contourcarpet\",\"colorbar\":{\"outlinewidth\":0,\"ticks\":\"\"}}],\"contour\":[{\"type\":\"contour\",\"colorbar\":{\"outlinewidth\":0,\"ticks\":\"\"},\"colorscale\":[[0.0,\"#0d0887\"],[0.1111111111111111,\"#46039f\"],[0.2222222222222222,\"#7201a8\"],[0.3333333333333333,\"#9c179e\"],[0.4444444444444444,\"#bd3786\"],[0.5555555555555556,\"#d8576b\"],[0.6666666666666666,\"#ed7953\"],[0.7777777777777778,\"#fb9f3a\"],[0.8888888888888888,\"#fdca26\"],[1.0,\"#f0f921\"]]}],\"surface\":[{\"type\":\"surface\",\"colorbar\":{\"outlinewidth\":0,\"ticks\":\"\"},\"colorscale\":[[0.0,\"#0d0887\"],[0.1111111111111111,\"#46039f\"],[0.2222222222222222,\"#7201a8\"],[0.3333333333333333,\"#9c179e\"],[0.4444444444444444,\"#bd3786\"],[0.5555555555555556,\"#d8576b\"],[0.6666666666666666,\"#ed7953\"],[0.7777777777777778,\"#fb9f3a\"],[0.8888888888888888,\"#fdca26\"],[1.0,\"#f0f921\"]]}],\"mesh3d\":[{\"type\":\"mesh3d\",\"colorbar\":{\"outlinewidth\":0,\"ticks\":\"\"}}],\"scatter\":[{\"fillpattern\":{\"fillmode\":\"overlay\",\"size\":10,\"solidity\":0.2},\"type\":\"scatter\"}],\"parcoords\":[{\"type\":\"parcoords\",\"line\":{\"colorbar\":{\"outlinewidth\":0,\"ticks\":\"\"}}}],\"scatterpolargl\":[{\"type\":\"scatterpolargl\",\"marker\":{\"colorbar\":{\"outlinewidth\":0,\"ticks\":\"\"}}}],\"bar\":[{\"error_x\":{\"color\":\"#2a3f5f\"},\"error_y\":{\"color\":\"#2a3f5f\"},\"marker\":{\"line\":{\"color\":\"#E5ECF6\",\"width\":0.5},\"pattern\":{\"fillmode\":\"overlay\",\"size\":10,\"solidity\":0.2}},\"type\":\"bar\"}],\"scattergeo\":[{\"type\":\"scattergeo\",\"marker\":{\"colorbar\":{\"outlinewidth\":0,\"ticks\":\"\"}}}],\"scatterpolar\":[{\"type\":\"scatterpolar\",\"marker\":{\"colorbar\":{\"outlinewidth\":0,\"ticks\":\"\"}}}],\"histogram\":[{\"marker\":{\"pattern\":{\"fillmode\":\"overlay\",\"size\":10,\"solidity\":0.2}},\"type\":\"histogram\"}],\"scattergl\":[{\"type\":\"scattergl\",\"marker\":{\"colorbar\":{\"outlinewidth\":0,\"ticks\":\"\"}}}],\"scatter3d\":[{\"type\":\"scatter3d\",\"line\":{\"colorbar\":{\"outlinewidth\":0,\"ticks\":\"\"}},\"marker\":{\"colorbar\":{\"outlinewidth\":0,\"ticks\":\"\"}}}],\"scattermapbox\":[{\"type\":\"scattermapbox\",\"marker\":{\"colorbar\":{\"outlinewidth\":0,\"ticks\":\"\"}}}],\"scatterternary\":[{\"type\":\"scatterternary\",\"marker\":{\"colorbar\":{\"outlinewidth\":0,\"ticks\":\"\"}}}],\"scattercarpet\":[{\"type\":\"scattercarpet\",\"marker\":{\"colorbar\":{\"outlinewidth\":0,\"ticks\":\"\"}}}],\"carpet\":[{\"aaxis\":{\"endlinecolor\":\"#2a3f5f\",\"gridcolor\":\"white\",\"linecolor\":\"white\",\"minorgridcolor\":\"white\",\"startlinecolor\":\"#2a3f5f\"},\"baxis\":{\"endlinecolor\":\"#2a3f5f\",\"gridcolor\":\"white\",\"linecolor\":\"white\",\"minorgridcolor\":\"white\",\"startlinecolor\":\"#2a3f5f\"},\"type\":\"carpet\"}],\"table\":[{\"cells\":{\"fill\":{\"color\":\"#EBF0F8\"},\"line\":{\"color\":\"white\"}},\"header\":{\"fill\":{\"color\":\"#C8D4E3\"},\"line\":{\"color\":\"white\"}},\"type\":\"table\"}],\"barpolar\":[{\"marker\":{\"line\":{\"color\":\"#E5ECF6\",\"width\":0.5},\"pattern\":{\"fillmode\":\"overlay\",\"size\":10,\"solidity\":0.2}},\"type\":\"barpolar\"}],\"pie\":[{\"automargin\":true,\"type\":\"pie\"}]},\"layout\":{\"autotypenumbers\":\"strict\",\"colorway\":[\"#636efa\",\"#EF553B\",\"#00cc96\",\"#ab63fa\",\"#FFA15A\",\"#19d3f3\",\"#FF6692\",\"#B6E880\",\"#FF97FF\",\"#FECB52\"],\"font\":{\"color\":\"#2a3f5f\"},\"hovermode\":\"closest\",\"hoverlabel\":{\"align\":\"left\"},\"paper_bgcolor\":\"white\",\"plot_bgcolor\":\"#E5ECF6\",\"polar\":{\"bgcolor\":\"#E5ECF6\",\"angularaxis\":{\"gridcolor\":\"white\",\"linecolor\":\"white\",\"ticks\":\"\"},\"radialaxis\":{\"gridcolor\":\"white\",\"linecolor\":\"white\",\"ticks\":\"\"}},\"ternary\":{\"bgcolor\":\"#E5ECF6\",\"aaxis\":{\"gridcolor\":\"white\",\"linecolor\":\"white\",\"ticks\":\"\"},\"baxis\":{\"gridcolor\":\"white\",\"linecolor\":\"white\",\"ticks\":\"\"},\"caxis\":{\"gridcolor\":\"white\",\"linecolor\":\"white\",\"ticks\":\"\"}},\"coloraxis\":{\"colorbar\":{\"outlinewidth\":0,\"ticks\":\"\"}},\"colorscale\":{\"sequential\":[[0.0,\"#0d0887\"],[0.1111111111111111,\"#46039f\"],[0.2222222222222222,\"#7201a8\"],[0.3333333333333333,\"#9c179e\"],[0.4444444444444444,\"#bd3786\"],[0.5555555555555556,\"#d8576b\"],[0.6666666666666666,\"#ed7953\"],[0.7777777777777778,\"#fb9f3a\"],[0.8888888888888888,\"#fdca26\"],[1.0,\"#f0f921\"]],\"sequentialminus\":[[0.0,\"#0d0887\"],[0.1111111111111111,\"#46039f\"],[0.2222222222222222,\"#7201a8\"],[0.3333333333333333,\"#9c179e\"],[0.4444444444444444,\"#bd3786\"],[0.5555555555555556,\"#d8576b\"],[0.6666666666666666,\"#ed7953\"],[0.7777777777777778,\"#fb9f3a\"],[0.8888888888888888,\"#fdca26\"],[1.0,\"#f0f921\"]],\"diverging\":[[0,\"#8e0152\"],[0.1,\"#c51b7d\"],[0.2,\"#de77ae\"],[0.3,\"#f1b6da\"],[0.4,\"#fde0ef\"],[0.5,\"#f7f7f7\"],[0.6,\"#e6f5d0\"],[0.7,\"#b8e186\"],[0.8,\"#7fbc41\"],[0.9,\"#4d9221\"],[1,\"#276419\"]]},\"xaxis\":{\"gridcolor\":\"white\",\"linecolor\":\"white\",\"ticks\":\"\",\"title\":{\"standoff\":15},\"zerolinecolor\":\"white\",\"automargin\":true,\"zerolinewidth\":2},\"yaxis\":{\"gridcolor\":\"white\",\"linecolor\":\"white\",\"ticks\":\"\",\"title\":{\"standoff\":15},\"zerolinecolor\":\"white\",\"automargin\":true,\"zerolinewidth\":2},\"scene\":{\"xaxis\":{\"backgroundcolor\":\"#E5ECF6\",\"gridcolor\":\"white\",\"linecolor\":\"white\",\"showbackground\":true,\"ticks\":\"\",\"zerolinecolor\":\"white\",\"gridwidth\":2},\"yaxis\":{\"backgroundcolor\":\"#E5ECF6\",\"gridcolor\":\"white\",\"linecolor\":\"white\",\"showbackground\":true,\"ticks\":\"\",\"zerolinecolor\":\"white\",\"gridwidth\":2},\"zaxis\":{\"backgroundcolor\":\"#E5ECF6\",\"gridcolor\":\"white\",\"linecolor\":\"white\",\"showbackground\":true,\"ticks\":\"\",\"zerolinecolor\":\"white\",\"gridwidth\":2}},\"shapedefaults\":{\"line\":{\"color\":\"#2a3f5f\"}},\"annotationdefaults\":{\"arrowcolor\":\"#2a3f5f\",\"arrowhead\":0,\"arrowwidth\":1},\"geo\":{\"bgcolor\":\"white\",\"landcolor\":\"#E5ECF6\",\"subunitcolor\":\"white\",\"showland\":true,\"showlakes\":true,\"lakecolor\":\"white\"},\"title\":{\"x\":0.05},\"mapbox\":{\"style\":\"light\"}}},\"xaxis\":{\"anchor\":\"y\",\"domain\":[0.0,1.0],\"title\":{\"text\":\"Index\"}},\"yaxis\":{\"anchor\":\"x\",\"domain\":[0.0,1.0],\"title\":{\"text\":\"value\"}},\"legend\":{\"title\":{\"text\":\"Prompt\"},\"tracegroupgap\":0},\"margin\":{\"t\":60},\"boxmode\":\"group\"},                        {\"responsive\": true}                    ).then(function(){\n",
       "                            \n",
       "var gd = document.getElementById('f509957f-e724-48a6-addc-7f5bb7aab701');\n",
       "var x = new MutationObserver(function (mutations, observer) {{\n",
       "        var display = window.getComputedStyle(gd).display;\n",
       "        if (!display || display === 'none') {{\n",
       "            console.log([gd, 'removed!']);\n",
       "            Plotly.purge(gd);\n",
       "            observer.disconnect();\n",
       "        }}\n",
       "}});\n",
       "\n",
       "// Listen for the removal of the full notebook cells\n",
       "var notebookContainer = gd.closest('#notebook-container');\n",
       "if (notebookContainer) {{\n",
       "    x.observe(notebookContainer, {childList: true});\n",
       "}}\n",
       "\n",
       "// Listen for the clearing of the current output cell\n",
       "var outputEl = gd.closest('.output');\n",
       "if (outputEl) {{\n",
       "    x.observe(outputEl, {childList: true});\n",
       "}}\n",
       "\n",
       "                        })                };                });            </script>        </div>"
      ]
     },
     "metadata": {},
     "output_type": "display_data"
    }
   ],
   "source": [
    "px.strip(long_diff_df.sort_values(\"Prompt\"), x = \"Index\", y=\"value\", color=\"Prompt\")"
   ]
  },
  {
   "cell_type": "code",
   "execution_count": null,
   "metadata": {},
   "outputs": [],
   "source": []
  }
 ],
 "metadata": {
  "kernelspec": {
   "display_name": ".venv",
   "language": "python",
   "name": "python3"
  },
  "language_info": {
   "codemirror_mode": {
    "name": "ipython",
    "version": 3
   },
   "file_extension": ".py",
   "mimetype": "text/x-python",
   "name": "python",
   "nbconvert_exporter": "python",
   "pygments_lexer": "ipython3",
   "version": "3.10.13"
  }
 },
 "nbformat": 4,
 "nbformat_minor": 2
}
